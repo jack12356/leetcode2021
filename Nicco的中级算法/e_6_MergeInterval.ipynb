{
 "cells": [
  {
   "cell_type": "markdown",
   "metadata": {},
   "source": [
    "# 合并区间\n",
    "难度\n",
    "**中等**\n",
    "\n",
    "题目描述\n",
    "评论 (10)\n",
    "官方题解\n",
    "提交记录\n",
    "给出一个区间的集合，请合并所有重叠的区间。\n",
    "\n",
    "示例 1:\n",
    "\n",
    "    输入: [[1,3],[2,6],[8,10],[15,18]]\n",
    "    输出: [[1,6],[8,10],[15,18]]\n",
    "    解释: 区间 [1,3] 和 [2,6] 重叠, 将它们合并为 [1,6].\n",
    "示例 2:\n",
    "\n",
    "    输入: [[1,4],[4,5]]\n",
    "    输出: [[1,5]]\n",
    "    解释: 区间 [1,4] 和 [4,5] 可被视为重叠区间。"
   ]
  },
  {
   "cell_type": "code",
   "execution_count": null,
   "metadata": {},
   "outputs": [],
   "source": [
    "private class IntervalComparator implements Comparator<Interval> {\n",
    "    @Override\n",
    "    public int compare(Interval i1, Interval i2) {\n",
    "        return i1.end-i2.end;\n",
    "    }\n",
    "}\n",
    "public List<Interval> merge(List<Interval> intervals) {\n",
    "    int len = intervals.size();\n",
    "    if (len==0) return intervals;\n",
    "    intervals.sort(new IntervalComparator());\n",
    "    for (int i = len-1; i >0 ; i--) {\n",
    "        Interval cur = intervals.get(i);\n",
    "        Interval pre = intervals.get(i-1);\n",
    "        if (cur.start<=pre.end){\n",
    "            if(pre.start<=cur.start){\n",
    "                pre.end = cur.end;\n",
    "                intervals.remove(i);\n",
    "            }else intervals.remove(i-1);\n",
    "        }\n",
    "    }\n",
    "    return intervals;\n",
    "}"
   ]
  }
 ],
 "metadata": {
  "kernelspec": {
   "display_name": "Java",
   "language": "java",
   "name": "java"
  },
  "language_info": {
   "codemirror_mode": "java",
   "file_extension": ".java",
   "mimetype": "text/x-java-source",
   "name": "Java",
   "pygments_lexer": "java",
   "version": "11.0.1+13-LTS"
  },
  "toc": {
   "base_numbering": 1,
   "nav_menu": {},
   "number_sections": true,
   "sideBar": true,
   "skip_h1_title": false,
   "title_cell": "Table of Contents",
   "title_sidebar": "Contents",
   "toc_cell": false,
   "toc_position": {},
   "toc_section_display": true,
   "toc_window_display": false
  }
 },
 "nbformat": 4,
 "nbformat_minor": 2
}
