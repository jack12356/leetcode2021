{
 "cells": [
  {
   "cell_type": "markdown",
   "metadata": {},
   "source": [
    "## 方法一\n",
    "\n",
    "当成组合来做；\n",
    "每次去除一个数，使用copy来保存上一次未完成解；"
   ]
  },
  {
   "cell_type": "code",
   "execution_count": null,
   "metadata": {},
   "outputs": [],
   "source": [
    "List<List<Integer>> res = new ArrayList<>();\n",
    "    public List<List<Integer>> permute(int[] nums) {\n",
    "        List<Integer> nextNums = Arrays.stream( nums).boxed().collect(Collectors.toList());\n",
    "        List<Integer> curNums = new ArrayList<>();\n",
    "        permute_digui(curNums,nextNums);\n",
    "        return res;\n",
    "    }\n",
    "\n",
    "    private void permute_digui(List<Integer> curNums, List<Integer> nextNums) {\n",
    "        if (nextNums.size()==0){\n",
    "            res.add(curNums);\n",
    "            return;\n",
    "        }\n",
    "        for (int i = 0; i < nextNums.size(); i++) {\n",
    "            List<Integer> ctNums = new ArrayList<>(curNums);\n",
    "            ctNums.add(nextNums.get(i));\n",
    "\n",
    "            List<Integer> ntNums = new ArrayList<>(nextNums);\n",
    "            ntNums.remove(i);\n",
    "\n",
    "            permute_digui(ctNums,ntNums);\n",
    "        }\n",
    "    }"
   ]
  },
  {
   "cell_type": "markdown",
   "metadata": {},
   "source": [
    "## 方法二\n",
    "每次交换两个数，递归之后得吧两个数还原；"
   ]
  },
  {
   "cell_type": "code",
   "execution_count": null,
   "metadata": {},
   "outputs": [],
   "source": [
    "public List<List<Integer>> permute(int[] nums) {\n",
    "         List<List<Integer>> res=new ArrayList<List<Integer>>();\n",
    "        dfs(res,nums,0,nums.length);\n",
    "        return res;\n",
    "    }\n",
    "    \n",
    "    private void dfs(List<List<Integer>> res,int[] nums,int i,int n){\n",
    "        if(i==n){\n",
    "            List<Integer> temp=new ArrayList<>();\n",
    "            for(int cur:nums){\n",
    "                temp.add(cur);\n",
    "            }\n",
    "            res.add(temp);\n",
    "            return;\n",
    "        }\n",
    "        for(int j=i;j<n;j++){\n",
    "            swap(nums,i,j);\n",
    "            dfs(res,nums,i+1,nums.length);\n",
    "            swap(nums,i,j);\n",
    "        }\n",
    "    }\n",
    "    \n",
    "    private void swap(int[] a,int i,int j){\n",
    "        int t=a[i];\n",
    "        a[i]=a[j];\n",
    "        a[j]=t;\n",
    "    }"
   ]
  },
  {
   "cell_type": "markdown",
   "metadata": {},
   "source": [
    "## 方法三\n",
    "\n",
    "**用visited来标识是否使用了这个数；**\n",
    "\n",
    "这道题是求全排列问题，给的输入数组没有重复项，这跟之前的那道 Combinations 组合项 和类似，解法基本相同，但是不同点在于那道不同的数字顺序只算一种，是一道典型的组合题，而此题是求全排列问题，还是用递归DFS来求解。这里我们需要用到一个visited数组来标记某个数字是否访问过，然后在DFS递归函数从的循环应从头开始，而不是从level开始，这是和 Combinations 组合项 不同的地方，其余思路大体相同，代码如下："
   ]
  },
  {
   "cell_type": "markdown",
   "metadata": {},
   "source": [
    "**注意：res.add(curNums);这句会出错，因为加的地址，后面对curNum更改后，res里面的答案也会更改；**"
   ]
  },
  {
   "cell_type": "code",
   "execution_count": 1,
   "metadata": {
    "ExecuteTime": {
     "end_time": "2018-12-26T10:04+0000",
     "start_time": "2018-12-26T10:04:45.125Z"
    }
   },
   "outputs": [],
   "source": [
    "List<List<Integer>> res = new ArrayList<>();\n",
    "public List<List<Integer>> permute(int[] nums) {\n",
    "    int [] visited = new int[nums.length];\n",
    "    List<Integer> curNums = new ArrayList<>();\n",
    "    int level=0;\n",
    "    permute_digui_1(curNums,nums,level,visited);\n",
    "    return res;\n",
    "}\n",
    "\n",
    "private void permute_digui_1(List<Integer> curNums, int[] nums,int level,int[]visited) {\n",
    "    if(level==nums.length){\n",
    "        res.add(new ArrayList<>(curNums));        //这里要注意\n",
    "        return;\n",
    "    }\n",
    "    for (int i = 0; i < nums.length; i++) {\n",
    "        if (visited[i]==0){\n",
    "            visited[i]=1;\n",
    "            curNums.add(nums[i]);\n",
    "            permute_digui_1(curNums,nums,level+1,visited);\n",
    "            curNums.remove(curNums.size()-1);\n",
    "            visited[i]=0;\n",
    "        }\n",
    "    }\n",
    "}"
   ]
  }
 ],
 "metadata": {
  "kernelspec": {
   "display_name": "Java",
   "language": "java",
   "name": "java"
  },
  "language_info": {
   "codemirror_mode": "java",
   "file_extension": ".java",
   "mimetype": "text/x-java-source",
   "name": "Java",
   "pygments_lexer": "java",
   "version": "11.0.1+13-LTS"
  },
  "toc": {
   "base_numbering": 1,
   "nav_menu": {},
   "number_sections": true,
   "sideBar": true,
   "skip_h1_title": false,
   "title_cell": "Table of Contents",
   "title_sidebar": "Contents",
   "toc_cell": false,
   "toc_position": {},
   "toc_section_display": true,
   "toc_window_display": false
  }
 },
 "nbformat": 4,
 "nbformat_minor": 2
}
