{
 "cells": [
  {
   "cell_type": "markdown",
   "metadata": {},
   "source": [
    "# 在排序数组中查找元素的第一个和最后一个位置\n",
    "难度\n",
    "**中等**\n",
    "\n",
    "题目描述\n",
    "评论 (25)\n",
    "官方题解\n",
    "提交记录\n",
    "给定一个按照升序排列的整数数组 nums，和一个目标值 target。找出给定目标值在数组中的开始位置和结束位置。\n",
    "\n",
    "你的算法时间复杂度必须是 O(log n) 级别。\n",
    "\n",
    "如果数组中不存在目标值，返回 [-1, -1]。\n",
    "\n",
    "示例 1:\n",
    "\n",
    "    输入: nums = [5,7,7,8,8,10], target = 8\n",
    "    输出: [3,4]\n",
    "示例 2:\n",
    "\n",
    "    输入: nums = [5,7,7,8,8,10], target = 6\n",
    "    输出: [-1,-1]"
   ]
  },
  {
   "cell_type": "code",
   "execution_count": null,
   "metadata": {},
   "outputs": [],
   "source": [
    "public int[] searchRange(int[] nums, int target) {\n",
    "    int len = nums.length;\n",
    "    int st = 0,end = len-1,mid = (st+end)/2;\n",
    "    boolean find = false;\n",
    "    while (st<=end){\n",
    "        mid = (st+end)/2;\n",
    "        if(target==nums[mid]){\n",
    "            find=true;\n",
    "            break;\n",
    "        } else if (target>nums[mid]) st=mid+1;\n",
    "        else end = mid - 1;\n",
    "    }\n",
    "    if (find){\n",
    "        int i = mid, j = mid;\n",
    "        while (i>=0&&nums[i]==target) i--;\n",
    "        while (j<len&&nums[j]==target) j++;\n",
    "        return new int[]{i+1,j-1};\n",
    "    }else {\n",
    "        return new int[]{-1,-1};\n",
    "    }\n",
    "}"
   ]
  }
 ],
 "metadata": {
  "kernelspec": {
   "display_name": "Python 3",
   "language": "python",
   "name": "python3"
  },
  "language_info": {
   "codemirror_mode": {
    "name": "ipython",
    "version": 3
   },
   "file_extension": ".py",
   "mimetype": "text/x-python",
   "name": "python",
   "nbconvert_exporter": "python",
   "pygments_lexer": "ipython3",
   "version": "3.6.5"
  },
  "toc": {
   "base_numbering": 1,
   "nav_menu": {},
   "number_sections": true,
   "sideBar": true,
   "skip_h1_title": false,
   "title_cell": "Table of Contents",
   "title_sidebar": "Contents",
   "toc_cell": false,
   "toc_position": {},
   "toc_section_display": true,
   "toc_window_display": false
  }
 },
 "nbformat": 4,
 "nbformat_minor": 2
}
