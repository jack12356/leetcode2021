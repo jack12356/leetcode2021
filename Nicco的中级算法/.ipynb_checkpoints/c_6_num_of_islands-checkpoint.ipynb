{
 "cells": [
  {
   "cell_type": "markdown",
   "metadata": {},
   "source": [
    "# 岛屿的个数\n",
    "给定一个由 '1'（陆地）和 '0'（水）组成的的二维网格，计算岛屿的数量。一个岛被水包围，并且它是通过水平方向或垂直方向上相邻的陆地连接而成的。你可以假设网格的四个边均被水包围。\n",
    "\n",
    "示例 1:\n",
    "\n",
    "    输入:\n",
    "    11110\n",
    "    11010\n",
    "    11000\n",
    "    00000\n",
    "\n",
    "输出: 1\n",
    "示例 2:\n",
    "\n",
    "    输入:\n",
    "    11000\n",
    "    11000\n",
    "    00100\n",
    "    00011\n",
    "\n",
    "输出: 3"
   ]
  },
  {
   "cell_type": "markdown",
   "metadata": {},
   "source": [
    "## 思路：\n",
    "1. 使用visited数组表示每个1是否被访问\n",
    "2. 递归遍历每个1四周是否还有1，还有就递归遍历\n",
    "3. 注意递归需要考虑是否visited，否则会死循环"
   ]
  },
  {
   "cell_type": "code",
   "execution_count": null,
   "metadata": {},
   "outputs": [],
   "source": [
    "private char [][]grid;\n",
    "private int [][]visited;\n",
    "public int numIslands(char[][] g) {\n",
    "    grid=g;\n",
    "    if(grid.length==0||grid[0].length==0) return 0;\n",
    "    visited = new int [grid.length][grid[0].length];\n",
    "    int count = 0;\n",
    "    for (int i = 0; i < grid.length; i++) {\n",
    "        for (int j = 0; j < grid[0].length; j++) {\n",
    "            if (visited[i][j]==0&&grid[i][j]=='1'){\n",
    "                count++;\n",
    "                search_1(i,j);\n",
    "            }\n",
    "        }\n",
    "    }\n",
    "    return count;\n",
    "}\n",
    "\n",
    "private void search_1(int i, int j) {\n",
    "    if (i<grid.length && j <grid[0].length && i>=0 && j>=0 && grid[i][j] == '1'&&visited[i][j]==0){\n",
    "        visited[i][j]=1;\n",
    "        search_1(i - 1,j);\n",
    "        search_1(i + 1,j);\n",
    "        search_1(i,j - 1);\n",
    "        search_1(i,j + 1);\n",
    "    }\n",
    "}"
   ]
  }
 ],
 "metadata": {
  "kernelspec": {
   "display_name": "Java",
   "language": "java",
   "name": "java"
  },
  "language_info": {
   "codemirror_mode": "java",
   "file_extension": ".java",
   "mimetype": "text/x-java-source",
   "name": "Java",
   "pygments_lexer": "java",
   "version": "11.0.1+13-LTS"
  },
  "toc": {
   "base_numbering": 1,
   "nav_menu": {},
   "number_sections": true,
   "sideBar": true,
   "skip_h1_title": false,
   "title_cell": "Table of Contents",
   "title_sidebar": "Contents",
   "toc_cell": false,
   "toc_position": {},
   "toc_section_display": true,
   "toc_window_display": false
  }
 },
 "nbformat": 4,
 "nbformat_minor": 2
}
