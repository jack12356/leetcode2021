{
 "cells": [
  {
   "cell_type": "markdown",
   "metadata": {},
   "source": [
    "# 奇偶链表\n",
    "给定一个单链表，把所有的奇数节点和偶数节点分别排在一起。请注意，这里的奇数节点和偶数节点指的是节点编号的奇偶性，而不是节点的值的奇偶性。\n",
    "\n",
    "请尝试使用原地算法完成。你的算法的空间复杂度应为 O(1)，时间复杂度应为 O(nodes)，nodes 为节点总数。\n",
    "\n",
    "    示例 1:\n",
    "\n",
    "    输入: 1->2->3->4->5->NULL\n",
    "    输出: 1->3->5->2->4->NULL\n",
    "    示例 2:\n",
    "\n",
    "    输入: 2->1->3->5->6->4->7->NULL \n",
    "    输出: 2->3->6->7->1->5->4->NULL\n",
    "说明:\n",
    "\n",
    "应当保持奇数节点和偶数节点的相对顺序。\n",
    "链表的第一个节点视为奇数节点，第二个节点视为偶数节点，以此类推。"
   ]
  },
  {
   "cell_type": "markdown",
   "metadata": {},
   "source": [
    "思路：\n",
    "使用两个节点分别表示奇数最后与偶数最后，然后迁移；"
   ]
  },
  {
   "cell_type": "code",
   "execution_count": null,
   "metadata": {},
   "outputs": [],
   "source": [
    "public ListNode oddEvenList(ListNode head) {\n",
    "        if (head == null) return head;\n",
    "        ListNode end = head.next;\n",
    "        ListNode p = head;\n",
    "        while(end!=null&&end.next!=null){\n",
    "            ListNode m = end.next;\n",
    "            ListNode r = p.next;\n",
    "\n",
    "            p.next = m;        //step 1\n",
    "            end.next=m.next;  //step 2\n",
    "            m.next=r;         //step 3\n",
    "\n",
    "            p = p.next;\n",
    "            end = end.next;\n",
    "        }\n",
    "        return head;\n",
    "    }"
   ]
  }
 ],
 "metadata": {
  "kernelspec": {
   "display_name": "Java",
   "language": "java",
   "name": "java"
  },
  "language_info": {
   "codemirror_mode": "java",
   "file_extension": ".java",
   "mimetype": "text/x-java-source",
   "name": "Java",
   "pygments_lexer": "java",
   "version": "11.0.1+13-LTS"
  },
  "toc": {
   "base_numbering": 1,
   "nav_menu": {},
   "number_sections": true,
   "sideBar": true,
   "skip_h1_title": false,
   "title_cell": "Table of Contents",
   "title_sidebar": "Contents",
   "toc_cell": false,
   "toc_position": {},
   "toc_section_display": true,
   "toc_window_display": false
  }
 },
 "nbformat": 4,
 "nbformat_minor": 2
}
