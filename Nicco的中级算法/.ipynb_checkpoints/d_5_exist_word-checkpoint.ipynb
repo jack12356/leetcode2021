{
 "cells": [
  {
   "cell_type": "markdown",
   "metadata": {},
   "source": [
    "# 单词搜索\n",
    "给定一个二维网格和一个单词，找出该单词是否存在于网格中。\n",
    "\n",
    "单词必须按照字母顺序，通过相邻的单元格内的字母构成，其中“相邻”单元格是那些水平相邻或垂直相邻的单元格。同一个单元格内的字母不允许被重复使用。\n",
    "\n",
    "示例:\n",
    "\n",
    "    board =\n",
    "    [\n",
    "      ['A','B','C','E'],\n",
    "      ['S','F','C','S'],\n",
    "      ['A','D','E','E']\n",
    "    ]\n",
    "\n",
    "给定 word = \"ABCCED\", 返回 true.\n",
    "给定 word = \"SEE\", 返回 true.\n",
    "给定 word = \"ABCB\", 返回 false."
   ]
  },
  {
   "cell_type": "markdown",
   "metadata": {},
   "source": [
    "## 思路：\n",
    "找到每个与当前word第一个字母相等的位置，考察上下左右四个方向与下一个字母是否相等，递归实现；\n",
    "\n",
    "注意，每次访问过要标记，但是那次递归完成后得把标记去了，以便后面的重新寻找；"
   ]
  },
  {
   "cell_type": "code",
   "execution_count": 1,
   "metadata": {
    "ExecuteTime": {
     "end_time": "2018-12-26T12:34+0000",
     "start_time": "2018-12-26T12:34:19.364Z"
    }
   },
   "outputs": [],
   "source": [
    "private boolean visited[][];\n",
    "private char board[][];\n",
    "public boolean exist(char[][] b, String word) {\n",
    "    board=b;\n",
    "    visited = new boolean[board.length][board[0].length];\n",
    "    if (word.length()==0) return true;\n",
    "    char c = word.charAt(0);\n",
    "\n",
    "    for (int i = 0; i < board.length; i++) {\n",
    "        for (int j = 0; j < board[0].length; j++) {\n",
    "            if(board[i][j]==c){\n",
    "                if(search(word,i,j)) return true;\n",
    "            }\n",
    "        }\n",
    "    }\n",
    "    return false;\n",
    "}\n",
    "\n",
    "private boolean search(String word, int i, int j) {\n",
    "    char c = word.charAt(0);\n",
    "    if (i<board.length && j <board[0].length && i>=0 && j>=0 && board[i][j] == c&&!visited[i][j]){\n",
    "        if (word.length()==1) return true;\n",
    "        visited[i][j]=true;\n",
    "        if (search(word.substring(1), i - 1,j)) return true;\n",
    "        if (search(word.substring(1), i + 1,j)) return true;\n",
    "        if (search(word.substring(1), i,j - 1)) return true;\n",
    "        if (search(word.substring(1), i,j + 1)) return true;\n",
    "        visited[i][j]=false;\n",
    "    }\n",
    "    return false;\n",
    "}"
   ]
  },
  {
   "cell_type": "code",
   "execution_count": 2,
   "metadata": {
    "ExecuteTime": {
     "end_time": "2018-12-26T12:34+0000",
     "start_time": "2018-12-26T12:34:20.963Z"
    }
   },
   "outputs": [
    {
     "name": "stdout",
     "output_type": "stream",
     "text": [
      "false\n"
     ]
    }
   ],
   "source": [
    "char [][]board = new char[][]{\n",
    "                                {'A','B','C','E'},\n",
    "                                {'S','F','C','S'},\n",
    "                                {'A','D','E','E'}\n",
    "};\n",
    "\n",
    "System.out.println(exist(board, \"ABFE\"));"
   ]
  }
 ],
 "metadata": {
  "kernelspec": {
   "display_name": "Java",
   "language": "java",
   "name": "java"
  },
  "language_info": {
   "codemirror_mode": "java",
   "file_extension": ".java",
   "mimetype": "text/x-java-source",
   "name": "Java",
   "pygments_lexer": "java",
   "version": "11.0.1+13-LTS"
  },
  "toc": {
   "base_numbering": 1,
   "nav_menu": {},
   "number_sections": true,
   "sideBar": true,
   "skip_h1_title": false,
   "title_cell": "Table of Contents",
   "title_sidebar": "Contents",
   "toc_cell": false,
   "toc_position": {},
   "toc_section_display": true,
   "toc_window_display": false
  }
 },
 "nbformat": 4,
 "nbformat_minor": 2
}
