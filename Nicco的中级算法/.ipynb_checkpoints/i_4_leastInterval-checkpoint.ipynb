{
 "cells": [
  {
   "cell_type": "markdown",
   "metadata": {},
   "source": [
    "# Task Scheduler\n",
    "给定一个用字符数组表示的 CPU 需要执行的任务列表。其中包含使用大写的 A - Z 字母表示的26 种不同种类的任务。任务可以以任意顺序执行，并且每个任务都可以在 1 个单位时间内执行完。CPU 在任何一个单位时间内都可以执行一个任务，或者在待命状态。\n",
    "\n",
    "然而，两个相同种类的任务之间必须有长度为 n 的冷却时间，因此至少有连续 n 个单位时间内 CPU 在执行不同的任务，或者在待命状态。\n",
    "\n",
    "你需要计算完成所有任务所需要的最短时间。\n",
    "\n",
    "示例 1：\n",
    "\n",
    "    输入: tasks = [\"A\",\"A\",\"A\",\"B\",\"B\",\"B\"], n = 2\n",
    "    输出: 8\n",
    "执行顺序: A -> B -> (待命) -> A -> B -> (待命) -> A -> B.\n",
    "注：\n",
    "\n",
    "任务的总个数为 [1, 10000]。\n",
    "n 的取值范围为 [0, 100]。"
   ]
  },
  {
   "cell_type": "markdown",
   "metadata": {},
   "source": [
    "## 思路\n",
    "贪心算法；\n",
    "将最多的频数统计，在其中插入并满足大于等于n，则所有的都满足大于等于n。"
   ]
  },
  {
   "cell_type": "code",
   "execution_count": null,
   "metadata": {},
   "outputs": [],
   "source": [
    "public int leastInterval(char[] tasks, int n) {\n",
    "    int []freqs = new int[26];\n",
    "    for (char c :tasks) {\n",
    "        freqs[c-'A']++;\n",
    "    }\n",
    "    Arrays.sort(freqs);\n",
    "    int max_freq = freqs[25];\n",
    "    int i=24;\n",
    "    while(i>=0){\n",
    "        if (freqs[i]!=freqs[25]) break;\n",
    "        i--;\n",
    "    }\n",
    "    return Math.max((max_freq-1)*(n+1)+25-i,tasks.length);\n",
    "}"
   ]
  }
 ],
 "metadata": {
  "kernelspec": {
   "display_name": "Java",
   "language": "java",
   "name": "java"
  },
  "language_info": {
   "codemirror_mode": "java",
   "file_extension": ".java",
   "mimetype": "text/x-java-source",
   "name": "Java",
   "pygments_lexer": "java",
   "version": "11.0.1+13-LTS"
  },
  "toc": {
   "base_numbering": 1,
   "nav_menu": {},
   "number_sections": true,
   "sideBar": true,
   "skip_h1_title": false,
   "title_cell": "Table of Contents",
   "title_sidebar": "Contents",
   "toc_cell": false,
   "toc_position": {},
   "toc_section_display": true,
   "toc_window_display": false
  }
 },
 "nbformat": 4,
 "nbformat_minor": 2
}
