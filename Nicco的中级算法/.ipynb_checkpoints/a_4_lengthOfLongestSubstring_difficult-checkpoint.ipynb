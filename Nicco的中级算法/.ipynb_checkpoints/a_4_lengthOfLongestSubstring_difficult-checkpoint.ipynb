{
 "cells": [
  {
   "cell_type": "markdown",
   "metadata": {},
   "source": [
    "# 无重复字符的最长子串\n",
    "给定一个字符串，请你找出其中不含有重复字符的 最长子串 的长度。\n",
    "\n",
    "示例 1:\n",
    "\n",
    "输入: \"abcabcbb\"\n",
    "输出: 3 \n",
    "解释: 因为无重复字符的最长子串是 \"abc\"，所以其长度为 3。\n",
    "示例 2:\n",
    "\n",
    "输入: \"bbbbb\"\n",
    "输出: 1\n",
    "解释: 因为无重复字符的最长子串是 \"b\"，所以其长度为 1。\n",
    "示例 3:\n",
    "\n",
    "输入: \"pwwkew\"\n",
    "输出: 3\n",
    "解释: 因为无重复字符的最长子串是 \"wke\"，所以其长度为 3。\n",
    "     请注意，你的答案必须是 子串 的长度，\"pwke\" 是一个子序列，不是子串。"
   ]
  },
  {
   "cell_type": "markdown",
   "metadata": {},
   "source": [
    "## 方法一\n",
    "思路：\n",
    "1. 使用一个集合/列表来存储中间不重复字符串\n",
    "2. 新来的有重复，则**去除最前面的，直到无重复**"
   ]
  },
  {
   "cell_type": "code",
   "execution_count": 1,
   "metadata": {
    "ExecuteTime": {
     "end_time": "2018-12-24T02:27+0000",
     "start_time": "2018-12-24T02:27:06.496Z"
    }
   },
   "outputs": [],
   "source": [
    "public int lengthOfLongestSubstring(String s) {\n",
    "        int n = s.length();\n",
    "        int res = 0;\n",
    "        int end=0,start=0;\n",
    "        Set<Character> set=new HashSet<>();\n",
    "        while(start<n && end<n){\n",
    "           if(set.contains(s.charAt(end))){\n",
    "               set.remove(s.charAt(start++));\n",
    "           }else{\n",
    "               set.add(s.charAt(end++));\n",
    "               res=Math.max(res,end-start);\n",
    "           }\n",
    "            \n",
    "        }\n",
    "        return res;\n",
    "    }"
   ]
  },
  {
   "cell_type": "code",
   "execution_count": null,
   "metadata": {},
   "outputs": [],
   "source": []
  }
 ],
 "metadata": {
  "kernelspec": {
   "display_name": "Java",
   "language": "java",
   "name": "java"
  },
  "language_info": {
   "codemirror_mode": "java",
   "file_extension": ".java",
   "mimetype": "text/x-java-source",
   "name": "Java",
   "pygments_lexer": "java",
   "version": "11.0.1+13-LTS"
  },
  "toc": {
   "base_numbering": 1,
   "nav_menu": {},
   "number_sections": true,
   "sideBar": true,
   "skip_h1_title": false,
   "title_cell": "Table of Contents",
   "title_sidebar": "Contents",
   "toc_cell": false,
   "toc_position": {},
   "toc_section_display": true,
   "toc_window_display": false
  }
 },
 "nbformat": 4,
 "nbformat_minor": 2
}
