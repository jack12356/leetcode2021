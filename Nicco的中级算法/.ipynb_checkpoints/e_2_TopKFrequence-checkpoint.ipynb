{
 "cells": [
  {
   "cell_type": "markdown",
   "metadata": {},
   "source": [
    "# 前K个高频元素\n",
    "给定一个非空的整数数组，返回其中出现频率前 k 高的元素。\n",
    "\n",
    "示例 1:\n",
    "\n",
    "    输入: nums = [1,1,1,2,2,3], k = 2\n",
    "    输出: [1,2]\n",
    "示例 2:\n",
    "\n",
    "    输入: nums = [1], k = 1\n",
    "    输出: [1]\n",
    "说明：\n",
    "\n",
    "你可以假设给定的 k 总是合理的，且 1 ≤ k ≤ 数组中不相同的元素的个数。\n",
    "你的算法的时间复杂度必须优于 O(n log n) , n 是数组的大小。"
   ]
  },
  {
   "cell_type": "markdown",
   "metadata": {},
   "source": [
    "## 解法1: 桶排序Bucket Sort， Time: O(n), Space: O(n)\n",
    "\n",
    "1. 遍历数组nums，利用Hash map统计每个数字出现的次数。\n",
    "2. 遍历map，初始化一个\b行数为len(nums) + 1的二维数组，将出现次数为i ( i∈[1, n] )的所有数字加到第i行。\n",
    "3. 逆序遍历二维数组(从频率高的开始)，将其中的前k行的元素输出。"
   ]
  },
  {
   "cell_type": "code",
   "execution_count": null,
   "metadata": {},
   "outputs": [],
   "source": [
    "public List<Integer> topKFrequent(int[] nums, int k) {\n",
    "    List<Integer> res = new ArrayList<>();\n",
    "    HashMap<Integer,Integer> map = new HashMap<>();\n",
    "    for (int i:nums) {\n",
    "        if (map.containsKey(i)) map.put(i,map.get(i)+1);\n",
    "        else map.put(i,1);\n",
    "    }\n",
    "\n",
    "    //step2—桶排序\n",
    "    List<Integer>[] bucket=new List[nums.length+1];//定义足够数量的桶\n",
    "    for(int key:map.keySet())//按“键”遍历\n",
    "    {\n",
    "        int count=map.get(key);//获取数值为key的元素出现的频次\n",
    "        //把出现频次相同的元素“扔”到序号等于频次的桶中\n",
    "        if(bucket[count]==null)\n",
    "            bucket[count]=new ArrayList<Integer>();\n",
    "        bucket[count].add(key);\n",
    "    }\n",
    "    //step3—“逆序”取数据\n",
    "    for(int i=nums.length;i>0;i--)//注意i的起始值，当数组只有一个数据时\n",
    "    {\n",
    "        if(bucket[i]!=null&&res.size()<k)\n",
    "            res.addAll(bucket[i]);\n",
    "    }\n",
    "    return res;\n",
    "}"
   ]
  },
  {
   "cell_type": "markdown",
   "metadata": {},
   "source": [
    "## 解法2：快排Quick select, Time: O(n) ~ O(n^2), O(n) on average. Space: O(n)"
   ]
  },
  {
   "cell_type": "markdown",
   "metadata": {},
   "source": [
    "## 解法3: 最大堆max heap，Time: O(n * log k)，其中k为独立元素的个数， Space: O(n)。\n",
    "\n",
    "1. 先用Hash map统计所有数字出现的次数。\n",
    "\n",
    "2. 建立一个大小为k的最大堆max heap，遍历map，将出现次数和数字组成的pair推到heap中，堆顶为出现次数最多的pair，遍历结束后，把heap中的元素从堆顶一个个的取出即可。"
   ]
  },
  {
   "cell_type": "code",
   "execution_count": null,
   "metadata": {},
   "outputs": [],
   "source": []
  }
 ],
 "metadata": {
  "kernelspec": {
   "display_name": "Java",
   "language": "java",
   "name": "java"
  },
  "language_info": {
   "codemirror_mode": "java",
   "file_extension": ".java",
   "mimetype": "text/x-java-source",
   "name": "Java",
   "pygments_lexer": "java",
   "version": "11.0.1+13-LTS"
  },
  "toc": {
   "base_numbering": 1,
   "nav_menu": {},
   "number_sections": true,
   "sideBar": true,
   "skip_h1_title": false,
   "title_cell": "Table of Contents",
   "title_sidebar": "Contents",
   "toc_cell": false,
   "toc_position": {},
   "toc_section_display": true,
   "toc_window_display": false
  }
 },
 "nbformat": 4,
 "nbformat_minor": 2
}
