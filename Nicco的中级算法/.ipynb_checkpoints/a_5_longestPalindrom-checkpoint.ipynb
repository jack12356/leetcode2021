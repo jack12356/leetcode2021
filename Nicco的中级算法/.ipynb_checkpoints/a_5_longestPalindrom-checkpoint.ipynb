{
 "cells": [
  {
   "cell_type": "markdown",
   "metadata": {},
   "source": [
    "# 最长回文子串\n",
    "给定一个字符串 s，找到 s 中最长的回文子串。你可以假设 s 的最大长度为 1000。\n",
    "\n",
    "示例 1：\n",
    "\n",
    "    输入: \"babad\"\n",
    "    输出: \"bab\"\n",
    "    注意: \"aba\" 也是一个有效答案。\n",
    "示例 2：\n",
    "\n",
    "    输入: \"cbbd\"\n",
    "    输出: \"bb\""
   ]
  },
  {
   "cell_type": "code",
   "execution_count": null,
   "metadata": {},
   "outputs": [],
   "source": [
    "public String longestPalindrome(String s) {\n",
    "    if(s.length()==0) return s;\n",
    "    int start = 0, end = 0;\n",
    "    for (int i = 0; i < s.length(); i++) {\n",
    "        int len1 = expandAroundCenter(s, i, i);\n",
    "        int len2 = expandAroundCenter(s, i, i + 1);\n",
    "        int len = Math.max(len1, len2);\n",
    "        if (len > end - start) {\n",
    "            start = i - (len - 1) / 2;\n",
    "            end = i + len / 2;\n",
    "        }\n",
    "    }\n",
    "    return s.substring(start, end + 1);\n",
    "}\n",
    "\n",
    "private int expandAroundCenter(String s, int left, int right) {\n",
    "    int L = left, R = right;\n",
    "    while (L >= 0 && R < s.length() && s.charAt(L) == s.charAt(R)) {\n",
    "        L--;\n",
    "        R++;\n",
    "    }\n",
    "    return R - L - 1;\n",
    "}"
   ]
  },
  {
   "cell_type": "code",
   "execution_count": null,
   "metadata": {},
   "outputs": [],
   "source": [
    "public String longestPalindrome(String s) {\n",
    "        int len = s.length();\n",
    "        if(s == null || len == 0){\n",
    "            return s;\n",
    "        }\n",
    "        String res = \"\";\n",
    "        int max = 0;\n",
    "        //创建一个行列均为字符串长度的二维数组，创建时默认初始化为false\n",
    "        boolean[][] dp = new boolean[len][len];\n",
    "        for(int j = 0; j < len; j++){\n",
    "            for(int i = 0; i <= j; i++){//这里只考虑了i<=j的情况，因为i>j时均为false\n",
    "//当i==j,j-i==1,j-i==2时，只要满足s.charAt(i) == s.charAt(j)就是回文字符串\n",
    "//如果不是这样，还要判断当前回文字符串的子串是不是回文字符串，即dp[i + 1][j - 1])，这就是动 \n",
    "//态规划思想\n",
    "                dp[i][j] = s.charAt(i) == s.charAt(j) && (j - i <= 2 || dp[i + 1][j - 1]);\n",
    "                if(dp[i][j]){//如果是回文字符串\n",
    "                    if(j - i + 1 > max){//并且比之前的回文字符串要长，更新字符串长度，记录字符串\n",
    "                        max = j - i + 1;\n",
    "                        res = s.substring(i, j + 1);\n",
    "                    }\n",
    "                }\n",
    "            }\n",
    "        }\n",
    "        return res;\n",
    "    }\n"
   ]
  }
 ],
 "metadata": {
  "kernelspec": {
   "display_name": "Java",
   "language": "java",
   "name": "java"
  },
  "language_info": {
   "codemirror_mode": "java",
   "file_extension": ".java",
   "mimetype": "text/x-java-source",
   "name": "Java",
   "pygments_lexer": "java",
   "version": "11.0.1+13-LTS"
  },
  "toc": {
   "base_numbering": 1,
   "nav_menu": {},
   "number_sections": true,
   "sideBar": true,
   "skip_h1_title": false,
   "title_cell": "Table of Contents",
   "title_sidebar": "Contents",
   "toc_cell": false,
   "toc_position": {},
   "toc_section_display": true,
   "toc_window_display": false
  }
 },
 "nbformat": 4,
 "nbformat_minor": 2
}
