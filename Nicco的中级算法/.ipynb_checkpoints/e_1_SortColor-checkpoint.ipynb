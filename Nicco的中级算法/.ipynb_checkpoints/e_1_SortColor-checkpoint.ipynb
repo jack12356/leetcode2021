{
 "cells": [
  {
   "cell_type": "markdown",
   "metadata": {},
   "source": [
    "## 方法一：计数排序\n",
    "每个数计数"
   ]
  },
  {
   "cell_type": "code",
   "execution_count": 1,
   "metadata": {
    "ExecuteTime": {
     "end_time": "2018-12-26T13:00+0000",
     "start_time": "2018-12-26T13:00:14.652Z"
    }
   },
   "outputs": [],
   "source": [
    "public void sortColors_2(int[] nums) {\n",
    "    HashMap<Integer,Integer> map = new HashMap<>();\n",
    "    for (int i:nums) {\n",
    "        if (map.containsKey(i)) map.put(i,map.get(i)+1);\n",
    "        else map.put(i,1);\n",
    "    }\n",
    "    int i = 0;\n",
    "    for (int k = 0; k < 3; k++) {\n",
    "        if (map.containsKey(k))for (int j=0; j< map.get(k); j++) nums[i++] = k;\n",
    "    }\n",
    "\n",
    "}"
   ]
  },
  {
   "cell_type": "markdown",
   "metadata": {},
   "source": [
    "## 方法二：冒泡排序\n",
    "时间复杂度：O($n^2$)\n",
    "空间复杂度：O(1)"
   ]
  },
  {
   "cell_type": "code",
   "execution_count": 2,
   "metadata": {
    "ExecuteTime": {
     "end_time": "2018-12-26T13:00+0000",
     "start_time": "2018-12-26T13:00:16.140Z"
    }
   },
   "outputs": [],
   "source": [
    "public void sortColors(int[] nums) {\n",
    "    for (int i = 0; i < nums.length; i++) {\n",
    "        for (int j = i; j < nums.length; j++) {\n",
    "            if (nums[i]>nums[j]){\n",
    "                int temp = nums[i];\n",
    "                nums[i] = nums[j];\n",
    "                nums[j] = temp;\n",
    "            }\n",
    "        }\n",
    "    }\n",
    "}"
   ]
  }
 ],
 "metadata": {
  "kernelspec": {
   "display_name": "Java",
   "language": "java",
   "name": "java"
  },
  "language_info": {
   "codemirror_mode": "java",
   "file_extension": ".java",
   "mimetype": "text/x-java-source",
   "name": "Java",
   "pygments_lexer": "java",
   "version": "11.0.1+13-LTS"
  },
  "toc": {
   "base_numbering": 1,
   "nav_menu": {},
   "number_sections": true,
   "sideBar": true,
   "skip_h1_title": false,
   "title_cell": "Table of Contents",
   "title_sidebar": "Contents",
   "toc_cell": false,
   "toc_position": {},
   "toc_section_display": true,
   "toc_window_display": false
  }
 },
 "nbformat": 4,
 "nbformat_minor": 2
}
