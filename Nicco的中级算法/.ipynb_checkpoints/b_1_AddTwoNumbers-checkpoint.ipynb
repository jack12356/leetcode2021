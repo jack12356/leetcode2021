{
 "cells": [
  {
   "cell_type": "markdown",
   "metadata": {},
   "source": [
    "# 两数相加\n",
    "给出两个 非空 的链表用来表示两个非负的整数。其中，它们各自的位数是按照 逆序 的方式存储的，并且它们的每个节点只能存储 一位 数字。\n",
    "\n",
    "如果，我们将这两个数相加起来，则会返回一个新的链表来表示它们的和。\n",
    "\n",
    "您可以假设除了数字 0 之外，这两个数都不会以 0 开头。\n",
    "\n",
    "示例：\n",
    "\n",
    "    输入：(2 -> 4 -> 3) + (5 -> 6 -> 4)\n",
    "    输出：7 -> 0 -> 8\n",
    "    原因：342 + 465 = 807"
   ]
  },
  {
   "cell_type": "markdown",
   "metadata": {},
   "source": [
    "## 方法一\n",
    "思路：使用int n 存储结果，再转换为链表"
   ]
  },
  {
   "cell_type": "code",
   "execution_count": 2,
   "metadata": {
    "ExecuteTime": {
     "end_time": "2018-12-24T08:11+0000",
     "start_time": "2018-12-24T08:11:56.900Z"
    }
   },
   "outputs": [
    {
     "data": {
      "text/plain": [
       "8"
      ]
     },
     "execution_count": 2,
     "metadata": {},
     "output_type": "execute_result"
    }
   ],
   "source": [
    "public ListNode addTwoNumbers(ListNode l1, ListNode l2) {\n",
    "        long n = 0;\n",
    "        int div = 0;\n",
    "        int temp;\n",
    "        while (l1!=null||l2!=null){\n",
    "            if (l1==null) temp=l2.val;\n",
    "            else if (l2==null) temp=l1.val;\n",
    "            else temp = l1.val+l2.val;\n",
    "            n = (int) (n + temp*Math.pow(10,div));\n",
    "            l1 = l1==null?l1:l1.next;\n",
    "            l2 = l2==null?l2:l2.next;\n",
    "            div++;\n",
    "        }\n",
    "        return TransN(n);\n",
    "    }\n",
    "\n",
    "    private ListNode TransN(long n) {\n",
    "        ListNode st = new ListNode(-1);\n",
    "        if(n==0) return new ListNode(0);\n",
    "        ListNode now = st;\n",
    "        while(n!=0){\n",
    "            now.next=new ListNode((int) (n%10));\n",
    "            n = n/10;\n",
    "            now=now.next;\n",
    "        }\n",
    "        return st.next;\n",
    "    }"
   ]
  },
  {
   "cell_type": "markdown",
   "metadata": {},
   "source": [
    "## 方法二\n",
    "思路：\n",
    "直接使用链表相加"
   ]
  },
  {
   "cell_type": "code",
   "execution_count": null,
   "metadata": {},
   "outputs": [],
   "source": [
    "public ListNode addTwoNumbers_2(ListNode l1, ListNode l2) {\n",
    "    int over = 0;\n",
    "    int temp;\n",
    "    ListNode st = new ListNode(-1);\n",
    "    ListNode cur = st;\n",
    "    while (l1!=null||l2!=null){\n",
    "        if (l1==null) temp=l2.val+over;\n",
    "        else if (l2==null) temp=l1.val+over;\n",
    "        else temp = l1.val+l2.val+over;\n",
    "        over = temp/10;\n",
    "        cur.next=new ListNode(temp%10);\n",
    "        l1 = l1==null?l1:l1.next;\n",
    "        l2 = l2==null?l2:l2.next;\n",
    "        cur = cur.next;\n",
    "    }\n",
    "    if(over == 1) cur.next = new ListNode(1);\n",
    "    return st.next;\n",
    "}"
   ]
  }
 ],
 "metadata": {
  "kernelspec": {
   "display_name": "Java",
   "language": "java",
   "name": "java"
  },
  "language_info": {
   "codemirror_mode": "java",
   "file_extension": ".java",
   "mimetype": "text/x-java-source",
   "name": "Java",
   "pygments_lexer": "java",
   "version": "11.0.1+13-LTS"
  },
  "toc": {
   "base_numbering": 1,
   "nav_menu": {},
   "number_sections": true,
   "sideBar": true,
   "skip_h1_title": false,
   "title_cell": "Table of Contents",
   "title_sidebar": "Contents",
   "toc_cell": false,
   "toc_position": {},
   "toc_section_display": true,
   "toc_window_display": false
  }
 },
 "nbformat": 4,
 "nbformat_minor": 2
}
