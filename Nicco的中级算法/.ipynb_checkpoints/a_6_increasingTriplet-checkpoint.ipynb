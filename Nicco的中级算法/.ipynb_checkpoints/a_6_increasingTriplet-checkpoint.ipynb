{
 "cells": [
  {
   "cell_type": "markdown",
   "metadata": {},
   "source": [
    "# 递增的三元子序列\n",
    "给定一个未排序的数组，判断这个数组中是否存在长度为 3 的递增子序列。\n",
    "\n",
    "数学表达式如下:\n",
    "\n",
    "如果存在这样的 i, j, k,  且满足 0 ≤ i < j < k ≤ n-1，\n",
    "使得 arr[i] < arr[j] < arr[k] ，返回 true ; 否则返回 false 。\n",
    "说明: 要求算法的时间复杂度为 O(n)，空间复杂度为 O(1) 。\n",
    "\n",
    "    示例 1:\n",
    "\n",
    "    输入: [1,2,3,4,5]\n",
    "    输出: true\n",
    "    示例 2:\n",
    "\n",
    "    输入: [5,4,3,2,1]\n",
    "    输出: false"
   ]
  },
  {
   "cell_type": "markdown",
   "metadata": {},
   "source": [
    "## 方法一：\n",
    "思路：用空间换时间，O(n)复杂度\n",
    "1. 用int[n]空间表示后面有比当前数大的数\n",
    "2. 用int[n]空间表示前面有数目比当前数小的数\n",
    "3. 判断同时成立"
   ]
  },
  {
   "cell_type": "code",
   "execution_count": null,
   "metadata": {},
   "outputs": [],
   "source": [
    "public boolean increasingTriplet(int[] nums){\n",
    "    int len = nums.length;\n",
    "    if(len<=2) return false;\n",
    "    int []nums1 = new int[len];\n",
    "    int max = nums[len - 1];\n",
    "    for (int i = len-1; i >=0 ; i--) {\n",
    "        if (nums[i]<max) nums1[i]=1;\n",
    "        else max = nums[i];\n",
    "    }\n",
    "    int min = nums[0];\n",
    "    for (int i=0;i<len;i++) {\n",
    "         if(nums[i]>min) {\n",
    "             if(nums1[i]==1) return true;\n",
    "         } else min = nums[i];\n",
    "    }\n",
    "    return false;\n",
    "}"
   ]
  },
  {
   "cell_type": "markdown",
   "metadata": {},
   "source": [
    "## 方法二\n",
    "思路：用**O(1)**的空间\n",
    "1. 使用mid,max来表示后面两个次大，最大数；\n",
    "2. 当nums[i]>max,更新max;\n",
    "3. 当nums[i]<max&nums[i]>mid,更新mid;\n",
    "4. 当nums[i]<max&nums[i]<mid，返回true;"
   ]
  },
  {
   "cell_type": "code",
   "execution_count": null,
   "metadata": {},
   "outputs": [],
   "source": []
  },
  {
   "cell_type": "code",
   "execution_count": null,
   "metadata": {},
   "outputs": [],
   "source": [
    "public boolean increasingTriplet(int[] nums){\n",
    "    int mid =Integer.MIN_VALUE,max =Integer.MIN_VALUE;\n",
    "    for (int i = nums.length-1; i >=0 ; i--) {\n",
    "        int n = nums[i];\n",
    "        if (n<max){\n",
    "            if (n>=mid){\n",
    "                mid = n;\n",
    "            }else{\n",
    "                return true;\n",
    "            }\n",
    "        }else{\n",
    "            max = n;\n",
    "        }\n",
    "    }\n",
    "    return false;\n",
    "}"
   ]
  }
 ],
 "metadata": {
  "kernelspec": {
   "display_name": "Java",
   "language": "java",
   "name": "java"
  },
  "language_info": {
   "codemirror_mode": "java",
   "file_extension": ".java",
   "mimetype": "text/x-java-source",
   "name": "Java",
   "pygments_lexer": "java",
   "version": "11.0.1+13-LTS"
  },
  "toc": {
   "base_numbering": 1,
   "nav_menu": {},
   "number_sections": true,
   "sideBar": true,
   "skip_h1_title": false,
   "title_cell": "Table of Contents",
   "title_sidebar": "Contents",
   "toc_cell": false,
   "toc_position": {},
   "toc_section_display": true,
   "toc_window_display": false
  }
 },
 "nbformat": 4,
 "nbformat_minor": 2
}
