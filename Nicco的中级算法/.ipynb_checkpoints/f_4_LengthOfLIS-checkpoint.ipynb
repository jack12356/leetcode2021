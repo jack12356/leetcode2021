{
 "cells": [
  {
   "cell_type": "markdown",
   "metadata": {},
   "source": [
    "# Longest Increasing Subsequence\n",
    "给定一个无序的整数数组，找到其中最长上升子序列的长度。\n",
    "\n",
    "示例:\n",
    "\n",
    "    输入: [10,9,2,5,3,7,101,18]\n",
    "    输出: 4 \n",
    "    解释: 最长的上升子序列是 [2,3,7,101]，它的长度是 4。\n",
    "说明:\n",
    "\n",
    "可能会有多种最长上升子序列的组合，你只需要输出对应的长度即可。\n",
    "你算法的时间复杂度应该为 O(n2) 。\n",
    "进阶: 你能将算法的时间复杂度降低到 O(n log n) 吗?"
   ]
  },
  {
   "cell_type": "markdown",
   "metadata": {},
   "source": [
    "## 方法一\n",
    "动态规划 **$O(n^2)$**"
   ]
  },
  {
   "cell_type": "code",
   "execution_count": 1,
   "metadata": {
    "ExecuteTime": {
     "end_time": "2018-12-29T15:58+0000",
     "start_time": "2018-12-29T15:58:31.338Z"
    }
   },
   "outputs": [],
   "source": [
    "public int lengthOfLIS(int[] nums) {\n",
    "    if(nums.length<=1) return nums.length;\n",
    "    int []dp = new int[nums.length];\n",
    "    int max_max = 1;\n",
    "    dp[0]=1;\n",
    "    for (int i = 0; i < nums.length; i++) {\n",
    "        int max = 1;\n",
    "        for (int j = 0; j < i; j++) {\n",
    "            if(nums[i]>nums[j]){\n",
    "                max = Math.max(max,dp[j]+1);\n",
    "            }\n",
    "        }\n",
    "        dp[i] = max;\n",
    "        max_max = Math.max(max, max_max);\n",
    "    }\n",
    "    return max_max;\n",
    "}"
   ]
  },
  {
   "cell_type": "markdown",
   "metadata": {},
   "source": [
    "## 方法二\n",
    "二分查找，st表示大于等于查找值的一个位置；\n",
    "**$O(nlogn)$**"
   ]
  },
  {
   "cell_type": "code",
   "execution_count": null,
   "metadata": {},
   "outputs": [],
   "source": [
    "public int lengthOfLIS_BSearch(int[] nums) {\n",
    "    if(nums.length<=1) return nums.length;\n",
    "    int []min_num_at_len = new int[nums.length];\n",
    "    min_num_at_len[0] = nums[0];\n",
    "    int max = 0;\n",
    "    for (int i = 1; i < nums.length; i++) {\n",
    "        int t_len = bSearch(min_num_at_len,nums[i],0,max);\n",
    "        max = Math.max(max,t_len);\n",
    "    }\n",
    "    return max+1;\n",
    "}\n",
    "\n",
    "private int bSearch(int[] nums, int n, int st, int end) {\n",
    "    while (st<=end){\n",
    "        int mid = (st+end)/2;\n",
    "        if (nums[mid] == n) {\n",
    "            return mid;\n",
    "        }\n",
    "        else if(nums[mid]<n) st = mid + 1;\n",
    "        else end = mid - 1;\n",
    "    nums[st] = n;\n",
    "    return st;\n",
    "}"
   ]
  }
 ],
 "metadata": {
  "kernelspec": {
   "display_name": "Java",
   "language": "java",
   "name": "java"
  },
  "language_info": {
   "codemirror_mode": "java",
   "file_extension": ".java",
   "mimetype": "text/x-java-source",
   "name": "Java",
   "pygments_lexer": "java",
   "version": "11.0.1+13-LTS"
  },
  "toc": {
   "base_numbering": 1,
   "nav_menu": {},
   "number_sections": true,
   "sideBar": true,
   "skip_h1_title": false,
   "title_cell": "Table of Contents",
   "title_sidebar": "Contents",
   "toc_cell": false,
   "toc_position": {},
   "toc_section_display": true,
   "toc_window_display": false
  }
 },
 "nbformat": 4,
 "nbformat_minor": 2
}
