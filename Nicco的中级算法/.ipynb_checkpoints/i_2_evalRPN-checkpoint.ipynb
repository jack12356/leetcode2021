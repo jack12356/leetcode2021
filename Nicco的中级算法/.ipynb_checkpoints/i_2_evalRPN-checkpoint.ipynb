{
 "cells": [
  {
   "cell_type": "markdown",
   "metadata": {},
   "source": [
    "# 逆波兰表达式求值\n",
    "根据逆波兰表示法，求表达式的值。\n",
    "\n",
    "有效的运算符包括 +, -, *, / 。每个运算对象可以是整数，也可以是另一个逆波兰表达式。\n",
    "\n",
    "说明：\n",
    "\n",
    "整数除法只保留整数部分。\n",
    "给定逆波兰表达式总是有效的。换句话说，表达式总会得出有效数值且不存在除数为 0 的情况。\n",
    "\n",
    "示例 1：\n",
    "\n",
    "    输入: [\"2\", \"1\", \"+\", \"3\", \"*\"]\n",
    "    输出: 9\n",
    "解释: ((2 + 1) * 3) = 9\n",
    "\n",
    "示例 2：\n",
    "\n",
    "    输入: [\"4\", \"13\", \"5\", \"/\", \"+\"]\n",
    "    输出: 6\n",
    "解释: (4 + (13 / 5)) = 6\n",
    "\n",
    "示例 3：\n",
    "\n",
    "    输入: [\"10\", \"6\", \"9\", \"3\", \"+\", \"-11\", \"*\", \"/\", \"*\", \"17\", \"+\", \"5\", \"+\"]\n",
    "    输出: 22\n",
    "解释: \n",
    "  ((10 * (6 / ((9 + 3) * -11))) + 17) + 5\n",
    "= ((10 * (6 / (12 * -11))) + 17) + 5\n",
    "= ((10 * (6 / -132)) + 17) + 5\n",
    "= ((10 * 0) + 17) + 5\n",
    "= (0 + 17) + 5\n",
    "= 17 + 5\n",
    "= 22"
   ]
  },
  {
   "cell_type": "code",
   "execution_count": 1,
   "metadata": {
    "ExecuteTime": {
     "end_time": "2019-01-07T03:30+0000",
     "start_time": "2019-01-07T03:30:31.379Z"
    }
   },
   "outputs": [],
   "source": [
    "public int evalRPN(String[] tokens) {\n",
    "    Stack<Integer> stack = new Stack<>();\n",
    "    for (String s:tokens) {\n",
    "        if (s.equals(\"+\")||s.equals(\"-\")||s.equals(\"*\")||s.equals(\"/\")){\n",
    "            int last = stack.pop();\n",
    "            int forward = stack.pop();\n",
    "            stack.push(exeCulculate(forward,last,s));\n",
    "        }\n",
    "        else {\n",
    "            stack.push(Integer.valueOf(s));\n",
    "        }\n",
    "    }\n",
    "    return stack.pop();\n",
    "}\n",
    "\n",
    "private int exeCulculate(int temp, int cur_res, String s) {\n",
    "    switch (s) {\n",
    "        case \"+\" : return temp + cur_res;\n",
    "        case \"-\": return temp - cur_res;\n",
    "        case \"*\": return temp*cur_res;\n",
    "        case \"/\": return temp/cur_res;\n",
    "        default: return -1;\n",
    "    }\n",
    "}"
   ]
  },
  {
   "cell_type": "code",
   "execution_count": 2,
   "metadata": {
    "ExecuteTime": {
     "end_time": "2019-01-07T03:30+0000",
     "start_time": "2019-01-07T03:30:50.170Z"
    }
   },
   "outputs": [
    {
     "data": {
      "text/plain": [
       "6"
      ]
     },
     "execution_count": 2,
     "metadata": {},
     "output_type": "execute_result"
    }
   ],
   "source": [
    "String[] tokens = new String[]{\"4\", \"13\", \"5\", \"/\", \"+\"};\n",
    "evalRPN(tokens);"
   ]
  }
 ],
 "metadata": {
  "kernelspec": {
   "display_name": "Java",
   "language": "java",
   "name": "java"
  },
  "language_info": {
   "codemirror_mode": "java",
   "file_extension": ".java",
   "mimetype": "text/x-java-source",
   "name": "Java",
   "pygments_lexer": "java",
   "version": "11.0.1+13-LTS"
  },
  "toc": {
   "base_numbering": 1,
   "nav_menu": {},
   "number_sections": true,
   "sideBar": true,
   "skip_h1_title": false,
   "title_cell": "Table of Contents",
   "title_sidebar": "Contents",
   "toc_cell": false,
   "toc_position": {},
   "toc_section_display": true,
   "toc_window_display": false
  }
 },
 "nbformat": 4,
 "nbformat_minor": 2
}
