{
 "cells": [
  {
   "cell_type": "markdown",
   "metadata": {},
   "source": [
    "# 阶乘后的零\n",
    "给定一个整数 n，返回 n! 结果尾数中零的数量。\n",
    "\n",
    "示例 1:\n",
    "\n",
    "    输入: 3\n",
    "    输出: 0\n",
    "    解释: 3! = 6, 尾数中没有零。\n",
    "示例 2:\n",
    "\n",
    "    输入: 5\n",
    "    输出: 1\n",
    "    解释: 5! = 120, 尾数中有 1 个零."
   ]
  },
  {
   "cell_type": "code",
   "execution_count": 19,
   "metadata": {
    "ExecuteTime": {
     "end_time": "2019-01-04T07:31+0000",
     "start_time": "2019-01-04T07:31:13.738Z"
    }
   },
   "outputs": [],
   "source": [
    "public int trailingZeroes(int n) {\n",
    "    int count = 0;\n",
    "    while (n > 1)\n",
    "        count += (n /= 5);\n",
    "    return count;\n",
    "}"
   ]
  }
 ],
 "metadata": {
  "kernelspec": {
   "display_name": "Java",
   "language": "java",
   "name": "java"
  },
  "language_info": {
   "codemirror_mode": "java",
   "file_extension": ".java",
   "mimetype": "text/x-java-source",
   "name": "Java",
   "pygments_lexer": "java",
   "version": "11.0.1+13-LTS"
  },
  "toc": {
   "base_numbering": 1,
   "nav_menu": {},
   "number_sections": true,
   "sideBar": true,
   "skip_h1_title": false,
   "title_cell": "Table of Contents",
   "title_sidebar": "Contents",
   "toc_cell": false,
   "toc_position": {},
   "toc_section_display": true,
   "toc_window_display": false
  }
 },
 "nbformat": 4,
 "nbformat_minor": 2
}
