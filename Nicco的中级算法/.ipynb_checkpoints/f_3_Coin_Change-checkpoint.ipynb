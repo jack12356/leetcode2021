{
 "cells": [
  {
   "cell_type": "markdown",
   "metadata": {},
   "source": [
    "# 零钱兑换\n",
    "给定不同面额的硬币 coins 和一个总金额 amount。编写一个函数来计算可以凑成总金额所需的最少的硬币个数。如果没有任何一种硬币组合能组成总金额，返回 -1。\n",
    "\n",
    "示例 1:\n",
    "\n",
    "    输入: coins = [1, 2, 5], amount = 11\n",
    "    输出: 3 \n",
    "解释: 11 = 5 + 5 + 1\n",
    "示例 2:\n",
    "\n",
    "    输入: coins = [2], amount = 3\n",
    "    输出: -1\n",
    "说明:\n",
    "你可以认为每种硬币的数量是无限的。"
   ]
  },
  {
   "cell_type": "code",
   "execution_count": 1,
   "metadata": {
    "ExecuteTime": {
     "end_time": "2018-12-29T07:51+0000",
     "start_time": "2018-12-29T07:51:11.390Z"
    }
   },
   "outputs": [],
   "source": [
    "public int coinChange(int[] coins, int amount) {\n",
    "    int [] min_coins = new int[amount+1];\n",
    "    min_coins[0] = 0;\n",
    "    for (int num = 1; num < amount+1; num++) {\n",
    "        int min = Integer.MAX_VALUE;\n",
    "        for (int coin :coins) {\n",
    "            if((num-coin>=0&&min_coins[num-coin]!=-1)){\n",
    "                min = Math.min(min,min_coins[num-coin]+1);\n",
    "            }\n",
    "        }\n",
    "        min_coins[num] = min==Integer.MAX_VALUE?-1:min;\n",
    "    }\n",
    "    return min_coins[amount];\n",
    "}"
   ]
  }
 ],
 "metadata": {
  "kernelspec": {
   "display_name": "Java",
   "language": "java",
   "name": "java"
  },
  "language_info": {
   "codemirror_mode": "java",
   "file_extension": ".java",
   "mimetype": "text/x-java-source",
   "name": "Java",
   "pygments_lexer": "java",
   "version": "11.0.1+13-LTS"
  },
  "toc": {
   "base_numbering": 1,
   "nav_menu": {},
   "number_sections": true,
   "sideBar": true,
   "skip_h1_title": false,
   "title_cell": "Table of Contents",
   "title_sidebar": "Contents",
   "toc_cell": false,
   "toc_position": {},
   "toc_section_display": true,
   "toc_window_display": false
  }
 },
 "nbformat": 4,
 "nbformat_minor": 2
}
