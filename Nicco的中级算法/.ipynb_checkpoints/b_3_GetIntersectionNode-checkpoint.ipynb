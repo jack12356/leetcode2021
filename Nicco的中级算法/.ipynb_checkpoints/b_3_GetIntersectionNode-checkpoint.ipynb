{
 "cells": [
  {
   "cell_type": "markdown",
   "metadata": {},
   "source": [
    "#  相交链表\n",
    "编写一个程序，找到两个单链表相交的起始节点。\n",
    "\n",
    "如下面的两个链表：\n",
    "\n",
    "![image.png](https://assets.leetcode-cn.com/aliyun-lc-upload/uploads/2018/12/14/160_statement.png)\n",
    "\n",
    "在节点 c1 开始相交。\n",
    "\n",
    "示例 1：\n",
    "\n",
    "![image.png](https://assets.leetcode-cn.com/aliyun-lc-upload/uploads/2018/12/14/160_example_1.png)\n",
    "\n",
    "输入：intersectVal = 8, listA = [4,1,8,4,5], listB = [5,0,1,8,4,5], skipA = 2, skipB = 3\n",
    "输出：Reference of the node with value = 8\n",
    "输入解释：相交节点的值为 8 （注意，如果两个列表相交则不能为 0）。从各自的表头开始算起，链表 A 为 [4,1,8,4,5]，链表 B 为 [5,0,1,8,4,5]。在 A 中，相交节点前有 2 个节点；在 B 中，相交节点前有 3 个节点。\n",
    " \n",
    "\n",
    "示例 2：\n",
    "\n",
    "![](https://assets.leetcode.com/uploads/2018/12/13/160_example_2.png)\n",
    "\n",
    "输入：intersectVal = 2, listA = [0,9,1,2,4], listB = [3,2,4], skipA = 3, skipB = 1\n",
    "输出：Reference of the node with value = 2\n",
    "输入解释：相交节点的值为 2 （注意，如果两个列表相交则不能为 0）。从各自的表头开始算起，链表 A 为 [0,9,1,2,4]，链表 B 为 [3,2,4]。在 A 中，相交节点前有 3 个节点；在 B 中，相交节点前有 1 个节点。\n",
    " \n",
    "\n",
    "示例 3：\n",
    "\n",
    "![](https://assets.leetcode-cn.com/aliyun-lc-upload/uploads/2018/12/14/160_example_3.png)\n",
    "\n",
    "输入：intersectVal = 0, listA = [2,6,4], listB = [1,5], skipA = 3, skipB = 2\n",
    "输出：null\n",
    "输入解释：从各自的表头开始算起，链表 A 为 [2,6,4]，链表 B 为 [1,5]。由于这两个链表不相交，所以 intersectVal 必须为 0，而 skipA 和 skipB 可以是任意值。\n",
    "解释：这两个链表不相交，因此返回 null。\n",
    " \n",
    "\n",
    "注意：\n",
    "\n",
    "如果两个链表没有交点，返回 null.\n",
    "在返回结果后，两个链表仍须保持原有的结构。\n",
    "可假定整个链表结构中没有循环。\n",
    "程序尽量满足 O(n) 时间复杂度，且仅用 O(1) 内存。"
   ]
  },
  {
   "cell_type": "markdown",
   "metadata": {},
   "source": [
    "## 思路：\n",
    "\n",
    "- 将其中一个链表的头尾相连，问题转化为求环入口节点\n",
    "- 用两个栈分别记录两个链表的节点，再弹出，找到最后一个相等的节点\n",
    "- 将长的链表移动长度差的距离，然后同时移动两个链表，找到第一个相等的节点\n",
    "\n",
    "这里使用思路三"
   ]
  },
  {
   "cell_type": "code",
   "execution_count": null,
   "metadata": {},
   "outputs": [],
   "source": [
    "public ListNode getIntersectionNode(ListNode headA, ListNode headB) {\n",
    "    ListNode l1 = headA;\n",
    "    ListNode l2 = headB;\n",
    "    int countA=0,countB=0;\n",
    "    while (l1!=null) {\n",
    "        countA++;\n",
    "        l1=l1.next;\n",
    "    }\n",
    "    while (l2!=null) {\n",
    "        countB++;\n",
    "        l2=l2.next;\n",
    "    }\n",
    "    l1=headA;\n",
    "    l2=headB;\n",
    "    while (countA!=countB){\n",
    "        if (countA>countB){\n",
    "            countA--;\n",
    "            l1=l1.next;\n",
    "        }else {\n",
    "            countB--;\n",
    "            l2=l2.next;\n",
    "        }\n",
    "    }\n",
    "    while (l1!=null&&l2!=null&&l1!=l2){\n",
    "        l1=l1.next;\n",
    "        l2=l2.next;\n",
    "    }\n",
    "    return l1;\n",
    "}"
   ]
  },
  {
   "cell_type": "markdown",
   "metadata": {},
   "source": [
    "都走A+B那么长"
   ]
  },
  {
   "cell_type": "code",
   "execution_count": null,
   "metadata": {},
   "outputs": [],
   "source": [
    "public ListNode getIntersectionNode(ListNode headA, ListNode headB) {\n",
    "        if(headA==null||headB==null)return null;\n",
    "        ListNode pA=headA,pB=headB;\n",
    "        while(pA!=pB){\n",
    "            pA=pA==null?headB:pA.next;\n",
    "            pB=pB==null?headA:pB.next;\n",
    "        }\n",
    "        return pA;\n",
    "    }"
   ]
  }
 ],
 "metadata": {
  "kernelspec": {
   "display_name": "Java",
   "language": "java",
   "name": "java"
  },
  "language_info": {
   "codemirror_mode": "java",
   "file_extension": ".java",
   "mimetype": "text/x-java-source",
   "name": "Java",
   "pygments_lexer": "java",
   "version": "11.0.1+13-LTS"
  },
  "toc": {
   "base_numbering": 1,
   "nav_menu": {},
   "number_sections": true,
   "sideBar": true,
   "skip_h1_title": false,
   "title_cell": "Table of Contents",
   "title_sidebar": "Contents",
   "toc_cell": false,
   "toc_position": {},
   "toc_section_display": true,
   "toc_window_display": false
  }
 },
 "nbformat": 4,
 "nbformat_minor": 2
}
