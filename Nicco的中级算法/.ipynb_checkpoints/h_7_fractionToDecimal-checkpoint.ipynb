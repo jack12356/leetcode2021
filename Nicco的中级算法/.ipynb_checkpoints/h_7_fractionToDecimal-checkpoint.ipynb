{
 "cells": [
  {
   "cell_type": "markdown",
   "metadata": {},
   "source": [
    "# 分数到小数\n",
    "给定两个整数，分别表示分数的分子 numerator 和分母 denominator，以字符串形式返回小数。\n",
    "\n",
    "如果小数部分为循环小数，则将循环的部分括在括号内。\n",
    "\n",
    "示例 1:\n",
    "\n",
    "    输入: numerator = 1, denominator = 2\n",
    "    输出: \"0.5\"\n",
    "示例 2:\n",
    "\n",
    "    输入: numerator = 2, denominator = 1\n",
    "    输出: \"2\"\n",
    "示例 3:\n",
    "\n",
    "    输入: numerator = 2, denominator = 3\n",
    "    输出: \"0.(6)\""
   ]
  },
  {
   "cell_type": "code",
   "execution_count": 1,
   "metadata": {
    "ExecuteTime": {
     "end_time": "2019-01-07T02:54+0000",
     "start_time": "2019-01-07T02:54:15.461Z"
    }
   },
   "outputs": [],
   "source": [
    "public String fractionToDecimal(int num, int den){\n",
    "    if (num==0) return \"0\";\n",
    "    boolean negative = (num>0)^(den>0);\n",
    "    long numerator = Math.abs((long)num);\n",
    "    long denominator = Math.abs((long)den);\n",
    "    long integer = (numerator/denominator);\n",
    "    StringBuilder str = new StringBuilder();\n",
    "    str.append(integer).append(\".\");\n",
    "    long remainder = numerator % denominator;\n",
    "    if (remainder==0) {\n",
    "        return negative?\"-\"+ integer :String.valueOf(integer);\n",
    "    }\n",
    "    HashMap<Long,Integer> map = new HashMap<>();\n",
    "    int location = str.indexOf(\".\")+1;\n",
    "    while (remainder != 0) {\n",
    "        if (map.containsKey(remainder)) {\n",
    "            str.insert(map.get(remainder), \"(\");\n",
    "            str.append(')');\n",
    "            if (negative) str.insert(0, \"-\");\n",
    "            return str.toString();\n",
    "        }\n",
    "        map.put(remainder, location);\n",
    "        location++;\n",
    "        remainder *= 10;\n",
    "        int cur_shang = (int) (remainder / denominator);\n",
    "        remainder %= denominator;\n",
    "        str.append(cur_shang);\n",
    "    }\n",
    "    if (negative) str.insert(0, \"-\");\n",
    "    return str.toString();\n",
    "}"
   ]
  }
 ],
 "metadata": {
  "kernelspec": {
   "display_name": "Java",
   "language": "java",
   "name": "java"
  },
  "language_info": {
   "codemirror_mode": "java",
   "file_extension": ".java",
   "mimetype": "text/x-java-source",
   "name": "Java",
   "pygments_lexer": "java",
   "version": "11.0.1+13-LTS"
  },
  "toc": {
   "base_numbering": 1,
   "nav_menu": {},
   "number_sections": true,
   "sideBar": true,
   "skip_h1_title": false,
   "title_cell": "Table of Contents",
   "title_sidebar": "Contents",
   "toc_cell": false,
   "toc_position": {},
   "toc_section_display": true,
   "toc_window_display": false
  }
 },
 "nbformat": 4,
 "nbformat_minor": 2
}
