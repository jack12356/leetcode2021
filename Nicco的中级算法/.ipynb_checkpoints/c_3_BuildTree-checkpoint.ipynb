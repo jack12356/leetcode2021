{
 "cells": [
  {
   "cell_type": "markdown",
   "metadata": {},
   "source": [
    "# 从前序与中序遍历序列构造二叉树\n",
    "根据一棵树的前序遍历与中序遍历构造二叉树。\n",
    "\n",
    "注意:\n",
    "你可以假设树中没有重复的元素。\n",
    "\n",
    "例如，给出\n",
    "\n",
    "前序遍历 preorder = [3,9,20,15,7]\n",
    "中序遍历 inorder = [9,3,15,20,7]\n",
    "返回如下的二叉树：\n",
    "\n",
    "        3\n",
    "       / \\\n",
    "      9  20\n",
    "        /  \\\n",
    "       15   7"
   ]
  },
  {
   "cell_type": "markdown",
   "metadata": {},
   "source": [
    "## 方法一\n",
    "思路：\n",
    "\n",
    "输入：前序遍历，中序遍历\n",
    "1. 寻找树的root，前序遍历的第一节点G就是root。\n",
    "2. 观察前序遍历GDAFEMHZ，知道了G是root，剩下的节点必然在root的左或右子树中的节点。\n",
    "3. 观察中序遍历ADEFGHMZ。其中root节点G左侧的ADEF必然是root的左子树中的节点，G右侧的HMZ必然是root的右子树中的节点，root不在中序遍历的末尾或开始就说明根节点的两颗子树都不为空。\n",
    "4. 观察左子树ADEF，按照前序遍历的顺序来排序为DAFE，因此左子树的根节点为D，并且A是左子树的左子树中的节点，EF是左子树的右子树中的节点。\n",
    "5. 同样的道理，观察右子树节点HMZ，前序为MHZ，因此右子树的根节点为M，左子节点H，右子节点Z。\n",
    "\n",
    "观察发现，上面的过程是递归的。先找到当前树的根节点，然后划分为左子树，右子树，然后进入左子树重复上面的过程，然后进入右子树重复上面的过程。最后就可以还原一棵树了："
   ]
  },
  {
   "cell_type": "code",
   "execution_count": null,
   "metadata": {},
   "outputs": [],
   "source": [
    "public TreeNode buildTree(int[] preorder, int[] inorder) {\n",
    "    List<Integer> p = Arrays.stream( preorder ).boxed().collect(Collectors.toList());\n",
    "    List<Integer> i = Arrays.stream( inorder ).boxed().collect(Collectors.toList());\n",
    "    return buildTreeArray(p,i);\n",
    "}\n",
    "public TreeNode buildTreeArray(List<Integer> preorder,List<Integer>inorder){\n",
    "    if(preorder.size()==0) return null;\n",
    "    if(preorder.size()==1) return new TreeNode(preorder.get(0));\n",
    "    int rt = preorder.get(0);\n",
    "    int rt_index = inorder.indexOf(rt);\n",
    "    TreeNode root = new TreeNode(rt);\n",
    "    root.left = buildTreeArray(preorder.subList(1,rt_index+1),inorder.subList(0,rt_index) );\n",
    "    root.right = buildTreeArray(preorder.subList(rt_index+1,preorder.size()),inorder.subList(rt_index+1,inorder.size()) );\n",
    "    return root;\n",
    "}"
   ]
  }
 ],
 "metadata": {
  "kernelspec": {
   "display_name": "Java",
   "language": "java",
   "name": "java"
  },
  "language_info": {
   "codemirror_mode": "java",
   "file_extension": ".java",
   "mimetype": "text/x-java-source",
   "name": "Java",
   "pygments_lexer": "java",
   "version": "11.0.1+13-LTS"
  },
  "toc": {
   "base_numbering": 1,
   "nav_menu": {},
   "number_sections": true,
   "sideBar": true,
   "skip_h1_title": false,
   "title_cell": "Table of Contents",
   "title_sidebar": "Contents",
   "toc_cell": false,
   "toc_position": {},
   "toc_section_display": true,
   "toc_window_display": false
  }
 },
 "nbformat": 4,
 "nbformat_minor": 2
}
