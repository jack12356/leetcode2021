{
 "cells": [
  {
   "cell_type": "markdown",
   "metadata": {},
   "source": [
    "# 寻找峰值\n",
    "峰值元素是指其值大于左右相邻值的元素。\n",
    "\n",
    "给定一个输入数组 nums，其中 nums[i] ≠ nums[i+1]，找到峰值元素并返回其索引。\n",
    "\n",
    "数组可能包含多个峰值，在这种情况下，返回任何一个峰值所在位置即可。\n",
    "\n",
    "你可以假设 nums[-1] = nums[n] = -∞。\n",
    "\n",
    "示例 1:\n",
    "\n",
    "    输入: nums = [1,2,3,1]\n",
    "    输出: 2\n",
    "解释: 3 是峰值元素，你的函数应该返回其索引 2。\n",
    "示例 2:\n",
    "\n",
    "    输入: nums = [1,2,1,3,5,6,4]\n",
    "    输出: 1 或 5 \n",
    "解释: 你的函数可以返回索引 1，其峰值元素为 2；\n",
    "     或者返回索引 5， 其峰值元素为 6。"
   ]
  },
  {
   "cell_type": "markdown",
   "metadata": {},
   "source": [
    "## 思路：\n",
    "二分查找\n",
    "1. 当nums[mid]>nums[mid+1],则局部最大点在左边；\n",
    "2. 当nums[mid]<=nums[mid+1],则局部最大点在右边；"
   ]
  },
  {
   "cell_type": "code",
   "execution_count": null,
   "metadata": {},
   "outputs": [],
   "source": [
    "public int findPeakElement(int[] arr) {\n",
    "        int L = 0,R = arr.length-1;\n",
    "        while(L<R){\n",
    "            int mid = L+((R-L)>>1);\n",
    "\n",
    "            if(arr[mid]<arr[mid+1])\n",
    "                L=mid+1;\n",
    "            else\n",
    "                R=mid;\n",
    "        }\n",
    "        return L;\n",
    "    }"
   ]
  },
  {
   "cell_type": "markdown",
   "metadata": {},
   "source": [
    "## 自己的二分法：考虑太多了"
   ]
  },
  {
   "cell_type": "code",
   "execution_count": null,
   "metadata": {},
   "outputs": [],
   "source": [
    "public int findPeakElement(int[] nums) {\n",
    "    int st = 0,end = nums.length-1;\n",
    "    while (st<end){\n",
    "        int mid = (end+st)/2;\n",
    "        if (mid-1>=0&&mid+1<nums.length&&nums[mid]>nums[mid-1]&&nums[mid]>nums[mid+1]) return mid;\n",
    "        if (mid==nums.length-1&&nums[mid]>nums[mid-1]) return mid;\n",
    "        if (nums[mid]>nums[mid+1]) {\n",
    "            if (mid==0) return mid;\n",
    "            else end=mid-1;\n",
    "        }else {\n",
    "             st=mid+1;\n",
    "        }\n",
    "    }\n",
    "    return st;\n",
    "}"
   ]
  }
 ],
 "metadata": {
  "kernelspec": {
   "display_name": "Java",
   "language": "java",
   "name": "java"
  },
  "language_info": {
   "codemirror_mode": "java",
   "file_extension": ".java",
   "mimetype": "text/x-java-source",
   "name": "Java",
   "pygments_lexer": "java",
   "version": "11.0.1+13-LTS"
  },
  "toc": {
   "base_numbering": 1,
   "nav_menu": {},
   "number_sections": true,
   "sideBar": true,
   "skip_h1_title": false,
   "title_cell": "Table of Contents",
   "title_sidebar": "Contents",
   "toc_cell": false,
   "toc_position": {},
   "toc_section_display": true,
   "toc_window_display": false
  }
 },
 "nbformat": 4,
 "nbformat_minor": 2
}
