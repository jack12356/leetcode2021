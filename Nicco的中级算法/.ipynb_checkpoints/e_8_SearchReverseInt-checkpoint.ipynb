{
 "cells": [
  {
   "cell_type": "markdown",
   "metadata": {},
   "source": [
    "#  搜索旋转排序数组\n",
    "假设按照升序排序的数组在预先未知的某个点上进行了旋转。\n",
    "\n",
    "( 例如，数组 [0,1,2,4,5,6,7] 可能变为 [4,5,6,7,0,1,2] )。\n",
    "\n",
    "搜索一个给定的目标值，如果数组中存在这个目标值，则返回它的索引，否则返回 -1 。\n",
    "\n",
    "你可以假设数组中不存在重复的元素。\n",
    "\n",
    "你的算法时间复杂度必须是 O(log n) 级别。\n",
    "\n",
    "示例 1:\n",
    "\n",
    "    输入: nums = [4,5,6,7,0,1,2], target = 0\n",
    "    输出: 4\n",
    "示例 2:\n",
    "\n",
    "    输入: nums = [4,5,6,7,0,1,2], target = 3\n",
    "    输出: -1"
   ]
  },
  {
   "cell_type": "markdown",
   "metadata": {},
   "source": [
    "## 方法\n",
    "思路：比较nums[mid]与nums[end]的大小，判断两边是否有序，判断target可能在哪一边；"
   ]
  },
  {
   "cell_type": "code",
   "execution_count": 1,
   "metadata": {
    "ExecuteTime": {
     "end_time": "2018-12-28T04:42+0000",
     "start_time": "2018-12-28T04:42:41.213Z"
    }
   },
   "outputs": [],
   "source": [
    "public static int search(int[] nums, int target) {\n",
    "    int st = 0, end = nums.length - 1;\n",
    "    while (st <= end) {\n",
    "        int mid = (st + end) / 2;\n",
    "        if (nums[mid] == target) return mid;\n",
    "        if (nums[mid] > nums[end]) {           //左边是有序的\n",
    "            if (nums[mid] < target || target < nums[st]) st = mid + 1;\n",
    "            else end = mid - 1;\n",
    "        } else {                              //右边是有序的\n",
    "            if (nums[mid] > target || target > nums[end]) end = mid - 1;\n",
    "            else st = mid + 1;\n",
    "        }\n",
    "    }\n",
    "    return -1;\n",
    "}"
   ]
  },
  {
   "cell_type": "code",
   "execution_count": 3,
   "metadata": {
    "ExecuteTime": {
     "end_time": "2018-12-28T04:43+0000",
     "start_time": "2018-12-28T04:43:06.923Z"
    }
   },
   "outputs": [
    {
     "name": "stdout",
     "output_type": "stream",
     "text": [
      "4\n"
     ]
    }
   ],
   "source": [
    "int []nums = new int[]{4,5,6,7,0,1,2};\n",
    "System.out.println(search(nums, 0));"
   ]
  },
  {
   "cell_type": "markdown",
   "metadata": {},
   "source": [
    "## 二分法查找这个点"
   ]
  },
  {
   "cell_type": "code",
   "execution_count": 5,
   "metadata": {
    "ExecuteTime": {
     "end_time": "2018-12-28T04:44+0000",
     "start_time": "2018-12-28T04:44:00.032Z"
    }
   },
   "outputs": [],
   "source": [
    "public static int bSearch(int[] nums) {\n",
    "    int st = 0, end = nums.length - 1;\n",
    "    while (st <= end) {\n",
    "        int mid = (st + end) / 2;\n",
    "        if (nums[mid]>nums[mid+1]) return mid;\n",
    "        if (nums[mid] > nums[end]) {           //左边是有序的\n",
    "            st = mid + 1;\n",
    "        } else {                              //右边是有序的\n",
    "            end = mid - 1;\n",
    "        }\n",
    "    }\n",
    "    return -1;\n",
    "}"
   ]
  },
  {
   "cell_type": "code",
   "execution_count": 6,
   "metadata": {
    "ExecuteTime": {
     "end_time": "2018-12-28T04:44+0000",
     "start_time": "2018-12-28T04:44:02.836Z"
    }
   },
   "outputs": [
    {
     "name": "stdout",
     "output_type": "stream",
     "text": [
      "3\n"
     ]
    }
   ],
   "source": [
    "int []nums = new int[]{4,5,6,7,0,1,2};\n",
    "System.out.println(bSearch(nums));"
   ]
  }
 ],
 "metadata": {
  "kernelspec": {
   "display_name": "Java",
   "language": "java",
   "name": "java"
  },
  "language_info": {
   "codemirror_mode": "java",
   "file_extension": ".java",
   "mimetype": "text/x-java-source",
   "name": "Java",
   "pygments_lexer": "java",
   "version": "11.0.1+13-LTS"
  },
  "toc": {
   "base_numbering": 1,
   "nav_menu": {},
   "number_sections": true,
   "sideBar": true,
   "skip_h1_title": false,
   "title_cell": "Table of Contents",
   "title_sidebar": "Contents",
   "toc_cell": false,
   "toc_position": {},
   "toc_section_display": true,
   "toc_window_display": false
  }
 },
 "nbformat": 4,
 "nbformat_minor": 2
}
