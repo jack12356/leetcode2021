{
 "cells": [
  {
   "cell_type": "markdown",
   "metadata": {},
   "source": [
    "# 二叉树的锯齿形层次遍历\n",
    "给定一个二叉树，返回其节点值的锯齿形层次遍历。（即先从左往右，再从右往左进行下一层遍历，以此类推，层与层之间交替进行）。\n",
    "\n",
    "例如：\n",
    "给定二叉树 [3,9,20,null,null,15,7],\n",
    "\n",
    "        3\n",
    "       / \\\n",
    "      9  20\n",
    "        /  \\\n",
    "       15   7\n",
    "返回锯齿形层次遍历如下：\n",
    "\n",
    "    [\n",
    "      [3],\n",
    "      [20,9],\n",
    "      [15,7]\n",
    "    ]"
   ]
  },
  {
   "cell_type": "markdown",
   "metadata": {},
   "source": [
    "## 方法一：递归\n",
    "思路：使用函数递归，上一层到下一层；使用布尔变量`reverse`标识翻转；"
   ]
  },
  {
   "cell_type": "code",
   "execution_count": null,
   "metadata": {},
   "outputs": [],
   "source": [
    "public List<List<Integer>> zigzagLevelOrder(TreeNode root) {\n",
    "    ArrayList<List<Integer>> lists = new ArrayList<>();\n",
    "    ArrayList<TreeNode> prelist = new ArrayList<TreeNode>();\n",
    "\n",
    "    if (root==null)\n",
    "        return lists;\n",
    "\n",
    "    boolean reverse = false;\n",
    "    prelist.add(root);\n",
    "    add(prelist,lists,reverse);\n",
    "    return lists;\n",
    "}\n",
    "\n",
    "private void  add(ArrayList<TreeNode> prelist, ArrayList<List<Integer>> lists, boolean reverse) {\n",
    "    ArrayList<TreeNode> next_list = new ArrayList<>();\n",
    "    ArrayList<Integer> intlist = new ArrayList<>();\n",
    "    for (int i = 0; i < prelist.size(); i++) {\n",
    "        TreeNode root = prelist.get(i);\n",
    "        intlist.add(root.val);\n",
    "        if (root.left!=null)\n",
    "            next_list.add(root.left);\n",
    "        if (root.right!=null)\n",
    "            next_list.add(root.right);\n",
    "    }\n",
    "    if (reverse) Collections.reverse(intlist);\n",
    "    reverse=!reverse;\n",
    "    lists.add(intlist);\n",
    "    if(next_list.size()==0) {\n",
    "        return;\n",
    "    }\n",
    "    add(next_list,lists, reverse);\n",
    "}"
   ]
  },
  {
   "cell_type": "markdown",
   "metadata": {},
   "source": [
    "## 方法二 迭代\n",
    "\n",
    "使用while循环，使用变量标识翻转，使用num与next辨识长度"
   ]
  },
  {
   "cell_type": "code",
   "execution_count": null,
   "metadata": {},
   "outputs": [],
   "source": [
    "\n",
    "public List<List<Integer>> zigzagLevelOrder(TreeNode root) {\n",
    "     Queue<TreeNode> queue=new LinkedList<>();\n",
    "     List<List<Integer>> result=new ArrayList<>();\n",
    "     LinkedList<Integer> list=new LinkedList<>();//一排的integer\n",
    "     if(root==null){\n",
    "         return result;\n",
    "     }\n",
    "     queue.add(root);\n",
    "     int num=1;\n",
    "     int next=0;\n",
    "     boolean isLTR=true;//是否这一排顺序从左到右\n",
    "     while(!queue.isEmpty()){\n",
    "         TreeNode now=queue.poll();   \n",
    "         if(now.left!=null){\n",
    "             queue.add(now.left);\n",
    "             next++;\n",
    "         }\n",
    "         if(now.right!=null){\n",
    "             queue.add(now.right);\n",
    "             next++;\n",
    "         }\n",
    "         if(isLTR){\n",
    "             list.add(now.val);\n",
    "         }\n",
    "         else{\n",
    "             list.addFirst(now.val);\n",
    "         }\n",
    "         num--;\n",
    "         if(num==0){\n",
    "             num=next;\n",
    "             next=0;\n",
    "             isLTR=!isLTR;\n",
    "             result.add(list);\n",
    "             list=new LinkedList<>();\n",
    "         }    \n",
    "     }     \n",
    "    return result;\n",
    "    }"
   ]
  },
  {
   "cell_type": "markdown",
   "metadata": {},
   "source": [
    "## 附：迭代层次遍历"
   ]
  },
  {
   "cell_type": "code",
   "execution_count": null,
   "metadata": {},
   "outputs": [],
   "source": [
    "public void levelTraverse(TreeNode root) {  \n",
    "    if (root == null) {  \n",
    "        return;  \n",
    "    }  \n",
    "    LinkedList<TreeNode> queue = new LinkedList<>();  \n",
    "    queue.offer(root);  \n",
    "    while (!queue.isEmpty()) {  \n",
    "        TreeNode node = queue.poll();  \n",
    "        System.out.print(node.val+\"  \");  \n",
    "        if (node.left != null) {  \n",
    "            queue.offer(node.left);  \n",
    "        }  \n",
    "        if (node.right != null) {  \n",
    "            queue.offer(node.right);  \n",
    "        }  \n",
    "    }  \n",
    "}  "
   ]
  }
 ],
 "metadata": {
  "kernelspec": {
   "display_name": "Java",
   "language": "java",
   "name": "java"
  },
  "language_info": {
   "codemirror_mode": "java",
   "file_extension": ".java",
   "mimetype": "text/x-java-source",
   "name": "Java",
   "pygments_lexer": "java",
   "version": "11.0.1+13-LTS"
  },
  "toc": {
   "base_numbering": 1,
   "nav_menu": {},
   "number_sections": true,
   "sideBar": true,
   "skip_h1_title": false,
   "title_cell": "Table of Contents",
   "title_sidebar": "Contents",
   "toc_cell": false,
   "toc_position": {},
   "toc_section_display": true,
   "toc_window_display": false
  }
 },
 "nbformat": 4,
 "nbformat_minor": 2
}
