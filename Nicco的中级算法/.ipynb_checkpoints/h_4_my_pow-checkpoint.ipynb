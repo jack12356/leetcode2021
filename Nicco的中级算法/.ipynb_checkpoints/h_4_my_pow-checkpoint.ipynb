{
 "cells": [
  {
   "cell_type": "markdown",
   "metadata": {},
   "source": [
    "# Pow(x, n)\n",
    "实现 pow(x, n) ，即计算 x 的 n 次幂函数。\n",
    "\n",
    "示例 1:\n",
    "\n",
    "    输入: 2.00000, 10\n",
    "    输出: 1024.00000\n",
    "示例 2:\n",
    "\n",
    "    输入: 2.10000, 3\n",
    "    输出: 9.26100\n",
    "示例 3:\n",
    "\n",
    "    输入: 2.00000, -2\n",
    "    输出: 0.25000\n",
    "解释: 2-2 = 1/22 = 1/4 = 0.25\n",
    "说明:\n",
    "\n",
    "-100.0 < x < 100.0\n",
    "n 是 32 位有符号整数，其数值范围是 [−231, 231 − 1] 。"
   ]
  },
  {
   "cell_type": "code",
   "execution_count": 1,
   "metadata": {
    "ExecuteTime": {
     "end_time": "2019-01-04T08:09+0000",
     "start_time": "2019-01-04T08:09:41.554Z"
    }
   },
   "outputs": [],
   "source": [
    "public double myPow(double x, int n) {\n",
    "    double res = 1;\n",
    "    if (n>=0){\n",
    "        while (n>0){\n",
    "            if (n%2==1) {\n",
    "                res*=x;\n",
    "                n--;\n",
    "            }else {\n",
    "                x *= x;\n",
    "                n /= 2;\n",
    "            }\n",
    "        }\n",
    "    }else {\n",
    "        while (n<0){\n",
    "            if (n%2==-1) {\n",
    "                res/=x;\n",
    "                n++;\n",
    "            }else {\n",
    "                x *= x;\n",
    "                n /= 2;\n",
    "            }\n",
    "        }\n",
    "    }\n",
    "    return res;\n",
    "}"
   ]
  }
 ],
 "metadata": {
  "kernelspec": {
   "display_name": "Java",
   "language": "java",
   "name": "java"
  },
  "language_info": {
   "codemirror_mode": "java",
   "file_extension": ".java",
   "mimetype": "text/x-java-source",
   "name": "Java",
   "pygments_lexer": "java",
   "version": "11.0.1+13-LTS"
  },
  "toc": {
   "base_numbering": 1,
   "nav_menu": {},
   "number_sections": true,
   "sideBar": true,
   "skip_h1_title": false,
   "title_cell": "Table of Contents",
   "title_sidebar": "Contents",
   "toc_cell": false,
   "toc_position": {},
   "toc_section_display": true,
   "toc_window_display": false
  }
 },
 "nbformat": 4,
 "nbformat_minor": 2
}
