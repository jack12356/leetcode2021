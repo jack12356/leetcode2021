{
 "cells": [
  {
   "cell_type": "markdown",
   "metadata": {},
   "source": [
    "# 常数时间插入、删除和获取随机元素\n",
    "\n",
    "题目描述\n",
    "\n",
    "\n",
    "设计一个支持在平均 时间复杂度 O(1) 下，执行以下操作的数据结构。\n",
    "\n",
    "- insert(val)：当元素 val 不存在时，向集合中插入该项。\n",
    "- remove(val)：元素 val 存在时，从集合中移除该项。\n",
    "- getRandom：随机返回现有集合中的一项。每个元素应该有相同的概率被返回。"
   ]
  },
  {
   "cell_type": "markdown",
   "metadata": {},
   "source": [
    "## 思路\n",
    "\n",
    "使用两个数据结构\n",
    "\n",
    "**List与map**\n",
    "\n",
    "**map<val,index o list>**"
   ]
  },
  {
   "cell_type": "code",
   "execution_count": 3,
   "metadata": {
    "ExecuteTime": {
     "end_time": "2019-01-04T03:50+0000",
     "start_time": "2019-01-04T03:50:30.044Z"
    }
   },
   "outputs": [],
   "source": [
    "import java.util.*;\n",
    "\n",
    "public class RandomizedSet {\n",
    "    List<Integer> list;\n",
    "    Map<Integer, Integer> map;\n",
    "    Random random;\n",
    "\n",
    "    /** Initialize your data structure here. */\n",
    "    public RandomizedSet() {\n",
    "        list = new ArrayList<>();\n",
    "        map = new HashMap<>();\n",
    "        random = new Random();\n",
    "    }\n",
    "\n",
    "    /** Inserts a value to the set. Returns true if the set did not already contain the specified element. */\n",
    "    public boolean insert(int val) {\n",
    "        if(map.containsKey(val)){\n",
    "            return false;\n",
    "        }else{\n",
    "            list.add(val);\n",
    "            map.put(val, list.size() -1);\n",
    "            return true;\n",
    "        }\n",
    "    }\n",
    "\n",
    "    /** Removes a value from the set. Returns true if the set contained the specified element. */\n",
    "    public boolean remove(int val) {\n",
    "        if(map.containsKey(val)){\n",
    "            int index = map.get(val);\n",
    "            if(list.size() != index+1){\n",
    "                int last = list.get(list.size()-1);\n",
    "                list.set(list.size()-1, val);\n",
    "                list.set(index, last);\n",
    "                map.put(last, index);\n",
    "            }\n",
    "            list.remove(list.size()-1);\n",
    "            map.remove(val);\n",
    "            return true;\n",
    "        }else{\n",
    "            return false;\n",
    "        }\n",
    "    }\n",
    "\n",
    "    /** Get a random element from the set. */\n",
    "    public int getRandom() {\n",
    "        return list.get(random.nextInt(list.size()));\n",
    "    }\n",
    "\n",
    "    public static void main(String[] args) {\n",
    "        RandomizedSet obj = new RandomizedSet();\n",
    "        boolean param_1 = obj.insert(1);\n",
    "        boolean param_2 = obj.insert(2);\n",
    "        boolean param_3 = obj.remove(2);\n",
    "        int param_4 = obj.getRandom();\n",
    "        System.out.println(param_4);\n",
    "    }\n",
    "}"
   ]
  }
 ],
 "metadata": {
  "kernelspec": {
   "display_name": "Java",
   "language": "java",
   "name": "java"
  },
  "language_info": {
   "codemirror_mode": "java",
   "file_extension": ".java",
   "mimetype": "text/x-java-source",
   "name": "Java",
   "pygments_lexer": "java",
   "version": "11.0.1+13-LTS"
  },
  "toc": {
   "base_numbering": 1,
   "nav_menu": {},
   "number_sections": true,
   "sideBar": true,
   "skip_h1_title": false,
   "title_cell": "Table of Contents",
   "title_sidebar": "Contents",
   "toc_cell": false,
   "toc_position": {},
   "toc_section_display": true,
   "toc_window_display": false
  }
 },
 "nbformat": 4,
 "nbformat_minor": 2
}
