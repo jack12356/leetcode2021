{
 "cells": [
  {
   "cell_type": "markdown",
   "metadata": {
    "ExecuteTime": {
     "end_time": "2018-12-22T05:59+0000",
     "start_time": "2018-12-22T05:59:53.563Z"
    }
   },
   "source": [
    "#  三数之和\n",
    "给定一个包含 n 个整数的数组 nums，判断 nums 中是否存在三个元素 a，b，c ，使得 a + b + c = 0 ？找出所有满足条件且不重复的三元组。\n",
    "\n",
    "注意：答案中不可以包含重复的三元组。\n",
    "\n",
    "例如, 给定数组 nums = [-1, 0, 1, 2, -1, -4]，\n",
    "\n",
    "满足要求的三元组集合为：\n",
    "```\n",
    "[\n",
    "  [-1, 0, 1],\n",
    "  [-1, -1, 2]\n",
    "]\n",
    "```"
   ]
  },
  {
   "cell_type": "markdown",
   "metadata": {},
   "source": [
    "## 方法一\n",
    "三数和转两数和 时间长"
   ]
  },
  {
   "cell_type": "code",
   "execution_count": 6,
   "metadata": {
    "ExecuteTime": {
     "end_time": "2018-12-22T06:10+0000",
     "start_time": "2018-12-22T06:10:30.836Z"
    }
   },
   "outputs": [],
   "source": [
    "public class ThreeSum {\n",
    "    public List<List<Integer>> threeSum(int[] nums) {\n",
    "        Arrays.sort(nums);\n",
    "        List<List<Integer>> result = new ArrayList<>();\n",
    "        for (int i = 0; i < nums.length-2; i++) {\n",
    "            if (i!=0&&nums[i]==nums[i-1]) continue;\n",
    "            List<List<Integer>> two_result = twosum(nums,-nums[i],i+1,nums.length-1);\n",
    "            result.addAll(two_result);\n",
    "        }\n",
    "        return result;\n",
    "    }\n",
    "\n",
    "    public List<List<Integer>> twosum(int[] nums, int target, int st, int end){\n",
    "        List<List<Integer>> result = new ArrayList<>();\n",
    "        HashMap<Integer,Integer> com_dic = new HashMap();\n",
    "        for (int i = st; i < end+1; i++) {\n",
    "            if (com_dic.containsKey(nums[i])){\n",
    "                if (com_dic.get(nums[i])==1){\n",
    "                    List<Integer> cur_result = new ArrayList<>();\n",
    "                    cur_result.add(-target);\n",
    "                    cur_result.add(target - nums[i]);\n",
    "                    cur_result.add(nums[i]);\n",
    "                    result.add(cur_result);\n",
    "                    com_dic.put(nums[i], 0);\n",
    "                }\n",
    "            }else{\n",
    "                int compli = target-nums[i];\n",
    "                com_dic.put(compli,1);\n",
    "            }\n",
    "        }\n",
    "        return result;\n",
    "    }\n",
    "}"
   ]
  },
  {
   "cell_type": "code",
   "execution_count": 7,
   "metadata": {
    "ExecuteTime": {
     "end_time": "2018-12-22T06:10+0000",
     "start_time": "2018-12-22T06:10:31.091Z"
    }
   },
   "outputs": [
    {
     "name": "stdout",
     "output_type": "stream",
     "text": [
      "[[-1, 0, 1], [-1, -1, 2]]\n"
     ]
    }
   ],
   "source": [
    "int [] nums = new int[]{-1, 0, 1, 2, -1, -4};\n",
    "ThreeSum solution = new ThreeSum();\n",
    "List<List<Integer>> result = solution.threeSum(nums);\n",
    "System.out.println(Arrays.toString(result.toArray()));"
   ]
  },
  {
   "cell_type": "markdown",
   "metadata": {},
   "source": [
    "## 方法二\n",
    "直接排序后遍历，时间短"
   ]
  },
  {
   "cell_type": "markdown",
   "metadata": {},
   "source": [
    "其中对**已排序两位数的求和**使用while循环\n",
    "速度很快！"
   ]
  },
  {
   "cell_type": "code",
   "execution_count": 1,
   "metadata": {
    "ExecuteTime": {
     "end_time": "2018-12-22T06:29+0000",
     "start_time": "2018-12-22T06:29:08.506Z"
    }
   },
   "outputs": [],
   "source": [
    "public List<List<Integer>> threeSum(int[] nums) {\n",
    "    List<List<Integer>> result = new ArrayList<List<Integer>>();\n",
    "    Arrays.sort(nums);\n",
    "\n",
    "    for (int i = 0; i < nums.length-2; i++) {\n",
    "        int left = i + 1;\n",
    "        int right = nums.length - 1;\n",
    "        if (i > 0 && nums[i] == nums[i - 1])\n",
    "            continue; // 去掉重复的起点\n",
    "        while (left < right) {\n",
    "            int sum = nums[left] + nums[right] + nums[i];\n",
    "            if (sum == 0) {\n",
    "                result.add(Arrays.asList(new Integer[]{nums[i], nums[left], nums[right]}));\n",
    "                while (left < right && nums[left] == nums[left + 1])\n",
    "                    left++; // 去掉重复的左点\n",
    "                while (left < right && nums[right] == nums[right - 1])\n",
    "                    right--; // 去掉重复的右点\n",
    "                right--; // 进入下一组左右点判断\n",
    "                left++;\n",
    "            } else if (sum > 0) {\n",
    "                right--; // sum>0 ,说明和过大了，需要变小，所以移动右边指针\n",
    "            } else {\n",
    "                left++; // 同理，需要变大，移动左指针\n",
    "            }\n",
    "        }\n",
    "    }\n",
    "    return result;\n",
    "}"
   ]
  },
  {
   "cell_type": "code",
   "execution_count": 2,
   "metadata": {
    "ExecuteTime": {
     "end_time": "2018-12-22T06:29+0000",
     "start_time": "2018-12-22T06:29:35.315Z"
    }
   },
   "outputs": [
    {
     "data": {
      "text/plain": [
       "[[-1, -1, 2], [-1, 0, 1]]"
      ]
     },
     "execution_count": 2,
     "metadata": {},
     "output_type": "execute_result"
    }
   ],
   "source": [
    "int [] nums = new int[]{-1, 0, 1, 2, -1, -4};\n",
    "threeSum(nums)"
   ]
  }
 ],
 "metadata": {
  "kernelspec": {
   "display_name": "Java",
   "language": "java",
   "name": "java"
  },
  "language_info": {
   "codemirror_mode": "java",
   "file_extension": ".java",
   "mimetype": "text/x-java-source",
   "name": "Java",
   "pygments_lexer": "java",
   "version": "11.0.1+13-LTS"
  },
  "toc": {
   "base_numbering": 1,
   "nav_menu": {},
   "number_sections": true,
   "sideBar": true,
   "skip_h1_title": false,
   "title_cell": "Table of Contents",
   "title_sidebar": "Contents",
   "toc_cell": false,
   "toc_position": {},
   "toc_section_display": true,
   "toc_window_display": false
  }
 },
 "nbformat": 4,
 "nbformat_minor": 2
}
