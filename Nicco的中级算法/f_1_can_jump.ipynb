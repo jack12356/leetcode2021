{
 "cells": [
  {
   "cell_type": "markdown",
   "metadata": {},
   "source": [
    "# 跳跃游戏\n",
    "给定一个非负整数数组，你最初位于数组的第一个位置。\n",
    "\n",
    "数组中的每个元素代表你在该位置可以跳跃的最大长度。\n",
    "\n",
    "判断你是否能够到达最后一个位置。\n",
    "\n",
    "示例 1:\n",
    "\n",
    "    输入: [2,3,1,1,4]\n",
    "    \n",
    "    输出: true\n",
    "解释: 从位置 0 到 1 跳 1 步, 然后跳 3 步到达最后一个位置。\n",
    "示例 2:\n",
    "\n",
    "    输入: [3,2,1,0,4]\n",
    "    \n",
    "    输出: false\n",
    "解释: 无论怎样，你总会到达索引为 3 的位置。但该位置的最大跳跃长度是 0 ， 所以你永远不可能到达最后一个位置。"
   ]
  },
  {
   "cell_type": "code",
   "execution_count": 1,
   "metadata": {
    "ExecuteTime": {
     "end_time": "2018-12-28T08:34+0000",
     "start_time": "2018-12-28T08:34:16.620Z"
    }
   },
   "outputs": [],
   "source": [
    "public boolean canJump(int[] nums) {\n",
    "    if(nums.length<=1) return true;\n",
    "    boolean []jump = new boolean[nums.length];\n",
    "    jump[0]=true;\n",
    "    for (int i = 0; i < nums.length; i++) {\n",
    "        if (jump[i]){\n",
    "            int max_step = nums[i];\n",
    "            for (int j = 1; j <= max_step&&j+i<nums.length; j++) {\n",
    "                jump[i+j] = true;\n",
    "            }\n",
    "        }\n",
    "    }\n",
    "    return jump[nums.length-1];\n",
    "}"
   ]
  },
  {
   "cell_type": "code",
   "execution_count": 2,
   "metadata": {
    "ExecuteTime": {
     "end_time": "2018-12-28T08:34+0000",
     "start_time": "2018-12-28T08:34:40.276Z"
    }
   },
   "outputs": [
    {
     "data": {
      "text/plain": [
       "true"
      ]
     },
     "execution_count": 2,
     "metadata": {},
     "output_type": "execute_result"
    }
   ],
   "source": [
    "canJump(new int []{2,3,1,1,4});"
   ]
  }
 ],
 "metadata": {
  "kernelspec": {
   "display_name": "Java",
   "language": "java",
   "name": "java"
  },
  "language_info": {
   "codemirror_mode": "java",
   "file_extension": ".java",
   "mimetype": "text/x-java-source",
   "name": "Java",
   "pygments_lexer": "java",
   "version": "11.0.1+13-LTS"
  },
  "toc": {
   "base_numbering": 1,
   "nav_menu": {},
   "number_sections": true,
   "sideBar": true,
   "skip_h1_title": false,
   "title_cell": "Table of Contents",
   "title_sidebar": "Contents",
   "toc_cell": false,
   "toc_position": {},
   "toc_section_display": true,
   "toc_window_display": false
  }
 },
 "nbformat": 4,
 "nbformat_minor": 2
}
