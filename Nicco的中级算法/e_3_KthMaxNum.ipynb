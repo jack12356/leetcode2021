{
 "cells": [
  {
   "cell_type": "markdown",
   "metadata": {},
   "source": [
    "# 数组中的第K个最大元素\n",
    "在未排序的数组中找到第 k 个最大的元素。请注意，你需要找的是数组排序后的第 k 个最大的元素，而不是第 k 个不同的元素。\n",
    "\n",
    "示例 1:\n",
    "\n",
    "    输入: [3,2,1,5,6,4] 和 k = 2\n",
    "    输出: 5\n",
    "示例 2:\n",
    "\n",
    "    输入: [3,2,3,1,2,4,5,5,6] 和 k = 4\n",
    "    输出: 4\n",
    "说明:\n",
    "\n",
    "你可以假设 k 总是有效的，且 1 ≤ k ≤ 数组的长度。"
   ]
  },
  {
   "cell_type": "markdown",
   "metadata": {},
   "source": [
    "## 方法一：冒泡排序\n",
    "速度较慢；"
   ]
  },
  {
   "cell_type": "code",
   "execution_count": 3,
   "metadata": {
    "ExecuteTime": {
     "end_time": "2018-12-27T07:52+0000",
     "start_time": "2018-12-27T07:52:03.127Z"
    }
   },
   "outputs": [],
   "source": [
    "public int findKthLargest(int[] nums, int k) {\n",
    "    for (int i = 0; i < k; i++) {\n",
    "        for (int j = i+1; j < nums.length; j++) {\n",
    "            if (nums[i]<nums[j]){\n",
    "                int t = nums[i];\n",
    "                nums[i]=nums[j];\n",
    "                nums[j]=t;\n",
    "            }\n",
    "        }\n",
    "    }\n",
    "    return nums[k-1];\n",
    "}"
   ]
  },
  {
   "cell_type": "markdown",
   "metadata": {},
   "source": [
    "## 方法二：快排"
   ]
  },
  {
   "cell_type": "code",
   "execution_count": 1,
   "metadata": {
    "ExecuteTime": {
     "end_time": "2018-12-27T07:51+0000",
     "start_time": "2018-12-27T07:51:58.160Z"
    }
   },
   "outputs": [],
   "source": [
    "public int findKthLargest_quick(int[] nums, int k) {\n",
    "    return sort(nums,0,nums.length-1,nums.length-k);\n",
    "}\n",
    "\n",
    "public int sort(int[] nums, int low, int high, int k){\n",
    "    int left = low;\n",
    "    int right = high;\n",
    "    int key = nums[low];\n",
    "\n",
    "    while (left<right){\n",
    "        while ((left<right&&nums[right]>=key)) right--;\n",
    "        if (right>left) {\n",
    "            int temp = nums[left];\n",
    "            nums[left]=nums[right];\n",
    "            nums[right]=temp;\n",
    "        }\n",
    "        while (left<right&&nums[left]<=key) left++;\n",
    "        if(left<right){\n",
    "            int temp = nums[left];\n",
    "            nums[left]=nums[right];\n",
    "            nums[right]=temp;\n",
    "        }\n",
    "    }\n",
    "    if (left==k) return key;\n",
    "    if(left>k) return sort(nums,low,left-1, k);\n",
    "    return sort(nums,right+1,high, k);\n",
    "}"
   ]
  },
  {
   "cell_type": "code",
   "execution_count": 2,
   "metadata": {
    "ExecuteTime": {
     "end_time": "2018-12-27T07:51+0000",
     "start_time": "2018-12-27T07:51:58.785Z"
    }
   },
   "outputs": [
    {
     "data": {
      "text/plain": [
       "1"
      ]
     },
     "execution_count": 2,
     "metadata": {},
     "output_type": "execute_result"
    }
   ],
   "source": [
    "int []nums = new int[]{1};\n",
    "findKthLargest_quick(nums, 1);"
   ]
  },
  {
   "cell_type": "markdown",
   "metadata": {},
   "source": [
    "## 方法三：堆排序"
   ]
  },
  {
   "cell_type": "code",
   "execution_count": 4,
   "metadata": {
    "ExecuteTime": {
     "end_time": "2018-12-27T12:53+0000",
     "start_time": "2018-12-27T12:53:35.795Z"
    }
   },
   "outputs": [],
   "source": [
    "public int findKthLargest_Heap(int[]nums,int k){\n",
    "    int len = nums.length;\n",
    "    for (int i = len/2; i>=0; i--) {\n",
    "        adjustHeap(nums,i,len);\n",
    "    }\n",
    "    for (int i = len-1; i >= len-k ; i--) {\n",
    "        int temp = nums[i];\n",
    "        nums[i] = nums[0];\n",
    "        nums[0] = temp;\n",
    "        adjustHeap(nums,0,i);\n",
    "    }\n",
    "    return nums[len-k];\n",
    "}\n",
    "\n",
    "private void adjustHeap(int[] nums, int parent, int len) {\n",
    "    int child = 2*parent+1;\n",
    "    int temp = nums[parent];\n",
    "    while(child<len){\n",
    "        if(child+1<len&&nums[child+1]>nums[child]) child+=1;\n",
    "        if(nums[parent]>=nums[child]) break;\n",
    "        else {\n",
    "            nums[parent] = nums[child];\n",
    "            nums[child] = temp;\n",
    "        }\n",
    "        parent = child;\n",
    "        child = 2*child+1;\n",
    "    }\n",
    "}"
   ]
  }
 ],
 "metadata": {
  "kernelspec": {
   "display_name": "Java",
   "language": "java",
   "name": "java"
  },
  "language_info": {
   "codemirror_mode": "java",
   "file_extension": ".java",
   "mimetype": "text/x-java-source",
   "name": "Java",
   "pygments_lexer": "java",
   "version": "11.0.1+13-LTS"
  },
  "toc": {
   "base_numbering": 1,
   "nav_menu": {},
   "number_sections": true,
   "sideBar": true,
   "skip_h1_title": false,
   "title_cell": "Table of Contents",
   "title_sidebar": "Contents",
   "toc_cell": false,
   "toc_position": {},
   "toc_section_display": true,
   "toc_window_display": false
  }
 },
 "nbformat": 4,
 "nbformat_minor": 2
}
