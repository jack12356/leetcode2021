{
 "cells": [
  {
   "cell_type": "markdown",
   "metadata": {},
   "source": [
    "# 二叉搜索树中第K小的元素\n",
    "给定一个二叉搜索树，编写一个函数 kthSmallest 来查找其中第 k 个最小的元素。\n",
    "\n",
    "说明：\n",
    "你可以假设 k 总是有效的，1 ≤ k ≤ 二叉搜索树元素个数。\n",
    "\n",
    "示例 1:\n",
    "\n",
    "输入: root = [3,1,4,null,2], k = 1\n",
    "\n",
    "       3\n",
    "      / \\\n",
    "     1   4\n",
    "      \\\n",
    "       2\n",
    "       \n",
    "输出: 1\n",
    "示例 2:\n",
    "\n",
    "输入: root = [5,3,6,2,4,null,null,1], k = 3\n",
    "\n",
    "           5\n",
    "          / \\\n",
    "         3   6\n",
    "        / \\\n",
    "       2   4\n",
    "      /\n",
    "     1\n",
    "     \n",
    "输出: 3"
   ]
  },
  {
   "cell_type": "code",
   "execution_count": null,
   "metadata": {},
   "outputs": [],
   "source": [
    "public int kthSmallest(TreeNode root, int k) {\n",
    "    ArrayList <Integer> list = new ArrayList<>();\n",
    "    if(root==null)\n",
    "        return -1;\n",
    "    add(list,root);\n",
    "    for(int i =0;i<list.size();i++){\n",
    "        if(list.get(i)!=null) k--;\n",
    "        if(k==0) return list.get(i);\n",
    "    }\n",
    "    return -1;\n",
    "\n",
    "}\n",
    "\n",
    "private void add(ArrayList<Integer> list, TreeNode root) {\n",
    "    if(root==null)\n",
    "        return;\n",
    "    add(list,root.left);\n",
    "    list.add(root.val);\n",
    "    add(list,root.right);\n",
    "}"
   ]
  }
 ],
 "metadata": {
  "kernelspec": {
   "display_name": "Java",
   "language": "java",
   "name": "java"
  },
  "language_info": {
   "codemirror_mode": "java",
   "file_extension": ".java",
   "mimetype": "text/x-java-source",
   "name": "Java",
   "pygments_lexer": "java",
   "version": "11.0.1+13-LTS"
  },
  "toc": {
   "base_numbering": 1,
   "nav_menu": {},
   "number_sections": true,
   "sideBar": true,
   "skip_h1_title": false,
   "title_cell": "Table of Contents",
   "title_sidebar": "Contents",
   "toc_cell": false,
   "toc_position": {},
   "toc_section_display": true,
   "toc_window_display": false
  }
 },
 "nbformat": 4,
 "nbformat_minor": 2
}
