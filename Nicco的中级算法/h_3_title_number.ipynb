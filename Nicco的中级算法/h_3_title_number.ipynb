{
 "cells": [
  {
   "cell_type": "markdown",
   "metadata": {},
   "source": [
    "# Excel表列序号\n",
    "给定一个Excel表格中的列名称，返回其相应的列序号。\n",
    "\n",
    "例如，\n",
    "\n",
    "    A -> 1\n",
    "    B -> 2\n",
    "    C -> 3\n",
    "    ...\n",
    "    Z -> 26\n",
    "    AA -> 27\n",
    "    AB -> 28 \n",
    "    ...\n",
    "示例 1:\n",
    "\n",
    "    输入: \"A\"\n",
    "    输出: 1\n",
    "示例 2:\n",
    "\n",
    "    输入: \"AB\"\n",
    "    输出: 28\n",
    "示例 3:\n",
    "\n",
    "    输入: \"ZY\"\n",
    "    输出: 701"
   ]
  },
  {
   "cell_type": "code",
   "execution_count": 1,
   "metadata": {
    "ExecuteTime": {
     "end_time": "2019-01-04T07:49+0000",
     "start_time": "2019-01-04T07:49:29.908Z"
    }
   },
   "outputs": [],
   "source": [
    "public int titleToNumber(String s) {\n",
    "    int res = 0;\n",
    "    for (int i = 0; i < s.length() ; i++) {\n",
    "        res = res*26+(s.charAt(i)-'A'+1);\n",
    "    }\n",
    "    return res;\n",
    "}"
   ]
  }
 ],
 "metadata": {
  "kernelspec": {
   "display_name": "Java",
   "language": "java",
   "name": "java"
  },
  "language_info": {
   "codemirror_mode": "java",
   "file_extension": ".java",
   "mimetype": "text/x-java-source",
   "name": "Java",
   "pygments_lexer": "java",
   "version": "11.0.1+13-LTS"
  },
  "toc": {
   "base_numbering": 1,
   "nav_menu": {},
   "number_sections": true,
   "sideBar": true,
   "skip_h1_title": false,
   "title_cell": "Table of Contents",
   "title_sidebar": "Contents",
   "toc_cell": false,
   "toc_position": {},
   "toc_section_display": true,
   "toc_window_display": false
  }
 },
 "nbformat": 4,
 "nbformat_minor": 2
}
