{
 "cells": [
  {
   "cell_type": "markdown",
   "metadata": {},
   "source": [
    "# 字谜分组\n",
    "给定一个字符串数组，将字母异位词组合在一起。字母异位词指字母相同，但排列不同的字符串。\n",
    "\n",
    "示例:\n",
    "\n",
    "输入: [\"eat\", \"tea\", \"tan\", \"ate\", \"nat\", \"bat\"],\n",
    "输出:\n",
    "```\n",
    "[\n",
    "  [\"ate\",\"eat\",\"tea\"],\n",
    "  [\"nat\",\"tan\"],\n",
    "  [\"bat\"]\n",
    "]\n",
    "```\n",
    "说明：\n",
    "\n",
    "所有输入均为小写字母。\n",
    "不考虑答案输出的顺序。"
   ]
  },
  {
   "cell_type": "code",
   "execution_count": 1,
   "metadata": {
    "ExecuteTime": {
     "end_time": "2018-12-23T05:23+0000",
     "start_time": "2018-12-23T05:23:27.247Z"
    }
   },
   "outputs": [],
   "source": [
    "public List<List<String>> groupAnagrams(String[] strs) {\n",
    "    int len = strs.length;\n",
    "    List<List<String>> res = new ArrayList<>();\n",
    "    int[] used = new int[len];\n",
    "    for (int i = 0; i < len; i++) {\n",
    "        if (used[i]!=0) continue;\n",
    "        List<String> curstrs = new ArrayList<>();\n",
    "        curstrs.add(strs[i]);\n",
    "        used[i]=1;\n",
    "        int []nums1 = new int [26];\n",
    "        for (char c : strs[i].toCharArray()) nums1[c-'a']+=1;\n",
    "        for (int j = i+1; j < len; j++) {\n",
    "            boolean isequal = true;\n",
    "            int []nums2 = nums1.clone();\n",
    "            for (char c : strs[j].toCharArray()) nums2[c-'a']-=1;\n",
    "            for (int t:nums2) if (t!=0) {\n",
    "                isequal=false;\n",
    "                break;\n",
    "            }\n",
    "            if(isequal){\n",
    "                used[j]=1;\n",
    "                curstrs.add(strs[j]);\n",
    "            }\n",
    "        }\n",
    "        res.add(curstrs);\n",
    "    }\n",
    "    return res;\n",
    "}"
   ]
  },
  {
   "cell_type": "code",
   "execution_count": 2,
   "metadata": {
    "ExecuteTime": {
     "end_time": "2018-12-23T05:23+0000",
     "start_time": "2018-12-23T05:23:27.835Z"
    }
   },
   "outputs": [
    {
     "name": "stdout",
     "output_type": "stream",
     "text": [
      "[[eat, tea, ate], [tan, nat], [bat]]\n"
     ]
    }
   ],
   "source": [
    "List<List<String>> ret = groupAnagrams(new String[]{\"eat\", \"tea\", \"tan\", \"ate\", \"nat\", \"bat\"});\n",
    "System.out.println(ret);"
   ]
  },
  {
   "cell_type": "markdown",
   "metadata": {},
   "source": [
    "## 方法二\n",
    "思路：\n",
    "1. 对字符串进行排序\n",
    "2. 将字符串用字典存储\n",
    "3. 字典value存储strs的下标索引"
   ]
  },
  {
   "cell_type": "code",
   "execution_count": null,
   "metadata": {},
   "outputs": [],
   "source": [
    "public List<List<String>> groupAnagrams(String[] strs) {\n",
    "    if (strs.length == 0) return new ArrayList();\n",
    "    Map<String, List> map=new HashMap<String,List>();\n",
    "    for(String str:strs){\n",
    "        char[] c=str.toCharArray();\n",
    "        Arrays.sort(c);\n",
    "        String key = String.valueOf(c);\n",
    "        if(!map.containsKey(key)){\n",
    "            map.put(key,new ArrayList());\n",
    "        }\n",
    "        map.get(key).add(str);\n",
    "    }\n",
    "     return new ArrayList(map.values());\n",
    "}"
   ]
  },
  {
   "cell_type": "markdown",
   "metadata": {},
   "source": []
  },
  {
   "cell_type": "markdown",
   "metadata": {},
   "source": [
    "思路：\n",
    "自己写了冒泡排序；"
   ]
  },
  {
   "cell_type": "code",
   "execution_count": null,
   "metadata": {},
   "outputs": [],
   "source": [
    "public List<List<String>> groupAnagrams_2(String[] strs) {\n",
    "        int len = strs.length;\n",
    "        HashMap<String,List<String>> map = new HashMap<>();\n",
    "        for (String str : strs) {\n",
    "            String sort_str = sort(str);\n",
    "            if (map.containsKey(sort_str)) {\n",
    "                map.get(sort_str).add(str);\n",
    "            } else map.put(sort_str, new ArrayList<>(Arrays.asList(str)));\n",
    "        }\n",
    "        return new ArrayList<>(map.values());\n",
    "    }\n",
    "\n",
    "public String sort(String s){\n",
    "    char []chars= s.toCharArray();\n",
    "    for (int i = 0; i < chars.length; i++) {\n",
    "        for (int j = i+1; j < chars.length;j++) {\n",
    "            if (chars[i]>chars[j]){\n",
    "                char temp = chars[i];\n",
    "                chars[i] = chars[j];\n",
    "                chars[j] = temp;\n",
    "            }\n",
    "        }\n",
    "    }\n",
    "    return String.valueOf(chars);\n",
    "}"
   ]
  }
 ],
 "metadata": {
  "kernelspec": {
   "display_name": "Java",
   "language": "java",
   "name": "java"
  },
  "language_info": {
   "codemirror_mode": "java",
   "file_extension": ".java",
   "mimetype": "text/x-java-source",
   "name": "Java",
   "pygments_lexer": "java",
   "version": "11.0.1+13-LTS"
  },
  "toc": {
   "base_numbering": 1,
   "nav_menu": {},
   "number_sections": true,
   "sideBar": true,
   "skip_h1_title": false,
   "title_cell": "Table of Contents",
   "title_sidebar": "Contents",
   "toc_cell": false,
   "toc_position": {},
   "toc_section_display": true,
   "toc_window_display": false
  }
 },
 "nbformat": 4,
 "nbformat_minor": 2
}