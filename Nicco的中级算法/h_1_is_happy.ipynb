{
 "cells": [
  {
   "cell_type": "markdown",
   "metadata": {},
   "source": [
    "# 快乐数\n",
    "编写一个算法来判断一个数是不是“快乐数”。\n",
    "\n",
    "一个“快乐数”定义为：对于一个正整数，每一次将该数替换为它每个位置上的数字的平方和，然后重复这个过程直到这个数变为 1，也可能是无限循环但始终变不到 1。如果可以变为 1，那么这个数就是快乐数。\n",
    "\n",
    "示例: \n",
    "\n",
    "    输入: 19\n",
    "    输出: true\n",
    "    解释: \n",
    "    1^2 + 9^2 = 82\n",
    "    8^2 + 2^2 = 68\n",
    "    6^2 + 8^2 = 100\n",
    "    1^2 + 0^2 + 0^2 = 1"
   ]
  },
  {
   "cell_type": "code",
   "execution_count": 10,
   "metadata": {
    "ExecuteTime": {
     "end_time": "2019-01-04T07:14+0000",
     "start_time": "2019-01-04T07:14:20.443Z"
    }
   },
   "outputs": [],
   "source": [
    "public boolean isHappy(int n) {\n",
    "    while (n!=1){\n",
    "        int t = 0;\n",
    "        while (n!=0){\n",
    "            t += Math.pow((n % 10),2);\n",
    "            n = n / 10;\n",
    "        }\n",
    "        System.out.print(t+\"-->\");\n",
    "        if (t==4) return false;\n",
    "        n = t;\n",
    "    }\n",
    "    return true;\n",
    "}"
   ]
  },
  {
   "cell_type": "code",
   "execution_count": 13,
   "metadata": {
    "ExecuteTime": {
     "end_time": "2019-01-04T07:14+0000",
     "start_time": "2019-01-04T07:14:37.179Z"
    }
   },
   "outputs": [
    {
     "name": "stdout",
     "output_type": "stream",
     "text": [
      "10-->1-->"
     ]
    },
    {
     "data": {
      "text/plain": [
       "true"
      ]
     },
     "execution_count": 13,
     "metadata": {},
     "output_type": "execute_result"
    }
   ],
   "source": [
    "isHappy(31)"
   ]
  }
 ],
 "metadata": {
  "kernelspec": {
   "display_name": "Java",
   "language": "java",
   "name": "java"
  },
  "language_info": {
   "codemirror_mode": "java",
   "file_extension": ".java",
   "mimetype": "text/x-java-source",
   "name": "Java",
   "pygments_lexer": "java",
   "version": "11.0.1+13-LTS"
  },
  "toc": {
   "base_numbering": 1,
   "nav_menu": {},
   "number_sections": true,
   "sideBar": true,
   "skip_h1_title": false,
   "title_cell": "Table of Contents",
   "title_sidebar": "Contents",
   "toc_cell": false,
   "toc_position": {},
   "toc_section_display": true,
   "toc_window_display": false
  }
 },
 "nbformat": 4,
 "nbformat_minor": 2
}