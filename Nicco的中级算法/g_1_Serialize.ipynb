{
 "cells": [
  {
   "cell_type": "markdown",
   "metadata": {},
   "source": [
    "# 二叉树的序列化与反序列化\n",
    "\n",
    "\n",
    "题目描述\n",
    "评论 (2)\n",
    "官方题解\n",
    "提交记录\n",
    "序列化是将一个数据结构或者对象转换为连续的比特位的操作，进而可以将转换后的数据存储在一个文件或者内存中，同时也可以通过网络传输到另一个计算机环境，采取相反方式重构得到原数据。\n",
    "\n",
    "请设计一个算法来实现二叉树的序列化与反序列化。这里不限定你的序列 / 反序列化算法执行逻辑，你只需要保证一个二叉树可以被序列化为一个字符串并且将这个字符串反序列化为原始的树结构。\n",
    "\n",
    "示例: \n",
    "\n",
    "你可以将以下二叉树：\n",
    "\n",
    "        1\n",
    "       / \\\n",
    "      2   3\n",
    "         / \\\n",
    "        4   5\n",
    "\n",
    "序列化为 \"[1,2,3,null,null,4,5]\"\n",
    "提示: 这与 LeetCode 目前使用的方式一致，详情请参阅 LeetCode 序列化二叉树的格式。你并非必须采取这种方式，你也可以采用其他的方法解决这个问题。\n",
    "\n",
    "说明: 不要使用类的成员 / 全局 / 静态变量来存储状态，你的序列化和反序列化算法应该是无状态的。"
   ]
  },
  {
   "cell_type": "markdown",
   "metadata": {},
   "source": [
    "注意使用地址传递变量，避免了全局变量；"
   ]
  },
  {
   "cell_type": "code",
   "execution_count": null,
   "metadata": {},
   "outputs": [],
   "source": [
    "public List<Integer> serialize(TreeNode root) {\n",
    "    List<Integer> res = new ArrayList<>();\n",
    "    dfs(res, root);\n",
    "    return res;\n",
    "}\n",
    "\n",
    "private void dfs(List<Integer> res, TreeNode root) {\n",
    "    if (root == null) {\n",
    "        res.add(null);\n",
    "    } else {\n",
    "        res.add(root.val);\n",
    "        dfs(res, root.left);\n",
    "        dfs(res, root.right);\n",
    "    }\n",
    "}\n",
    "\n",
    "// Decodes your encoded data to tree.\n",
    "public TreeNode deserialize(List<Integer> data) {\n",
    "    int index[] = {0};\n",
    "    TreeNode root = build(index, data);\n",
    "    return root;\n",
    "}\n",
    "\n",
    "private TreeNode build(int[] index, List<Integer> data) {\n",
    "    Integer val = data.get(index[0]);\n",
    "    index[0] = index[0] + 1;\n",
    "    if (val == null) {\n",
    "        return null;\n",
    "    } else {\n",
    "        TreeNode node = new TreeNode(val);\n",
    "        node.left = build(index, data);\n",
    "        node.right = build(index, data);\n",
    "        return node;\n",
    "    }\n",
    "}"
   ]
  }
 ],
 "metadata": {
  "kernelspec": {
   "display_name": "Java",
   "language": "java",
   "name": "java"
  },
  "language_info": {
   "codemirror_mode": "java",
   "file_extension": ".java",
   "mimetype": "text/x-java-source",
   "name": "Java",
   "pygments_lexer": "java",
   "version": "11.0.1+13-LTS"
  },
  "toc": {
   "base_numbering": 1,
   "nav_menu": {},
   "number_sections": true,
   "sideBar": true,
   "skip_h1_title": false,
   "title_cell": "Table of Contents",
   "title_sidebar": "Contents",
   "toc_cell": false,
   "toc_position": {},
   "toc_section_display": true,
   "toc_window_display": false
  }
 },
 "nbformat": 4,
 "nbformat_minor": 2
}
