{
 "cells": [
  {
   "cell_type": "markdown",
   "metadata": {},
   "source": [
    "# 电话号码的字母组合\n",
    "给定一个仅包含数字 2-9 的字符串，返回所有它能表示的字母组合。\n",
    "\n",
    "给出数字到字母的映射如下（与电话按键相同）。注意 1 不对应任何字母。\n",
    "\n",
    "![](http://upload.wikimedia.org/wikipedia/commons/thumb/7/73/Telephone-keypad2.svg/200px-Telephone-keypad2.svg.png)\n",
    "\n",
    "示例:\n",
    "\n",
    "    输入：\"23\"\n",
    "    输出：[\"ad\", \"ae\", \"af\", \"bd\", \"be\", \"bf\", \"cd\", \"ce\", \"cf\"].\n",
    "说明:\n",
    "尽管上面的答案是按字典序排列的，但是你可以任意选择答案输出的顺序。"
   ]
  },
  {
   "cell_type": "code",
   "execution_count": 1,
   "metadata": {
    "ExecuteTime": {
     "end_time": "2018-12-26T08:03+0000",
     "start_time": "2018-12-26T08:03:05.375Z"
    }
   },
   "outputs": [
    {
     "name": "stdout",
     "output_type": "stream",
     "text": [
      "[jt, ju, jv, kt, ku, kv, lt, lu, lv]\n"
     ]
    },
    {
     "data": {
      "text/plain": [
       "[jt, ju, jv, kt, ku, kv, lt, lu, lv]"
      ]
     },
     "execution_count": 1,
     "metadata": {},
     "output_type": "execute_result"
    }
   ],
   "source": [
    "private HashMap<Character,char[]> dic = new HashMap<Character, char[]>(){};\n",
    "public List<String> letterCombinations(String digits) {\n",
    "    dic.put('2',new char[]{'a','b','c'});\n",
    "    dic.put('3',new char[]{'d','e','f'});\n",
    "    dic.put('4',new char[]{'g','h','i'});\n",
    "    dic.put('5',new char[]{'j','k','l'});\n",
    "    dic.put('6',new char[]{'m','n','o'});\n",
    "    dic.put('7',new char[]{'p','q','r','s'});\n",
    "    dic.put('8',new char[]{'t','u','v'});\n",
    "    dic.put('9',new char[]{'w','x','y','z'});\n",
    "    List<String> pre_cur = new ArrayList<>();\n",
    "    if (digits.length()==0) return pre_cur;\n",
    "    pre_cur.add(\"\");\n",
    "    for (char digit:digits.toCharArray()) {\n",
    "        List<String> cur = new ArrayList<>();\n",
    "        for (String ts:pre_cur) {\n",
    "            for (char c: dic.get(digit)) {\n",
    "                cur.add(ts+ c);\n",
    "            }\n",
    "        }\n",
    "        pre_cur = cur;\n",
    "    }\n",
    "    System.out.println(pre_cur.toString());\n",
    "    return pre_cur;\n",
    "}\n",
    "\n",
    "letterCombinations(\"58\");"
   ]
  },
  {
   "cell_type": "markdown",
   "metadata": {},
   "source": [
    "## 方法二\n",
    "正宗回溯算法，使用深度优先bfs"
   ]
  },
  {
   "cell_type": "code",
   "execution_count": null,
   "metadata": {},
   "outputs": [],
   "source": [
    "private char[][] numChar = new char[][]{\n",
    "                                          {'a','b','c'},  \n",
    "                                          {'d','e','f'},    \n",
    "                                          {'g','h','i'},    \n",
    "                                          {'j','k','l'},    \n",
    "                                          {'m','n','o'},    \n",
    "                                          {'p','q','r','s'},\n",
    "                                          {'t','u','v'},    \n",
    "                                          {'w','x','y','z'}\n",
    "                                      };\n",
    "public List<String> letterCombinations(String digits) {\n",
    "    List<String> list=new ArrayList<String>();\n",
    "    if(digits.length()==0)return list;\n",
    "\n",
    "    dfs(0,\"\",list,digits);\n",
    "\n",
    "    return list;\n",
    "}\n",
    "\n",
    "public void dfs(int n,String s,List<String> list,String digits){\n",
    "    if(n==digits.length()){\n",
    "        list.add(s);\n",
    "        return;\n",
    "    }\n",
    "    int t=Integer.parseInt(digits.charAt(n)+\"\");\n",
    "    for(int j=0;j<numChar[t-2].length;j++){\n",
    "        dfs(n+1,s+numChar[t-2][j],list,digits);\n",
    "    }\n",
    "}"
   ]
  }
 ],
 "metadata": {
  "kernelspec": {
   "display_name": "Java",
   "language": "java",
   "name": "java"
  },
  "language_info": {
   "codemirror_mode": "java",
   "file_extension": ".java",
   "mimetype": "text/x-java-source",
   "name": "Java",
   "pygments_lexer": "java",
   "version": "11.0.1+13-LTS"
  },
  "toc": {
   "base_numbering": 1,
   "nav_menu": {},
   "number_sections": true,
   "sideBar": true,
   "skip_h1_title": false,
   "title_cell": "Table of Contents",
   "title_sidebar": "Contents",
   "toc_cell": false,
   "toc_position": {},
   "toc_section_display": true,
   "toc_window_display": false
  }
 },
 "nbformat": 4,
 "nbformat_minor": 2
}
