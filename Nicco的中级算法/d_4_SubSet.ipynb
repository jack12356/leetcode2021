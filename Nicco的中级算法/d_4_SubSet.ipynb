{
 "cells": [
  {
   "cell_type": "markdown",
   "metadata": {},
   "source": [
    "# 子集\n",
    "给定一组不含重复元素的整数数组 nums，返回该数组所有可能的子集（幂集）。\n",
    "\n",
    "说明：解集不能包含重复的子集。\n",
    "\n",
    "示例:\n",
    "\n",
    "输入: nums = [1,2,3]\n",
    "输出:\n",
    "\n",
    "    [\n",
    "      [3],\n",
    "      [1],\n",
    "      [2],\n",
    "      [1,2,3],\n",
    "      [1,3],\n",
    "      [2,3],\n",
    "      [1,2],\n",
    "      []\n",
    "    ]"
   ]
  },
  {
   "cell_type": "markdown",
   "metadata": {},
   "source": [
    "## 思路\n",
    "回溯法；\n",
    "1. 终止条件：找到最后一个数的时候；这里是`last==nums.length;`可以合并到for循环中取；\n",
    "2. 选择：for循环，每次选择当前last后面的一个数，然后递归；\n",
    "3. 未完成解，curList保存每一步未完成解，也就是将nums[i]添加进去，这里由于是组合，所以每个curList都要添加进去；"
   ]
  },
  {
   "cell_type": "code",
   "execution_count": 1,
   "metadata": {
    "ExecuteTime": {
     "end_time": "2018-12-26T11:44+0000",
     "start_time": "2018-12-26T11:44:55.884Z"
    }
   },
   "outputs": [],
   "source": [
    "private  List<List<Integer>>res = new ArrayList<>();\n",
    "public List<List<Integer>> subsets(int[] nums) {\n",
    "    int last=0;\n",
    "    List<Integer> curList = new ArrayList<>();\n",
    "    res.add(new ArrayList<>(curList));\n",
    "\n",
    "    subk(nums,curList,last);\n",
    "\n",
    "    return res;\n",
    "}\n",
    "\n",
    "private void subk(int[] nums, List<Integer> curList,int last) {\n",
    "    for (int i = last; i < nums.length; i++) {\n",
    "        curList.add(nums[i]);\n",
    "        res.add(new ArrayList<>(curList));\n",
    "        subk(nums, curList,i+1);\n",
    "        curList.remove(curList.size()-1);\n",
    "    }\n",
    "}"
   ]
  },
  {
   "cell_type": "code",
   "execution_count": 3,
   "metadata": {
    "ExecuteTime": {
     "end_time": "2018-12-26T11:45+0000",
     "start_time": "2018-12-26T11:45:13.331Z"
    }
   },
   "outputs": [
    {
     "data": {
      "text/plain": [
       "[[], [1], [1, 2], [1, 2, 3], [1, 3], [2], [2, 3], [3]]"
      ]
     },
     "execution_count": 3,
     "metadata": {},
     "output_type": "execute_result"
    }
   ],
   "source": [
    "int[]nums = new int[]{1,2,3};\n",
    "subsets(nums);"
   ]
  }
 ],
 "metadata": {
  "kernelspec": {
   "display_name": "Java",
   "language": "java",
   "name": "java"
  },
  "language_info": {
   "codemirror_mode": "java",
   "file_extension": ".java",
   "mimetype": "text/x-java-source",
   "name": "Java",
   "pygments_lexer": "java",
   "version": "11.0.1+13-LTS"
  },
  "toc": {
   "base_numbering": 1,
   "nav_menu": {},
   "number_sections": true,
   "sideBar": true,
   "skip_h1_title": false,
   "title_cell": "Table of Contents",
   "title_sidebar": "Contents",
   "toc_cell": false,
   "toc_position": {},
   "toc_section_display": true,
   "toc_window_display": false
  }
 },
 "nbformat": 4,
 "nbformat_minor": 2
}
