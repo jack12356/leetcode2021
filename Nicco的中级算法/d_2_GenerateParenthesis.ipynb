{
 "cells": [
  {
   "cell_type": "markdown",
   "metadata": {},
   "source": [
    "# 生成括号\n",
    "给出 n 代表生成括号的对数，请你写出一个函数，使其能够生成所有可能的并且有效的括号组合。\n",
    "\n",
    "例如，给出 n = 3，生成结果为：\n",
    "\n",
    "    [\n",
    "      \"((()))\",\n",
    "      \"(()())\",\n",
    "      \"(())()\",\n",
    "      \"()(())\",\n",
    "      \"()()()\"\n",
    "    ]"
   ]
  },
  {
   "cell_type": "markdown",
   "metadata": {},
   "source": [
    "## 思路\n",
    "回溯法最重要的三点：\n",
    "1. 结束条件：这里为左右都为0；\n",
    "2. 选择：这里为左边大于0，或者右边大于左边的情况下，递归；\n",
    "3. 未完成的解，这里为`s`;"
   ]
  },
  {
   "cell_type": "code",
   "execution_count": 1,
   "metadata": {
    "ExecuteTime": {
     "end_time": "2018-12-26T08:43+0000",
     "start_time": "2018-12-26T08:42:59.038Z"
    }
   },
   "outputs": [],
   "source": [
    "List<String> res = new ArrayList<>();\n",
    "public List<String> generateParenthesis(int n) {\n",
    "    parenthesis(\"\", n, n);\n",
    "    return res;\n",
    "}\n",
    "\n",
    "private void parenthesis(String s, int left, int right) {\n",
    "    if (left==0&&right==0){\n",
    "        res.add(s);\n",
    "        return;\n",
    "    }\n",
    "    if (left>0) parenthesis(s+'(',left-1,right);\n",
    "    if (right>left) parenthesis(s+')',left,right-1);\n",
    "}"
   ]
  },
  {
   "cell_type": "code",
   "execution_count": 2,
   "metadata": {
    "ExecuteTime": {
     "end_time": "2018-12-26T08:43+0000",
     "start_time": "2018-12-26T08:43:00.061Z"
    }
   },
   "outputs": [
    {
     "data": {
      "text/plain": [
       "[((())), (()()), (())(), ()(()), ()()()]"
      ]
     },
     "execution_count": 2,
     "metadata": {},
     "output_type": "execute_result"
    }
   ],
   "source": [
    "generateParenthesis(3);"
   ]
  }
 ],
 "metadata": {
  "kernelspec": {
   "display_name": "Java",
   "language": "java",
   "name": "java"
  },
  "language_info": {
   "codemirror_mode": "java",
   "file_extension": ".java",
   "mimetype": "text/x-java-source",
   "name": "Java",
   "pygments_lexer": "java",
   "version": "11.0.1+13-LTS"
  },
  "toc": {
   "base_numbering": 1,
   "nav_menu": {},
   "number_sections": true,
   "sideBar": true,
   "skip_h1_title": false,
   "title_cell": "Table of Contents",
   "title_sidebar": "Contents",
   "toc_cell": false,
   "toc_position": {},
   "toc_section_display": true,
   "toc_window_display": false
  }
 },
 "nbformat": 4,
 "nbformat_minor": 2
}
