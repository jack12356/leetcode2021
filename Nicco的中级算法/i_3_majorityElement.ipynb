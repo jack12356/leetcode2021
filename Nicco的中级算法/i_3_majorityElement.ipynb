{
 "cells": [
  {
   "cell_type": "markdown",
   "metadata": {},
   "source": [
    "# 求众数\n",
    "给定一个大小为 n 的数组，找到其中的众数。众数是指在数组中出现次数大于 ⌊ n/2 ⌋ 的元素。\n",
    "\n",
    "你可以假设数组是非空的，并且给定的数组总是存在众数。\n",
    "\n",
    "示例 1:\n",
    "\n",
    "    输入: [3,2,3]\n",
    "    输出: 3\n",
    "示例 2:\n",
    "\n",
    "    输入: [2,2,1,1,1,2,2]\n",
    "    输出: 2"
   ]
  },
  {
   "cell_type": "markdown",
   "metadata": {},
   "source": [
    "## 思路一\n",
    "用map字典存储所有数出现次数，较慢；"
   ]
  },
  {
   "cell_type": "code",
   "execution_count": 1,
   "metadata": {
    "ExecuteTime": {
     "end_time": "2019-01-07T03:50+0000",
     "start_time": "2019-01-07T03:50:33.980Z"
    }
   },
   "outputs": [],
   "source": [
    "public int majorityElement(int[] nums) {\n",
    "    HashMap<Integer,Integer> map = new HashMap<>();\n",
    "    for (int n:nums) {\n",
    "        if (map.containsKey(n)) {\n",
    "            map.put(n,map.get(n)+1);\n",
    "        }else map.put(n,1);\n",
    "        if(map.get(n)>nums.length/2) return n;\n",
    "    }\n",
    "    return -1;\n",
    "}"
   ]
  },
  {
   "cell_type": "markdown",
   "metadata": {},
   "source": [
    "## 思路二\n",
    "排序后返回`return(nums[nums.length / 2]);`"
   ]
  },
  {
   "cell_type": "code",
   "execution_count": null,
   "metadata": {},
   "outputs": [],
   "source": [
    "Arrays.sort(nums);\n",
    "return(nums[nums.length / 2]);"
   ]
  },
  {
   "cell_type": "markdown",
   "metadata": {},
   "source": [
    "## 思路三\n",
    "当作投票，一票抵一票；"
   ]
  },
  {
   "cell_type": "code",
   "execution_count": null,
   "metadata": {},
   "outputs": [],
   "source": [
    "int count = 0;\n",
    "int num = nums[0];\n",
    "int i = 0;\n",
    "while(i < nums.length) {\n",
    "    if(num == nums[i]) {\n",
    "        count++;\n",
    "    } else {\n",
    "        if(count == 0) {\n",
    "            num = nums[i];\n",
    "            count++;\n",
    "        } else {\n",
    "            count--;\n",
    "        }\n",
    "    }\n",
    "    i++;\n",
    "}\n",
    "return num;"
   ]
  }
 ],
 "metadata": {
  "kernelspec": {
   "display_name": "Java",
   "language": "java",
   "name": "java"
  },
  "language_info": {
   "codemirror_mode": "java",
   "file_extension": ".java",
   "mimetype": "text/x-java-source",
   "name": "Java",
   "pygments_lexer": "java",
   "version": "11.0.1+13-LTS"
  },
  "toc": {
   "base_numbering": 1,
   "nav_menu": {},
   "number_sections": true,
   "sideBar": true,
   "skip_h1_title": false,
   "title_cell": "Table of Contents",
   "title_sidebar": "Contents",
   "toc_cell": false,
   "toc_position": {},
   "toc_section_display": true,
   "toc_window_display": false
  }
 },
 "nbformat": 4,
 "nbformat_minor": 2
}
