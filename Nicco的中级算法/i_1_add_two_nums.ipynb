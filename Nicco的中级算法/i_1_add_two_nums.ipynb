{
 "cells": [
  {
   "cell_type": "markdown",
   "metadata": {},
   "source": [
    "# 两整数之和\n",
    "不使用运算符 + 和 - ​​​​​​​，计算两整数 ​​​​​​​a 、b ​​​​​​​之和。\n",
    "\n",
    "示例 1:\n",
    "\n",
    "    输入: a = 1, b = 2\n",
    "    输出: 3\n",
    "示例 2:\n",
    "\n",
    "    输入: a = -2, b = 3\n",
    "    输出: 1"
   ]
  },
  {
   "cell_type": "code",
   "execution_count": 13,
   "metadata": {
    "ExecuteTime": {
     "end_time": "2019-01-07T02:52+0000",
     "start_time": "2019-01-07T02:52:52.179Z"
    }
   },
   "outputs": [],
   "source": [
    "public int getSum(int a, int b) {\n",
    "    if(b==0) return a;\n",
    "    int e_sum = a^b;\n",
    "    int carry = (a&b)<<1;\n",
    "    return getSum(e_sum,carry);\n",
    "}"
   ]
  }
 ],
 "metadata": {
  "kernelspec": {
   "display_name": "Java",
   "language": "java",
   "name": "java"
  },
  "language_info": {
   "codemirror_mode": "java",
   "file_extension": ".java",
   "mimetype": "text/x-java-source",
   "name": "Java",
   "pygments_lexer": "java",
   "version": "11.0.1+13-LTS"
  },
  "toc": {
   "base_numbering": 1,
   "nav_menu": {},
   "number_sections": true,
   "sideBar": true,
   "skip_h1_title": false,
   "title_cell": "Table of Contents",
   "title_sidebar": "Contents",
   "toc_cell": false,
   "toc_position": {},
   "toc_section_display": true,
   "toc_window_display": false
  }
 },
 "nbformat": 4,
 "nbformat_minor": 2
}
