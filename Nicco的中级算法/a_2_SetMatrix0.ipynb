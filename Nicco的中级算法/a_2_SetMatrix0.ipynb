{
 "cells": [
  {
   "cell_type": "markdown",
   "metadata": {},
   "source": [
    "# 方法一\n",
    "用两个列表存储行和列的0的情况；\n",
    "循环后重新赋值；"
   ]
  },
  {
   "cell_type": "code",
   "execution_count": 15,
   "metadata": {
    "ExecuteTime": {
     "end_time": "2018-12-22T06:57:35.369925Z",
     "start_time": "2018-12-22T06:57:35.365936Z"
    }
   },
   "outputs": [],
   "source": [
    "matrix = [\n",
    "    [0,1,2,0],\n",
    "    [3,4,5,2],\n",
    "    [1,3,1,5]\n",
    "]\n",
    "\n",
    "col_list=[]\n",
    "for col in matrix:\n",
    "    flag = 1\n",
    "    for num in col:\n",
    "        if(num==0):\n",
    "            flag = 0\n",
    "            break\n",
    "    col_list.append(flag)\n",
    "raw_list=[]\n",
    "for i in range(len(matrix[0])):\n",
    "    flag=1\n",
    "    for col in matrix:\n",
    "        if(col[i]==0):\n",
    "            flag=0\n",
    "            break\n",
    "    raw_list.append(flag)\n",
    "for i in range(len(col_list)):\n",
    "    if(col_list[i]==0):\n",
    "        matrix[i]=[0]*len(matrix[i])\n",
    "for i in range(len(raw_list)):\n",
    "    if(raw_list[i]==0):\n",
    "        for col in matrix:\n",
    "            col[i]=0"
   ]
  },
  {
   "cell_type": "code",
   "execution_count": 18,
   "metadata": {
    "ExecuteTime": {
     "end_time": "2018-12-22T06:57:45.217022Z",
     "start_time": "2018-12-22T06:57:45.213063Z"
    }
   },
   "outputs": [
    {
     "data": {
      "text/plain": [
       "[[0, 0, 0, 0], [0, 4, 5, 0], [0, 3, 1, 0]]"
      ]
     },
     "execution_count": 18,
     "metadata": {},
     "output_type": "execute_result"
    }
   ],
   "source": [
    "matrix"
   ]
  },
  {
   "cell_type": "markdown",
   "metadata": {},
   "source": [
    "## 思路二"
   ]
  },
  {
   "cell_type": "code",
   "execution_count": null,
   "metadata": {},
   "outputs": [],
   "source": [
    "//用第一行的元素表示每一列是否存在0，第一列的元素表示每一行是否存在0\n",
    "//同时要处理第一行第一列本身存在0的情况\n",
    "public void setZeroes(int[][] matrix) {\n",
    "    if(matrix.length == 0){\n",
    "        return;\n",
    "    }\n",
    "    boolean firstRowIsZero = false,firstColIsZero = false;\n",
    "    for(int i =0;i<matrix.length;i++){\n",
    "        for(int j=0;j<matrix[0].length;j++){\n",
    "            if(i!=0 && j!=0 && matrix[i][j]==0){\n",
    "                matrix[i][0]=0;\n",
    "                matrix[0][j]=0;\n",
    "            }else if(matrix[i][j]==0){\n",
    "                firstRowIsZero = i==0? true:firstRowIsZero;\n",
    "                firstColIsZero = j==0? true:firstColIsZero;\n",
    "            }\n",
    "        }\n",
    "    }\n",
    "    for(int i=1;i<matrix.length;i++){\n",
    "        for(int j=1;j<matrix[0].length;j++){\n",
    "            if(matrix[0][j]==0 || matrix[i][0] == 0){\n",
    "                matrix[i][j]=0;\n",
    "            }\n",
    "        }\n",
    "    }\n",
    "    //第一列含0\n",
    "    if(firstColIsZero){\n",
    "        for(int i=0;i<matrix.length;i++){\n",
    "            matrix[i][0] = 0;\n",
    "        }\n",
    "    }\n",
    "    //第一行含0\n",
    "    if(firstRowIsZero){\n",
    "        for(int j=0;j<matrix[0].length;j++){\n",
    "            matrix[0][j] = 0;\n",
    "        }\n",
    "    }\n",
    "}\n"
   ]
  }
 ],
 "metadata": {
  "kernelspec": {
   "display_name": "Python 3",
   "language": "python",
   "name": "python3"
  },
  "language_info": {
   "codemirror_mode": {
    "name": "ipython",
    "version": 3
   },
   "file_extension": ".py",
   "mimetype": "text/x-python",
   "name": "python",
   "nbconvert_exporter": "python",
   "pygments_lexer": "ipython3",
   "version": "3.6.5"
  },
  "toc": {
   "base_numbering": 1,
   "nav_menu": {},
   "number_sections": true,
   "sideBar": true,
   "skip_h1_title": false,
   "title_cell": "Table of Contents",
   "title_sidebar": "Contents",
   "toc_cell": false,
   "toc_position": {},
   "toc_section_display": true,
   "toc_window_display": false
  }
 },
 "nbformat": 4,
 "nbformat_minor": 2
}
