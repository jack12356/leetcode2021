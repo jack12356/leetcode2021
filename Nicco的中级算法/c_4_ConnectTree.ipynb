{
 "cells": [
  {
   "cell_type": "markdown",
   "metadata": {},
   "source": [
    "# 每个节点的右向指针\n",
    "给定一个二叉树\n",
    "\n",
    "struct TreeLinkNode {\n",
    "  TreeLinkNode *left;\n",
    "  TreeLinkNode *right;\n",
    "  TreeLinkNode *next;\n",
    "}\n",
    "填充它的每个 next 指针，让这个指针指向其下一个右侧节点。如果找不到下一个右侧节点，则将 next 指针设置为 NULL。\n",
    "\n",
    "初始状态下，所有 next 指针都被设置为 NULL。\n",
    "\n",
    "说明:\n",
    "\n",
    "你只能使用额外常数空间。\n",
    "使用递归解题也符合要求，本题中递归程序占用的栈空间不算做额外的空间复杂度。\n",
    "你可以假设它是一个完美二叉树（即所有叶子节点都在同一层，每个父节点都有两个子节点）。\n",
    "示例:\n",
    "\n",
    "给定完美二叉树，\n",
    "\n",
    "         1\n",
    "       /  \\\n",
    "      2    3\n",
    "     / \\  / \\\n",
    "    4  5  6  7\n",
    "调用你的函数后，该完美二叉树变为：\n",
    "\n",
    "         1 -> NULL\n",
    "       /  \\\n",
    "      2 -> 3 -> NULL\n",
    "     / \\  / \\\n",
    "    4->5->6->7 -> NULL# "
   ]
  },
  {
   "cell_type": "markdown",
   "metadata": {},
   "source": [
    "思路：使用层次遍历，递归比较简单，迭代麻烦一点点；"
   ]
  },
  {
   "cell_type": "code",
   "execution_count": null,
   "metadata": {},
   "outputs": [],
   "source": [
    "public void connect(TreeLinkNode root) {\n",
    "    if(root==null) return;\n",
    "    Queue<TreeLinkNode> queue = new LinkedList<TreeLinkNode>();\n",
    "    queue.add(root);\n",
    "    int num=1;\n",
    "    int next=0;\n",
    "    TreeLinkNode lastRight = root;\n",
    "    boolean is_first=true;\n",
    "    while (!queue.isEmpty()){\n",
    "        TreeLinkNode cur = queue.poll();\n",
    "        num--;\n",
    "        TreeLinkNode left = cur.left;\n",
    "        TreeLinkNode right = cur.right;\n",
    "        next+=2;\n",
    "        if (left==null||right==null) continue;\n",
    "        queue.add(left);\n",
    "        queue.add(right);\n",
    "        if (!is_first)lastRight.next=left;\n",
    "        left.next=right;\n",
    "        lastRight = right;\n",
    "        if (num==0){\n",
    "            num=next;\n",
    "            next=0;\n",
    "            is_first=true;\n",
    "        } else is_first=false;\n",
    "    }\n",
    "}"
   ]
  }
 ],
 "metadata": {
  "kernelspec": {
   "display_name": "Java",
   "language": "java",
   "name": "java"
  },
  "language_info": {
   "codemirror_mode": "java",
   "file_extension": ".java",
   "mimetype": "text/x-java-source",
   "name": "Java",
   "pygments_lexer": "java",
   "version": "11.0.1+13-LTS"
  },
  "toc": {
   "base_numbering": 1,
   "nav_menu": {},
   "number_sections": true,
   "sideBar": true,
   "skip_h1_title": false,
   "title_cell": "Table of Contents",
   "title_sidebar": "Contents",
   "toc_cell": false,
   "toc_position": {},
   "toc_section_display": true,
   "toc_window_display": false
  }
 },
 "nbformat": 4,
 "nbformat_minor": 2
}
