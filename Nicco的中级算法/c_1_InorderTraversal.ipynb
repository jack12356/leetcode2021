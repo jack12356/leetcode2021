{
 "cells": [
  {
   "cell_type": "markdown",
   "metadata": {},
   "source": [
    "# 中序遍历二叉树\n",
    "给定一个二叉树，返回它的中序 遍历。\n",
    "\n",
    "示例:\n",
    "\n",
    "    输入: [1,null,2,3]\n",
    "       1\n",
    "        \\\n",
    "         2\n",
    "        /\n",
    "       3\n",
    "\n",
    "输出: [1,3,2]"
   ]
  },
  {
   "cell_type": "markdown",
   "metadata": {},
   "source": [
    "## 递归"
   ]
  },
  {
   "cell_type": "code",
   "execution_count": null,
   "metadata": {},
   "outputs": [],
   "source": [
    "public List<Integer> inorderTraversal(TreeNode root) {\n",
    "        List<Integer> list = new ArrayList<>();\n",
    "        if(root==null) return list;\n",
    "        list.addAll(inorderTraversal(root.left));\n",
    "        list.add(root.val);\n",
    "        list.addAll(inorderTraversal(root.right));\n",
    "        return list;\n",
    "    }"
   ]
  },
  {
   "cell_type": "code",
   "execution_count": null,
   "metadata": {},
   "outputs": [],
   "source": [
    "public List<Integer> inorderTraversal_2(TreeNode root) {\n",
    "    List<Integer> list = new ArrayList<>();\n",
    "    if(root==null) return list;\n",
    "    Stack<TreeNode> stack = new Stack<TreeNode>();\n",
    "    TreeNode p = root;\n",
    "    while (p!=null||!stack.isEmpty()){\n",
    "        if(p!=null){\n",
    "            stack.push(p);\n",
    "            p = p.left;\n",
    "        }else {\n",
    "            p = stack.pop();\n",
    "            list.add(p.val);\n",
    "            p=p.right;\n",
    "        }\n",
    "    }\n",
    "    return list;\n",
    "}"
   ]
  }
 ],
 "metadata": {
  "kernelspec": {
   "display_name": "Java",
   "language": "java",
   "name": "java"
  },
  "language_info": {
   "codemirror_mode": "java",
   "file_extension": ".java",
   "mimetype": "text/x-java-source",
   "name": "Java",
   "pygments_lexer": "java",
   "version": "11.0.1+13-LTS"
  },
  "toc": {
   "base_numbering": 1,
   "nav_menu": {},
   "number_sections": true,
   "sideBar": true,
   "skip_h1_title": false,
   "title_cell": "Table of Contents",
   "title_sidebar": "Contents",
   "toc_cell": false,
   "toc_position": {},
   "toc_section_display": true,
   "toc_window_display": false
  }
 },
 "nbformat": 4,
 "nbformat_minor": 2
}
