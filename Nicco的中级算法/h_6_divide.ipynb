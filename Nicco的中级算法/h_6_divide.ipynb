{
 "cells": [
  {
   "cell_type": "markdown",
   "metadata": {},
   "source": [
    "# 两数相除\n",
    "给定两个整数，被除数 dividend 和除数 divisor。将两数相除，要求不使用乘法、除法和 mod 运算符。\n",
    "\n",
    "返回被除数 dividend 除以除数 divisor 得到的商。\n",
    "\n",
    "示例 1:\n",
    "\n",
    "    输入: dividend = 10, divisor = 3\n",
    "    输出: 3\n",
    "示例 2:\n",
    "\n",
    "    输入: dividend = 7, divisor = -3\n",
    "    输出: -2\n",
    "说明:\n",
    "\n",
    "被除数和除数均为 32 位有符号整数。\n",
    "除数不为 0。\n",
    "假设我们的环境只能存储 32 位有符号整数，其数值范围是 [−231,  231 − 1]。本题中，如果除法结果溢出，则返回 231 − 1。"
   ]
  },
  {
   "cell_type": "code",
   "execution_count": null,
   "metadata": {},
   "outputs": [],
   "source": [
    "public int divide(int dividend, int divisor) {\n",
    "    if(divisor == 0 || (dividend == Integer.MIN_VALUE && divisor == -1)){//考虑特殊情况\n",
    "        return Integer.MAX_VALUE;\n",
    "    }\n",
    "    int sign = ((dividend < 0) ^ (divisor < 0)) ? -1 : 1;//异或运算\n",
    "    long ms = (long)dividend;\n",
    "    long ns = (long)divisor;\n",
    "    ms = Math.abs(ms);\n",
    "    ns = Math.abs(ns);\n",
    "    int num = 0;\n",
    "    while(ms >= ns){\n",
    "        long m = ns;\n",
    "        long n = 1;\n",
    "        while(ms >= (m << 1)){\n",
    "            m <<= 1;\n",
    "            n <<= 1;\n",
    "        }\n",
    "        num += n;\n",
    "        ms -= m;\n",
    "    }\n",
    "    return num * sign;\n",
    "}"
   ]
  }
 ],
 "metadata": {
  "kernelspec": {
   "display_name": "Java",
   "language": "java",
   "name": "java"
  },
  "language_info": {
   "codemirror_mode": "java",
   "file_extension": ".java",
   "mimetype": "text/x-java-source",
   "name": "Java",
   "pygments_lexer": "java",
   "version": "11.0.1+13-LTS"
  },
  "toc": {
   "base_numbering": 1,
   "nav_menu": {},
   "number_sections": true,
   "sideBar": true,
   "skip_h1_title": false,
   "title_cell": "Table of Contents",
   "title_sidebar": "Contents",
   "toc_cell": false,
   "toc_position": {},
   "toc_section_display": true,
   "toc_window_display": false
  }
 },
 "nbformat": 4,
 "nbformat_minor": 2
}
