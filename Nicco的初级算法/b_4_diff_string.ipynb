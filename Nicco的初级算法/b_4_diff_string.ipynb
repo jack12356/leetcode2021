{
 "cells": [
  {
   "cell_type": "markdown",
   "metadata": {},
   "source": [
    "## java 方法"
   ]
  },
  {
   "cell_type": "code",
   "execution_count": 3,
   "metadata": {
    "ExecuteTime": {
     "end_time": "2018-12-14T05:49:44.969323Z",
     "start_time": "2018-12-14T05:49:44.959352Z"
    }
   },
   "outputs": [
    {
     "data": {
      "text/plain": [
       "1"
      ]
     },
     "execution_count": 3,
     "metadata": {},
     "output_type": "execute_result"
    }
   ],
   "source": [
    "class Solution {\n",
    "    public boolean isAnagram(String s, String t) {\n",
    "        if(s.length()==t.length()){\n",
    "            int[] m = new int[26];\n",
    "            for(int i=0;i<s.length();i++){\n",
    "                m[s.charAt(i)-'a']++;\n",
    "                m[t.charAt(i)-'a']--;\n",
    "            }\n",
    "            for(int n:m){\n",
    "                if (n!=0){\n",
    "                    return false;\n",
    "                }\n",
    "            }\n",
    "            return true;\n",
    "            \n",
    "        }\n",
    "        return false;\n",
    "    }\n",
    "}"
   ]
  }
 ],
 "metadata": {
  "kernelspec": {
   "display_name": "Python 3",
   "language": "python",
   "name": "python3"
  },
  "language_info": {
   "codemirror_mode": {
    "name": "ipython",
    "version": 3
   },
   "file_extension": ".py",
   "mimetype": "text/x-python",
   "name": "python",
   "nbconvert_exporter": "python",
   "pygments_lexer": "ipython3",
   "version": "3.6.5"
  },
  "toc": {
   "base_numbering": 1,
   "nav_menu": {},
   "number_sections": true,
   "sideBar": true,
   "skip_h1_title": false,
   "title_cell": "Table of Contents",
   "title_sidebar": "Contents",
   "toc_cell": false,
   "toc_position": {},
   "toc_section_display": true,
   "toc_window_display": false
  }
 },
 "nbformat": 4,
 "nbformat_minor": 2
}
