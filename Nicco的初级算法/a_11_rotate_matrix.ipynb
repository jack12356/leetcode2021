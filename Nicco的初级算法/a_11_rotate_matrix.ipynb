{
 "cells": [
  {
   "cell_type": "code",
   "execution_count": 10,
   "metadata": {
    "ExecuteTime": {
     "end_time": "2018-12-13T12:21:19.237781Z",
     "start_time": "2018-12-13T12:21:19.232749Z"
    }
   },
   "outputs": [
    {
     "data": {
      "text/plain": [
       "[[1, 2, 3], [4, 5, 6], [7, 8, 9]]"
      ]
     },
     "execution_count": 10,
     "metadata": {},
     "output_type": "execute_result"
    }
   ],
   "source": [
    "matrix = [[1,2,3],[4,5,6],[7,8,9]]\n",
    "matrix"
   ]
  },
  {
   "cell_type": "markdown",
   "metadata": {},
   "source": [
    "一点想法：\n",
    "```python\n",
    "arr1=[3,5,6]\n",
    "arr2=arr1\n",
    "```\n",
    "此时对`arr2`进行重新赋值：\n",
    "```python\n",
    "arr2=[]\n",
    "print(arr1)\n",
    "# [3,5,6]\n",
    "```\n",
    "\n",
    "arr1不会改变；[3,5,6]\n",
    "\n",
    "但是，此时通过**arr2索引做修改**，比如:\n",
    "```python\n",
    "arr2[0]=-1\n",
    "print(arr1)\n",
    "# [-1,5,6]\n",
    "```\n",
    "此时arr1变为[**-1**,5,6]"
   ]
  },
  {
   "cell_type": "markdown",
   "metadata": {},
   "source": [
    "## 非原地算法"
   ]
  },
  {
   "cell_type": "code",
   "execution_count": 47,
   "metadata": {
    "ExecuteTime": {
     "end_time": "2018-12-13T11:05:35.472280Z",
     "start_time": "2018-12-13T11:05:35.467278Z"
    }
   },
   "outputs": [
    {
     "data": {
      "text/plain": [
       "[[7, 4, 1], [8, 5, 2], [9, 6, 3]]"
      ]
     },
     "execution_count": 47,
     "metadata": {},
     "output_type": "execute_result"
    }
   ],
   "source": [
    "class Solution:\n",
    "    def rotate(self, matrix):\n",
    "        \"\"\"\n",
    "        :type matrix: List[List[int]]\n",
    "        :rtype: void Do not return anything, modify matrix in-place instead.\n",
    "        \"\"\"\n",
    "        a=[]\n",
    "        for i in range(len(matrix)):\n",
    "            t=[]\n",
    "            for j in range(len(matrix)-1,-1,-1):\n",
    "                t.append(matrix[j][i])\n",
    "            a.append(t)\n",
    "        for i in range(len(matrix)):\n",
    "            matrix[i]=a[i]"
   ]
  },
  {
   "cell_type": "markdown",
   "metadata": {},
   "source": [
    "## 原地算法(先对角翻转，再左右翻转，)"
   ]
  },
  {
   "cell_type": "code",
   "execution_count": 9,
   "metadata": {
    "ExecuteTime": {
     "end_time": "2018-12-13T12:18:38.412057Z",
     "start_time": "2018-12-13T12:18:38.404050Z"
    }
   },
   "outputs": [
    {
     "data": {
      "text/plain": [
       "[[7, 4, 1], [8, 5, 2], [9, 6, 3]]"
      ]
     },
     "execution_count": 9,
     "metadata": {},
     "output_type": "execute_result"
    }
   ],
   "source": [
    "def rotate(matrix):\n",
    "    \"\"\"\n",
    "    :type matrix: List[List[int]]\n",
    "    :rtype: void Do not return anything, modify matrix in-place instead.\n",
    "    \"\"\"\n",
    "    leng = len(matrix)\n",
    "    #对角翻转\n",
    "    for i in range(leng):\n",
    "        for j in range(i+1,leng,1):\n",
    "            temp = matrix[i][j]\n",
    "            matrix[i][j]=matrix[j][i]\n",
    "            matrix[j][i]=temp\n",
    "    #左右反转\n",
    "    mid = leng//2\n",
    "    for i in range(leng):\n",
    "        for j in range(mid):\n",
    "            temp = matrix[i][j]\n",
    "            matrix[i][j]=matrix[i][leng-1-j]\n",
    "            matrix[i][leng-1-j]=temp\n",
    "rotate(matrix)\n",
    "matrix"
   ]
  },
  {
   "cell_type": "markdown",
   "metadata": {},
   "source": [
    "## 一种python数组切片方法"
   ]
  },
  {
   "cell_type": "code",
   "execution_count": 11,
   "metadata": {
    "ExecuteTime": {
     "end_time": "2018-12-13T12:21:20.523817Z",
     "start_time": "2018-12-13T12:21:20.516807Z"
    }
   },
   "outputs": [
    {
     "name": "stdout",
     "output_type": "stream",
     "text": [
      "(7, 4, 1)\n",
      "(8, 5, 2)\n",
      "(9, 6, 3)\n"
     ]
    }
   ],
   "source": [
    "matrix = [[1,2,3],[4,5,6],[7,8,9]]\n",
    "for i in zip(*matrix[::-1]):\n",
    "    print(i)\n",
    "# (7, 4, 1)\n",
    "# (8, 5, 2)\n",
    "# (9, 6, 3)\n",
    "for i in map(list,((7, 4, 1),(8, 5, 2),(9, 6, 3))):\n",
    "    print(i)\n",
    "# [7, 4, 1]\n",
    "# [8, 5, 2]\n",
    "# [9, 6, 3]"
   ]
  }
 ],
 "metadata": {
  "kernelspec": {
   "display_name": "Python 3",
   "language": "python",
   "name": "python3"
  },
  "language_info": {
   "codemirror_mode": {
    "name": "ipython",
    "version": 3
   },
   "file_extension": ".py",
   "mimetype": "text/x-python",
   "name": "python",
   "nbconvert_exporter": "python",
   "pygments_lexer": "ipython3",
   "version": "3.6.5"
  },
  "toc": {
   "base_numbering": 1,
   "nav_menu": {},
   "number_sections": true,
   "sideBar": true,
   "skip_h1_title": false,
   "title_cell": "Table of Contents",
   "title_sidebar": "Contents",
   "toc_cell": false,
   "toc_position": {},
   "toc_section_display": true,
   "toc_window_display": false
  }
 },
 "nbformat": 4,
 "nbformat_minor": 2
}
