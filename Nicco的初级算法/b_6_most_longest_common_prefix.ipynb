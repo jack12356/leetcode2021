{
 "cells": [
  {
   "cell_type": "markdown",
   "metadata": {},
   "source": [
    "# 最长公共前缀\n",
    "编写一个函数来查找字符串数组中的最长公共前缀。\n",
    "\n",
    "如果不存在公共前缀，返回空字符串 \"\"。\n",
    "\n",
    "示例 1:\n",
    "\n",
    ">输入: [\"flower\",\"flow\",\"flight\"]\n",
    "\n",
    ">输出: \"fl\"\n",
    "\n",
    "示例 2:\n",
    "\n",
    ">输入: [\"dog\",\"racecar\",\"car\"]\n",
    "\n",
    ">输出: \"\"\n",
    "\n",
    "解释: 输入不存在公共前缀。\n",
    "说明:\n",
    "\n",
    "所有输入只包含小写字母 a-z 。"
   ]
  },
  {
   "cell_type": "markdown",
   "metadata": {},
   "source": [
    "## Python 暴力"
   ]
  },
  {
   "cell_type": "code",
   "execution_count": 2,
   "metadata": {},
   "outputs": [
    {
     "data": {
      "text/plain": [
       "''"
      ]
     },
     "execution_count": 2,
     "metadata": {},
     "output_type": "execute_result"
    }
   ],
   "source": [
    "\"1234\"[:0]"
   ]
  },
  {
   "cell_type": "code",
   "execution_count": null,
   "metadata": {},
   "outputs": [],
   "source": []
  },
  {
   "cell_type": "code",
   "execution_count": 18,
   "metadata": {},
   "outputs": [],
   "source": [
    "from typing import List\n",
    "class Solution:\n",
    "    def longestCommonPrefix(self, strs: List[str]) -> str:\n",
    "        rlt:str = \"\"\n",
    "        if not strs or not strs[0]:\n",
    "            return rlt\n",
    "        s1:str = strs[0]\n",
    "        idx:int = 0\n",
    "        while idx<len(s1):\n",
    "            for s in strs:\n",
    "                if idx>=len(s):\n",
    "                    return rlt\n",
    "                char: str = s1[idx]\n",
    "                if not s[idx] == char:\n",
    "                    return rlt\n",
    "            rlt = s1[:idx+1]\n",
    "            idx+=1\n",
    "        return rlt"
   ]
  },
  {
   "cell_type": "code",
   "execution_count": 19,
   "metadata": {},
   "outputs": [
    {
     "data": {
      "text/plain": [
       "'12'"
      ]
     },
     "execution_count": 19,
     "metadata": {},
     "output_type": "execute_result"
    }
   ],
   "source": [
    "a = [\"123\",\"12\",\"1245\"]\n",
    "Solution().longestCommonPrefix(a)"
   ]
  },
  {
   "cell_type": "markdown",
   "metadata": {},
   "source": [
    "**java 方法，直接暴力遍历**"
   ]
  },
  {
   "cell_type": "code",
   "execution_count": null,
   "metadata": {
    "collapsed": true
   },
   "outputs": [],
   "source": [
    "public class CommonStr {\n",
    "    public String longestCommonPrefix(String[] strs) {\n",
    "        int n = strs.length;\n",
    "        String common = \"\";\n",
    "        if (n==0)\n",
    "            return common;\n",
    "        for (int j = 0; j < strs[0].length(); j++) {\n",
    "            int i =1;\n",
    "            char c0 = strs[0].charAt(j);\n",
    "            for (; i < n; i++) {   //i表示字符串数\n",
    "                if(j==strs[i].length()||strs[i].charAt(j)!=c0){\n",
    "                    return common;\n",
    "                }\n",
    "            }\n",
    "            common+=c0;\n",
    "        }\n",
    "        return common;\n",
    "    }\n",
    "\n",
    "    public static void main(String[] args) {\n",
    "        String []strs = {\"flower\",\"flow\",\"flight\"};\n",
    "        CommonStr solution = new CommonStr();\n",
    "        System.out.println(solution.longestCommonPrefix(strs));\n",
    "    }\n",
    "}"
   ]
  }
 ],
 "metadata": {
  "hide_input": false,
  "kernelspec": {
   "display_name": "PyCharm (intelligentOrder)",
   "language": "python",
   "name": "pycharm-925dd3db"
  },
  "language_info": {
   "codemirror_mode": {
    "name": "ipython",
    "version": 3
   },
   "file_extension": ".py",
   "mimetype": "text/x-python",
   "name": "python",
   "nbconvert_exporter": "python",
   "pygments_lexer": "ipython3",
   "version": "3.7.6"
  },
  "toc": {
   "base_numbering": 1,
   "nav_menu": {},
   "number_sections": true,
   "sideBar": true,
   "skip_h1_title": false,
   "title_cell": "Table of Contents",
   "title_sidebar": "Contents",
   "toc_cell": false,
   "toc_position": {},
   "toc_section_display": true,
   "toc_window_display": false
  },
  "varInspector": {
   "cols": {
    "lenName": 16,
    "lenType": 16,
    "lenVar": 40
   },
   "kernels_config": {
    "python": {
     "delete_cmd_postfix": "",
     "delete_cmd_prefix": "del ",
     "library": "var_list.py",
     "varRefreshCmd": "print(var_dic_list())"
    },
    "r": {
     "delete_cmd_postfix": ") ",
     "delete_cmd_prefix": "rm(",
     "library": "var_list.r",
     "varRefreshCmd": "cat(var_dic_list()) "
    }
   },
   "types_to_exclude": [
    "module",
    "function",
    "builtin_function_or_method",
    "instance",
    "_Feature"
   ],
   "window_display": false
  }
 },
 "nbformat": 4,
 "nbformat_minor": 2
}