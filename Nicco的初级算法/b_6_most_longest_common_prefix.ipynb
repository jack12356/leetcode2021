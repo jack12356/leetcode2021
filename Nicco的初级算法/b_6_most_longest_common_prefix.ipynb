{
 "cells": [
  {
   "cell_type": "markdown",
   "metadata": {},
   "source": [
    "# 最长公共前缀\n",
    "编写一个函数来查找字符串数组中的最长公共前缀。\n",
    "\n",
    "如果不存在公共前缀，返回空字符串 \"\"。\n",
    "\n",
    "示例 1:\n",
    "\n",
    ">输入: [\"flower\",\"flow\",\"flight\"]\n",
    "\n",
    ">输出: \"fl\"\n",
    "\n",
    "示例 2:\n",
    "\n",
    ">输入: [\"dog\",\"racecar\",\"car\"]\n",
    "\n",
    ">输出: \"\"\n",
    "\n",
    "解释: 输入不存在公共前缀。\n",
    "说明:\n",
    "\n",
    "所有输入只包含小写字母 a-z 。"
   ]
  },
  {
   "cell_type": "markdown",
   "metadata": {},
   "source": [
    "**java 方法，直接暴力遍历**"
   ]
  },
  {
   "cell_type": "code",
   "execution_count": null,
   "metadata": {
    "collapsed": true
   },
   "outputs": [],
   "source": [
    "public class CommonStr {\n",
    "    public String longestCommonPrefix(String[] strs) {\n",
    "        int n = strs.length;\n",
    "        String common = \"\";\n",
    "        if (n==0)\n",
    "            return common;\n",
    "        for (int j = 0; j < strs[0].length(); j++) {\n",
    "            int i =1;\n",
    "            char c0 = strs[0].charAt(j);\n",
    "            for (; i < n; i++) {   //i表示字符串数\n",
    "                if(j==strs[i].length()||strs[i].charAt(j)!=c0){\n",
    "                    return common;\n",
    "                }\n",
    "            }\n",
    "            common+=c0;\n",
    "        }\n",
    "        return common;\n",
    "    }\n",
    "\n",
    "    public static void main(String[] args) {\n",
    "        String []strs = {\"flower\",\"flow\",\"flight\"};\n",
    "        CommonStr solution = new CommonStr();\n",
    "        System.out.println(solution.longestCommonPrefix(strs));\n",
    "    }\n",
    "}"
   ]
  }
 ],
 "metadata": {
  "hide_input": false,
  "kernelspec": {
   "display_name": "Java",
   "language": "java",
   "name": "java"
  },
  "language_info": {
   "codemirror_mode": "java",
   "file_extension": ".java",
   "mimetype": "text/x-java-source",
   "name": "Java",
   "pygments_lexer": "java",
   "version": "11.0.1+13-LTS"
  },
  "toc": {
   "base_numbering": 1,
   "nav_menu": {},
   "number_sections": true,
   "sideBar": true,
   "skip_h1_title": false,
   "title_cell": "Table of Contents",
   "title_sidebar": "Contents",
   "toc_cell": false,
   "toc_position": {},
   "toc_section_display": true,
   "toc_window_display": false
  },
  "varInspector": {
   "cols": {
    "lenName": 16,
    "lenType": 16,
    "lenVar": 40
   },
   "kernels_config": {
    "python": {
     "delete_cmd_postfix": "",
     "delete_cmd_prefix": "del ",
     "library": "var_list.py",
     "varRefreshCmd": "print(var_dic_list())"
    },
    "r": {
     "delete_cmd_postfix": ") ",
     "delete_cmd_prefix": "rm(",
     "library": "var_list.r",
     "varRefreshCmd": "cat(var_dic_list()) "
    }
   },
   "types_to_exclude": [
    "module",
    "function",
    "builtin_function_or_method",
    "instance",
    "_Feature"
   ],
   "window_display": false
  }
 },
 "nbformat": 4,
 "nbformat_minor": 2
}
