{
 "cells": [
  {
   "cell_type": "markdown",
   "metadata": {},
   "source": [
    "给定一个由整数组成的非空数组所表示的非负整数，在该数的基础上加一。\n",
    "\n",
    "最高位数字存放在数组的首位， 数组中每个元素只存储一个数字。\n",
    "\n",
    "你可以假设除了整数 0 之外，这个整数不会以零开头。\n",
    "\n",
    "示例 1:\n",
    "\n",
    "输入: [1,2,3]\n",
    "输出: [1,2,4]\n",
    "解释: 输入数组表示数字 123。\n",
    "示例 2:\n",
    "\n",
    "输入: [4,3,2,1]\n",
    "输出: [4,3,2,2]\n",
    "解释: 输入数组表示数字 4321。"
   ]
  },
  {
   "cell_type": "code",
   "execution_count": null,
   "metadata": {},
   "outputs": [],
   "source": [
    "class Solution(object):\n",
    "    def plusOne(self, digits):\n",
    "        \"\"\"\n",
    "        :type digits: List[int]\n",
    "        :rtype: List[int]\n",
    "        \"\"\"\n",
    "        if len(digits)==1 and digits[0]==0:\n",
    "            return [digits[0]+1]\n",
    "        digits.insert(0,0)\n",
    "        i=len(digits)-1\n",
    "        while(digits[i]==9):\n",
    "            digits[i]=0\n",
    "            i-=1\n",
    "        digits[i]+=1\n",
    "        if digits[0]==0:\n",
    "            return digits[1:]\n",
    "        return digits"
   ]
  },
  {
   "cell_type": "code",
   "execution_count": null,
   "metadata": {},
   "outputs": [],
   "source": [
    "# JAVA代码\n",
    "class Solution {\n",
    "    public int[] plusOne(int[] digits) {\n",
    "        int[] t = new int[digits.length+1];\n",
    "        t[0]=0;\n",
    "        for(int j=0;j<digits.length;j++){\n",
    "            t[j+1]=digits[j];\n",
    "        }\n",
    "        int i=t.length-1;\n",
    "        while(t[i]==9){\n",
    "            t[i]=0;\n",
    "            i-=1;\n",
    "        }\n",
    "        t[i]+=1;\n",
    "        if (t[0]==0){\n",
    "            return Arrays.copyOfRange(t, 1,t.length);\n",
    "        }\n",
    "        return t;\n",
    "    }\n",
    "}"
   ]
  }
 ],
 "metadata": {
  "kernelspec": {
   "display_name": "Python 3",
   "language": "python",
   "name": "python3"
  },
  "language_info": {
   "codemirror_mode": {
    "name": "ipython",
    "version": 3
   },
   "file_extension": ".py",
   "mimetype": "text/x-python",
   "name": "python",
   "nbconvert_exporter": "python",
   "pygments_lexer": "ipython3",
   "version": "3.6.5"
  },
  "toc": {
   "base_numbering": 1,
   "nav_menu": {},
   "number_sections": true,
   "sideBar": true,
   "skip_h1_title": false,
   "title_cell": "Table of Contents",
   "title_sidebar": "Contents",
   "toc_cell": false,
   "toc_position": {},
   "toc_section_display": true,
   "toc_window_display": false
  }
 },
 "nbformat": 4,
 "nbformat_minor": 2
}
