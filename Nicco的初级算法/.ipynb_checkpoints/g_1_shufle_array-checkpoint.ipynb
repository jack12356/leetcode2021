{
 "cells": [
  {
   "cell_type": "markdown",
   "metadata": {},
   "source": [
    "# Shuffle an Array\n",
    "打乱一个没有重复元素的数组。\n",
    "\n",
    "示例:\n",
    "\n",
    "// 以数字集合 1, 2 和 3 初始化数组。\n",
    "int[] nums = {1,2,3};\n",
    "Solution solution = new Solution(nums);\n",
    "\n",
    "// 打乱数组 [1,2,3] 并返回结果。任何 [1,2,3]的排列返回的概率应该相同。\n",
    "solution.shuffle();\n",
    "\n",
    "// 重设数组到它的初始状态[1,2,3]。\n",
    "solution.reset();\n",
    "\n",
    "// 随机返回数组[1,2,3]打乱后的结果。\n",
    "solution.shuffle();"
   ]
  },
  {
   "cell_type": "markdown",
   "metadata": {},
   "source": [
    "**核心思路：\n",
    "将每个元素与随机一个元素（Random得到）交换。**"
   ]
  },
  {
   "cell_type": "code",
   "execution_count": null,
   "metadata": {},
   "outputs": [],
   "source": [
    "import java.util.Arrays;\n",
    "import java.util.Random;\n",
    "\n",
    "class Solution {\n",
    "    \n",
    "    public int []data;\n",
    "    public int []data_random;\n",
    "\n",
    "    public Solution(int[] nums) {\n",
    "        data = nums;\n",
    "        data_random=nums.clone();\n",
    "    }\n",
    "\n",
    "    /** Resets the array to its original configuration and return it. */\n",
    "    public int[] reset() {\n",
    "        return data;\n",
    "    }\n",
    "\n",
    "    /** Returns a random shuffling of the array. */\n",
    "    public int[] shuffle() {\n",
    "        int len = data_random.length;\n",
    "        Random rand = new Random();\n",
    "        for (int i = 0; i < len; i++) {\n",
    "            int r = rand.nextInt(len);\n",
    "            int temp = data_random[i];\n",
    "            data_random[i] = data_random[r];\n",
    "            data_random[r]=temp;\n",
    "        }\n",
    "        return data_random;\n",
    "    }\n",
    "}"
   ]
  },
  {
   "cell_type": "code",
   "execution_count": null,
   "metadata": {},
   "outputs": [],
   "source": [
    "int[] nums = new int[]{1,2,3};\n",
    "Solution obj = new Solution(nums);\n",
    "int[] param_1 = obj.reset();\n",
    "int[] param_2 = obj.shuffle();\n",
    "System.out.println(\"reset is :\"+ Arrays.toString(param_1));\n",
    "System.out.println(\"shuffle is :\" + Arrays.toString(param_2));"
   ]
  }
 ],
 "metadata": {
  "kernelspec": {
   "display_name": "Java",
   "language": "java",
   "name": "java"
  },
  "language_info": {
   "codemirror_mode": "java",
   "file_extension": ".java",
   "mimetype": "text/x-java-source",
   "name": "Java",
   "pygments_lexer": "java",
   "version": "11.0.1+13-LTS"
  },
  "toc": {
   "base_numbering": 1,
   "nav_menu": {},
   "number_sections": true,
   "sideBar": true,
   "skip_h1_title": false,
   "title_cell": "Table of Contents",
   "title_sidebar": "Contents",
   "toc_cell": false,
   "toc_position": {},
   "toc_section_display": true,
   "toc_window_display": false
  }
 },
 "nbformat": 4,
 "nbformat_minor": 2
}
