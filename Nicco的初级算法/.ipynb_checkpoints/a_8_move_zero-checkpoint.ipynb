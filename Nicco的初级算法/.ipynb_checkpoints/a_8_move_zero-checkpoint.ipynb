{
 "cells": [
  {
   "cell_type": "markdown",
   "metadata": {},
   "source": [
    "给定一个数组 nums，编写一个函数将所有 0 移动到数组的末尾，同时保持非零元素的相对顺序。\n",
    "\n",
    "示例:\n",
    "\n",
    "输入: [0,1,0,3,12]\n",
    "输出: [1,3,12,0,0]\n",
    "说明:\n",
    "\n",
    "必须在原数组上操作，不能拷贝额外的数组。\n",
    "尽量减少操作次数。"
   ]
  },
  {
   "cell_type": "code",
   "execution_count": 7,
   "metadata": {},
   "outputs": [],
   "source": [
    "class Solution():\n",
    "    def moveZeroes(self,nums: list) -> list:\n",
    "        if not nums:\n",
    "            return nums\n",
    "        lf = 0\n",
    "        rt = 0\n",
    "        while(rt<len(nums) and lf <len(nums)):\n",
    "            if nums[lf] != 0:\n",
    "                lf += 1\n",
    "                continue\n",
    "            if(nums[rt]==0 or rt <= lf):\n",
    "                rt += 1\n",
    "                continue\n",
    "            t:int = nums[lf]\n",
    "            nums[lf] = nums[rt]\n",
    "            nums[rt] = t\n",
    "            lf += 1\n",
    "            rt += 1\n",
    "        return nums"
   ]
  },
  {
   "cell_type": "code",
   "execution_count": null,
   "metadata": {},
   "outputs": [],
   "source": []
  },
  {
   "cell_type": "code",
   "execution_count": null,
   "metadata": {},
   "outputs": [],
   "source": []
  },
  {
   "cell_type": "code",
   "execution_count": null,
   "metadata": {},
   "outputs": [],
   "source": []
  },
  {
   "cell_type": "code",
   "execution_count": null,
   "metadata": {},
   "outputs": [],
   "source": []
  },
  {
   "cell_type": "code",
   "execution_count": null,
   "metadata": {},
   "outputs": [],
   "source": []
  },
  {
   "cell_type": "code",
   "execution_count": 2,
   "metadata": {},
   "outputs": [],
   "source": [
    "class Solution {\n",
    "    public void moveZeroes(int[] nums) {\n",
    "        int count=0;\n",
    "        int t=0;\n",
    "        int len = nums.length;\n",
    "        for(int num:nums){\n",
    "            if(num!=0){\n",
    "                nums[t]=num;\n",
    "                t++;\n",
    "            }else{\n",
    "                count++;\n",
    "            }\n",
    "        }\n",
    "        for(int i=len-1;i>len-count-1;i--){\n",
    "            nums[i]=0;\n",
    "        }\n",
    "    }\n",
    "}"
   ]
  }
 ],
 "metadata": {
  "kernelspec": {
   "display_name": "Python 3",
   "language": "python",
   "name": "python3"
  },
  "language_info": {
   "codemirror_mode": {
    "name": "ipython",
    "version": 3
   },
   "file_extension": ".py",
   "mimetype": "text/x-python",
   "name": "python",
   "nbconvert_exporter": "python",
   "pygments_lexer": "ipython3",
   "version": "3.7.6"
  },
  "toc": {
   "base_numbering": 1,
   "nav_menu": {},
   "number_sections": true,
   "sideBar": true,
   "skip_h1_title": false,
   "title_cell": "Table of Contents",
   "title_sidebar": "Contents",
   "toc_cell": false,
   "toc_position": {},
   "toc_section_display": true,
   "toc_window_display": false
  }
 },
 "nbformat": 4,
 "nbformat_minor": 2
}
