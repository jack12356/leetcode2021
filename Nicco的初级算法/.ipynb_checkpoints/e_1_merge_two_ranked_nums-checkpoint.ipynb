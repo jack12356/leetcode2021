{
 "cells": [
  {
   "cell_type": "markdown",
   "metadata": {},
   "source": [
    "# 合并两个有序数组\n",
    "\n",
    "给定两个有序整数数组 nums1 和 nums2，将 nums2 合并到 nums1 中，使得 num1 成为一个有序数组。\n",
    "\n",
    "说明:\n",
    "\n",
    "初始化 nums1 和 nums2 的元素数量分别为 m 和 n。\n",
    "你可以假设 nums1 有足够的空间（空间大小大于或等于 m + n）来保存 nums2 中的元素。\n",
    "示例:\n",
    "\n",
    "输入:\n",
    "\n",
    ">nums1 = [1,2,3,0,0,0], m = 3\n",
    "\n",
    ">nums2 = [2,5,6],       n = 3\n",
    "\n",
    "输出: [1,2,2,3,5,6]"
   ]
  },
  {
   "cell_type": "markdown",
   "metadata": {},
   "source": [
    "## JAVA \n",
    "自己写的有点复杂\n",
    "思路：nums2每个元素在nums1里面遍历，比较与nums1最大值得情况，插入；"
   ]
  },
  {
   "cell_type": "code",
   "execution_count": null,
   "metadata": {},
   "outputs": [],
   "source": [
    "public class MergeTwoList {\n",
    "    public void merge(int[] nums1, int m, int[] nums2, int n) {\n",
    "        int lastj=0;\n",
    "        int cur=m-1;\n",
    "        if (m==0){\n",
    "            for (int r = 0; r < n; r++){\n",
    "                nums1[r]=nums2[r];\n",
    "            }\n",
    "        }\n",
    "\n",
    "        for (int i = 0; i < n; i++) {\n",
    "            if (nums2[i]>=nums1[cur]){\n",
    "                nums1[cur+1]=nums2[i];\n",
    "                cur++;\n",
    "                continue;\n",
    "            }\n",
    "            for (int j = lastj; j < cur+1; j++) {\n",
    "                if (nums2[i]<nums1[j]){\n",
    "                    //insert nums2[i]\n",
    "                    for (int k = cur+1; k >j; k--) {\n",
    "                        nums1[k]=nums1[k-1];\n",
    "                    }\n",
    "                    nums1[j]=nums2[i];\n",
    "                    lastj=j+1;\n",
    "                    cur++;\n",
    "                    break;\n",
    "                }\n",
    "            }\n",
    "\n",
    "        }\n",
    "    }\n",
    "}\n",
    "\n",
    "\n",
    "int []nums1 = new int[]{1,2,3,0,0,0};\n",
    "int m = 3;\n",
    "int []nums2 = new int[]{2,5,6};\n",
    "int n = 3;\n",
    "\n",
    "MergeTwoList solution = new MergeTwoList();\n",
    "solution.merge(nums1,m,nums2,n);\n"
   ]
  },
  {
   "cell_type": "markdown",
   "metadata": {},
   "source": [
    "## JAVA第二种思路"
   ]
  },
  {
   "cell_type": "markdown",
   "metadata": {},
   "source": [
    "思路：\n",
    "1. 比较nums2与nums1中最后面的那个元素，把最大的插入第m+n位(**实际上是两个最大索引位置之和+1**)\n",
    "2. 改变数组的索引，再次进行上面的比较，把最大的元素插入到array1中的第m+n-1位。\n",
    "3. 循环一直到结束。循环结束条件：当index1或index2有一个小于0时，此时就可以结束循环了。如果index2小于0，说明目的达到了。如果index1小于0，就把array2中剩下的前面的元素都复制到array1中去就行。"
   ]
  },
  {
   "cell_type": "code",
   "execution_count": 1,
   "metadata": {
    "ExecuteTime": {
     "end_time": "2018-12-18T13:15+0000",
     "start_time": "2018-12-18T13:15:25.206Z"
    }
   },
   "outputs": [],
   "source": [
    "public void merge(int[] nums1, int m, int[] nums2, int n) {\n",
    "    int i = m-1;\n",
    "    int j=n-1;\n",
    "    int n1,n2;\n",
    "    while(i>=0&&j>=0){\n",
    "        n1 = nums1[i];\n",
    "        n2 = nums2[j];\n",
    "        if(n1>n2){\n",
    "            nums1[i+j+1]=n1;\n",
    "            i--;\n",
    "        }else{\n",
    "            nums1[i+j+1]=n2;\n",
    "            j--;\n",
    "        }\n",
    "    }\n",
    "    if(i<0){\n",
    "        while(j>=0){\n",
    "            nums1[j]=nums2[j];\n",
    "            j--;\n",
    "        }\n",
    "    }\n",
    "}"
   ]
  },
  {
   "cell_type": "markdown",
   "metadata": {},
   "source": [
    "## JAVA别人的代码"
   ]
  },
  {
   "cell_type": "markdown",
   "metadata": {},
   "source": [
    "思路：一般这种合并有序的序列，思路应该都是从后向前合并。"
   ]
  },
  {
   "cell_type": "code",
   "execution_count": null,
   "metadata": {},
   "outputs": [],
   "source": [
    "public void merge(int[] nums1, int m, int[] nums2, int n) {\n",
    "        int insert = 0;\n",
    "        for (int i = 0; i <n ; i++) {\n",
    "            insert = nums2[i];\n",
    "            int j = m - 1 + i;\n",
    "            while(j>=0&& nums1[j]>insert){\n",
    "                 nums1[j+1]= nums1[j];\n",
    "                 j--;\n",
    "            }\n",
    "            nums1[j+1]=insert;\n",
    "        }\n",
    "    }"
   ]
  }
 ],
 "metadata": {
  "kernelspec": {
   "display_name": "Java",
   "language": "java",
   "name": "java"
  },
  "language_info": {
   "codemirror_mode": "java",
   "file_extension": ".java",
   "mimetype": "text/x-java-source",
   "name": "Java",
   "pygments_lexer": "java",
   "version": "11.0.1+13-LTS"
  },
  "toc": {
   "base_numbering": 1,
   "nav_menu": {},
   "number_sections": true,
   "sideBar": true,
   "skip_h1_title": false,
   "title_cell": "Table of Contents",
   "title_sidebar": "Contents",
   "toc_cell": false,
   "toc_position": {},
   "toc_section_display": true,
   "toc_window_display": false
  }
 },
 "nbformat": 4,
 "nbformat_minor": 2
}
