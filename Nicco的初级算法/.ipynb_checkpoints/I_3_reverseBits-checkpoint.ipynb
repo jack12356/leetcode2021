{
 "cells": [
  {
   "cell_type": "markdown",
   "metadata": {},
   "source": [
    "# 颠倒二进制位\n",
    "颠倒给定的 32 位无符号整数的二进制位。\n",
    "\n",
    "示例 1：\n",
    "\n",
    ">输入: 00000010100101000001111010011100\n",
    ">输出: 00111001011110000010100101000000\n",
    "\n",
    "解释: 输入的二进制串 00000010100101000001111010011100 表示无符号整数 43261596，\n",
    "      因此返回 964176192，其二进制表示形式为 00111001011110000010100101000000。\n",
    "示例 2：\n",
    "\n",
    ">输入：11111111111111111111111111111101\n",
    ">输出：10111111111111111111111111111111\n",
    "\n",
    "解释：输入的二进制串 11111111111111111111111111111101 表示无符号整数 4294967293，\n",
    "因此返回 3221225471 其二进制表示形式为 10101111110010110010011101101001。"
   ]
  },
  {
   "cell_type": "code",
   "execution_count": 1,
   "metadata": {
    "ExecuteTime": {
     "end_time": "2018-12-21T07:56+0000",
     "start_time": "2018-12-21T07:56:41.797Z"
    }
   },
   "outputs": [],
   "source": [
    "public class Solution {\n",
    "    // you need treat n as an unsigned value\n",
    "    public int reverseBits(int n) {\n",
    "        int m=0;\n",
    "        for(int i=0;i<32;i++){\n",
    "            m<<=1;//m向左移1位；\n",
    "            m = m|(n & 1);//m的末位设置为n的末位\n",
    "            n>>=1;//n向右移1位\n",
    "        }\n",
    "        return m;\n",
    "    }\n",
    "}"
   ]
  }
 ],
 "metadata": {
  "kernelspec": {
   "display_name": "Java",
   "language": "java",
   "name": "java"
  },
  "language_info": {
   "codemirror_mode": "java",
   "file_extension": ".java",
   "mimetype": "text/x-java-source",
   "name": "Java",
   "pygments_lexer": "java",
   "version": "11.0.1+13-LTS"
  },
  "toc": {
   "base_numbering": 1,
   "nav_menu": {},
   "number_sections": true,
   "sideBar": true,
   "skip_h1_title": false,
   "title_cell": "Table of Contents",
   "title_sidebar": "Contents",
   "toc_cell": false,
   "toc_position": {},
   "toc_section_display": true,
   "toc_window_display": false
  }
 },
 "nbformat": 4,
 "nbformat_minor": 2
}
