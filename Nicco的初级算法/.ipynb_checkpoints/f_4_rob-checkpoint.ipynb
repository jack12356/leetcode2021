{
 "cells": [
  {
   "cell_type": "markdown",
   "metadata": {},
   "source": [
    "#  打家劫舍\n",
    "你是一个专业的小偷，计划偷窃沿街的房屋。每间房内都藏有一定的现金，影响你偷窃的唯一制约因素就是相邻的房屋装有相互连通的防盗系统，如果两间相邻的房屋在同一晚上被小偷闯入，系统会自动报警。\n",
    "\n",
    "给定一个代表每个房屋存放金额的非负整数数组，计算你在不触动警报装置的情况下，能够偷窃到的最高金额。\n",
    "\n",
    "示例 1:\n",
    "\n",
    ">输入: [1,2,3,1]\n",
    "\n",
    ">输出: 4\n",
    "\n",
    "解释: 偷窃 1 号房屋 (金额 = 1) ，然后偷窃 3 号房屋 (金额 = 3)。\n",
    "     偷窃到的最高金额 = 1 + 3 = 4 。\n",
    "示例 2:\n",
    "\n",
    ">输入: [2,7,9,3,1]\n",
    "\n",
    ">输出: 12\n",
    "\n",
    "解释: 偷窃 1 号房屋 (金额 = 2), 偷窃 3 号房屋 (金额 = 9)，接着偷窃 5 号房屋 (金额 = 1)。\n",
    "     偷窃到的最高金额 = 2 + 9 + 1 = 12 。"
   ]
  },
  {
   "cell_type": "code",
   "execution_count": null,
   "metadata": {},
   "outputs": [],
   "source": [
    "class Solution {\n",
    "    public int rob(int[] nums) {\n",
    "        int len = nums.length;\n",
    "        if(len==0)return 0;\n",
    "        if(len==1)return nums[0];\n",
    "        if(len==2)return Integer.max(nums[0],nums[1]);\n",
    "        int []d = new int[len];\n",
    "        d[0]=nums[0];\n",
    "        d[1]=Integer.max(nums[0],nums[1]);\n",
    "        for(int i=2;i<len;i++){\n",
    "            d[i]=Integer.max(d[i-1],d[i-2]+nums[i]);\n",
    "        }\n",
    "        return d[len-1];\n",
    "    }\n",
    "}"
   ]
  }
 ],
 "metadata": {
  "kernelspec": {
   "display_name": "Java",
   "language": "java",
   "name": "java"
  },
  "language_info": {
   "codemirror_mode": "java",
   "file_extension": ".java",
   "mimetype": "text/x-java-source",
   "name": "Java",
   "pygments_lexer": "java",
   "version": "11.0.1+13-LTS"
  },
  "toc": {
   "base_numbering": 1,
   "nav_menu": {},
   "number_sections": true,
   "sideBar": true,
   "skip_h1_title": false,
   "title_cell": "Table of Contents",
   "title_sidebar": "Contents",
   "toc_cell": false,
   "toc_position": {},
   "toc_section_display": true,
   "toc_window_display": false
  }
 },
 "nbformat": 4,
 "nbformat_minor": 2
}
