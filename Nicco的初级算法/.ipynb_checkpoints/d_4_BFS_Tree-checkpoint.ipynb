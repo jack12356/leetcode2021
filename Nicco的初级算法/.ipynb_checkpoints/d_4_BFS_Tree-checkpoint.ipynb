{
 "cells": [
  {
   "cell_type": "markdown",
   "metadata": {},
   "source": [
    "# 二叉树的层次遍历\n",
    "给定一个二叉树，返回其按层次遍历的节点值。 （即逐层地，从左到右访问所有节点）。\n",
    "\n",
    "例如:\n",
    "给定二叉树: [3,9,20,null,null,15,7],\n",
    "```\n",
    "    3\n",
    "   / \\\n",
    "  9  20\n",
    "    /  \\\n",
    "   15   7\n",
    "```\n",
    "返回其层次遍历结果：\n",
    "\n",
    "[\n",
    "  [3],\n",
    "  [9,20],\n",
    "  [15,7]\n",
    "]"
   ]
  },
  {
   "cell_type": "markdown",
   "metadata": {},
   "source": [
    "## JAVA递归方法\n",
    "思路：\n",
    "1. 使用无返回函数,参数为每一层TreeNode与共同使用的lists；\n",
    "2. 将每层的val存储到lists（变为list）里面；\n",
    "3. 得到下一层TreeNode，再次调用自己；"
   ]
  },
  {
   "cell_type": "code",
   "execution_count": 2,
   "metadata": {
    "ExecuteTime": {
     "end_time": "2018-12-18T11:00+0000",
     "start_time": "2018-12-18T11:00:03.610Z"
    }
   },
   "outputs": [],
   "source": [
    "public class TreeNode {\n",
    "    public int val;\n",
    "    public TreeNode left;\n",
    "    public TreeNode right;\n",
    "    public TreeNode(int x) { val = x; }\n",
    "}"
   ]
  },
  {
   "cell_type": "code",
   "execution_count": 3,
   "metadata": {
    "ExecuteTime": {
     "end_time": "2018-12-18T11:00+0000",
     "start_time": "2018-12-18T11:00:04.978Z"
    },
    "code_folding": []
   },
   "outputs": [],
   "source": [
    "public List<List<Integer>> levelOrder(TreeNode root) {\n",
    "        ArrayList<List<Integer>> lists = new ArrayList<>();\n",
    "        ArrayList<TreeNode> prelist = new ArrayList<TreeNode>();\n",
    "        \n",
    "        if (root==null)\n",
    "            return lists;\n",
    "        prelist.add(root);\n",
    "        add(prelist,lists);\n",
    "        return lists;\n",
    "    }\n",
    "\n",
    "private void  add(ArrayList<TreeNode> prelist,ArrayList<List<Integer>> lists) {\n",
    "    ArrayList<TreeNode> next_list = new ArrayList<>();\n",
    "    ArrayList<Integer> intlist = new ArrayList<>();\n",
    "    for (int i = 0; i < prelist.size(); i++) {\n",
    "        TreeNode root = prelist.get(i);\n",
    "        intlist.add(root.val);\n",
    "        if (root.left!=null)\n",
    "            next_list.add(root.left);\n",
    "        if (root.right!=null)\n",
    "            next_list.add(root.right);\n",
    "    }\n",
    "    lists.add(intlist);\n",
    "    if(next_list.size()==0)\n",
    "        return;\n",
    "    add(next_list,lists);\n",
    "}"
   ]
  },
  {
   "cell_type": "markdown",
   "metadata": {},
   "source": [
    "## JAVA使用队列的方法"
   ]
  },
  {
   "cell_type": "code",
   "execution_count": 4,
   "metadata": {
    "ExecuteTime": {
     "end_time": "2018-12-18T11:00+0000",
     "start_time": "2018-12-18T11:00:07.810Z"
    }
   },
   "outputs": [],
   "source": [
    "public List<List<Integer>> levelOrder(TreeNode root) {\n",
    "        List<List<Integer>> res = new ArrayList<>();\n",
    "        if (root == null) {\n",
    "            return res;\n",
    "        }\n",
    "\n",
    "        Queue<TreeNode> queue = new LinkedList<>();\n",
    "        queue.add(root);\n",
    "        while (!queue.isEmpty()) {\n",
    "            int level = queue.size();\n",
    "            List<Integer> currentLevel = new ArrayList<>();\n",
    "            for (int i = 0; i < level; i++) {\n",
    "                TreeNode node = queue.poll();\n",
    "                currentLevel.add(node.val);\n",
    "                if (node.left != null) {\n",
    "                    queue.add(node.left);\n",
    "                }\n",
    "                if (node.right != null) {\n",
    "                    queue.add(node.right);\n",
    "                } \n",
    "            }\n",
    "            res.add(currentLevel);\n",
    "        }\n",
    "        return res;\n",
    "    }"
   ]
  }
 ],
 "metadata": {
  "kernelspec": {
   "display_name": "Java",
   "language": "java",
   "name": "java"
  },
  "language_info": {
   "codemirror_mode": "java",
   "file_extension": ".java",
   "mimetype": "text/x-java-source",
   "name": "Java",
   "pygments_lexer": "java",
   "version": "11.0.1+13-LTS"
  },
  "toc": {
   "base_numbering": 1,
   "nav_menu": {},
   "number_sections": true,
   "sideBar": true,
   "skip_h1_title": false,
   "title_cell": "Table of Contents",
   "title_sidebar": "Contents",
   "toc_cell": false,
   "toc_position": {},
   "toc_section_display": true,
   "toc_window_display": false
  }
 },
 "nbformat": 4,
 "nbformat_minor": 2
}
