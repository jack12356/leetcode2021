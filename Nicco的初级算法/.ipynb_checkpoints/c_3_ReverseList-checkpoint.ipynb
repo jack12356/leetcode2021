{
 "cells": [
  {
   "cell_type": "markdown",
   "metadata": {},
   "source": [
    "# 链表倒序\n",
    "\n",
    "反转一个单链表。\n",
    "\n",
    "示例:\n",
    "\n",
    ">输入: 1->2->3->4->5->NULL\n",
    "\n",
    ">输出: 5->4->3->2->1->NULL\n",
    "\n",
    "进阶:\n",
    "你可以迭代或递归地反转链表。你能否用两种方法解决这道题？"
   ]
  },
  {
   "cell_type": "markdown",
   "metadata": {},
   "source": [
    "递归思路：\n",
    "1. 1->2->3->4->5->NULL\n",
    "2. 1->2;  5->4->3->2->null;\n",
    "3. 5->4->3->2->1->2...\n",
    "4. 5->4->3->2->1->null"
   ]
  },
  {
   "cell_type": "code",
   "execution_count": null,
   "metadata": {},
   "outputs": [],
   "source": [
    "# Definition for singly-linked list.\n",
    "# class ListNode:\n",
    "#     def __init__(self, val=0, next=None):\n",
    "#         self.val = val\n",
    "#         self.next = next\n",
    "class Solution:\n",
    "    def reverseList(self, head: ListNode) -> ListNode:\n",
    "        st = ListNode(-1)\n",
    "        while head is not None:\n",
    "            p = head\n",
    "            head = head.next\n",
    "            p.next = st.next\n",
    "            st.next = p\n",
    "        return st.next"
   ]
  },
  {
   "cell_type": "code",
   "execution_count": null,
   "metadata": {},
   "outputs": [],
   "source": []
  },
  {
   "cell_type": "code",
   "execution_count": null,
   "metadata": {},
   "outputs": [],
   "source": []
  },
  {
   "cell_type": "code",
   "execution_count": 3,
   "metadata": {},
   "outputs": [],
   "source": [
    "class ListNode:\n",
    "    def __init__(self, val=0, next=None):\n",
    "        self.val = val\n",
    "        self.next = next\n",
    "class Solution:\n",
    "    def reverseList(self, head: ListNode) -> ListNode:\n",
    "        st = ListNode(-1)\n",
    "        self.rListNode(head,st)\n",
    "        return st.next\n",
    "ss    def rListNode(self, head:ListNode, st:ListNode):\n",
    "        if head is None:\n",
    "            return\n",
    "        p = head.next\n",
    "        head.next = st.next\n",
    "        st.next = head\n",
    "        self.rListNode(p,st)"
   ]
  },
  {
   "cell_type": "code",
   "execution_count": null,
   "metadata": {},
   "outputs": [],
   "source": []
  },
  {
   "cell_type": "code",
   "execution_count": null,
   "metadata": {},
   "outputs": [],
   "source": []
  },
  {
   "cell_type": "code",
   "execution_count": null,
   "metadata": {},
   "outputs": [],
   "source": []
  },
  {
   "cell_type": "code",
   "execution_count": null,
   "metadata": {},
   "outputs": [],
   "source": []
  },
  {
   "cell_type": "code",
   "execution_count": null,
   "metadata": {
    "code_folding": [],
    "collapsed": true
   },
   "outputs": [],
   "source": [
    "public class ReverseList {\n",
    "    public ListNode reverseList(ListNode head) {\n",
    "        if(head==null||head.next==null)return head;\n",
    "        \n",
    "        ListNode newhead=reverseList(head.next);\n",
    "        head.next.next=head;\n",
    "        head.next=null;\n",
    "        \n",
    "        return newhead;\n",
    "    }\n",
    "}"
   ]
  },
  {
   "cell_type": "markdown",
   "metadata": {},
   "source": [
    "迭代思路：\n",
    "每次把头部取出来，然后拼接，知道head==null;\n",
    "1. 1->2->3->4->5->NULL\n",
    "2. 1; 2->3->4->5->NULL\n",
    "3. 2->1; 3->4->5->NULL\n",
    "4. .....\n",
    "5. 5->4->3->2->1->null"
   ]
  },
  {
   "cell_type": "code",
   "execution_count": null,
   "metadata": {
    "collapsed": true
   },
   "outputs": [],
   "source": [
    "class Solution {\n",
    "    public ListNode reverseList(ListNode head) {\n",
    "        ListNode newhead=null;\n",
    "        ListNode now;\n",
    "        while(head!=null){\n",
    "            now=head;         //取头\n",
    "            head=head.next;   //更新原链头\n",
    "            now.next=newhead; //插入新链\n",
    "            newhead=now;      //更新新链头\n",
    "        }\n",
    "        return newhead;\n",
    "    }\n",
    "}\n"
   ]
  }
 ],
 "metadata": {
  "hide_input": false,
  "kernelspec": {
   "display_name": "PyCharm (intelligentOrder)",
   "language": "python",
   "name": "pycharm-925dd3db"
  },
  "language_info": {
   "codemirror_mode": {
    "name": "ipython",
    "version": 3
   },
   "file_extension": ".py",
   "mimetype": "text/x-python",
   "name": "python",
   "nbconvert_exporter": "python",
   "pygments_lexer": "ipython3",
   "version": "3.7.6"
  },
  "toc": {
   "base_numbering": 1,
   "nav_menu": {},
   "number_sections": true,
   "sideBar": true,
   "skip_h1_title": false,
   "title_cell": "Table of Contents",
   "title_sidebar": "Contents",
   "toc_cell": false,
   "toc_position": {},
   "toc_section_display": true,
   "toc_window_display": false
  },
  "varInspector": {
   "cols": {
    "lenName": 16,
    "lenType": 16,
    "lenVar": 40
   },
   "kernels_config": {
    "python": {
     "delete_cmd_postfix": "",
     "delete_cmd_prefix": "del ",
     "library": "var_list.py",
     "varRefreshCmd": "print(var_dic_list())"
    },
    "r": {
     "delete_cmd_postfix": ") ",
     "delete_cmd_prefix": "rm(",
     "library": "var_list.r",
     "varRefreshCmd": "cat(var_dic_list()) "
    }
   },
   "types_to_exclude": [
    "module",
    "function",
    "builtin_function_or_method",
    "instance",
    "_Feature"
   ],
   "window_display": false
  }
 },
 "nbformat": 4,
 "nbformat_minor": 2
}
