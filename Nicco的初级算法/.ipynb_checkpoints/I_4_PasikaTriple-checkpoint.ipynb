{
 "cells": [
  {
   "cell_type": "markdown",
   "metadata": {},
   "source": [
    "#  杨辉三角\n",
    "给定一个非负整数 numRows，生成杨辉三角的前 numRows 行。\n",
    "\n",
    "\n",
    "\n",
    "在杨辉三角中，每个数是它左上方和右上方的数的和。\n",
    "\n",
    "示例:\n",
    "\n",
    "输入: 5\n",
    "输出:\n",
    "```\n",
    "[\n",
    "     [1],\n",
    "    [1,1],\n",
    "   [1,2,1],\n",
    "  [1,3,3,1],\n",
    " [1,4,6,4,1]\n",
    "]\n",
    "```"
   ]
  },
  {
   "cell_type": "code",
   "execution_count": 1,
   "metadata": {
    "ExecuteTime": {
     "end_time": "2018-12-21T16:14+0000",
     "start_time": "2018-12-21T16:14:35.463Z"
    }
   },
   "outputs": [],
   "source": [
    "class Solution {\n",
    "    public List<List<Integer>> generate(int numRows){\n",
    "        List<List<Integer>> tiple = new ArrayList<>();\n",
    "        if(numRows<=0) return tiple;\n",
    "        List<Integer>nums_0 = new ArrayList<>();\n",
    "        nums_0.add(1);\n",
    "        List<Integer>pre_nums = nums_0;\n",
    "        tiple.add(pre_nums);\n",
    "        for (int i = 1; i < numRows; i++) {\n",
    "            int len = pre_nums.size();\n",
    "            List<Integer>next_nums = new ArrayList<>();\n",
    "            next_nums.add(pre_nums.get(0));\n",
    "            for (int j = 1; j < len; j++) {\n",
    "                next_nums.add(pre_nums.get(j)+pre_nums.get(j-1));\n",
    "            }\n",
    "            next_nums.add(pre_nums.get(len-1));\n",
    "            tiple.add(next_nums);\n",
    "            pre_nums = next_nums;\n",
    "        }\n",
    "        return tiple;\n",
    "    }\n",
    "}"
   ]
  }
 ],
 "metadata": {
  "kernelspec": {
   "display_name": "Java",
   "language": "java",
   "name": "java"
  },
  "language_info": {
   "codemirror_mode": "java",
   "file_extension": ".java",
   "mimetype": "text/x-java-source",
   "name": "Java",
   "pygments_lexer": "java",
   "version": "11.0.1+13-LTS"
  },
  "toc": {
   "base_numbering": 1,
   "nav_menu": {},
   "number_sections": true,
   "sideBar": true,
   "skip_h1_title": false,
   "title_cell": "Table of Contents",
   "title_sidebar": "Contents",
   "toc_cell": false,
   "toc_position": {},
   "toc_section_display": true,
   "toc_window_display": false
  }
 },
 "nbformat": 4,
 "nbformat_minor": 2
}
