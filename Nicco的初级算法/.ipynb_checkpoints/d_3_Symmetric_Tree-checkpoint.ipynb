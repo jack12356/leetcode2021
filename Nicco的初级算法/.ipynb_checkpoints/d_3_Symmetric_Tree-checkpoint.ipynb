{
 "cells": [
  {
   "cell_type": "markdown",
   "metadata": {},
   "source": [
    "# 对称二叉树\n",
    "给定一个二叉树，检查它是否是镜像对称的。\n",
    "\n",
    "例如，二叉树 [1,2,2,3,4,4,3] 是对称的。\n",
    "```\n",
    "    1\n",
    "   / \\\n",
    "  2   2\n",
    " / \\ / \\\n",
    "3  4 4  3\n",
    "```\n",
    "但是下面这个 [1,2,2,null,3,null,3] 则不是镜像对称的:\n",
    "```\n",
    "    1\n",
    "   / \\\n",
    "  2   2\n",
    "   \\   \\\n",
    "   3    3\n",
    "```\n",
    "说明:\n",
    "\n",
    "如果你可以运用递归和迭代两种方法解决这个问题，会很加分。"
   ]
  },
  {
   "cell_type": "markdown",
   "metadata": {},
   "source": [
    "递归思路：\n",
    "1. 左右节点值相等；\n",
    "2. 左节点的左边值等于右节点的右边值；\n",
    "3. 左节点的右边值等于右节点的左边值；"
   ]
  },
  {
   "cell_type": "code",
   "execution_count": 4,
   "metadata": {
    "ExecuteTime": {
     "end_time": "2018-12-18T09:11+0000",
     "start_time": "2018-12-18T09:11:17.666Z"
    },
    "code_folding": []
   },
   "outputs": [
    {
     "name": "stdout",
     "output_type": "stream",
     "text": [
      "the result is : false"
     ]
    },
    {
     "data": {
      "text/plain": [
       "java.io.PrintStream@1dfccf6e"
      ]
     },
     "execution_count": 4,
     "metadata": {},
     "output_type": "execute_result"
    }
   ],
   "source": [
    "public class TreeNode {\n",
    "    public int val;\n",
    "    public TreeNode left;\n",
    "    public TreeNode right;\n",
    "    public TreeNode(int x) { val = x; }\n",
    "}\n",
    "\n",
    "public class SymmetricTree {\n",
    "    public boolean isSymmetric(TreeNode root) {\n",
    "        if(root==null)\n",
    "            return true;\n",
    "        return isequal(root.left,root.right);\n",
    "\n",
    "    }\n",
    "\n",
    "    private boolean isequal(TreeNode left, TreeNode right) {\n",
    "        if(left==null||right==null)\n",
    "           return left==right;\n",
    "        return (left.val==right.val)&&isequal(left.left,right.right)&&isequal(right.left,left.right);\n",
    "    }\n",
    "}\n",
    "\n",
    "TreeNode root = new TreeNode(1);\n",
    "root.left = new TreeNode(2);\n",
    "root.left.left = new TreeNode(3);\n",
    "root.right = new TreeNode(3);\n",
    "root.right.left = new TreeNode(2);\n",
    "SymmetricTree solution = new SymmetricTree();\n",
    "System.out.printf(\"the result is : %b\", solution.isSymmetric(root));"
   ]
  }
 ],
 "metadata": {
  "kernelspec": {
   "display_name": "Java",
   "language": "java",
   "name": "java"
  },
  "language_info": {
   "codemirror_mode": "java",
   "file_extension": ".java",
   "mimetype": "text/x-java-source",
   "name": "Java",
   "pygments_lexer": "java",
   "version": "11.0.1+13-LTS"
  },
  "toc": {
   "base_numbering": 1,
   "nav_menu": {},
   "number_sections": true,
   "sideBar": true,
   "skip_h1_title": false,
   "title_cell": "Table of Contents",
   "title_sidebar": "Contents",
   "toc_cell": false,
   "toc_position": {},
   "toc_section_display": true,
   "toc_window_display": false
  }
 },
 "nbformat": 4,
 "nbformat_minor": 2
}
