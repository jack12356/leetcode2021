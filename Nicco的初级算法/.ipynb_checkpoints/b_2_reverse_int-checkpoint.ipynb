{
 "cells": [
  {
   "cell_type": "code",
   "execution_count": 46,
   "metadata": {},
   "outputs": [],
   "source": [
    "def reverse_int(x):\n",
    "    pos = \"\" if x>=0 else \"-\"\n",
    "    x = abs(x)\n",
    "    while(x%10==0 and x!=0):\n",
    "        x = x//10\n",
    "    s = str(x)\n",
    "    if(len(s)>=len(str(2**31-1)) and  s[::-1]>str(2**31-1)):\n",
    "        return 0\n",
    "    return int(pos+s[::-1])"
   ]
  },
  {
   "cell_type": "code",
   "execution_count": 52,
   "metadata": {
    "ExecuteTime": {
     "end_time": "2018-12-14T03:44:11.979332Z",
     "start_time": "2018-12-14T03:44:11.973348Z"
    }
   },
   "outputs": [
    {
     "data": {
      "text/plain": [
       "-654321"
      ]
     },
     "execution_count": 52,
     "metadata": {},
     "output_type": "execute_result"
    }
   ],
   "source": [
    "def reverse_int(x):\n",
    "    positive=True\n",
    "    max = (2**31-1)/ 10\n",
    "    mode = (2**31-1) % 10\n",
    "    if (x < (2**31-1) * -1):\n",
    "        return 0\n",
    "    if x<0:\n",
    "        positive=False\n",
    "        x=-x\n",
    "    n=0\n",
    "    while(x!=0):\n",
    "        n= n*10 + x%10\n",
    "        x=x//10\n",
    "        if (n>>31>0):\n",
    "            return 0\n",
    "    if not positive:\n",
    "        n=-n\n",
    "    return n\n",
    "reverse_int(x)"
   ]
  },
  {
   "cell_type": "markdown",
   "metadata": {},
   "source": [
    "## java版本"
   ]
  },
  {
   "cell_type": "markdown",
   "metadata": {},
   "source": [
    "思路1：如果溢出则一定与自己不一样"
   ]
  },
  {
   "cell_type": "code",
   "execution_count": 38,
   "metadata": {
    "ExecuteTime": {
     "end_time": "2018-12-14T03:19:05.295781Z",
     "start_time": "2018-12-14T03:19:05.290823Z"
    }
   },
   "outputs": [
    {
     "data": {
      "text/plain": [
       "0"
      ]
     },
     "execution_count": 38,
     "metadata": {},
     "output_type": "execute_result"
    }
   ],
   "source": [
    "class Solution {\n",
    "    public int reverse(int x) {\n",
    "        int i=0;\n",
    "\n",
    "        while (x!=0)\n",
    "        {\n",
    "            int n=i*10+x%10;\n",
    "            x=x/10;\n",
    "            if(n/10!=i)return 0;\n",
    "            i=n;\n",
    "        }\n",
    "        return i;\n",
    "    }\n",
    "}"
   ]
  },
  {
   "cell_type": "markdown",
   "metadata": {},
   "source": [
    "思路2：比较与最大值/10以及最大值%10的情况"
   ]
  },
  {
   "cell_type": "code",
   "execution_count": null,
   "metadata": {},
   "outputs": [],
   "source": [
    "class Solution {\n",
    "    public int reverse(int x) {\n",
    "        int init = 0;\n",
    "        int sign = 1;\n",
    "        int max = Integer.MAX_VALUE / 10;\n",
    "        int mode = Integer.MAX_VALUE % 10;\n",
    "        if (x < Integer.MAX_VALUE * -1) {\n",
    "            return 0;\n",
    "        }\n",
    "        if (x < 0) {\n",
    "            sign = -1;\n",
    "            x = -x;\n",
    "        }\n",
    "        while (x != 0) {\n",
    "            init = init * 10 + x % 10;\n",
    "            x = x / 10;\n",
    "            if (init > max && x != 0 || init == max && x > mode) {\n",
    "                return 0;\n",
    "            }\n",
    "        }\n",
    "        return sign * init;\n",
    "    }\n",
    "}"
   ]
  }
 ],
 "metadata": {
  "kernelspec": {
   "display_name": "Python 3",
   "language": "python",
   "name": "python3"
  },
  "language_info": {
   "codemirror_mode": {
    "name": "ipython",
    "version": 3
   },
   "file_extension": ".py",
   "mimetype": "text/x-python",
   "name": "python",
   "nbconvert_exporter": "python",
   "pygments_lexer": "ipython3",
   "version": "3.7.6"
  },
  "toc": {
   "base_numbering": 1,
   "nav_menu": {},
   "number_sections": true,
   "sideBar": true,
   "skip_h1_title": false,
   "title_cell": "Table of Contents",
   "title_sidebar": "Contents",
   "toc_cell": false,
   "toc_position": {},
   "toc_section_display": true,
   "toc_window_display": false
  }
 },
 "nbformat": 4,
 "nbformat_minor": 2
}
