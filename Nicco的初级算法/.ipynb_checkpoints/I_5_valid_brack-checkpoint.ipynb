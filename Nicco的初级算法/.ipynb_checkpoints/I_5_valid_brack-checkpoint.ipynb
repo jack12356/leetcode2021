{
 "cells": [
  {
   "cell_type": "markdown",
   "metadata": {},
   "source": [
    "# 有效的括号\n",
    "给定一个只包括 '('，')'，'{'，'}'，'['，']' 的字符串，判断字符串是否有效。\n",
    "\n",
    "有效字符串需满足：\n",
    "\n",
    "左括号必须用相同类型的右括号闭合。\n",
    "左括号必须以正确的顺序闭合。\n",
    "注意空字符串可被认为是有效字符串。\n",
    "\n",
    "示例 1:\n",
    "\n",
    "    输入: \"()\"\n",
    "    输出: true\n",
    "    示例 2:\n",
    "\n",
    "    输入: \"()[]{}\"\n",
    "    输出: true\n",
    "    示例 3:\n",
    "\n",
    "    输入: \"(]\"\n",
    "    输出: false\n",
    "    示例 4:\n",
    "\n",
    "    输入: \"([)]\"\n",
    "    输出: false\n",
    "    示例 5:\n",
    "\n",
    "    输入: \"{[]}\"\n",
    "    输出: true"
   ]
  },
  {
   "cell_type": "markdown",
   "metadata": {},
   "source": [
    "**思路**\n",
    "\n",
    "使用栈来存储每个char，遇到匹配的就去除；"
   ]
  },
  {
   "cell_type": "code",
   "execution_count": 8,
   "metadata": {
    "ExecuteTime": {
     "end_time": "2018-12-22T04:55+0000",
     "start_time": "2018-12-22T04:55:26.587Z"
    }
   },
   "outputs": [],
   "source": [
    "class Solution {\n",
    "   public boolean isValid(String s) {\n",
    "        if (s.length()==0) return true;\n",
    "        Stack<Character> brack = new Stack();\n",
    "        for (char curchar:s.toCharArray()) {\n",
    "            if (curchar=='{'||curchar=='['||curchar=='(') {\n",
    "                brack.add(curchar);\n",
    "            }else if((!brack.isEmpty())&&symmetricChar(curchar)==brack.peek()){\n",
    "                brack.pop();\n",
    "            }else {\n",
    "                return false;\n",
    "            }\n",
    "        }\n",
    "        return brack.isEmpty();\n",
    "    }\n",
    "\n",
    "    private char symmetricChar(Character peek) {\n",
    "        switch (peek) {\n",
    "            case ']':\n",
    "                return '[';\n",
    "            case '}':\n",
    "                return '{';\n",
    "            case ')':\n",
    "                return '(';\n",
    "            default:\n",
    "                return peek;\n",
    "        }\n",
    "    }\n",
    "}"
   ]
  }
 ],
 "metadata": {
  "kernelspec": {
   "display_name": "Java",
   "language": "java",
   "name": "java"
  },
  "language_info": {
   "codemirror_mode": "java",
   "file_extension": ".java",
   "mimetype": "text/x-java-source",
   "name": "Java",
   "pygments_lexer": "java",
   "version": "11.0.1+13-LTS"
  },
  "toc": {
   "base_numbering": 1,
   "nav_menu": {},
   "number_sections": true,
   "sideBar": true,
   "skip_h1_title": false,
   "title_cell": "Table of Contents",
   "title_sidebar": "Contents",
   "toc_cell": false,
   "toc_position": {},
   "toc_section_display": true,
   "toc_window_display": false
  }
 },
 "nbformat": 4,
 "nbformat_minor": 2
}
