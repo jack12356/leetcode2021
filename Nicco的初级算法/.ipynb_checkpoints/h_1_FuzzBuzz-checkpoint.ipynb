{
 "cells": [
  {
   "cell_type": "markdown",
   "metadata": {},
   "source": [
    "# Fizz Buzz\n",
    "写一个程序，输出从 1 到 n 数字的字符串表示。\n",
    "\n",
    "1. 如果 n 是3的倍数，输出“Fizz”；\n",
    "\n",
    "2. 如果 n 是5的倍数，输出“Buzz”；\n",
    "\n",
    "3.如果 n 同时是3和5的倍数，输出 “FizzBuzz”。\n",
    "\n",
    "示例：\n",
    "\n",
    "n = 15,\n",
    "\n",
    ">返回:\n",
    "[\n",
    "    \"1\",\n",
    "    \"2\",\n",
    "    \"Fizz\",\n",
    "    \"4\",\n",
    "    \"Buzz\",\n",
    "    \"Fizz\",\n",
    "    \"7\",\n",
    "    \"8\",\n",
    "    \"Fizz\",\n",
    "    \"Buzz\",\n",
    "    \"11\",\n",
    "    \"Fizz\",\n",
    "    \"13\",\n",
    "    \"14\",\n",
    "    \"FizzBuzz\"\n",
    "]"
   ]
  },
  {
   "cell_type": "code",
   "execution_count": 1,
   "metadata": {
    "ExecuteTime": {
     "end_time": "2018-12-20T08:17+0000",
     "start_time": "2018-12-20T08:17:35.381Z"
    }
   },
   "outputs": [],
   "source": [
    "public List<String> fizzBuzz(int n) {\n",
    "    List<String> str = new ArrayList<>();\n",
    "    if (n<=0) return str;\n",
    "    for (int i = 1; i < n+1; i++) {\n",
    "        if (i%15==0) {\n",
    "            str.add(\"FizzBuzz\");\n",
    "            continue;\n",
    "        }\n",
    "        if (i%5==0) {\n",
    "            str.add(\"Buzz\");\n",
    "            continue;\n",
    "        }\n",
    "        if (i%3==0) {\n",
    "            str.add(\"Fizz\");\n",
    "            continue;\n",
    "        }\n",
    "        str.add(String.valueOf(i));\n",
    "    }\n",
    "\n",
    "    return str;\n",
    "}"
   ]
  }
 ],
 "metadata": {
  "kernelspec": {
   "display_name": "Java",
   "language": "java",
   "name": "java"
  },
  "language_info": {
   "codemirror_mode": "java",
   "file_extension": ".java",
   "mimetype": "text/x-java-source",
   "name": "Java",
   "pygments_lexer": "java",
   "version": "11.0.1+13-LTS"
  },
  "toc": {
   "base_numbering": 1,
   "nav_menu": {},
   "number_sections": true,
   "sideBar": true,
   "skip_h1_title": false,
   "title_cell": "Table of Contents",
   "title_sidebar": "Contents",
   "toc_cell": false,
   "toc_position": {},
   "toc_section_display": true,
   "toc_window_display": false
  }
 },
 "nbformat": 4,
 "nbformat_minor": 2
}
