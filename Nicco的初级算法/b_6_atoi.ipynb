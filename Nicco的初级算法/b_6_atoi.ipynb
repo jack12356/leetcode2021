{
 "cells": [
  {
   "cell_type": "markdown",
   "metadata": {},
   "source": [
    "# 字符串转换整数 (atoi)"
   ]
  },
  {
   "cell_type": "markdown",
   "metadata": {},
   "source": [
    "\n",
    "请你来实现一个 atoi 函数，使其能将字符串转换成整数。\n",
    "\n",
    "首先，该函数会根据需要丢弃无用的开头空格字符，直到寻找到第一个非空格的字符为止。\n",
    "\n",
    "当我们寻找到的第一个非空字符为正或者负号时，则将该符号与之后面尽可能多的连续数字组合起来，作为该整数的正负号；假如第一个非空字符是数字，则直接将其与之后连续的数字字符组合起来，形成整数。\n",
    "\n",
    "该字符串除了有效的整数部分之后也可能会存在多余的字符，这些字符可以被忽略，它们对于函数不应该造成影响。\n",
    "\n",
    "注意：假如该字符串中的第一个非空格字符不是一个有效整数字符、字符串为空或字符串仅包含空白字符时，则你的函数不需要进行转换。\n",
    "\n",
    "在任何情况下，若函数不能进行有效的转换时，请返回 0。\n",
    "\n",
    "说明：\n",
    "\n",
    "假设我们的环境只能存储 32 位大小的有符号整数，那么其数值范围为 [−231,  231 − 1]。如果数值超过这个范围，qing返回  INT_MAX (231 − 1) 或 INT_MIN (−231) 。\n",
    "\n",
    "示例 1:\n",
    "\n",
    "输入: \"42\"\n",
    "输出: 42\n",
    "示例 2:\n",
    "\n",
    "输入: \"   -42\"\n",
    "输出: -42\n",
    "解释: 第一个非空白字符为 '-', 它是一个负号。\n",
    "     我们尽可能将负号与后面所有连续出现的数字组合起来，最后得到 -42 。\n",
    "示例 3:\n",
    "\n",
    "输入: \"4193 with words\"\n",
    "输出: 4193\n",
    "解释: 转换截止于数字 '3' ，因为它的下一个字符不为数字。\n",
    "示例 4:\n",
    "\n",
    "输入: \"words and 987\"\n",
    "输出: 0\n",
    "解释: 第一个非空字符是 'w', 但它不是数字或正、负号。\n",
    "     因此无法执行有效的转换。\n",
    "示例 5:\n",
    "\n",
    "输入: \"-91283472332\"\n",
    "输出: -2147483648\n",
    "解释: 数字 \"-91283472332\" 超过 32 位有符号整数范围。 \n",
    "     因此返回 INT_MIN (−231) 。"
   ]
  },
  {
   "cell_type": "markdown",
   "metadata": {},
   "source": [
    "## java算法"
   ]
  },
  {
   "cell_type": "markdown",
   "metadata": {},
   "source": [
    "思路：\n",
    "1. 用while找到第一个非空字符；\n",
    "2. 判断但一个非空字符；\n",
    "3. 用for找下面的连续数字，同时有一个判断溢出的问题；"
   ]
  },
  {
   "cell_type": "markdown",
   "metadata": {},
   "source": [
    "关于大小比较想法：\n",
    "if(n>max_10||(n==max_10&&(c-'0')>max%10)){\n",
    "    return (sign==1)?Integer.MAX_VALUE:Integer.MIN_VALUE;\n",
    "}"
   ]
  },
  {
   "cell_type": "code",
   "execution_count": 12,
   "metadata": {
    "ExecuteTime": {
     "end_time": "2018-12-17T03:53+0000",
     "start_time": "2018-12-17T03:53:02.045Z"
    }
   },
   "outputs": [
    {
     "data": {
      "text/plain": [
       "-54156"
      ]
     },
     "execution_count": 12,
     "metadata": {},
     "output_type": "execute_result"
    }
   ],
   "source": [
    "public static int myAtoi(String str) {\n",
    "        int max = Integer.MAX_VALUE;\n",
    "        int max_10 = max/10;\n",
    "        int len = str.length();\n",
    "        int i=0;\n",
    "        int n=0;\n",
    "        int sign=1;\n",
    "\n",
    "        if(len==0){\n",
    "            return n;\n",
    "        }\n",
    "        //找到首位非空字符\n",
    "        while(str.charAt(i)==' '){\n",
    "            i++;\n",
    "            if(i==len){\n",
    "                return n;\n",
    "            }\n",
    "        }\n",
    "\n",
    "        //符号位\n",
    "        switch (str.charAt(i)){\n",
    "            case '+': {\n",
    "                sign=1;\n",
    "                i++;\n",
    "                break;\n",
    "            }\n",
    "            case '-': {\n",
    "                sign=-1;\n",
    "                i++;\n",
    "                break;\n",
    "            }\n",
    "            default: {\n",
    "                if (str.charAt(i)<='9'&&str.charAt(i)>='0'){\n",
    "                    break;\n",
    "                }else{\n",
    "                    return sign*n;\n",
    "                }\n",
    "            }\n",
    "        }\n",
    "        //找到连续数字\n",
    "        for (;i< len; i++) {\n",
    "            char c = str.charAt(i);\n",
    "            if(c<='9'&&c>='0'){\n",
    "                if(n>max_10||(n==max_10&&(c-'0')>max%10)){\n",
    "                    return (sign==1)?Integer.MAX_VALUE:Integer.MIN_VALUE;\n",
    "                }\n",
    "                n = n*10+c-'0';\n",
    "            }else{\n",
    "                return sign*n;\n",
    "            }\n",
    "        }\n",
    "        return sign*n;\n",
    "    }\n",
    "\n",
    "myAtoi(\"  -54156.1564\")"
   ]
  }
 ],
 "metadata": {
  "hide_input": false,
  "kernelspec": {
   "display_name": "Java",
   "language": "java",
   "name": "java"
  },
  "language_info": {
   "codemirror_mode": "java",
   "file_extension": ".java",
   "mimetype": "text/x-java-source",
   "name": "Java",
   "pygments_lexer": "java",
   "version": "11.0.1+13-LTS"
  },
  "toc": {
   "base_numbering": 1,
   "nav_menu": {},
   "number_sections": true,
   "sideBar": true,
   "skip_h1_title": false,
   "title_cell": "Table of Contents",
   "title_sidebar": "Contents",
   "toc_cell": false,
   "toc_position": {},
   "toc_section_display": true,
   "toc_window_display": false
  },
  "varInspector": {
   "cols": {
    "lenName": 16,
    "lenType": 16,
    "lenVar": 40
   },
   "kernels_config": {
    "python": {
     "delete_cmd_postfix": "",
     "delete_cmd_prefix": "del ",
     "library": "var_list.py",
     "varRefreshCmd": "print(var_dic_list())"
    },
    "r": {
     "delete_cmd_postfix": ") ",
     "delete_cmd_prefix": "rm(",
     "library": "var_list.r",
     "varRefreshCmd": "cat(var_dic_list()) "
    }
   },
   "types_to_exclude": [
    "module",
    "function",
    "builtin_function_or_method",
    "instance",
    "_Feature"
   ],
   "window_display": false
  }
 },
 "nbformat": 4,
 "nbformat_minor": 2
}
