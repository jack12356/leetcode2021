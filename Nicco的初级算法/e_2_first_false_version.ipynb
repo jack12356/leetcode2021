{
 "cells": [
  {
   "cell_type": "markdown",
   "metadata": {},
   "source": [
    "# 第一个错误的版本\n",
    "\n",
    "你是产品经理，目前正在带领一个团队开发新的产品。不幸的是，你的产品的最新版本没有通过质量检测。由于每个版本都是基于之前的版本开发的，所以错误的版本之后的所有版本都是错的。\n",
    "\n",
    "假设你有 n 个版本 [1, 2, ..., n]，你想找出导致之后所有版本出错的第一个错误的版本。\n",
    "\n",
    "你可以通过调用 bool isBadVersion(version) 接口来判断版本号 version 是否在单元测试中出错。实现一个函数来查找第一个错误的版本。你应该尽量减少对调用 API 的次数。\n",
    "\n",
    "示例:\n",
    "\n",
    "给定 n = 5，并且 version = 4 是第一个错误的版本。\n",
    "\n",
    "调用 isBadVersion(3) -> false\n",
    "\n",
    "调用 isBadVersion(5) -> true\n",
    "\n",
    "调用 isBadVersion(4) -> true\n",
    "\n",
    "所以，4 是第一个错误的版本。"
   ]
  },
  {
   "cell_type": "markdown",
   "metadata": {},
   "source": [
    "## JAVA递归"
   ]
  },
  {
   "cell_type": "markdown",
   "metadata": {},
   "source": [
    "思路，主要就是二分法；"
   ]
  },
  {
   "cell_type": "code",
   "execution_count": 2,
   "metadata": {
    "ExecuteTime": {
     "end_time": "2018-12-19T08:05+0000",
     "start_time": "2018-12-19T08:05:06.047Z"
    }
   },
   "outputs": [
    {
     "name": "stdout",
     "output_type": "stream",
     "text": [
      "4\n"
     ]
    }
   ],
   "source": [
    "public class FirstBadVersion {\n",
    "    public int firstBadVersion(int n) {\n",
    "        return isBinaryTrue(0,n);\n",
    "    }\n",
    "    \n",
    "    private int isBinaryTrue(int st, int end){\n",
    "        if(st==end)\n",
    "            return st;\n",
    "        int mid = st+(end-st)/2;\n",
    "        return isBadVersion(mid)?isBinaryTrue(st,mid):isBinaryTrue(mid+1,end);\n",
    "    }\n",
    "    \n",
    "    private boolean isBadVersion(int n){\n",
    "        return n >= 4;\n",
    "    }\n",
    "}\n",
    "FirstBadVersion solution = new FirstBadVersion();\n",
    "System.out.println(solution.firstBadVersion(5));"
   ]
  },
  {
   "cell_type": "markdown",
   "metadata": {},
   "source": [
    "## JAVA迭代"
   ]
  },
  {
   "cell_type": "markdown",
   "metadata": {},
   "source": [
    "关于**递归到迭代**的思路：\n",
    "1. 查看递归的变量变化，输入start,end,变化是生成变量mid,用来更新每次的start或者end;\n",
    "2. 写出迭代式子：end = mid-1; or start = mid+1;\n",
    "3. 查看终止条件，比如这里是找到了那个数，即start==end的时候；"
   ]
  },
  {
   "cell_type": "code",
   "execution_count": null,
   "metadata": {
    "collapsed": true
   },
   "outputs": [],
   "source": [
    "public int firstBadVersion(int n) {\n",
    "    int start = 1;\n",
    "    int end = n;\n",
    "    while(start<=end) {\n",
    "        int mid = start+ (end-start)/2;\n",
    "        if(isBadVersion(mid)) {\n",
    "           end = mid-1;\n",
    "        } else {\n",
    "           start = mid+1;\n",
    "        }\n",
    "    }\n",
    "    return start;\n",
    "}"
   ]
  },
  {
   "cell_type": "code",
   "execution_count": null,
   "metadata": {
    "collapsed": true
   },
   "outputs": [],
   "source": []
  }
 ],
 "metadata": {
  "hide_input": false,
  "kernelspec": {
   "display_name": "Java",
   "language": "java",
   "name": "java"
  },
  "language_info": {
   "codemirror_mode": "java",
   "file_extension": ".java",
   "mimetype": "text/x-java-source",
   "name": "Java",
   "pygments_lexer": "java",
   "version": "11.0.1+13-LTS"
  },
  "toc": {
   "base_numbering": 1,
   "nav_menu": {},
   "number_sections": true,
   "sideBar": true,
   "skip_h1_title": false,
   "title_cell": "Table of Contents",
   "title_sidebar": "Contents",
   "toc_cell": false,
   "toc_position": {},
   "toc_section_display": true,
   "toc_window_display": false
  },
  "varInspector": {
   "cols": {
    "lenName": 16,
    "lenType": 16,
    "lenVar": 40
   },
   "kernels_config": {
    "python": {
     "delete_cmd_postfix": "",
     "delete_cmd_prefix": "del ",
     "library": "var_list.py",
     "varRefreshCmd": "print(var_dic_list())"
    },
    "r": {
     "delete_cmd_postfix": ") ",
     "delete_cmd_prefix": "rm(",
     "library": "var_list.r",
     "varRefreshCmd": "cat(var_dic_list()) "
    }
   },
   "types_to_exclude": [
    "module",
    "function",
    "builtin_function_or_method",
    "instance",
    "_Feature"
   ],
   "window_display": false
  }
 },
 "nbformat": 4,
 "nbformat_minor": 2
}
