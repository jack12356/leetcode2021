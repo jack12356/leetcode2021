{
 "cells": [
  {
   "cell_type": "markdown",
   "metadata": {},
   "source": [
    "# 买卖股票的最佳时机\n",
    "\n",
    "给定一个数组，它的第 i 个元素是一支给定股票第 i 天的价格。\n",
    "\n",
    "如果你最多只允许完成一笔交易（即买入和卖出一支股票），设计一个算法来计算你所能获取的最大利润。\n",
    "\n",
    "注意你不能在买入股票前卖出股票。\n",
    "\n",
    "示例 1:\n",
    "\n",
    "输入: [7,1,5,3,6,4]\n",
    "输出: 5\n",
    "解释: 在第 2 天（股票价格 = 1）的时候买入，在第 5 天（股票价格 = 6）的时候卖出，最大利润 = 6-1 = 5 。\n",
    "     注意利润不能是 7-1 = 6, 因为卖出价格需要大于买入价格。\n",
    "示例 2:\n",
    "\n",
    "输入: [7,6,4,3,1]\n",
    "输出: 0\n",
    "解释: 在这种情况下, 没有交易完成, 所以最大利润为 0。"
   ]
  },
  {
   "cell_type": "markdown",
   "metadata": {},
   "source": [
    "## 动态规划方法"
   ]
  },
  {
   "cell_type": "code",
   "execution_count": 3,
   "metadata": {
    "ExecuteTime": {
     "end_time": "2018-12-19T12:22+0000",
     "start_time": "2018-12-19T12:22:30.966Z"
    },
    "collapsed": true
   },
   "outputs": [],
   "source": [
    "class Solution {\n",
    "    public int maxProfit(int[] prices) { \n",
    "        if(prices.length==0)\n",
    "            return 0;\n",
    "        int[]d = new int[prices.length];\n",
    "        d[0]=0;\n",
    "        int max=prices[0];\n",
    "        int min=prices[0];\n",
    "        for(int i=1;i<prices.length;i++){\n",
    "            int now = prices[i];\n",
    "            if(now>max)\n",
    "                max=now;\n",
    "            if(now<min){\n",
    "                min=now;\n",
    "                max=now;\n",
    "            }\n",
    "            d[i]=Integer.max(d[i-1],max-min);\n",
    "        }\n",
    "        return d[prices.length-1];\n",
    "    }\n",
    "}"
   ]
  },
  {
   "cell_type": "markdown",
   "metadata": {},
   "source": [
    "## 非动态规划方法"
   ]
  },
  {
   "cell_type": "code",
   "execution_count": 2,
   "metadata": {
    "ExecuteTime": {
     "end_time": "2018-12-19T12:18+0000",
     "start_time": "2018-12-19T12:18:53.348Z"
    },
    "collapsed": true
   },
   "outputs": [],
   "source": [
    "class Solution {\n",
    "    public int maxProfit(int[] prices) {\n",
    "        if (prices == null || prices.length < 2) return 0;\n",
    "        int min = Integer.MAX_VALUE;\n",
    "        int profit = Integer.MIN_VALUE;\n",
    "        for (int price : prices) {\n",
    "            min = Math.min(min, price);\n",
    "            profit = Math.max(profit, price - min);\n",
    "        }\n",
    "        return profit;\n",
    "    }\n",
    "}"
   ]
  }
 ],
 "metadata": {
  "hide_input": false,
  "kernelspec": {
   "display_name": "Java",
   "language": "java",
   "name": "java"
  },
  "language_info": {
   "codemirror_mode": "java",
   "file_extension": ".java",
   "mimetype": "text/x-java-source",
   "name": "Java",
   "pygments_lexer": "java",
   "version": "11.0.1+13-LTS"
  },
  "toc": {
   "base_numbering": 1,
   "nav_menu": {},
   "number_sections": true,
   "sideBar": true,
   "skip_h1_title": false,
   "title_cell": "Table of Contents",
   "title_sidebar": "Contents",
   "toc_cell": false,
   "toc_position": {},
   "toc_section_display": true,
   "toc_window_display": false
  },
  "varInspector": {
   "cols": {
    "lenName": 16,
    "lenType": 16,
    "lenVar": 40
   },
   "kernels_config": {
    "python": {
     "delete_cmd_postfix": "",
     "delete_cmd_prefix": "del ",
     "library": "var_list.py",
     "varRefreshCmd": "print(var_dic_list())"
    },
    "r": {
     "delete_cmd_postfix": ") ",
     "delete_cmd_prefix": "rm(",
     "library": "var_list.r",
     "varRefreshCmd": "cat(var_dic_list()) "
    }
   },
   "types_to_exclude": [
    "module",
    "function",
    "builtin_function_or_method",
    "instance",
    "_Feature"
   ],
   "window_display": false
  }
 },
 "nbformat": 4,
 "nbformat_minor": 2
}
