{
 "cells": [
  {
   "cell_type": "markdown",
   "metadata": {},
   "source": [
    "# 合并两个有序链表\n",
    "将两个有序链表合并为一个新的有序链表并返回。新链表是通过拼接给定的两个链表的所有节点组成的。 \n",
    "\n",
    "示例：\n",
    "\n",
    ">输入：1->2->4, 1->3->4\n",
    "\n",
    ">输出：1->1->2->3->4->4"
   ]
  },
  {
   "cell_type": "markdown",
   "metadata": {},
   "source": [
    "## python迭代"
   ]
  },
  {
   "cell_type": "markdown",
   "metadata": {},
   "source": [
    "思路：使用初始节点，然后迭代比较添加；"
   ]
  },
  {
   "cell_type": "code",
   "execution_count": 3,
   "metadata": {
    "ExecuteTime": {
     "end_time": "2018-12-18T03:05:57.586949Z",
     "start_time": "2018-12-18T03:05:57.573955Z"
    }
   },
   "outputs": [
    {
     "data": {
      "text/plain": [
       "<__main__.ListNode at 0x2a102694d68>"
      ]
     },
     "execution_count": 3,
     "metadata": {},
     "output_type": "execute_result"
    }
   ],
   "source": [
    "class ListNode:\n",
    "    def __init__(self, x):\n",
    "        self.val = x\n",
    "        self.next = None\n",
    "\n",
    "class Solution:\n",
    "    def mergeTwoLists(self, l1, l2):\n",
    "        \"\"\"\n",
    "        :type l1: ListNode\n",
    "        :type l2: ListNode\n",
    "        :rtype: ListNode\n",
    "        \"\"\"\n",
    "        i=l1\n",
    "        j=l2\n",
    "        s0=ListNode(-1)\n",
    "        s = s0\n",
    "        while(i!=None and j!=None):\n",
    "            if(i.val<j.val):\n",
    "                s.next=i\n",
    "                i=i.next\n",
    "                s=s.next\n",
    "            else:\n",
    "                s.next=j\n",
    "                j=j.next\n",
    "                s=s.next\n",
    "        if(i==None):\n",
    "            s.next=j\n",
    "        else:\n",
    "            s.next=i\n",
    "        return s0.next\n",
    "l1=ListNode(1);\n",
    "l2=ListNode(2);\n",
    "Solution().mergeTwoLists(l1,l2)"
   ]
  },
  {
   "cell_type": "markdown",
   "metadata": {},
   "source": [
    "## JAVA迭代\n"
   ]
  },
  {
   "cell_type": "code",
   "execution_count": null,
   "metadata": {},
   "outputs": [],
   "source": [
    "package MergeTwoRankedList;\n",
    "\n",
    "import ListNode.ListNode;\n",
    "\n",
    "\n",
    "public class MergeTwoList {\n",
    "    public ListNode mergeTwoLists(ListNode l1, ListNode l2) {\n",
    "        ListNode i=l1;\n",
    "        ListNode j = l2;\n",
    "        ListNode s0=new ListNode(-1);\n",
    "        ListNode s=s0;\n",
    "        while(i!=null && j!=null){\n",
    "            if(i.val<j.val){\n",
    "                s.next=i;\n",
    "                i=i.next;\n",
    "                s=s.next;\n",
    "            }else{\n",
    "                s.next=j;\n",
    "                j=j.next;\n",
    "                s=s.next;\n",
    "            }\n",
    "        }\n",
    "        if(i==null){\n",
    "            s.next=j;\n",
    "        }else{\n",
    "            s.next=i;\n",
    "        }\n",
    "        return s0.next;\n",
    "    }\n",
    "\n",
    "    public static void main(String[] args) {\n",
    "        ListNode l1=new ListNode(1);\n",
    "        l1.next=new ListNode(3);\n",
    "        l1.next.next=new ListNode(4);\n",
    "        l1.showList();\n",
    "        ListNode l2=new ListNode(0);\n",
    "        l2.next=new ListNode(2);\n",
    "        l2.next.next=new ListNode(5);\n",
    "        l2.showList();\n",
    "        MergeTwoList solution = new MergeTwoList();\n",
    "        ListNode so = solution.mergeTwoLists(l1,l2);\n",
    "        so.showList();\n",
    "    }\n",
    "}"
   ]
  },
  {
   "cell_type": "markdown",
   "metadata": {},
   "source": [
    "## Java 递归"
   ]
  },
  {
   "cell_type": "code",
   "execution_count": null,
   "metadata": {},
   "outputs": [],
   "source": [
    "class Solution {\n",
    "    public ListNode mergeTwoLists(ListNode l1, ListNode l2) {//递归\n",
    "        if(l1==null) return l2;\n",
    "        if(l2==null) return l1;\n",
    "        ListNode head=null;\n",
    "        if(l1.val<=l2.val){\n",
    "            head=l1;\n",
    "            head.next=mergeTwoLists(l1.next,l2);\n",
    "        }else{\n",
    "            head=l2;\n",
    "            head.next=mergeTwoLists(l1,l2.next);\n",
    "        }\n",
    "        return head;\n",
    "    }\n",
    "}"
   ]
  }
 ],
 "metadata": {
  "kernelspec": {
   "display_name": "Python 3",
   "language": "python",
   "name": "python3"
  },
  "language_info": {
   "codemirror_mode": {
    "name": "ipython",
    "version": 3
   },
   "file_extension": ".py",
   "mimetype": "text/x-python",
   "name": "python",
   "nbconvert_exporter": "python",
   "pygments_lexer": "ipython3",
   "version": "3.6.5"
  },
  "toc": {
   "base_numbering": 1,
   "nav_menu": {},
   "number_sections": true,
   "sideBar": true,
   "skip_h1_title": false,
   "title_cell": "Table of Contents",
   "title_sidebar": "Contents",
   "toc_cell": false,
   "toc_position": {},
   "toc_section_display": true,
   "toc_window_display": false
  }
 },
 "nbformat": 4,
 "nbformat_minor": 2
}
