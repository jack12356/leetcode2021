{
 "cells": [
  {
   "cell_type": "markdown",
   "metadata": {},
   "source": [
    "# 3的幂\n",
    "给定一个整数，写一个函数来判断它是否是 3 的幂次方。\n",
    "\n",
    "示例 1:\n",
    "\n",
    "    输入: 27\n",
    "    输出: true\n",
    "    示例 2:\n",
    "\n",
    "    输入: 0\n",
    "    输出: false\n",
    "    示例 3:\n",
    "\n",
    "    输入: 9\n",
    "    输出: true\n",
    "    示例 4:\n",
    "\n",
    "    输入: 45\n",
    "    输出: false"
   ]
  },
  {
   "cell_type": "markdown",
   "metadata": {},
   "source": [
    "## 方法1（递归）\n",
    "思路：\n",
    "1. 判断`isPowerOfThree(n/3)&&n%3==0`;\n",
    "2. 如果n==1返回true;"
   ]
  },
  {
   "cell_type": "code",
   "execution_count": null,
   "metadata": {},
   "outputs": [],
   "source": [
    "public boolean isPowerOfThree(int n) {\n",
    "    if(n<=0) return false;\n",
    "    if(n==1) return true;\n",
    "    return isPowerOfThree(n/3)&&n%3==0;\n",
    "}"
   ]
  },
  {
   "cell_type": "markdown",
   "metadata": {},
   "source": [
    "## 迭代"
   ]
  },
  {
   "cell_type": "code",
   "execution_count": 19,
   "metadata": {
    "ExecuteTime": {
     "end_time": "2018-12-21T03:49+0000",
     "start_time": "2018-12-21T03:49:21.806Z"
    }
   },
   "outputs": [
    {
     "data": {
      "text/plain": [
       "false"
      ]
     },
     "execution_count": 19,
     "metadata": {},
     "output_type": "execute_result"
    }
   ],
   "source": [
    "public boolean isPowerOfThree2(int n) {\n",
    "    while(n>0){\n",
    "        if(n==1) return true;\n",
    "        int diff = n%3;\n",
    "        n=n/3;\n",
    "        if(diff!=0) return false;\n",
    "    }\n",
    "    return false;\n",
    "}\n",
    "\n",
    "isPowerOfThree2(5);"
   ]
  },
  {
   "cell_type": "markdown",
   "metadata": {},
   "source": [
    "## 方法2\n",
    "用对数"
   ]
  },
  {
   "cell_type": "code",
   "execution_count": 5,
   "metadata": {
    "ExecuteTime": {
     "end_time": "2018-12-21T03:44+0000",
     "start_time": "2018-12-21T03:44:41.653Z"
    }
   },
   "outputs": [],
   "source": [
    "public boolean isPowerOfThree(int n) {\n",
    "    double tem = Math.log10(n) / Math.log10(3.0);\n",
    "    System.out.println(tem);\n",
    "    if ((int)tem - tem == 0) // 判断一个数是否为整数的做法，值得学习\n",
    "        return true;\n",
    "    else\n",
    "        return false;\n",
    "}"
   ]
  },
  {
   "cell_type": "code",
   "execution_count": null,
   "metadata": {},
   "outputs": [],
   "source": []
  },
  {
   "cell_type": "markdown",
   "metadata": {},
   "source": [
    "## 方法三\n",
    "思路：\n",
    "3为质数，所以直接使用int下3的最大幂数，能被这个数整除则一定是3的幂数，因为3 为质数；"
   ]
  },
  {
   "cell_type": "code",
   "execution_count": 7,
   "metadata": {
    "ExecuteTime": {
     "end_time": "2018-12-21T03:45+0000",
     "start_time": "2018-12-21T03:45:10.283Z"
    },
    "code_folding": []
   },
   "outputs": [],
   "source": [
    "public boolean isPowerOfThree(int n) {\n",
    "     System.out.println(1162261467 %n);\n",
    "     return n>0 && (1162261467 %n)==0;\n",
    "}"
   ]
  },
  {
   "cell_type": "markdown",
   "metadata": {},
   "source": [
    "## 引申2的幂数\n",
    "思路：\n",
    "2的幂数是用二进制表示，最高位为1，其余为0，所以**`n&n-1==0`**"
   ]
  },
  {
   "cell_type": "code",
   "execution_count": null,
   "metadata": {},
   "outputs": [],
   "source": [
    "public boolean isPowerOfTwo(int n) {\n",
    "     return (n&n-1)==0;\n",
    "}"
   ]
  }
 ],
 "metadata": {
  "kernelspec": {
   "display_name": "Java",
   "language": "java",
   "name": "java"
  },
  "language_info": {
   "codemirror_mode": "java",
   "file_extension": ".java",
   "mimetype": "text/x-java-source",
   "name": "Java",
   "pygments_lexer": "java",
   "version": "11.0.1+13-LTS"
  },
  "toc": {
   "base_numbering": 1,
   "nav_menu": {},
   "number_sections": true,
   "sideBar": true,
   "skip_h1_title": false,
   "title_cell": "Table of Contents",
   "title_sidebar": "Contents",
   "toc_cell": false,
   "toc_position": {},
   "toc_section_display": true,
   "toc_window_display": false
  }
 },
 "nbformat": 4,
 "nbformat_minor": 2
}
