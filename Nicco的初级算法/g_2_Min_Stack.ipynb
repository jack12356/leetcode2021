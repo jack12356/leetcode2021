{
 "cells": [
  {
   "cell_type": "markdown",
   "metadata": {},
   "source": [
    "# 最小栈\n",
    "难度\n",
    "简单\n",
    "\n",
    "\n",
    "\n",
    "设计一个支持 push，pop，top 操作，并能在常数时间内检索到最小元素的栈。\n",
    "\n",
    "push(x) -- 将元素 x 推入栈中。\n",
    "pop() -- 删除栈顶的元素。\n",
    "top() -- 获取栈顶元素。\n",
    "getMin() -- 检索栈中的最小元素。\n",
    "示例:\n",
    "\n",
    "MinStack minStack = new MinStack();\n",
    "minStack.push(-2);\n",
    "minStack.push(0);\n",
    "minStack.push(-3);\n",
    "minStack.getMin();   --> 返回 -3.\n",
    "minStack.pop();\n",
    "minStack.top();      --> 返回 0.\n",
    "minStack.getMin();   --> 返回 -2."
   ]
  },
  {
   "cell_type": "code",
   "execution_count": 1,
   "metadata": {
    "ExecuteTime": {
     "end_time": "2018-12-20T08:09+0000",
     "start_time": "2018-12-20T08:09:08.101Z"
    }
   },
   "outputs": [],
   "source": [
    "class MinStack {\n",
    "\n",
    "    private Stack<Integer> data = new Stack<>();\n",
    "    private Stack<Integer> minData = new Stack<>();\n",
    "    /** initialize your data structure here. */\n",
    "    public MinStack() {\n",
    "\n",
    "    }\n",
    "\n",
    "    public void push(int x) {\n",
    "        data.push(x);\n",
    "        if(minData.isEmpty() || minData.peek() >= x) {\n",
    "            minData.push(x);\n",
    "        }\n",
    "    }\n",
    "\n",
    "    public void pop() {\n",
    "        int curData = data.pop();\n",
    "        if(curData == minData.peek()) {\n",
    "            minData.pop();\n",
    "        }\n",
    "    }\n",
    "\n",
    "    public int top() {\n",
    "        return data.peek();\n",
    "    }\n",
    "\n",
    "    public int getMin() {\n",
    "        return minData.peek();\n",
    "    }\n",
    "}"
   ]
  },
  {
   "cell_type": "code",
   "execution_count": 4,
   "metadata": {
    "ExecuteTime": {
     "end_time": "2018-12-20T08:09+0000",
     "start_time": "2018-12-20T08:09:49.038Z"
    }
   },
   "outputs": [
    {
     "data": {
      "text/plain": [
       "-2"
      ]
     },
     "execution_count": 4,
     "metadata": {},
     "output_type": "execute_result"
    }
   ],
   "source": [
    "MinStack minStack = new MinStack();\n",
    "minStack.push(-2);\n",
    "minStack.push(0);\n",
    "minStack.push(-3);\n",
    "minStack.getMin();   //--> 返回 -3.\n",
    "minStack.pop();\n",
    "minStack.top();      //--> 返回 0.\n",
    "minStack.getMin();   //--> 返回 -2."
   ]
  }
 ],
 "metadata": {
  "kernelspec": {
   "display_name": "Java",
   "language": "java",
   "name": "java"
  },
  "language_info": {
   "codemirror_mode": "java",
   "file_extension": ".java",
   "mimetype": "text/x-java-source",
   "name": "Java",
   "pygments_lexer": "java",
   "version": "11.0.1+13-LTS"
  },
  "toc": {
   "base_numbering": 1,
   "nav_menu": {},
   "number_sections": true,
   "sideBar": true,
   "skip_h1_title": false,
   "title_cell": "Table of Contents",
   "title_sidebar": "Contents",
   "toc_cell": false,
   "toc_position": {},
   "toc_section_display": true,
   "toc_window_display": false
  }
 },
 "nbformat": 4,
 "nbformat_minor": 2
}
