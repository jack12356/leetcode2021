{
 "cells": [
  {
   "cell_type": "markdown",
   "metadata": {},
   "source": [
    "# 删除链表中的节点\n",
    "请编写一个函数，使其可以删除某个链表中给定的（非末尾）节点，你将只被给定要求被删除的节点。\n",
    "\n",
    "现有一个链表 -- head = [4,5,1,9]，它可以表示为:\n",
    "\n",
    "   > 4 -> 5 -> 1 -> 9\n",
    "   \n",
    "示例 1:\n",
    "\n",
    ">输入: head = [4,5,1,9], node = 5\n",
    "\n",
    ">输出: [4,1,9]\n",
    "\n",
    "解释: 给定你链表中值为 5 的第二个节点，那么在调用了你的函数之后，该链表应变为 4 -> 1 -> 9.\n",
    "示例 2:\n",
    "\n",
    "> 输入: head = [4,5,1,9], node = 1\n",
    "\n",
    ">输出: [4,5,9]\n",
    "\n",
    "解释: 给定你链表中值为 1 的第三个节点，那么在调用了你的函数之后，该链表应变为 4 -> 5 -> 9.\n",
    "说明:\n",
    "\n",
    "链表至少包含两个节点。\n",
    "链表中所有节点的值都是唯一的。\n",
    "给定的节点为非末尾节点并且一定是链表中的一个有效节点。\n",
    "不要从你的函数中返回任何结果。"
   ]
  },
  {
   "cell_type": "code",
   "execution_count": 5,
   "metadata": {
    "ExecuteTime": {
     "end_time": "2018-12-17T12:12+0000",
     "start_time": "2018-12-17T12:12:28.497Z"
    }
   },
   "outputs": [],
   "source": [
    "public class ListNode {\n",
    "  int val;\n",
    "  ListNode next;\n",
    "  ListNode(int x) { val = x; }\n",
    "}\n",
    "\n",
    "class Solution {\n",
    "    public void deleteNode(ListNode node) {\n",
    "        node.val = node.next.val;\n",
    "        node.next = node.next.next;\n",
    "    }\n",
    "}"
   ]
  }
 ],
 "metadata": {
  "hide_input": false,
  "kernelspec": {
   "display_name": "Java",
   "language": "java",
   "name": "java"
  },
  "language_info": {
   "codemirror_mode": "java",
   "file_extension": ".java",
   "mimetype": "text/x-java-source",
   "name": "Java",
   "pygments_lexer": "java",
   "version": "11.0.1+13-LTS"
  },
  "toc": {
   "base_numbering": 1,
   "nav_menu": {},
   "number_sections": true,
   "sideBar": true,
   "skip_h1_title": false,
   "title_cell": "Table of Contents",
   "title_sidebar": "Contents",
   "toc_cell": false,
   "toc_position": {},
   "toc_section_display": true,
   "toc_window_display": false
  },
  "varInspector": {
   "cols": {
    "lenName": 16,
    "lenType": 16,
    "lenVar": 40
   },
   "kernels_config": {
    "python": {
     "delete_cmd_postfix": "",
     "delete_cmd_prefix": "del ",
     "library": "var_list.py",
     "varRefreshCmd": "print(var_dic_list())"
    },
    "r": {
     "delete_cmd_postfix": ") ",
     "delete_cmd_prefix": "rm(",
     "library": "var_list.r",
     "varRefreshCmd": "cat(var_dic_list()) "
    }
   },
   "types_to_exclude": [
    "module",
    "function",
    "builtin_function_or_method",
    "instance",
    "_Feature"
   ],
   "window_display": false
  }
 },
 "nbformat": 4,
 "nbformat_minor": 2
}
