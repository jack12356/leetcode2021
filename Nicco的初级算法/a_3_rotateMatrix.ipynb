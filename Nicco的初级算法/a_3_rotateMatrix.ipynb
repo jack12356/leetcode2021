{
 "cells": [
  {
   "cell_type": "markdown",
   "metadata": {},
   "source": [
    "## python多用空间答案"
   ]
  },
  {
   "cell_type": "code",
   "execution_count": null,
   "metadata": {},
   "outputs": [],
   "source": [
    "class Solution(object):\n",
    "    def rotate(self, nums, k):\n",
    "        \"\"\"\n",
    "        :type nums: List[int]\n",
    "        :type k: int\n",
    "        :rtype: void Do not return anything, modify nums in-place instead.\n",
    "        \"\"\"\n",
    "        k = k%len(nums)\n",
    "        nums[:k],nums[k:] = nums[len(nums)-k:],nums[:len(nums)-k]"
   ]
  },
  {
   "cell_type": "markdown",
   "metadata": {},
   "source": [
    "## java 超时答案"
   ]
  },
  {
   "cell_type": "code",
   "execution_count": null,
   "metadata": {},
   "outputs": [],
   "source": [
    "#java\n",
    "class Solution {\n",
    "    public void rotate(int[] nums, int k) {\n",
    "        int len = nums.length;\n",
    "        k = k%len;\n",
    "        for(int i=0;i<k;i++){\n",
    "            int temp = nums[len-1];\n",
    "            for(int j=len-1;j>0;j--){\n",
    "                nums[j]=nums[j-1];\n",
    "            }\n",
    "            nums[0] = temp;\n",
    "        }\n",
    "    }\n",
    "}"
   ]
  },
  {
   "cell_type": "markdown",
   "metadata": {},
   "source": [
    "## java正常答案（我写的是真原地算法，他们的都是假的！！！）"
   ]
  },
  {
   "cell_type": "markdown",
   "metadata": {},
   "source": [
    "核心就是三次反转 前n-k个翻转  后k个翻转  然后整个数组翻转就可以了"
   ]
  },
  {
   "cell_type": "code",
   "execution_count": 1,
   "metadata": {
    "ExecuteTime": {
     "end_time": "2018-12-13T12:57:01.793035Z",
     "start_time": "2018-12-13T12:57:01.781095Z"
    }
   },
   "outputs": [
    {
     "data": {
      "text/plain": [
       "[7, 6, 5, 4, 3, 2, 1]"
      ]
     },
     "execution_count": 1,
     "metadata": {},
     "output_type": "execute_result"
    }
   ],
   "source": [
    "class Solution {\n",
    "    public void rotate(int[] nums, int k) {\n",
    "        int len = nums.length;\n",
    "        k = k%len;\n",
    "        \n",
    "        // 翻转前n-k\n",
    "        len = len-k;\n",
    "        int mid = len/2;\n",
    "        int temp;\n",
    "        for(int i=0;i<mid;i++){\n",
    "            temp = nums[i];\n",
    "            nums[i] = nums[len-i-1];\n",
    "            nums[len-i-1] = temp;\n",
    "        }\n",
    "        //翻转后k个\n",
    "        len = nums.length;\n",
    "        mid = k/2;\n",
    "        for(int i=0;i<mid;i++){\n",
    "            temp = nums[len-k+i];\n",
    "            nums[len-k+i] = nums[len-i-1];\n",
    "            nums[len-i-1] = temp;\n",
    "        }\n",
    "        \n",
    "        //全部翻转\n",
    "        len = nums.length;\n",
    "        mid = len/2;\n",
    "        for(int i=0;i<mid;i++){\n",
    "            temp = nums[i];\n",
    "            nums[i] = nums[len-i-1];\n",
    "            nums[len-i-1] = temp;\n",
    "        }\n",
    "        \n",
    "    }\n",
    "}\n"
   ]
  },
  {
   "cell_type": "markdown",
   "metadata": {},
   "source": [
    "## python开辟空间答案"
   ]
  },
  {
   "cell_type": "code",
   "execution_count": 3,
   "metadata": {
    "ExecuteTime": {
     "end_time": "2018-12-13T12:59:50.630481Z",
     "start_time": "2018-12-13T12:59:50.623500Z"
    }
   },
   "outputs": [
    {
     "data": {
      "text/plain": [
       "[5, 6, 7, 1, 2, 3, 4]"
      ]
     },
     "execution_count": 3,
     "metadata": {},
     "output_type": "execute_result"
    }
   ],
   "source": [
    "nums=[1,2,3,4,5,6,7]\n",
    "k=3\n",
    "\n",
    "def rotate(nums, k):\n",
    "        \"\"\"\n",
    "        :type nums: List[int]\n",
    "        :type k: int\n",
    "        :rtype: void Do not return anything, modify nums in-place instead.\n",
    "        \"\"\"\n",
    "        # 核心就是三次反转 前n-k个翻转  后k个翻转  然后整个数组翻转就可以了\n",
    "        n = len(nums)\n",
    "        k = k%n\n",
    "        def fz(t):\n",
    "            leng = len(t)\n",
    "            mid = leng//2\n",
    "            for i in range(mid):\n",
    "                temp = t[i]\n",
    "                t[i] = t[leng-i-1]\n",
    "                t[leng-i-1] = temp\n",
    "            return t\n",
    "        nums[:n-k]=fz(nums[:n-k])\n",
    "        nums[n-k:]=fz(nums[n-k:])\n",
    "        nums = fz(nums)\n",
    "rotate(nums,k)\n",
    "\n",
    "nums"
   ]
  },
  {
   "cell_type": "code",
   "execution_count": null,
   "metadata": {},
   "outputs": [],
   "source": []
  }
 ],
 "metadata": {
  "kernelspec": {
   "display_name": "Python 3",
   "language": "python",
   "name": "python3"
  },
  "language_info": {
   "codemirror_mode": {
    "name": "ipython",
    "version": 3
   },
   "file_extension": ".py",
   "mimetype": "text/x-python",
   "name": "python",
   "nbconvert_exporter": "python",
   "pygments_lexer": "ipython3",
   "version": "3.6.5"
  },
  "toc": {
   "base_numbering": 1,
   "nav_menu": {},
   "number_sections": true,
   "sideBar": true,
   "skip_h1_title": false,
   "title_cell": "Table of Contents",
   "title_sidebar": "Contents",
   "toc_cell": false,
   "toc_position": {},
   "toc_section_display": true,
   "toc_window_display": false
  }
 },
 "nbformat": 4,
 "nbformat_minor": 2
}
