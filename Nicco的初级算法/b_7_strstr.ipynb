{
 "cells": [
  {
   "cell_type": "markdown",
   "metadata": {},
   "source": [
    "# 实现strStr()"
   ]
  },
  {
   "cell_type": "markdown",
   "metadata": {},
   "source": [
    "\n",
    "实现 strStr() 函数。\n",
    "\n",
    "给定一个 haystack 字符串和一个 needle 字符串，在 haystack 字符串中找出 needle 字符串出现的第一个位置 (从0开始)。如果不存在，则返回  -1。\n",
    "\n",
    "示例 1:\n",
    "> 输入: haystack = \"hello\", needle = \"ll\"\n",
    "\n",
    "> 输出: 2\n",
    "\n",
    "示例 2:\n",
    "\n",
    ">输入: haystack = \"aaaaa\", needle = \"bba\"\n",
    "\n",
    ">输出: -1\n",
    "说明:\n",
    "\n",
    "当 needle 是空字符串时，我们应当返回什么值呢？这是一个在面试中很好的问题。\n",
    "\n",
    "对于本题而言，当 needle 是空字符串时我们应当返回 0 。这与C语言的 strstr() 以及 Java的 indexOf() 定义相符。"
   ]
  },
  {
   "cell_type": "markdown",
   "metadata": {},
   "source": [
    "## java方法\n",
    "\n",
    "简而言之就是暴力算法，挨个比较"
   ]
  },
  {
   "cell_type": "code",
   "execution_count": 7,
   "metadata": {
    "ExecuteTime": {
     "end_time": "2018-12-17T04:23+0000",
     "start_time": "2018-12-17T04:23:16.656Z"
    }
   },
   "outputs": [
    {
     "name": "stdout",
     "output_type": "stream",
     "text": [
      "3\n"
     ]
    }
   ],
   "source": [
    "public class StrStr {\n",
    "    public int strStr(String haystack, String needle) {\n",
    "        int lenh = haystack.length();\n",
    "        int lenn = needle.length();\n",
    "        if(needle.isEmpty())\n",
    "            return 0;\n",
    "        char n0 = needle.charAt(0);\n",
    "        for (int i = 0; i < lenh-lenn+1; i++) {\n",
    "            char h0 = haystack.charAt(i);\n",
    "            if(h0==n0){\n",
    "                int j=0;\n",
    "                while(haystack.charAt(i+j)==needle.charAt(j)){\n",
    "                    j++;\n",
    "                    if(j==lenn){\n",
    "                        return i;\n",
    "                    }\n",
    "                }\n",
    "            }\n",
    "        }\n",
    "        return -1;\n",
    "    }\n",
    "\n",
    "    \n",
    "}\n",
    "\n",
    "StrStr solution =  new StrStr();\n",
    "String haystack = \"gdjhagdj\";\n",
    "String neelde = \"ha\";\n",
    "System.out.println(solution.strStr(haystack, neelde));\n"
   ]
  },
  {
   "cell_type": "code",
   "execution_count": 4,
   "metadata": {
    "ExecuteTime": {
     "end_time": "2018-12-17T06:35+0000",
     "start_time": "2018-12-17T06:35:19.036Z"
    }
   },
   "outputs": [
    {
     "data": {
      "text/plain": [
       "3"
      ]
     },
     "execution_count": 4,
     "metadata": {},
     "output_type": "execute_result"
    }
   ],
   "source": [
    "String.valueOf(6-3)"
   ]
  }
 ],
 "metadata": {
  "hide_input": false,
  "kernelspec": {
   "display_name": "Java",
   "language": "java",
   "name": "java"
  },
  "language_info": {
   "codemirror_mode": "java",
   "file_extension": ".java",
   "mimetype": "text/x-java-source",
   "name": "Java",
   "pygments_lexer": "java",
   "version": "11.0.1+13-LTS"
  },
  "toc": {
   "base_numbering": 1,
   "nav_menu": {},
   "number_sections": true,
   "sideBar": true,
   "skip_h1_title": false,
   "title_cell": "Table of Contents",
   "title_sidebar": "Contents",
   "toc_cell": false,
   "toc_position": {},
   "toc_section_display": true,
   "toc_window_display": false
  },
  "varInspector": {
   "cols": {
    "lenName": 16,
    "lenType": 16,
    "lenVar": 40
   },
   "kernels_config": {
    "python": {
     "delete_cmd_postfix": "",
     "delete_cmd_prefix": "del ",
     "library": "var_list.py",
     "varRefreshCmd": "print(var_dic_list())"
    },
    "r": {
     "delete_cmd_postfix": ") ",
     "delete_cmd_prefix": "rm(",
     "library": "var_list.r",
     "varRefreshCmd": "cat(var_dic_list()) "
    }
   },
   "types_to_exclude": [
    "module",
    "function",
    "builtin_function_or_method",
    "instance",
    "_Feature"
   ],
   "window_display": false
  }
 },
 "nbformat": 4,
 "nbformat_minor": 2
}
