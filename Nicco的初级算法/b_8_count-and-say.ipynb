{
 "cells": [
  {
   "cell_type": "markdown",
   "metadata": {},
   "source": [
    "# 报数\n",
    "报数序列是一个整数序列，按照其中的整数的顺序进行报数，得到下一个数。其前五项如下：\n",
    "\n",
    "1.     1\n",
    "2.     11\n",
    "3.     21\n",
    "4.     1211\n",
    "5.     111221\n",
    "1 被读作  \"one 1\"  (\"一个一\") , 即 11。\n",
    "11 被读作 \"two 1s\" (\"两个一\"）, 即 21。\n",
    "21 被读作 \"one 2\",  \"one 1\" （\"一个二\" ,  \"一个一\") , 即 1211。\n",
    "\n",
    "给定一个正整数 n（1 ≤ n ≤ 30），输出报数序列的第 n 项。\n",
    "\n",
    "注意：整数顺序将表示为一个字符串。"
   ]
  },
  {
   "cell_type": "code",
   "execution_count": 1,
   "metadata": {
    "ExecuteTime": {
     "end_time": "2018-12-17T05:27:43.363790Z",
     "start_time": "2018-12-17T05:27:43.334866Z"
    }
   },
   "outputs": [
    {
     "data": {
      "text/plain": [
       "'1211'"
      ]
     },
     "execution_count": 1,
     "metadata": {},
     "output_type": "execute_result"
    }
   ],
   "source": [
    "def countAndSayStr(s):\n",
    "    \"\"\"\n",
    "    :type s: str\n",
    "    :rtype: str\n",
    "    \"\"\"\n",
    "    result = ''\n",
    "    leng=len(s)\n",
    "    i=0\n",
    "    while(i<leng):\n",
    "        #i==leng-1时候也可以判断，核心在于j可以取值到len\n",
    "        for j in range(i+1,leng+1,1):\n",
    "            if((j==leng)or(s[i]!=s[j])):\n",
    "                result = result+str(j-i)+s[i]\n",
    "                i=j\n",
    "    return result\n",
    "def countAndSay(n):\n",
    "    \"\"\"\n",
    "    :type n: int\n",
    "    :rtype: str\n",
    "    \"\"\"\n",
    "    s='1'\n",
    "    for i in range(n-1):\n",
    "        s = countAndSayStr(s)\n",
    "    return s\n",
    "\n",
    "s=4\n",
    "countAndSay(s)"
   ]
  },
  {
   "cell_type": "markdown",
   "metadata": {},
   "source": [
    "## java方法"
   ]
  },
  {
   "cell_type": "code",
   "execution_count": null,
   "metadata": {
    "code_folding": [],
    "collapsed": true
   },
   "outputs": [],
   "source": [
    "public class CountAndSay {\n",
    "    public String countAndSay(int n) {\n",
    "        int len;\n",
    "        String result=\"1\";\n",
    "        for (int m = 0; m < n-1; m++) {\n",
    "            len = result.length();\n",
    "            int i=0;\n",
    "            String t=\"\";\n",
    "            while (i<len){\n",
    "                for (int j = i+1; j < len+1; j++) {\n",
    "                    if(j==len||(result.charAt(i)!=result.charAt(j))){\n",
    "                        t = t+String.valueOf(j-i)+result.charAt(i);\n",
    "                        i=j;\n",
    "                    }\n",
    "                }\n",
    "            }\n",
    "            result = t;\n",
    "        }\n",
    "        return result;\n",
    "    }\n",
    "\n",
    "    public static void main(String[] args) {\n",
    "        CountAndSay solution = new CountAndSay();\n",
    "        int n = 5;\n",
    "        System.out.println(solution.countAndSay(n));\n",
    "    }\n",
    "\n",
    "}"
   ]
  }
 ],
 "metadata": {
  "hide_input": false,
  "kernelspec": {
   "display_name": "Python 3",
   "language": "python",
   "name": "python3"
  },
  "language_info": {
   "codemirror_mode": {
    "name": "ipython",
    "version": 3
   },
   "file_extension": ".py",
   "mimetype": "text/x-python",
   "name": "python",
   "nbconvert_exporter": "python",
   "pygments_lexer": "ipython3",
   "version": "3.6.2"
  },
  "toc": {
   "base_numbering": 1,
   "nav_menu": {},
   "number_sections": true,
   "sideBar": true,
   "skip_h1_title": false,
   "title_cell": "Table of Contents",
   "title_sidebar": "Contents",
   "toc_cell": false,
   "toc_position": {},
   "toc_section_display": true,
   "toc_window_display": false
  },
  "varInspector": {
   "cols": {
    "lenName": 16,
    "lenType": 16,
    "lenVar": 40
   },
   "kernels_config": {
    "python": {
     "delete_cmd_postfix": "",
     "delete_cmd_prefix": "del ",
     "library": "var_list.py",
     "varRefreshCmd": "print(var_dic_list())"
    },
    "r": {
     "delete_cmd_postfix": ") ",
     "delete_cmd_prefix": "rm(",
     "library": "var_list.r",
     "varRefreshCmd": "cat(var_dic_list()) "
    }
   },
   "types_to_exclude": [
    "module",
    "function",
    "builtin_function_or_method",
    "instance",
    "_Feature"
   ],
   "window_display": false
  }
 },
 "nbformat": 4,
 "nbformat_minor": 2
}
