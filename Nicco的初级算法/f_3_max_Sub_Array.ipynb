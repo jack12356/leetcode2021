{
 "cells": [
  {
   "cell_type": "markdown",
   "metadata": {},
   "source": [
    "# 最大子序和\n",
    "给定一个整数数组 nums ，找到一个具有最大和的连续子数组（子数组最少包含一个元素），返回其最大和。\n",
    "\n",
    "示例:\n",
    "\n",
    "输入: [-2,1,-3,4,-1,2,1,-5,4],\n",
    "\n",
    "输出: 6\n",
    "\n",
    "解释: 连续子数组 [4,-1,2,1] 的和最大，为 6。\n",
    "\n",
    "进阶:\n",
    "\n",
    "如果你已经实现复杂度为 O(n) 的解法，尝试使用更为精妙的分治法求解。"
   ]
  },
  {
   "cell_type": "markdown",
   "metadata": {},
   "source": [
    "**想法**：这里的最大连续数组和其实可以喝上一个买卖股票转换，股票每相邻两天的差值就是这个数组，**股票的最大利润就是这里的最大连续和**。"
   ]
  },
  {
   "cell_type": "markdown",
   "metadata": {},
   "source": [
    "## 暴力动态规划法（O(n2)）"
   ]
  },
  {
   "cell_type": "code",
   "execution_count": null,
   "metadata": {
    "collapsed": true
   },
   "outputs": [],
   "source": [
    "public int maxSubArray(int[] nums) {\n",
    "    int len = nums.length;\n",
    "    if(len==0)\n",
    "        return 0;\n",
    "    int [][]d = new int[len][len];\n",
    "    int max = nums[0];\n",
    "    for (int i = 0; i < len; i++) {\n",
    "        d[i][i]=nums[i];\n",
    "        max=d[i][i]>max?d[i][i]:max;\n",
    "        if (nums[i]<0)\n",
    "            continue;\n",
    "        for (int j = i+1; j < len; j++) {\n",
    "            d[i][j] = d[i][j-1]+nums[j];\n",
    "            max=d[i][j]>max?d[i][j]:max;\n",
    "        }\n",
    "    }\n",
    "    return max;\n",
    "}"
   ]
  },
  {
   "cell_type": "markdown",
   "metadata": {},
   "source": [
    "## 动态规划法"
   ]
  },
  {
   "cell_type": "markdown",
   "metadata": {},
   "source": [
    "```\n",
    "d[i]=max(d[i-1]+nums[i],d[i-1])\n",
    "```"
   ]
  },
  {
   "cell_type": "code",
   "execution_count": null,
   "metadata": {
    "collapsed": true
   },
   "outputs": [],
   "source": [
    "class Solution {\n",
    "    public int maxSubArray(int[] nums) {// 动态规划法\n",
    "        int sum=nums[0];\n",
    "        int n=nums[0];\n",
    "        for(int i=1;i<nums.length;i++) {\n",
    "            if(n>0)n+=nums[i];\n",
    "            else n=nums[i];\n",
    "            if(sum<n)sum=n;\n",
    "        }\n",
    "        return sum;\n",
    "    }\n",
    "}"
   ]
  },
  {
   "cell_type": "markdown",
   "metadata": {},
   "source": [
    "## 普通方法"
   ]
  },
  {
   "cell_type": "markdown",
   "metadata": {},
   "source": [
    "对于前面的和cur，如果大于0，则加上当前的值作比较；\n",
    "\n",
    "如果小于0，则对最大和没有作用，直接赋给新的值。"
   ]
  },
  {
   "cell_type": "code",
   "execution_count": null,
   "metadata": {
    "collapsed": true
   },
   "outputs": [],
   "source": [
    "public int maxSubArray(int[] nums) {\n",
    "        int len=nums.length;\n",
    "        if(len==0)\n",
    "            return 0;\n",
    "        int max = nums[0];\n",
    "        int cur = 0;\n",
    "        for (int i = 0; i < len; i++) {\n",
    "            if(cur>0){\n",
    "                cur+=nums[i];\n",
    "            }else{\n",
    "                cur=nums[i];\n",
    "            }\n",
    "            max = cur>max?cur:max;\n",
    "        }\n",
    "        return max;\n",
    "    }"
   ]
  },
  {
   "cell_type": "markdown",
   "metadata": {},
   "source": [
    "## 转换成最大股票利润\n",
    "思路：\n",
    "1. 将nums其理解为股票每两天的差值，增加第0天，转换为求股票最大利润。\n",
    "2. 当最大利润为0时候，代表nums里面全为负数，股票一直跌，所以返回nums最大值。"
   ]
  },
  {
   "cell_type": "code",
   "execution_count": null,
   "metadata": {
    "collapsed": true
   },
   "outputs": [],
   "source": [
    "public int maxSubArray(int[] nums) {\n",
    "        int len=nums.length;\n",
    "        if(len==0)return 0;\n",
    "        int []prices = new int[len+1];\n",
    "        int max = nums[0];\n",
    "        prices[0]=0;\n",
    "        for (int i = 0; i < len; i++) {\n",
    "            max = nums[i]>max?nums[i]:max;\n",
    "            prices[i+1]=nums[i];\n",
    "        }\n",
    "        for (int i = 1; i < len+1; i++) {\n",
    "            prices[i] += prices[i-1];\n",
    "        }\n",
    "        int min = Integer.MAX_VALUE;\n",
    "        int profit = Integer.MIN_VALUE;\n",
    "        for (int price : prices) {\n",
    "            min = Math.min(min, price);\n",
    "            profit = Math.max(profit, price - min);\n",
    "        }\n",
    "        return profit==0?max:profit;\n",
    "    }"
   ]
  }
 ],
 "metadata": {
  "hide_input": false,
  "kernelspec": {
   "display_name": "Java",
   "language": "java",
   "name": "java"
  },
  "language_info": {
   "codemirror_mode": "java",
   "file_extension": ".java",
   "mimetype": "text/x-java-source",
   "name": "Java",
   "pygments_lexer": "java",
   "version": "11.0.1+13-LTS"
  },
  "toc": {
   "base_numbering": 1,
   "nav_menu": {},
   "number_sections": true,
   "sideBar": true,
   "skip_h1_title": false,
   "title_cell": "Table of Contents",
   "title_sidebar": "Contents",
   "toc_cell": false,
   "toc_position": {},
   "toc_section_display": true,
   "toc_window_display": false
  },
  "varInspector": {
   "cols": {
    "lenName": 16,
    "lenType": 16,
    "lenVar": 40
   },
   "kernels_config": {
    "python": {
     "delete_cmd_postfix": "",
     "delete_cmd_prefix": "del ",
     "library": "var_list.py",
     "varRefreshCmd": "print(var_dic_list())"
    },
    "r": {
     "delete_cmd_postfix": ") ",
     "delete_cmd_prefix": "rm(",
     "library": "var_list.r",
     "varRefreshCmd": "cat(var_dic_list()) "
    }
   },
   "types_to_exclude": [
    "module",
    "function",
    "builtin_function_or_method",
    "instance",
    "_Feature"
   ],
   "window_display": false
  }
 },
 "nbformat": 4,
 "nbformat_minor": 2
}
