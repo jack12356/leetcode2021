{
 "cells": [
  {
   "cell_type": "code",
   "execution_count": 22,
   "metadata": {
    "ExecuteTime": {
     "end_time": "2018-12-14T02:49:48.146373Z",
     "start_time": "2018-12-14T02:49:48.143368Z"
    }
   },
   "outputs": [],
   "source": [
    "s='nihaoa'"
   ]
  },
  {
   "cell_type": "code",
   "execution_count": 17,
   "metadata": {
    "ExecuteTime": {
     "end_time": "2018-12-14T02:53:05.412052Z",
     "start_time": "2018-12-14T02:53:05.406069Z"
    }
   },
   "outputs": [
    {
     "data": {
      "text/plain": [
       "'aoahin'"
      ]
     },
     "execution_count": 17,
     "metadata": {},
     "output_type": "execute_result"
    }
   ],
   "source": [
    "def reverseString(s):\n",
    "        \"\"\"\n",
    "        :type s: str\n",
    "        :rtype: str\n",
    "        \"\"\"\n",
    "        t=''\n",
    "        n=len(s)\n",
    "        for i in range(n-1,-1,-1):\n",
    "            t+=s[i]\n",
    "        return t\n",
    "reverseString(s)"
   ]
  },
  {
   "cell_type": "markdown",
   "metadata": {},
   "source": [
    "使用**[::-1]**可以将数组里面内容翻转"
   ]
  },
  {
   "cell_type": "code",
   "execution_count": 23,
   "metadata": {},
   "outputs": [],
   "source": [
    "class Solution:\n",
    "    def reverseString(self, s):\n",
    "        return s[::-1]\n",
    "    def reverseString_nicco(self, s: str):\n",
    "        if not s:\n",
    "            return s\n",
    "        s = list(s)\n",
    "        lf:int = 0\n",
    "        rt:int = len(s)-1\n",
    "        while(lf<rt):\n",
    "            char = s[lf]\n",
    "            s[lf] = s[rt]\n",
    "            s[rt] = char\n",
    "            lf+=1\n",
    "            rt-=1\n",
    "        return str(s)"
   ]
  },
  {
   "cell_type": "code",
   "execution_count": 25,
   "metadata": {},
   "outputs": [
    {
     "data": {
      "text/plain": [
       "\"['a', 'o', 'a', 'h', 'i', 'n']\""
      ]
     },
     "execution_count": 25,
     "metadata": {},
     "output_type": "execute_result"
    }
   ],
   "source": [
    "s='nihaoa'\n",
    "a = Solution().reverseString_nicco(s)\n",
    "a\n",
    "# list(s)"
   ]
  },
  {
   "cell_type": "markdown",
   "metadata": {},
   "source": [
    "## java解法"
   ]
  },
  {
   "cell_type": "code",
   "execution_count": null,
   "metadata": {},
   "outputs": [],
   "source": [
    "class Solution {\n",
    "    public String reverseString(String s) {\n",
    "        int length = s.length();\n",
    "        char[] str = s.toCharArray();\n",
    "        for(int i = 0;i < length / 2;i++){\n",
    "            char temp = str[i];\n",
    "            str[i] = str[length - 1 - i];\n",
    "            str[length - 1 - i] = temp;\n",
    "        }\n",
    "        return new String(str);\n",
    "    }\n",
    "}"
   ]
  }
 ],
 "metadata": {
  "kernelspec": {
   "display_name": "Python 3",
   "language": "python",
   "name": "python3"
  },
  "language_info": {
   "codemirror_mode": {
    "name": "ipython",
    "version": 3
   },
   "file_extension": ".py",
   "mimetype": "text/x-python",
   "name": "python",
   "nbconvert_exporter": "python",
   "pygments_lexer": "ipython3",
   "version": "3.7.6"
  },
  "toc": {
   "base_numbering": 1,
   "nav_menu": {},
   "number_sections": true,
   "sideBar": true,
   "skip_h1_title": false,
   "title_cell": "Table of Contents",
   "title_sidebar": "Contents",
   "toc_cell": false,
   "toc_position": {},
   "toc_section_display": true,
   "toc_window_display": false
  }
 },
 "nbformat": 4,
 "nbformat_minor": 2
}
