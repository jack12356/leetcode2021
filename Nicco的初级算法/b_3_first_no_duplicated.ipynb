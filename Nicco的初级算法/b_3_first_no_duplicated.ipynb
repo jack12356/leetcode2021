{
 "cells": [
  {
   "cell_type": "markdown",
   "metadata": {},
   "source": [
    "## python初版"
   ]
  },
  {
   "cell_type": "markdown",
   "metadata": {},
   "source": [
    "思路1：字典法找到不重复的，然后从头遍历；"
   ]
  },
  {
   "cell_type": "code",
   "execution_count": 2,
   "metadata": {},
   "outputs": [],
   "source": [
    "class Solution:\n",
    "    def firstUniqChar(self, s):\n",
    "        \"\"\"\n",
    "        :type s: str\n",
    "        :rtype: int\n",
    "        \"\"\"\n",
    "        m:dict ={}\n",
    "        for i in s:\n",
    "            m[i] = m.get(i,0) + 1\n",
    "        for idx,i in enumerate(s):\n",
    "            if m.get(i) == 1:\n",
    "                return idx\n",
    "        return -1"
   ]
  },
  {
   "cell_type": "code",
   "execution_count": 7,
   "metadata": {},
   "outputs": [
    {
     "data": {
      "text/plain": [
       "-1"
      ]
     },
     "execution_count": 7,
     "metadata": {},
     "output_type": "execute_result"
    }
   ],
   "source": [
    "Solution().firstUniqChar(\"288492394131\")"
   ]
  },
  {
   "cell_type": "code",
   "execution_count": 5,
   "metadata": {
    "ExecuteTime": {
     "end_time": "2018-12-14T03:49:26.224590Z",
     "start_time": "2018-12-14T03:49:26.221590Z"
    }
   },
   "outputs": [
    {
     "data": {
      "text/plain": [
       "['a', 'b', 'v']"
      ]
     },
     "execution_count": 5,
     "metadata": {},
     "output_type": "execute_result"
    }
   ],
   "source": [
    "class Solution:\n",
    "    def firstUniqChar(self, s):\n",
    "        \"\"\"\n",
    "        :type s: str\n",
    "        :rtype: int\n",
    "        \"\"\"\n",
    "        m={}\n",
    "        for i in s:\n",
    "            if i not in m.keys():\n",
    "                m[i]=1 \n",
    "            else :\n",
    "                m[i]=-1\n",
    "        for i in range(len(s)):\n",
    "            if (m.get(s[i]))>0:\n",
    "                return i\n",
    "        return -1"
   ]
  },
  {
   "cell_type": "code",
   "execution_count": 19,
   "metadata": {
    "ExecuteTime": {
     "end_time": "2018-12-14T04:16:04.101271Z",
     "start_time": "2018-12-14T04:16:04.094275Z"
    }
   },
   "outputs": [
    {
     "name": "stdout",
     "output_type": "stream",
     "text": [
      "['b', 'd']\n"
     ]
    },
    {
     "data": {
      "text/plain": [
       "0"
      ]
     },
     "execution_count": 19,
     "metadata": {},
     "output_type": "execute_result"
    }
   ],
   "source": [
    "def firstUniqChar(self, s):\n",
    "    \"\"\"\n",
    "    :type s: str\n",
    "    :rtype: int\n",
    "    \"\"\"\n",
    "    from collections import OrderedDict\n",
    "    m=OrderedDict()\n",
    "    for i in s:\n",
    "        if i not in m.keys():\n",
    "            m[i]=1 \n",
    "        else :\n",
    "            m[i]=-1\n",
    "    for key in m.keys():\n",
    "        if m.get(key)>0:\n",
    "            return s.find(key)\n",
    "    return -1\n",
    "firstUniqChar(s)"
   ]
  },
  {
   "cell_type": "code",
   "execution_count": 25,
   "metadata": {
    "ExecuteTime": {
     "end_time": "2018-12-14T04:25:10.120505Z",
     "start_time": "2018-12-14T04:25:10.117500Z"
    }
   },
   "outputs": [],
   "source": [
    "s='leetcodelove'"
   ]
  },
  {
   "cell_type": "code",
   "execution_count": 26,
   "metadata": {
    "ExecuteTime": {
     "end_time": "2018-12-14T04:25:10.826396Z",
     "start_time": "2018-12-14T04:25:10.820412Z"
    }
   },
   "outputs": [
    {
     "data": {
      "text/plain": [
       "3"
      ]
     },
     "execution_count": 26,
     "metadata": {},
     "output_type": "execute_result"
    }
   ],
   "source": [
    "def firstUniqChar(s):\n",
    "    \"\"\"\n",
    "    :type s: str\n",
    "    :rtype: int\n",
    "    \"\"\"\n",
    "    t=[]\n",
    "    tt=[]\n",
    "    for i in s:\n",
    "        if (i not in t) and (i not in tt):\n",
    "            t.append(i)\n",
    "        else :\n",
    "            tt.append(i)\n",
    "            try:\n",
    "                t.remove(i)\n",
    "            except:\n",
    "                pass\n",
    "    if len(t)==0:\n",
    "        return -1\n",
    "    return s.find(t[0])\n",
    "firstUniqChar(s)"
   ]
  },
  {
   "cell_type": "markdown",
   "metadata": {},
   "source": [
    "## java算法"
   ]
  },
  {
   "cell_type": "markdown",
   "metadata": {},
   "source": [
    "看从头找和从尾找索引是否一样"
   ]
  },
  {
   "cell_type": "code",
   "execution_count": null,
   "metadata": {},
   "outputs": [],
   "source": [
    "class Solution {\n",
    "    public int firstUniqChar(String s) {\n",
    "          int res = -1;\n",
    "        for(char i ='a';i<='z';i++){\n",
    "            int index = s.indexOf(i);\n",
    "            if(index!=-1 && index == s.lastIndexOf(i)){\n",
    "                res = (res==-1 || res > index) ? index : res;\n",
    "            }\n",
    "        }\n",
    "        return res;\n",
    "    }\n",
    "}"
   ]
  },
  {
   "cell_type": "markdown",
   "metadata": {},
   "source": [
    "思路：判断第一个索引于最后一个索引是否一致"
   ]
  },
  {
   "cell_type": "code",
   "execution_count": null,
   "metadata": {},
   "outputs": [],
   "source": [
    "class Solution {\n",
    "    public int firstUniqChar(String s) {\n",
    "          int res = -1;\n",
    "        for(char i ='a';i<='z';i++){\n",
    "            int index = s.indexOf(i);\n",
    "            if(index!=-1 && index == s.lastIndexOf(i)){\n",
    "                res = (res==-1 || res > index) ? index : res;\n",
    "            }\n",
    "        }\n",
    "        return res;\n",
    "    }\n",
    "}"
   ]
  }
 ],
 "metadata": {
  "kernelspec": {
   "display_name": "Python 3",
   "language": "python",
   "name": "python3"
  },
  "language_info": {
   "codemirror_mode": {
    "name": "ipython",
    "version": 3
   },
   "file_extension": ".py",
   "mimetype": "text/x-python",
   "name": "python",
   "nbconvert_exporter": "python",
   "pygments_lexer": "ipython3",
   "version": "3.7.6"
  },
  "toc": {
   "base_numbering": 1,
   "nav_menu": {},
   "number_sections": true,
   "sideBar": true,
   "skip_h1_title": false,
   "title_cell": "Table of Contents",
   "title_sidebar": "Contents",
   "toc_cell": false,
   "toc_position": {},
   "toc_section_display": true,
   "toc_window_display": false
  }
 },
 "nbformat": 4,
 "nbformat_minor": 2
}
