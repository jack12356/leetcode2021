{
 "cells": [
  {
   "cell_type": "code",
   "execution_count": 33,
   "metadata": {
    "ExecuteTime": {
     "end_time": "2018-12-12T09:08:23.625223Z",
     "start_time": "2018-12-12T09:08:23.620201Z"
    }
   },
   "outputs": [],
   "source": [
    "class Solution:\n",
    "    def maxProfit(self, prices):\n",
    "        \"\"\"\n",
    "        :type prices: List[int]\n",
    "        :rtype: int\n",
    "        \"\"\"\n",
    "        if len(prices)<=1:\n",
    "            return 0\n",
    "        i=0\n",
    "        j=len(prices)-1\n",
    "        temp_fit = prices[j]-prices[j-1]\n",
    "        if temp_fit<=0:\n",
    "            profit=self.maxProfit(prices[i:j])\n",
    "        else:\n",
    "            profit=temp_fit+self.maxProfit(prices[i:j])\n",
    "        return profit"
   ]
  },
  {
   "cell_type": "code",
   "execution_count": null,
   "metadata": {},
   "outputs": [],
   "source": [
    "# java代码\n",
    "\n",
    "# class Solution {\n",
    "#     public int maxProfit(int[] prices) {\n",
    "#         if (prices.length<=1){\n",
    "#             return 0;\n",
    "#         }\n",
    "#         int j=prices.length-1;\n",
    "#         int profit=0;\n",
    "#         if (prices[j]<=prices[j-1]){\n",
    "#             profit=maxProfit(Arrays.copyOfRange(prices, 0, j));\n",
    "#         }\n",
    "#         else{\n",
    "#             profit=prices[j]-prices[j-1]+maxProfit(Arrays.copyOfRange(prices, 0, j));\n",
    "#         }           \n",
    "#         return profit;\n",
    "#     }\n",
    "# }\n",
    "# "
   ]
  }
 ],
 "metadata": {
  "kernelspec": {
   "display_name": "Python 3",
   "language": "python",
   "name": "python3"
  },
  "language_info": {
   "codemirror_mode": {
    "name": "ipython",
    "version": 3
   },
   "file_extension": ".py",
   "mimetype": "text/x-python",
   "name": "python",
   "nbconvert_exporter": "python",
   "pygments_lexer": "ipython3",
   "version": "3.6.5"
  },
  "toc": {
   "base_numbering": 1,
   "nav_menu": {},
   "number_sections": true,
   "sideBar": true,
   "skip_h1_title": false,
   "title_cell": "Table of Contents",
   "title_sidebar": "Contents",
   "toc_cell": false,
   "toc_position": {},
   "toc_section_display": true,
   "toc_window_display": false
  }
 },
 "nbformat": 4,
 "nbformat_minor": 2
}
