{
 "cells": [
  {
   "cell_type": "markdown",
   "metadata": {},
   "source": [
    "# 环形链表\n",
    "\n",
    "给定一个链表，判断链表中是否有环。\n",
    "\n",
    "为了表示给定链表中的环，我们使用整数 pos 来表示链表尾连接到链表中的位置（索引从 0 开始）。 如果 pos 是 -1，则在该链表中没有环。\n",
    "\n",
    " \n",
    "\n",
    "示例 1：\n",
    "\n",
    "输入：head = [3,2,0,-4], pos = 1\n",
    "输出：true\n",
    "解释：链表中有一个环，其尾部连接到第二个节点。\n",
    "\n",
    "\n",
    "示例 2：\n",
    "\n",
    "输入：head = [1,2], pos = 0\n",
    "输出：true\n",
    "解释：链表中有一个环，其尾部连接到第一个节点。\n",
    "\n",
    "\n",
    "示例 3：\n",
    "\n",
    "输入：head = [1], pos = -1\n",
    "输出：false\n",
    "解释：链表中没有环。\n",
    "\n",
    "\n",
    " \n",
    "\n",
    "进阶：\n",
    "\n",
    "你能用 O(1)（即，常量）内存解决此问题吗？"
   ]
  },
  {
   "cell_type": "markdown",
   "metadata": {},
   "source": [
    "思路： 使用快指针追慢指针"
   ]
  },
  {
   "cell_type": "code",
   "execution_count": null,
   "metadata": {},
   "outputs": [],
   "source": [
    "class ListNode {\n",
    "    int val;\n",
    "    ListNode next;\n",
    "    ListNode(int x) {\n",
    "         val = x;\n",
    "         next = null;\n",
    "     }\n",
    " }\n",
    "\n",
    "public class Solution {\n",
    "    public boolean hasCycle(ListNode head) {\n",
    "        ListNode slow = head;\n",
    "        ListNode fast = head;\n",
    "        while(slow!=null&&fast!=null){\n",
    "            slow=slow.next;\n",
    "            fast=fast.next;\n",
    "            if(fast!=null)\n",
    "                fast=fast.next;\n",
    "            if(slow==fast&&slow!=null)\n",
    "                return true;\n",
    "        }\n",
    "        return false;\n",
    "    }\n",
    "}"
   ]
  }
 ],
 "metadata": {
  "kernelspec": {
   "display_name": "Python 3",
   "language": "python",
   "name": "python3"
  },
  "language_info": {
   "codemirror_mode": {
    "name": "ipython",
    "version": 3
   },
   "file_extension": ".py",
   "mimetype": "text/x-python",
   "name": "python",
   "nbconvert_exporter": "python",
   "pygments_lexer": "ipython3",
   "version": "3.6.5"
  },
  "toc": {
   "base_numbering": 1,
   "nav_menu": {},
   "number_sections": true,
   "sideBar": true,
   "skip_h1_title": false,
   "title_cell": "Table of Contents",
   "title_sidebar": "Contents",
   "toc_cell": false,
   "toc_position": {},
   "toc_section_display": true,
   "toc_window_display": false
  }
 },
 "nbformat": 4,
 "nbformat_minor": 2
}
