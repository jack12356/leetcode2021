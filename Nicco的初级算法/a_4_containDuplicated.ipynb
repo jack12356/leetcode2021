{
 "cells": [
  {
   "cell_type": "code",
   "execution_count": 34,
   "metadata": {
    "ExecuteTime": {
     "end_time": "2018-12-12T13:17:21.510523Z",
     "start_time": "2018-12-12T13:17:21.502545Z"
    }
   },
   "outputs": [
    {
     "name": "stdout",
     "output_type": "stream",
     "text": [
      "temp: 7\n",
      "4\n",
      "7\n",
      "temp: 8\n",
      "5\n",
      "8\n",
      "temp: 9\n",
      "6\n",
      "9\n"
     ]
    },
    {
     "data": {
      "text/plain": [
       "[7, 8, 9, 1, 2, 3, 1, 2, 3]"
      ]
     },
     "execution_count": 34,
     "metadata": {},
     "output_type": "execute_result"
    }
   ],
   "source": [
    "#Java代码\n",
    "\n",
    "# class Solution {\n",
    "#     public boolean containsDuplicate(int[] nums) {\n",
    "#         if(nums.length<=1){\n",
    "#             return false;\n",
    "#         }\n",
    "#         Arrays.sort(nums);\n",
    "#         for(int i=0;i<nums.length-1;i++){\n",
    "#             if (nums[i]==nums[i+1]){\n",
    "#                     return true;\n",
    "#             }\n",
    "#         }\n",
    "#         return false;\n",
    "#     }\n",
    "# }"
   ]
  }
 ],
 "metadata": {
  "kernelspec": {
   "display_name": "Python 3",
   "language": "python",
   "name": "python3"
  },
  "language_info": {
   "codemirror_mode": {
    "name": "ipython",
    "version": 3
   },
   "file_extension": ".py",
   "mimetype": "text/x-python",
   "name": "python",
   "nbconvert_exporter": "python",
   "pygments_lexer": "ipython3",
   "version": "3.6.5"
  },
  "toc": {
   "base_numbering": 1,
   "nav_menu": {},
   "number_sections": true,
   "sideBar": true,
   "skip_h1_title": false,
   "title_cell": "Table of Contents",
   "title_sidebar": "Contents",
   "toc_cell": false,
   "toc_position": {},
   "toc_section_display": true,
   "toc_window_display": false
  }
 },
 "nbformat": 4,
 "nbformat_minor": 2
}
