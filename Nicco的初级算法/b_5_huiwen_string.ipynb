{
 "cells": [
  {
   "cell_type": "markdown",
   "metadata": {},
   "source": [
    "## python 方法\n",
    "使用前后对比，查看结果。"
   ]
  },
  {
   "cell_type": "code",
   "execution_count": 5,
   "metadata": {
    "ExecuteTime": {
     "end_time": "2018-12-14T07:57:43.943468Z",
     "start_time": "2018-12-14T07:57:43.939479Z"
    }
   },
   "outputs": [],
   "source": [
    "s=\"A man, a plan, a canal: Panama\""
   ]
  },
  {
   "cell_type": "code",
   "execution_count": 38,
   "metadata": {
    "ExecuteTime": {
     "end_time": "2018-12-14T07:56:41.635340Z",
     "start_time": "2018-12-14T07:56:41.629329Z"
    }
   },
   "outputs": [],
   "source": [
    "class Solution:\n",
    "    def isPalindrome(self, s):\n",
    "        \"\"\"\n",
    "        :type s: str\n",
    "        :rtype: bool\n",
    "        \"\"\"\n",
    "\n",
    "        def is_valid(i):\n",
    "            if (ord('a') <= ord(i)) & (ord(i) <= ord('z')):\n",
    "                return True\n",
    "            if (ord('A') <= ord(i)) & (ord(i) <= ord('Z')):\n",
    "                return True\n",
    "            if (ord('0') <= ord(i)) & (ord(i) <= ord('9')):\n",
    "                return True\n",
    "            return False\n",
    "\n",
    "        i = 0\n",
    "        j = len(s) - 1\n",
    "        while (i < j):\n",
    "            if not is_valid(s[i]):\n",
    "                i += 1\n",
    "                continue\n",
    "            if not is_valid(s[j]):\n",
    "                j -= 1\n",
    "                continue\n",
    "            if (s[i].lower() != s[j].lower()):\n",
    "                print(i,s[i])\n",
    "                print(j,s[j])\n",
    "                return False\n",
    "            i+=1\n",
    "            j-=1\n",
    "        return True"
   ]
  },
  {
   "cell_type": "code",
   "execution_count": 30,
   "metadata": {
    "ExecuteTime": {
     "end_time": "2018-12-14T07:56:42.242168Z",
     "start_time": "2018-12-14T07:56:42.238182Z"
    }
   },
   "outputs": [
    {
     "data": {
      "text/plain": [
       "True"
      ]
     },
     "execution_count": 30,
     "metadata": {},
     "output_type": "execute_result"
    }
   ],
   "source": [
    "Solution().isPalindrome(\"A man, a plan, a canal: Panama\")"
   ]
  },
  {
   "cell_type": "code",
   "execution_count": 29,
   "metadata": {},
   "outputs": [],
   "source": [
    "class Solution:\n",
    "    def isPalindrome(self, s: str) -> bool:\n",
    "        s = s.lower()\n",
    "        lf:int = 0\n",
    "        rt:int = len(s) - 1\n",
    "        while(lf<rt):\n",
    "            while(lf<len(s) and  not s[lf].isalpha() and not  s[lf].isdigit()):\n",
    "                lf += 1\n",
    "            while(rt>=0 and not s[rt].isalpha() and not  s[rt].isdigit()):\n",
    "                rt -=1\n",
    "            if(rt<0 or lf>=len(s) or lf>=rt):\n",
    "                break\n",
    "            if(s[lf]!=s[rt]):\n",
    "                return False\n",
    "            lf+=1\n",
    "            rt-=1\n",
    "        return True\n",
    "                "
   ]
  },
  {
   "cell_type": "code",
   "execution_count": null,
   "metadata": {},
   "outputs": [],
   "source": []
  }
 ],
 "metadata": {
  "kernelspec": {
   "display_name": "Python 3",
   "language": "python",
   "name": "python3"
  },
  "language_info": {
   "codemirror_mode": {
    "name": "ipython",
    "version": 3
   },
   "file_extension": ".py",
   "mimetype": "text/x-python",
   "name": "python",
   "nbconvert_exporter": "python",
   "pygments_lexer": "ipython3",
   "version": "3.7.6"
  },
  "toc": {
   "base_numbering": 1,
   "nav_menu": {},
   "number_sections": true,
   "sideBar": true,
   "skip_h1_title": false,
   "title_cell": "Table of Contents",
   "title_sidebar": "Contents",
   "toc_cell": false,
   "toc_position": {},
   "toc_section_display": true,
   "toc_window_display": false
  }
 },
 "nbformat": 4,
 "nbformat_minor": 2
}
