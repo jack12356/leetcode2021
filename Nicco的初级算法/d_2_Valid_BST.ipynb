{
 "cells": [
  {
   "cell_type": "markdown",
   "metadata": {},
   "source": [
    "# 验证二叉搜索树\n",
    "给定一个二叉树，判断其是否是一个有效的二叉搜索树。\n",
    "\n",
    "假设一个二叉搜索树具有如下特征：\n",
    "\n",
    "节点的左子树只包含小于当前节点的数。\n",
    "节点的右子树只包含大于当前节点的数。\n",
    "所有左子树和右子树自身必须也是二叉搜索树。\n",
    "示例 1:\n",
    "\n",
    "输入:\n",
    "```\n",
    "    2\n",
    "   / \\\n",
    "  1   3\n",
    "```\n",
    "输出: true\n",
    "\n",
    "示例 2:\n",
    "\n",
    "输入:\n",
    "```\n",
    "    5\n",
    "   / \\\n",
    "  1   4\n",
    "     / \\\n",
    "    3   6\n",
    "```\n",
    "输出: false\n",
    "\n",
    "解释: 输入为: [5,1,4,null,null,3,6]。\n",
    "     根节点的值为 5 ，但是其右子节点值为 4 。"
   ]
  },
  {
   "cell_type": "markdown",
   "metadata": {},
   "source": [
    "## JAVA方法\n",
    "\n",
    "思路：\n",
    "1. 使用**中序遍历**，递归方法。\n",
    "2. 找出所有遍历数组，然后比较数组是否有序。"
   ]
  },
  {
   "cell_type": "code",
   "execution_count": null,
   "metadata": {},
   "outputs": [],
   "source": []
  },
  {
   "cell_type": "code",
   "execution_count": null,
   "metadata": {},
   "outputs": [],
   "source": []
  },
  {
   "cell_type": "code",
   "execution_count": 9,
   "metadata": {
    "ExecuteTime": {
     "end_time": "2018-12-18T08:22+0000",
     "start_time": "2018-12-18T08:22:49.715Z"
    }
   },
   "outputs": [
    {
     "name": "stdout",
     "output_type": "stream",
     "text": [
      "result is : false"
     ]
    },
    {
     "data": {
      "text/plain": [
       "java.io.PrintStream@5ae88016"
      ]
     },
     "execution_count": 9,
     "metadata": {},
     "output_type": "execute_result"
    }
   ],
   "source": [
    "public class TreeNode {\n",
    "    public int val;\n",
    "    public TreeNode left;\n",
    "    public TreeNode right;\n",
    "    public TreeNode(int x) { val = x; }\n",
    "}\n",
    "\n",
    "\n",
    "public class ValidBST {\n",
    "    public boolean isValidBST(TreeNode root) {\n",
    "        //        System.out.printf(\"this node is : %d\",root.val);\n",
    "        ArrayList <Integer> list = new ArrayList<>();\n",
    "        if(root==null)\n",
    "            return true;\n",
    "        TreeNode left = root.left;\n",
    "        TreeNode right = root.right;\n",
    "        add(list,root);\n",
    "        for (int i = 0; i < list.size()-1; i++) {\n",
    "            if (list.get(i) >= list.get(i + 1)) {\n",
    "                return false;\n",
    "            }\n",
    "        }\n",
    "        return true;\n",
    "\n",
    "    }\n",
    "\n",
    "    private void add(ArrayList<Integer> list, TreeNode root) {\n",
    "        if(root==null)\n",
    "            return;\n",
    "        add(list,root.left);\n",
    "        list.add(root.val);\n",
    "        add(list,root.right);\n",
    "    }\n",
    "\n",
    "\n",
    "    \n",
    "}\n",
    "\n",
    "\n",
    "ValidBST solution = new ValidBST();\n",
    "TreeNode root = new TreeNode(10);\n",
    "root.left = new TreeNode(5);\n",
    "root.right = new TreeNode(15);\n",
    "root.right.left = new TreeNode(6);\n",
    "root.right.right=new TreeNode(20);\n",
    "\n",
    "System.out.printf(\"result is : %b\", solution.isValidBST(root));\n"
   ]
  },
  {
   "cell_type": "markdown",
   "metadata": {},
   "source": [
    "## java方法2"
   ]
  },
  {
   "cell_type": "markdown",
   "metadata": {},
   "source": [
    "思路：\n",
    "对于每个节点，大于较低值小于较高值；"
   ]
  },
  {
   "cell_type": "code",
   "execution_count": null,
   "metadata": {},
   "outputs": [],
   "source": [
    "class Solution {\n",
    "\n",
    "    public boolean isValidBST(TreeNode root) {\n",
    "        if (root == null) return true;\n",
    "        return valid(root, Long.MIN_VALUE, Long.MAX_VALUE);\n",
    "    }\n",
    "    public boolean valid(TreeNode root, long low, long high) {\n",
    "        if (root == null) return true;\n",
    "        if (root.val <= low || root.val >= high) return false;\n",
    "        return valid(root.left, low, root.val) && valid(root.right, root.val, high);\n",
    "    }\n",
    "}"
   ]
  }
 ],
 "metadata": {
  "kernelspec": {
   "display_name": "PyCharm (intelligentOrder)",
   "language": "python",
   "name": "pycharm-925dd3db"
  },
  "language_info": {
   "codemirror_mode": {
    "name": "ipython",
    "version": 3
   },
   "file_extension": ".py",
   "mimetype": "text/x-python",
   "name": "python",
   "nbconvert_exporter": "python",
   "pygments_lexer": "ipython3",
   "version": "3.7.6"
  },
  "toc": {
   "base_numbering": 1,
   "nav_menu": {},
   "number_sections": true,
   "sideBar": true,
   "skip_h1_title": false,
   "title_cell": "Table of Contents",
   "title_sidebar": "Contents",
   "toc_cell": false,
   "toc_position": {},
   "toc_section_display": true,
   "toc_window_display": false
  }
 },
 "nbformat": 4,
 "nbformat_minor": 2
}
