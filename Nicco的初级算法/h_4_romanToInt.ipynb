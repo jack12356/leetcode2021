{
 "cells": [
  {
   "cell_type": "markdown",
   "metadata": {},
   "source": [
    "# 罗马数字转整数\n",
    "罗马数字包含以下七种字符: I， V， X， L，C，D 和 M。\n",
    "\n",
    "|字符     |     数值|\n",
    "|--|--|\n",
    "|I |            1|\n",
    "|V       |      5|\n",
    "|X             |10|\n",
    "|L|             50|\n",
    "|C|             100|\n",
    "|D  |           500|\n",
    "|M|             1000|\n",
    "例如， 罗马数字 2 写做 II ，即为两个并列的 1。12 写做 XII ，即为 X + II 。 27 写做  XXVII, 即为 XX + V + II 。\n",
    "\n",
    "通常情况下，罗马数字中小的数字在大的数字的右边。但也存在特例，例如 4 不写做 IIII，而是 IV。数字 1 在数字 5 的左边，所表示的数等于大数 5 减小数 1 得到的数值 4 。同样地，数字 9 表示为 IX。这个特殊的规则只适用于以下六种情况：\n",
    "\n",
    "I 可以放在 V (5) 和 X (10) 的左边，来表示 4 和 9。\n",
    "X 可以放在 L (50) 和 C (100) 的左边，来表示 40 和 90。 \n",
    "C 可以放在 D (500) 和 M (1000) 的左边，来表示 400 和 900。\n",
    "给定一个罗马数字，将其转换成整数。输入确保在 1 到 3999 的范围内。\n",
    "\n",
    "示例 1:\n",
    "\n",
    "    输入: \"III\"\n",
    "    输出: 3\n",
    "\n",
    "示例 2:\n",
    "\n",
    "    输入: \"IV\"\n",
    "    输出: 4\n",
    "\n",
    "示例 3:\n",
    "\n",
    "    输入: \"IX\"\n",
    "    输出: 9\n",
    "\n",
    "示例 4:\n",
    "\n",
    "输入: \"LVIII\"\n",
    "\n",
    "    输出: 58\n",
    "    解释: L = 50, V= 5, III = 3.\n",
    "\n",
    "示例 5:\n",
    "\n",
    "    输入: \"MCMXCIV\"\n",
    "    输出: 1994\n",
    "\n",
    "解释: M = 1000, CM = 900, XC = 90, IV = 4."
   ]
  },
  {
   "cell_type": "markdown",
   "metadata": {},
   "source": [
    "**思路：**\n",
    "1. 使用字典存储转换表；\n",
    "2. 遇到每个数字，将其值累加；\n",
    "2. 当数字大于前一个的时候，减去前一个计数的2倍，因为会重复计算一次；比如IV，前面的I多计算了一次；"
   ]
  },
  {
   "cell_type": "code",
   "execution_count": 10,
   "metadata": {
    "ExecuteTime": {
     "end_time": "2018-12-21T04:20:34.486675Z",
     "start_time": "2018-12-21T04:20:34.479693Z"
    }
   },
   "outputs": [
    {
     "name": "stdout",
     "output_type": "stream",
     "text": [
      "III  ==>  3\n",
      "IV  ==>  4\n",
      "IX  ==>  9\n",
      "LVIII  ==>  58\n",
      "MCMXCIV  ==>  1994\n"
     ]
    }
   ],
   "source": [
    "def romanToInt(s):\n",
    "        letters = ['I','V','X','L','C','D' ,'M']\n",
    "        dic ={'I': 1, 'V': 5, 'X': 10, 'L': 50, 'C': 100, 'D': 500, 'M': 1000}\n",
    "        result = 0;     \n",
    "        for i in range(len(s)):\n",
    "            char = s[i]\n",
    "            result+=dic[char]\n",
    "            if(i!=len(s)-1):\n",
    "                if(dic[char]<dic[s[i+1]]):\n",
    "                    result-=2*dic[char]\n",
    "        return result\n",
    "\n",
    "tests = [ \"III\",\"IV\", \"IX\", \"LVIII\",\"MCMXCIV\" ]\n",
    "for i in tests:\n",
    "    print(i,\" ==> \",romanToInt(i))\n",
    "    "
   ]
  }
 ],
 "metadata": {
  "kernelspec": {
   "display_name": "Python 3",
   "language": "python",
   "name": "python3"
  },
  "language_info": {
   "codemirror_mode": {
    "name": "ipython",
    "version": 3
   },
   "file_extension": ".py",
   "mimetype": "text/x-python",
   "name": "python",
   "nbconvert_exporter": "python",
   "pygments_lexer": "ipython3",
   "version": "3.6.5"
  },
  "toc": {
   "base_numbering": 1,
   "nav_menu": {},
   "number_sections": true,
   "sideBar": true,
   "skip_h1_title": false,
   "title_cell": "Table of Contents",
   "title_sidebar": "Contents",
   "toc_cell": false,
   "toc_position": {},
   "toc_section_display": true,
   "toc_window_display": false
  }
 },
 "nbformat": 4,
 "nbformat_minor": 2
}
