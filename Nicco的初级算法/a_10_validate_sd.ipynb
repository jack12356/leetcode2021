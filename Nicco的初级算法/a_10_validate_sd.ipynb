{
 "cells": [
  {
   "cell_type": "code",
   "execution_count": 43,
   "metadata": {
    "ExecuteTime": {
     "end_time": "2018-12-13T10:16:38.102141Z",
     "start_time": "2018-12-13T10:16:38.096158Z"
    }
   },
   "outputs": [],
   "source": [
    "board = [[\".\", \".\", \"4\", \".\", \".\", \".\", \"6\", \"3\", \".\"],\n",
    "         [\".\", \".\", \".\", \".\", \".\", \".\", \".\", \".\", \".\"],\n",
    "         [\"5\", \".\", \".\", \".\", \".\", \".\", \".\", \"9\", \".\"],\n",
    "         [\".\", \".\", \".\", \"5\", \"6\", \".\", \".\", \".\", \".\"],\n",
    "         [\"4\", \".\", \"3\", \".\", \".\", \".\", \".\", \".\", \"1\"],\n",
    "         [\".\", \".\", \".\", \"7\", \".\", \".\", \".\", \".\", \".\"],\n",
    "         [\".\", \".\", \".\", \"5\", \".\", \".\", \".\", \".\", \".\"],\n",
    "         [\".\", \".\", \".\", \".\", \".\", \".\", \".\", \".\", \".\"],\n",
    "         [\".\", \".\", \".\", \".\", \".\", \".\", \".\", \".\", \".\"]]"
   ]
  },
  {
   "cell_type": "code",
   "execution_count": 61,
   "metadata": {
    "ExecuteTime": {
     "end_time": "2018-12-13T10:26:38.717154Z",
     "start_time": "2018-12-13T10:26:38.712166Z"
    }
   },
   "outputs": [],
   "source": [
    "class Solution:\n",
    "    def isValidSudoku(self, board):\n",
    "        \"\"\"\n",
    "        :type board: List[List[str]]\n",
    "        :rtype: bool\n",
    "        \"\"\"\n",
    "        def is_duplicated(nums):\n",
    "            t=[]\n",
    "            for num in nums:\n",
    "                if (num in t) and (num!='.'):\n",
    "                    return True\n",
    "                t.append(num)\n",
    "            return False\n",
    "        \n",
    "\n",
    "        for i in range(9):\n",
    "            if is_duplicated(board[i]):\n",
    "                return False\n",
    "#         for col in [[b[i] for b in board]for i in range(9)]:\n",
    "        for col in zip(*board):                 #效果更好\n",
    "            if is_duplicated(col):\n",
    "                return False\n",
    "        \n",
    "        for i in range(0,9,3):\n",
    "            for j in range(0,9,3):\n",
    "                nums = board[i][j:j+3]+board[i+1][j:j+3]+board[i+2][j:j+3]\n",
    "                if is_duplicated(nums):\n",
    "                    return False\n",
    "        return True"
   ]
  },
  {
   "cell_type": "code",
   "execution_count": null,
   "metadata": {},
   "outputs": [],
   "source": []
  }
 ],
 "metadata": {
  "kernelspec": {
   "display_name": "Python 3",
   "language": "python",
   "name": "python3"
  },
  "language_info": {
   "codemirror_mode": {
    "name": "ipython",
    "version": 3
   },
   "file_extension": ".py",
   "mimetype": "text/x-python",
   "name": "python",
   "nbconvert_exporter": "python",
   "pygments_lexer": "ipython3",
   "version": "3.6.5"
  },
  "toc": {
   "base_numbering": 1,
   "nav_menu": {},
   "number_sections": true,
   "sideBar": true,
   "skip_h1_title": false,
   "title_cell": "Table of Contents",
   "title_sidebar": "Contents",
   "toc_cell": false,
   "toc_position": {},
   "toc_section_display": true,
   "toc_window_display": false
  }
 },
 "nbformat": 4,
 "nbformat_minor": 2
}
