{
 "cells": [
  {
   "cell_type": "markdown",
   "metadata": {},
   "source": [
    "给定两个数组，编写一个函数来计算它们的交集。\n",
    "\n",
    "示例 1:\n",
    "\n",
    "输入: nums1 = [1,2,2,1], nums2 = [2,2]\n",
    "输出: [2,2]\n",
    "示例 2:\n",
    "\n",
    "输入: nums1 = [4,9,5], nums2 = [9,4,9,8,4]\n",
    "输出: [4,9]\n",
    "说明：\n",
    "\n",
    "输出结果中每个元素出现的次数，应与元素在两个数组中出现的次数一致。\n",
    "我们可以不考虑输出结果的顺序。\n",
    "进阶:\n",
    "\n",
    "如果给定的数组已经排好序呢？你将如何优化你的算法？\n",
    "如果 nums1 的大小比 nums2 小很多，哪种方法更优？\n",
    "如果 nums2 的元素存储在磁盘上，磁盘内存是有限的，并且你不能一次加载所有的元素到内存中，你该怎么办？"
   ]
  },
  {
   "cell_type": "markdown",
   "metadata": {},
   "source": [
    "## python算法"
   ]
  },
  {
   "cell_type": "markdown",
   "metadata": {},
   "source": [
    "使用字典存储1中元素情况，如果2中有，就存储，在字典中-1。\n",
    "这样统计次数"
   ]
  },
  {
   "cell_type": "code",
   "execution_count": 15,
   "metadata": {
    "ExecuteTime": {
     "end_time": "2018-12-13T04:35:59.313653Z",
     "start_time": "2018-12-13T04:35:59.309663Z"
    }
   },
   "outputs": [],
   "source": [
    "nums1 = [4,9,5]\n",
    "nums2 = [9,4,9,8,4]\n",
    "\n",
    "class Solution(object):\n",
    "    def intersect(self, nums1, nums2):\n",
    "        \"\"\"\n",
    "        :type nums1: List[int]\n",
    "        :type nums2: List[int]\n",
    "        :rtype: List[int]\n",
    "        \"\"\"\n",
    "        result = []\n",
    "        if(len(nums1)>len(nums2)):\n",
    "            temp=nums1\n",
    "            nums1=nums2\n",
    "            nums2=temp  \n",
    "        for num in nums1:\n",
    "            if (num in nums2):\n",
    "                    nums2.remove(num)\n",
    "                    result.append(num)\n",
    "        return result"
   ]
  },
  {
   "cell_type": "markdown",
   "metadata": {},
   "source": [
    "## python算法"
   ]
  },
  {
   "cell_type": "code",
   "execution_count": 3,
   "metadata": {
    "ExecuteTime": {
     "end_time": "2018-12-13T13:51:39.357360Z",
     "start_time": "2018-12-13T13:51:39.353393Z"
    }
   },
   "outputs": [],
   "source": [
    "class Solution(object):\n",
    "    def intersect(self, nums1, nums2):\n",
    "        \"\"\"\n",
    "        :type nums1: List[int]\n",
    "        :type nums2: List[int]\n",
    "        :rtype: List[int]\n",
    "        \"\"\"\n",
    "        tmp_dict = dict()\n",
    "        ret = []\n",
    "        for i in nums1:\n",
    "            tmp_dict[i] = tmp_dict[i] + 1 if tmp_dict.get(i) else 1\n",
    "        for n in nums2:\n",
    "            if tmp_dict.get(n) > 0:\n",
    "                ret.append(n)\n",
    "                tmp_dict[n] -= 1\n",
    "        return ret"
   ]
  },
  {
   "cell_type": "markdown",
   "metadata": {},
   "source": [
    "## java算法（自己的）"
   ]
  },
  {
   "cell_type": "markdown",
   "metadata": {},
   "source": [
    "拿1中元素遍历2中元素，如果2中有，就在2中remove了。这样统计次数"
   ]
  },
  {
   "cell_type": "code",
   "execution_count": null,
   "metadata": {},
   "outputs": [],
   "source": [
    "class Solution {\n",
    "    public int[] intersect(int[] nums1, int[] nums2) {\n",
    "        if (nums1.length>nums2.length){\n",
    "            int[] temp = nums1;\n",
    "            nums1=nums2;\n",
    "            nums2=temp;\n",
    "        }\n",
    "        ArrayList<Integer> result=new ArrayList<Integer>();\n",
    "        int len = nums2.length;\n",
    "        for(int num1:nums1){\n",
    "            for(int i=0;i<len;i++){\n",
    "                if(num1==nums2[i]){\n",
    "                    //remove nums2[i]\n",
    "                    for(int j=i;j<len-1;j++){\n",
    "                        nums2[j]=nums2[j+1];\n",
    "                    }\n",
    "                    len--;\n",
    "                    result.add(num1);    \n",
    "                    break;\n",
    "                }\n",
    "            }\n",
    "        }\n",
    "        int[] b = new int[result.size()];\n",
    "        for(int i = 0;i<result.size();i++){\n",
    "            b[i] = result.get(i);\n",
    "        }\n",
    "        return b;\n",
    "    }\n",
    "}"
   ]
  },
  {
   "cell_type": "markdown",
   "metadata": {},
   "source": [
    "## java算法（排序优化）"
   ]
  },
  {
   "cell_type": "code",
   "execution_count": null,
   "metadata": {},
   "outputs": [],
   "source": [
    "class Solution {\n",
    "    public int[] intersect(int[] nums1, int[] nums2) {\n",
    "        Arrays.sort(nums1);\n",
    "        Arrays.sort(nums2);\n",
    "        \n",
    "        int length = nums1.length<nums2.length?nums1.length:nums2.length;\n",
    "        List<Integer> list = new ArrayList<Integer>();\n",
    "        \n",
    "        int x = 0;\n",
    "        int y = 0;\n",
    "        while(true){\n",
    "            if(x >= nums1.length){\n",
    "                break;\n",
    "            }\n",
    "            if(y >= nums2.length){\n",
    "                break;\n",
    "            }\n",
    "            if(nums1[x] == nums2[y]){\n",
    "                list.add(nums1[x]);\n",
    "                x++;\n",
    "                y++;\n",
    "            }else if(nums1[x] > nums2[y]){\n",
    "                y++;\n",
    "            }else{\n",
    "                x++;\n",
    "            }\n",
    "        }\n",
    "        \n",
    "        int[] result = new int[list.size()];\n",
    "        for(int i = 0; i < result.length; i++){\n",
    "            result[i] = list.get(i);\n",
    "        }\n",
    "        \n",
    "        return result;\n",
    "    }\n",
    "}"
   ]
  }
 ],
 "metadata": {
  "kernelspec": {
   "display_name": "Python 3",
   "language": "python",
   "name": "python3"
  },
  "language_info": {
   "codemirror_mode": {
    "name": "ipython",
    "version": 3
   },
   "file_extension": ".py",
   "mimetype": "text/x-python",
   "name": "python",
   "nbconvert_exporter": "python",
   "pygments_lexer": "ipython3",
   "version": "3.6.5"
  },
  "toc": {
   "base_numbering": 1,
   "nav_menu": {},
   "number_sections": true,
   "sideBar": true,
   "skip_h1_title": false,
   "title_cell": "Table of Contents",
   "title_sidebar": "Contents",
   "toc_cell": false,
   "toc_position": {},
   "toc_section_display": true,
   "toc_window_display": false
  }
 },
 "nbformat": 4,
 "nbformat_minor": 2
}
