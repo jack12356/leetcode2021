{
 "cells": [
  {
   "cell_type": "markdown",
   "metadata": {},
   "source": [
    "# 汉明距离\n",
    "两个整数之间的汉明距离指的是这两个数字对应二进制位不同的位置的数目。\n",
    "\n",
    "给出两个整数 x 和 y，计算它们之间的汉明距离。\n",
    "\n",
    "注意：\n",
    "0 ≤ x, y < 231.\n",
    "\n",
    "示例:\n",
    "\n",
    "输入: x = 1, y = 4\n",
    "\n",
    "输出: 2\n",
    "\n",
    "解释:\n",
    "```\n",
    "1   (0 0 0 1)\n",
    "4   (0 1 0 0)\n",
    "      ↑   ↑\n",
    "```\n",
    "\n",
    "上面的箭头指出了对应二进制位不同的位置。"
   ]
  },
  {
   "cell_type": "code",
   "execution_count": null,
   "metadata": {},
   "outputs": [],
   "source": [
    "public int hammingDistance(int x, int y) {\n",
    "    int n = x^y;\n",
    "    int count=0;\n",
    "    while(n!=0){\n",
    "        count+=n&1;\n",
    "        n>>>=1;\n",
    "    }\n",
    "    return count;\n",
    "}"
   ]
  }
 ],
 "metadata": {
  "kernelspec": {
   "display_name": "Java",
   "language": "java",
   "name": "java"
  },
  "language_info": {
   "codemirror_mode": "java",
   "file_extension": ".java",
   "mimetype": "text/x-java-source",
   "name": "Java",
   "pygments_lexer": "java",
   "version": "11.0.1+13-LTS"
  },
  "toc": {
   "base_numbering": 1,
   "nav_menu": {},
   "number_sections": true,
   "sideBar": true,
   "skip_h1_title": false,
   "title_cell": "Table of Contents",
   "title_sidebar": "Contents",
   "toc_cell": false,
   "toc_position": {},
   "toc_section_display": true,
   "toc_window_display": false
  }
 },
 "nbformat": 4,
 "nbformat_minor": 2
}
