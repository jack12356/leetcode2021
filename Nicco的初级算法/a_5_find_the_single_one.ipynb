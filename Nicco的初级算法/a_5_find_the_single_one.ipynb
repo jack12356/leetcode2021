{
 "cells": [
  {
   "cell_type": "markdown",
   "metadata": {},
   "source": [
    "给定一个非空整数数组，除了某个元素只出现一次以外，其余每个元素均出现两次。找出那个只出现了一次的元素。\n",
    "\n",
    "说明：\n",
    "\n",
    "你的算法应该具有线性时间复杂度。 你可以不使用额外空间来实现吗？\n",
    "\n",
    "示例 1:\n",
    "\n",
    "输入: [2,2,1]\n",
    "输出: 1\n",
    "示例 2:\n",
    "\n",
    "输入: [4,1,2,1,2]\n",
    "输出: 4"
   ]
  },
  {
   "cell_type": "code",
   "execution_count": null,
   "metadata": {},
   "outputs": [],
   "source": [
    "class Solution {\n",
    "    public int singleNumber(int[] nums) {\n",
    "        if(nums.length<1){\n",
    "            return -1;\n",
    "        }\n",
    "        if(nums.length==1){\n",
    "            return nums[0];\n",
    "        }\n",
    "        Arrays.sort(nums);\n",
    "        for(int i=0;i<nums.length;i=i+2){\n",
    "            if(i==nums.length-1){\n",
    "                return nums[i];\n",
    "            }\n",
    "            if(nums[i]!=nums[i+1]){\n",
    "                return nums[i];\n",
    "            }\n",
    "        }\n",
    "        return -1;\n",
    "    }\n",
    "}"
   ]
  },
  {
   "cell_type": "markdown",
   "metadata": {},
   "source": [
    "使用了异或^的方法，异或指将数转为2进制，然后从高位开始异或；"
   ]
  },
  {
   "cell_type": "code",
   "execution_count": null,
   "metadata": {},
   "outputs": [],
   "source": [
    "class Solution {\n",
    "    public int singleNumber(int[] nums) {\n",
    "        \n",
    "        int num = 0;\n",
    "        for (int n : nums){\n",
    "            num^=n;\n",
    "        }\n",
    "        return num;\n",
    "        \n",
    "    }\n",
    "}"
   ]
  }
 ],
 "metadata": {
  "kernelspec": {
   "display_name": "Python 3",
   "language": "python",
   "name": "python3"
  },
  "language_info": {
   "codemirror_mode": {
    "name": "ipython",
    "version": 3
   },
   "file_extension": ".py",
   "mimetype": "text/x-python",
   "name": "python",
   "nbconvert_exporter": "python",
   "pygments_lexer": "ipython3",
   "version": "3.6.5"
  },
  "toc": {
   "base_numbering": 1,
   "nav_menu": {},
   "number_sections": true,
   "sideBar": true,
   "skip_h1_title": false,
   "title_cell": "Table of Contents",
   "title_sidebar": "Contents",
   "toc_cell": false,
   "toc_position": {},
   "toc_section_display": true,
   "toc_window_display": false
  }
 },
 "nbformat": 4,
 "nbformat_minor": 2
}
