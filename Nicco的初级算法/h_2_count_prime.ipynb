{
 "cells": [
  {
   "cell_type": "markdown",
   "metadata": {},
   "source": [
    "## 方法1（超时）\n",
    "思路：\n",
    "1. 判断是否可以除2；\n",
    "2. 计算2~$\\sqrt{n}+1$是否可除；\n",
    "2. 遍历2~n；"
   ]
  },
  {
   "cell_type": "code",
   "execution_count": null,
   "metadata": {},
   "outputs": [],
   "source": [
    "public int countPrimes(int n) {\n",
    "    if (n <= 1) return 0;\n",
    "    int count = 0;\n",
    "    for (int i = 2; i < n; i++) {\n",
    "        count=isPrime(i)?count+1:count;\n",
    "        if (isPrime(i))System.out.println(i);\n",
    "    }\n",
    "\n",
    "    return count;\n",
    "}\n",
    "\n",
    "public boolean isPrime(int num) {\n",
    "    boolean ret = false;\n",
    "    if (num == 2) return true;\n",
    "    if (num % 2 != 0) {\n",
    "        int ubound = (int) Math.sqrt(num) + 1;\n",
    "        for (int i = 2; i< ubound; i++) {\n",
    "            if(num%i==0) return false;\n",
    "        }\n",
    "        return true;\n",
    "    }else return false;\n",
    "}\n"
   ]
  },
  {
   "cell_type": "markdown",
   "metadata": {},
   "source": [
    "## 方法二\n",
    "思路：\n",
    "1. 用数组存储；\n",
    "2. 从2开始，将每个数倍数赋0；\n",
    "3. 计数；"
   ]
  },
  {
   "cell_type": "code",
   "execution_count": 1,
   "metadata": {
    "ExecuteTime": {
     "end_time": "2018-12-21T03:11+0000",
     "start_time": "2018-12-21T03:11:34.470Z"
    }
   },
   "outputs": [],
   "source": [
    "public int countPrimes(int n) {\n",
    "    int res = 0;\n",
    "    int []prime = new int[n];\n",
    "    for(int m=0;m<n;m++) prime[m]=1;\n",
    "    for (int i = 2; i < n; ++i) {\n",
    "        if (prime[i]==1) {\n",
    "            ++res;\n",
    "            for (int j = 2; i * j < n; ++j) {\n",
    "                prime[i * j] = 0;\n",
    "            }\n",
    "        }\n",
    "    }\n",
    "    return res;\n",
    "}"
   ]
  }
 ],
 "metadata": {
  "kernelspec": {
   "display_name": "Java",
   "language": "java",
   "name": "java"
  },
  "language_info": {
   "codemirror_mode": "java",
   "file_extension": ".java",
   "mimetype": "text/x-java-source",
   "name": "Java",
   "pygments_lexer": "java",
   "version": "11.0.1+13-LTS"
  },
  "toc": {
   "base_numbering": 1,
   "nav_menu": {},
   "number_sections": true,
   "sideBar": true,
   "skip_h1_title": false,
   "title_cell": "Table of Contents",
   "title_sidebar": "Contents",
   "toc_cell": false,
   "toc_position": {},
   "toc_section_display": true,
   "toc_window_display": false
  }
 },
 "nbformat": 4,
 "nbformat_minor": 2
}
