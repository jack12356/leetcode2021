{
 "cells": [
  {
   "cell_type": "markdown",
   "metadata": {},
   "source": [
    "# 将有序数组转换为二叉搜索树\n",
    "将一个按照升序排列的有序数组，转换为一棵高度平衡二叉搜索树。\n",
    "\n",
    "本题中，一个高度平衡二叉树是指一个二叉树每个节点 的左右两个子树的高度差的绝对值不超过 1。\n",
    "\n",
    "示例:\n",
    "\n",
    "给定有序数组: [-10,-3,0,5,9],\n",
    "\n",
    "一个可能的答案是：[0,-3,9,-10,null,5]，它可以表示下面这个高度平衡二叉搜索树：\n",
    "```\n",
    "      0\n",
    "     / \\\n",
    "   -3   9\n",
    "   /   /\n",
    " -10  5\n",
    "```"
   ]
  },
  {
   "cell_type": "markdown",
   "metadata": {},
   "source": [
    "## java方法\n",
    "\n",
    "1. 每次把中间当作根节点；\n",
    "2. 递归调用数组的左右两段；\n",
    "3. 将左右两段划分为左右子树；"
   ]
  },
  {
   "cell_type": "code",
   "execution_count": null,
   "metadata": {},
   "outputs": [],
   "source": [
    "public class SortedArrayToBST {\n",
    "    public TreeNode sortedArrayToBST(int[] nums) {\n",
    "        TreeNode root = generateTree(nums,0,nums.length);\n",
    "        return root;\n",
    "    }\n",
    "\n",
    "    private TreeNode generateTree(int[] nums,int st,int end) {\n",
    "        int len = end-st;\n",
    "        if(len==0)\n",
    "            return null;\n",
    "        int mid = st + len/2;\n",
    "        TreeNode root = new TreeNode(nums[mid]);\n",
    "        TreeNode left = generateTree(nums,st,mid);\n",
    "        TreeNode right = generateTree(nums,mid+1,end);\n",
    "        root.left = left;\n",
    "        root.right = right;\n",
    "        return root;\n",
    "    }\n",
    "\n",
    "    \n",
    "}\n",
    "\n",
    "int[] nums = new int[]{-10,-3,0,5,9};\n",
    "SortedArrayToBST solution = new SortedArrayToBST();\n",
    "solution.sortedArrayToBST(nums);\n"
   ]
  }
 ],
 "metadata": {
  "kernelspec": {
   "display_name": "Java",
   "language": "java",
   "name": "java"
  },
  "language_info": {
   "codemirror_mode": "java",
   "file_extension": ".java",
   "mimetype": "text/x-java-source",
   "name": "Java",
   "pygments_lexer": "java",
   "version": "11.0.1+13-LTS"
  },
  "toc": {
   "base_numbering": 1,
   "nav_menu": {},
   "number_sections": true,
   "sideBar": true,
   "skip_h1_title": false,
   "title_cell": "Table of Contents",
   "title_sidebar": "Contents",
   "toc_cell": false,
   "toc_position": {},
   "toc_section_display": true,
   "toc_window_display": false
  }
 },
 "nbformat": 4,
 "nbformat_minor": 2
}
