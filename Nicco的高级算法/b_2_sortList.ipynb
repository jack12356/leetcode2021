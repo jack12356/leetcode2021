{
 "cells": [
  {
   "cell_type": "markdown",
   "metadata": {},
   "source": [
    "# 链表排序\n",
    "在 O(n log n) 时间复杂度和常数级空间复杂度下，对链表进行排序。\n",
    "\n",
    "示例 1:\n",
    "\n",
    "    输入: 4->2->1->3\n",
    "    输出: 1->2->3->4\n",
    "示例 2:\n",
    "\n",
    "    输入: -1->5->3->4->0\n",
    "    输出: -1->0->3->4->5# "
   ]
  },
  {
   "cell_type": "code",
   "execution_count": null,
   "metadata": {},
   "outputs": [],
   "source": [
    "public ListNode mergeTwoLists(ListNode l1, ListNode l2) {\n",
    "    ListNode i=l1;\n",
    "    ListNode j = l2;\n",
    "    ListNode s0=new ListNode(-1);\n",
    "    ListNode s=s0;\n",
    "    while(i!=null && j!=null){\n",
    "        if(i.val<j.val){\n",
    "            s.next=i;\n",
    "            i=i.next;\n",
    "            s=s.next;\n",
    "        }else{\n",
    "            s.next=j;\n",
    "            j=j.next;\n",
    "            s=s.next;\n",
    "        }\n",
    "    }\n",
    "    s.next = i == null ? j : i;\n",
    "    return s0.next;\n",
    "}\n",
    "public ListNode sortList(ListNode head) {\n",
    "    if (head==null||head.next==null) return head;\n",
    "    ListNode slow = head;\n",
    "    ListNode fast = head;\n",
    "    while (fast.next!=null&&fast.next.next!=null){\n",
    "        fast = fast.next.next;\n",
    "        slow = slow.next;\n",
    "    }\n",
    "    ListNode second = slow.next;\n",
    "    slow.next = null;\n",
    "    return mergeTwoLists(sortList(head),sortList(second));\n",
    "}"
   ]
  }
 ],
 "metadata": {
  "kernelspec": {
   "display_name": "Java",
   "language": "java",
   "name": "java"
  },
  "language_info": {
   "codemirror_mode": "java",
   "file_extension": ".java",
   "mimetype": "text/x-java-source",
   "name": "Java",
   "pygments_lexer": "java",
   "version": "11.0.1+13-LTS"
  },
  "toc": {
   "base_numbering": 1,
   "nav_menu": {},
   "number_sections": true,
   "sideBar": true,
   "skip_h1_title": false,
   "title_cell": "Table of Contents",
   "title_sidebar": "Contents",
   "toc_cell": false,
   "toc_position": {},
   "toc_section_display": true,
   "toc_window_display": false
  }
 },
 "nbformat": 4,
 "nbformat_minor": 2
}
