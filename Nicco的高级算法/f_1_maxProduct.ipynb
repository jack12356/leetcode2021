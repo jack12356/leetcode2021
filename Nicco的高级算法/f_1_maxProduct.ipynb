{
 "cells": [
  {
   "cell_type": "markdown",
   "metadata": {},
   "source": [
    "# 乘积最大子序列\n",
    "给定一个整数数组 nums ，找出一个序列中乘积最大的连续子序列（该序列至少包含一个数）。\n",
    "\n",
    "示例 1:\n",
    "\n",
    "    输入: [2,3,-2,4]\n",
    "    输出: 6\n",
    "解释: 子数组 [2,3] 有最大乘积 6。\n",
    "示例 2:\n",
    "\n",
    "    输入: [-2,0,-1]\n",
    "    输出: 0\n",
    "解释: 结果不能为 2, 因为 [-2,-1] 不是子数组。"
   ]
  },
  {
   "cell_type": "markdown",
   "metadata": {},
   "source": [
    "## 思路\n",
    "使用max,min更新最大最小值；\n",
    "对于新的数，根据大于小于0判断"
   ]
  },
  {
   "cell_type": "code",
   "execution_count": null,
   "metadata": {},
   "outputs": [],
   "source": [
    "class Solution {\n",
    "    public int maxProduct(int[] nums) {\n",
    "         int posmax=nums[0],negmax=nums[0],max=nums[0];\n",
    "       \n",
    "       for(int i=1;i<nums.length;i++){\n",
    "           int tempPosMax = posmax;\n",
    "           int tempNegMax = negmax;\n",
    "           posmax = Math.max(nums[i],Math.max(nums[i]*tempPosMax,nums[i]*tempNegMax));\n",
    "           negmax = Math.min(nums[i],Math.min(nums[i]*tempPosMax,nums[i]*tempNegMax));\n",
    "           if(Math.max(posmax,negmax) > max){\n",
    "               max = Math.max(posmax,negmax);\n",
    "           }\n",
    "       }\n",
    "       \n",
    "       return max;\n",
    "    }\n",
    "}"
   ]
  }
 ],
 "metadata": {
  "kernelspec": {
   "display_name": "Java",
   "language": "java",
   "name": "java"
  },
  "language_info": {
   "codemirror_mode": "java",
   "file_extension": ".java",
   "mimetype": "text/x-java-source",
   "name": "Java",
   "pygments_lexer": "java",
   "version": "11.0.1+13-LTS"
  },
  "toc": {
   "base_numbering": 1,
   "nav_menu": {},
   "number_sections": true,
   "sideBar": true,
   "skip_h1_title": false,
   "title_cell": "Table of Contents",
   "title_sidebar": "Contents",
   "toc_cell": false,
   "toc_position": {},
   "toc_section_display": true,
   "toc_window_display": false
  }
 },
 "nbformat": 4,
 "nbformat_minor": 2
}
