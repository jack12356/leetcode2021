{
 "cells": [
  {
   "cell_type": "markdown",
   "metadata": {},
   "source": [
    "# 寻找两个有序数组的中位数\n",
    "给定两个大小为 m 和 n 的有序数组 nums1 和 nums2。\n",
    "\n",
    "请你找出这两个有序数组的中位数，并且要求算法的时间复杂度为 O(log(m + n))。\n",
    "\n",
    "你可以假设 nums1 和 nums2 不会同时为空。\n",
    "\n",
    "示例 1:\n",
    "\n",
    "    nums1 = [1, 3]\n",
    "    nums2 = [2]\n",
    "\n",
    "则中位数是 2.0\n",
    "示例 2:\n",
    "\n",
    "    nums1 = [1, 2]\n",
    "    nums2 = [3, 4]\n",
    "\n",
    "则中位数是 (2 + 3)/2 = 2.5"
   ]
  },
  {
   "cell_type": "markdown",
   "metadata": {
    "collapsed": true
   },
   "source": [
    "## 思路\n",
    "\n",
    "算法2：利用折半查找的思想，假设两个数组的中位数分别是vec1[m1], vec2[m2]                                                      本文地址\n",
    "\n",
    "1、如果vec1[m1] = vec2[m2] ，那么刚好有一半元素不超过vec1[m1]，则vec1[m1]就是要找的中位数。\n",
    "\n",
    "2、如果vec1[m1] < vec2[m2] 根据结论1很容易可以推理出，这个中位数只可能出现在vec1[n1/2,…,n1-1]或vec2[0,…,(n2-1)/2]中，那么vec1[n1/2,…,n1-1]和vec2[0,…,(n2-1)/2]的中位数是不是和原来两个数组的中位数相同呢？根据结论2，如果原数组长度相等，即n1=n2，那么中位数不变；如果长度不相等，vec2中去掉的大于中位数的数的个数 > vec1中去掉的小于中位数的数的个数 ，则中位数不一定不变。因此我们要在两个数组中去掉相同个数的元素。如下图所示，假设n1 < n2, 两个数组都去掉n1/2个元素，则子数组vec1[n1/2,…,n1-1]和vec2[0,…,n2-1-n1/2]的中位数和原来的中位数相同，图中红色方框里是去掉的元素。"
   ]
  },
  {
   "cell_type": "code",
   "execution_count": null,
   "metadata": {},
   "outputs": [],
   "source": [
    "int findMedian_logn(int vec1[], int n1, int vec2[], int n2)\n",
    "{\n",
    "    int m1 = (n1-1) / 2, m2 = (n2-1) / 2;\n",
    "    if(n1 == 1)\n",
    "    {//递归结束条件\n",
    "        if(n2 == 1)\n",
    "            return vec1[0] < vec2[0] ? vec1[0] : vec2[0];\n",
    "        if(n2 % 2 == 0)\n",
    "        {\n",
    "            if(vec1[0] >= vec2[m2+1])\n",
    "                return vec2[m2+1];\n",
    "            else if(vec1[0] <= vec2[m2])\n",
    "                return vec2[m2];\n",
    "            else return vec1[0];\n",
    "        }\n",
    "        else\n",
    "        {\n",
    "            if(vec1[0] >= vec2[m2])\n",
    "                return vec2[m2];\n",
    "            else if(vec1[0] <= vec2[m2-1])\n",
    "                return vec2[m2-1];\n",
    "            else return vec1[0];\n",
    "        }\n",
    "    }\n",
    "    else if(n2 == 1)\n",
    "    {//递归结束条件\n",
    "        if(n1 % 2 == 0)\n",
    "        {\n",
    "            if(vec2[0] >= vec1[m1+1])\n",
    "                return vec1[m1+1];\n",
    "            else if(vec2[0] <= vec1[m1])\n",
    "                return vec1[m1];\n",
    "            else return vec2[0];\n",
    "        }\n",
    "        else\n",
    "        {\n",
    "            if(vec2[0] >= vec1[m1])\n",
    "                return vec1[m1];\n",
    "            else if(vec2[0] <= vec1[m1-1])\n",
    "                return vec1[m1-1];\n",
    "            else return vec2[0];\n",
    "        }\n",
    "    }\n",
    "    else\n",
    "    {\n",
    "        int cutLen = n1/2 > n2/2 ? n2/2 : n1/2;//注意每次减去短数组的一半，如果数组长度n是奇数，一半是指n-1/2\n",
    "        if(vec1[m1] == vec2[m2])return vec1[m1];\n",
    "        else if(vec1[m1] < vec2[m2])\n",
    "            return findMedian_logn(&vec1[cutLen], n1-cutLen, vec2, n2-cutLen);\n",
    "        else\n",
    "            return findMedian_logn(vec1, n1-cutLen, &vec2[cutLen], n2-cutLen);\n",
    "    }\n",
    "}"
   ]
  }
 ],
 "metadata": {
  "hide_input": false,
  "kernelspec": {
   "display_name": "Java",
   "language": "java",
   "name": "java"
  },
  "language_info": {
   "codemirror_mode": "java",
   "file_extension": ".java",
   "mimetype": "text/x-java-source",
   "name": "Java",
   "pygments_lexer": "java",
   "version": "11.0.1+13-LTS"
  },
  "toc": {
   "base_numbering": 1,
   "nav_menu": {},
   "number_sections": true,
   "sideBar": true,
   "skip_h1_title": false,
   "title_cell": "Table of Contents",
   "title_sidebar": "Contents",
   "toc_cell": false,
   "toc_position": {},
   "toc_section_display": true,
   "toc_window_display": false
  },
  "varInspector": {
   "cols": {
    "lenName": 16,
    "lenType": 16,
    "lenVar": 40
   },
   "kernels_config": {
    "python": {
     "delete_cmd_postfix": "",
     "delete_cmd_prefix": "del ",
     "library": "var_list.py",
     "varRefreshCmd": "print(var_dic_list())"
    },
    "r": {
     "delete_cmd_postfix": ") ",
     "delete_cmd_prefix": "rm(",
     "library": "var_list.r",
     "varRefreshCmd": "cat(var_dic_list()) "
    }
   },
   "types_to_exclude": [
    "module",
    "function",
    "builtin_function_or_method",
    "instance",
    "_Feature"
   ],
   "window_display": false
  }
 },
 "nbformat": 4,
 "nbformat_minor": 2
}
