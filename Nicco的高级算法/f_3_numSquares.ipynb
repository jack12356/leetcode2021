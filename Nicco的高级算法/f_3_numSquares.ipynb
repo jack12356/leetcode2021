{
 "cells": [
  {
   "cell_type": "markdown",
   "metadata": {},
   "source": [
    "#  Perfect Squares\n",
    "给定正整数 n，找到若干个完全平方数（比如 1, 4, 9, 16, ...）使得它们的和等于 n。你需要让组成和的完全平方数的个数最少。\n",
    "\n",
    "示例 1:\n",
    "\n",
    "    输入: n = 12\n",
    "    输出: 3 \n",
    "    解释: 12 = 4 + 4 + 4.\n",
    "示例 2:\n",
    "\n",
    "    输入: n = 13\n",
    "    输出: 2\n",
    "    解释: 13 = 4 + 9."
   ]
  },
  {
   "cell_type": "markdown",
   "metadata": {},
   "source": [
    "## 思路一：四平方数\n",
    "2.1 根据四平方和定理\n",
    "根据四平方和定理，结果就是1，2，3，4中的一个。首先需要对数字进行简化，有两条规则：\n",
    "1. 规则1：如果这个数对4取余得0，可以把4除去（易知，这个过程可以不断重复），不影响结果；\n",
    "2. 规则2：对4取余结束后，如果这个数对8取余得7，则这个数是四个完全平方数的和；\n",
    "\n",
    "根据规则1，先对这个数不断除4（满足除的条件的话）。然后根据规则2，如果这个数对8取余得7，则结果是4，否则，结果是1，2，3中的一个。显然，1，2很容易验证，若都不是那么就一定是3了。所以，过程变得简洁了很多。代码如下：\n"
   ]
  },
  {
   "cell_type": "code",
   "execution_count": null,
   "metadata": {},
   "outputs": [],
   "source": [
    "class Solution {\n",
    "public:\n",
    "    int numSquares(int n) {\n",
    "        while(n % 4 == 0) { \n",
    "            n /= 4;\n",
    "        }\n",
    "        if(n % 8 == 7) { \n",
    "            return 4;\n",
    "        }\n",
    "        for(int a = 0; a * a <= n; ++a) {\n",
    "            int b = sqrt(n - a * a);\n",
    "            if(a * a + b * b == n) { \n",
    "                return !!a + !!b; \n",
    "            }\n",
    "        }\n",
    "        return 3;\n",
    "    }\n",
    "};"
   ]
  },
  {
   "cell_type": "markdown",
   "metadata": {},
   "source": [
    "## 思路二：动态规划\n",
    "从 0 开始到 n 计算每一个整数 i 的最少完全平方数个数 dp[i] ，得到 dp[i] 后，计算 dp[i+j*j] ，只要 i+j*j<=n 就可以一直计算下去，最后返回 vector 的最后一个元素。代码如下："
   ]
  },
  {
   "cell_type": "code",
   "execution_count": null,
   "metadata": {},
   "outputs": [],
   "source": [
    "class Solution {\n",
    "public:\n",
    "    int numSquares(int n) {\n",
    "        vector<int> dp(n + 1, INT_MAX);\n",
    "        dp[0] = 0;\n",
    "        for(int i = 0; i <= n; ++i){\n",
    "            for(int j = 1; i + j * j <= n; ++j){\n",
    "                dp[i + j * j] = min(dp[i + j * j], dp[i] + 1);\n",
    "            }\n",
    "        }\n",
    "        return dp.back();\n",
    "    }\n",
    "};\n"
   ]
  }
 ],
 "metadata": {
  "kernelspec": {
   "display_name": "Java",
   "language": "java",
   "name": "java"
  },
  "language_info": {
   "codemirror_mode": "java",
   "file_extension": ".java",
   "mimetype": "text/x-java-source",
   "name": "Java",
   "pygments_lexer": "java",
   "version": "11.0.1+13-LTS"
  },
  "toc": {
   "base_numbering": 1,
   "nav_menu": {},
   "number_sections": true,
   "sideBar": true,
   "skip_h1_title": false,
   "title_cell": "Table of Contents",
   "title_sidebar": "Contents",
   "toc_cell": false,
   "toc_position": {},
   "toc_section_display": true,
   "toc_window_display": false
  }
 },
 "nbformat": 4,
 "nbformat_minor": 2
}
