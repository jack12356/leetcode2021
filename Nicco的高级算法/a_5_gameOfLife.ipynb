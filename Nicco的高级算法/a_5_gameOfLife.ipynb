{
 "cells": [
  {
   "cell_type": "markdown",
   "metadata": {},
   "source": [
    "# 生命游戏\n",
    "根据百度百科，生命游戏，简称为生命，是英国数学家约翰·何顿·康威在1970年发明的细胞自动机。\n",
    "\n",
    "给定一个包含 m × n 个格子的面板，每一个格子都可以看成是一个细胞。每个细胞具有一个初始状态 live（1）即为活细胞， 或 dead（0）即为死细胞。每个细胞与其八个相邻位置（水平，垂直，对角线）的细胞都遵循以下四条生存定律：\n",
    "\n",
    "如果活细胞周围八个位置的活细胞数少于两个，则该位置活细胞死亡；\n",
    "如果活细胞周围八个位置有两个或三个活细胞，则该位置活细胞仍然存活；\n",
    "如果活细胞周围八个位置有超过三个活细胞，则该位置活细胞死亡；\n",
    "如果死细胞周围正好有三个活细胞，则该位置死细胞复活；\n",
    "根据当前状态，写一个函数来计算面板上细胞的下一个（一次更新后的）状态。下一个状态是通过将上述规则同时应用于当前状态下的每个细胞所形成的，其中细胞的出生和死亡是同时发生的。\n",
    "\n",
    "示例:\n",
    "\n",
    "    输入: \n",
    "    [\n",
    "      [0,1,0],\n",
    "      [0,0,1],\n",
    "      [1,1,1],\n",
    "      [0,0,0]\n",
    "    ]\n",
    "    输出: \n",
    "    [\n",
    "      [0,0,0],\n",
    "      [1,0,1],\n",
    "      [0,1,1],\n",
    "      [0,1,0]\n",
    "    ]\n",
    "进阶:\n",
    "\n",
    "你可以使用原地算法解决本题吗？请注意，面板上所有格子需要同时被更新：你不能先更新某些格子，然后使用它们的更新后的值再更新其他格子。\n",
    "本题中，我们使用二维数组来表示面板。原则上，面板是无限的，但当活细胞侵占了面板边界时会造成问题。你将如何解决这些问题？"
   ]
  },
  {
   "cell_type": "markdown",
   "metadata": {},
   "source": [
    "## 思路\n",
    "1. 边界条件可以先赋值，然后单独写函数判断边界，不对就不要。\n",
    "2. 原地算法，所以使用特殊标志来更新数据，比如将1更新为3，统计时候依然大于0，但是之后再将所有3变为-1；"
   ]
  },
  {
   "cell_type": "code",
   "execution_count": null,
   "metadata": {},
   "outputs": [],
   "source": [
    "public void gameOfLife(int[][] board) {\n",
    "    if (board.length==0||board[0].length==0) return;\n",
    "    int height = board.length;\n",
    "    int wide = board[0].length;\n",
    "    for (int i = 0; i < height; i++) {\n",
    "        for (int j = 0; j < wide; j++) {\n",
    "            int count = count_1(board,i,j);\n",
    "            if ((count<2||count>3) && (board[i][j] == 1)) board[i][j]=2;\n",
    "            if ((count==3) && (board[i][j]==0)) board[i][j]=-3;\n",
    "        }\n",
    "    }\n",
    "    for (int i = 0; i < height; i++) {\n",
    "        for (int j = 0; j < wide; j++) {\n",
    "            if (board[i][j] == -3) board[i][j]=1;\n",
    "            if (board[i][j] == 2) board[i][j]=0;\n",
    "        }\n",
    "    }\n",
    "}\n",
    "\n",
    "\n",
    "private int count_1(int[][] board, int i, int j) {\n",
    "    int count = 0;\n",
    "    count+=add(board,i-1,j-1);\n",
    "    count+=add(board,i-1,j);\n",
    "    count+=add(board,i-1,j+1);\n",
    "    count+=add(board,i,j-1);\n",
    "    count+=add(board,i,j+1);\n",
    "    count+=add(board,i+1,j-1);\n",
    "    count+=add(board,i+1,j);\n",
    "    count+=add(board,i+1,j+1);\n",
    "    return count;\n",
    "}\n",
    "\n",
    "private int add(int[][] board, int i, int j) {\n",
    "    return (i>=0&&i<board.length&&j>=0&&j<board[0].length&&board[i][j]>0) ? 1:0;\n",
    "}"
   ]
  }
 ],
 "metadata": {
  "kernelspec": {
   "display_name": "Java",
   "language": "java",
   "name": "java"
  },
  "language_info": {
   "codemirror_mode": "java",
   "file_extension": ".java",
   "mimetype": "text/x-java-source",
   "name": "Java",
   "pygments_lexer": "java",
   "version": "11.0.1+13-LTS"
  },
  "toc": {
   "base_numbering": 1,
   "nav_menu": {},
   "number_sections": true,
   "sideBar": true,
   "skip_h1_title": false,
   "title_cell": "Table of Contents",
   "title_sidebar": "Contents",
   "toc_cell": false,
   "toc_position": {},
   "toc_section_display": true,
   "toc_window_display": false
  }
 },
 "nbformat": 4,
 "nbformat_minor": 2
}
