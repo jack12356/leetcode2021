{
 "cells": [
  {
   "cell_type": "markdown",
   "metadata": {},
   "source": [
    "# LRU 缓存机制\n",
    "运用你所掌握的数据结构，设计和实现一个  LRU (最近最少使用) 缓存机制。它应该支持以下操作： 获取数据 get 和 写入数据 put 。\n",
    "\n",
    "获取数据 get(key) - 如果密钥 (key) 存在于缓存中，则获取密钥的值（总是正数），否则返回 -1。\n",
    "写入数据 put(key, value) - 如果密钥不存在，则写入其数据值。当缓存容量达到上限时，它应该在写入新数据之前删除最近最少使用的数据值，从而为新的数据值留出空间。\n",
    "\n",
    "进阶:\n",
    "\n",
    "你是否可以在 O(1) 时间复杂度内完成这两种操作？\n",
    "\n",
    "示例:\n",
    "\n",
    "    LRUCache cache = new LRUCache( 2 /* 缓存容量 */ );\n",
    "\n",
    "    cache.put(1, 1);\n",
    "    cache.put(2, 2);\n",
    "    cache.get(1);       // 返回  1\n",
    "    cache.put(3, 3);    // 该操作会使得密钥 2 作废\n",
    "    cache.get(2);       // 返回 -1 (未找到)\n",
    "    cache.put(4, 4);    // 该操作会使得密钥 1 作废\n",
    "    cache.get(1);       // 返回 -1 (未找到)\n",
    "    cache.get(3);       // 返回  3\n",
    "    cache.get(4);       // 返回  4"
   ]
  },
  {
   "cell_type": "markdown",
   "metadata": {},
   "source": [
    "## 自己的想法，有序链表"
   ]
  },
  {
   "cell_type": "code",
   "execution_count": null,
   "metadata": {},
   "outputs": [],
   "source": [
    "class LRUCache {\n",
    "    LinkedHashMap<Integer, Integer> lmap;\n",
    "    int size;\n",
    "    public LRUCache(int capacity) {\n",
    "        size = capacity;\n",
    "        lmap = new LinkedHashMap<>(capacity);\n",
    "    }\n",
    "\n",
    "    public int get(int key) {\n",
    "        if (lmap.containsKey(key)){\n",
    "            int value = lmap.get(key);\n",
    "            lmap.remove(key);\n",
    "            lmap.put(key, value);\n",
    "            return value;\n",
    "        }else return -1;\n",
    "    }\n",
    "\n",
    "    public void put(int key, int value) {\n",
    "        if (lmap.containsKey(key)){\n",
    "            lmap.remove(key);\n",
    "            lmap.put(key, value);\n",
    "            return;\n",
    "        }\n",
    "        if (lmap.size()>=size&&!lmap.isEmpty()){\n",
    "            lmap.remove(lmap.keySet().toArray()[0]);\n",
    "        }\n",
    "        lmap.put(key, value);\n",
    "    }\n",
    "}"
   ]
  },
  {
   "cell_type": "markdown",
   "metadata": {},
   "source": [
    "## 经典方法是hashMap + 双向链表"
   ]
  },
  {
   "cell_type": "code",
   "execution_count": null,
   "metadata": {},
   "outputs": [],
   "source": []
  }
 ],
 "metadata": {
  "kernelspec": {
   "display_name": "Java",
   "language": "java",
   "name": "java"
  },
  "language_info": {
   "codemirror_mode": "java",
   "file_extension": ".java",
   "mimetype": "text/x-java-source",
   "name": "Java",
   "pygments_lexer": "java",
   "version": "11.0.1+13-LTS"
  },
  "toc": {
   "base_numbering": 1,
   "nav_menu": {},
   "number_sections": true,
   "sideBar": true,
   "skip_h1_title": false,
   "title_cell": "Table of Contents",
   "title_sidebar": "Contents",
   "toc_cell": false,
   "toc_position": {},
   "toc_section_display": true,
   "toc_window_display": false
  }
 },
 "nbformat": 4,
 "nbformat_minor": 2
}
