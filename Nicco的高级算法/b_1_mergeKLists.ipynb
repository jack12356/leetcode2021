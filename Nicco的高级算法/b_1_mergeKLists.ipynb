{
 "cells": [
  {
   "cell_type": "markdown",
   "metadata": {},
   "source": [
    "# 合并K个元素的有序链表\n",
    "合并 k 个排序链表，返回合并后的排序链表。请分析和描述算法的复杂度。\n",
    "\n",
    "示例:\n",
    "\n",
    "    输入:\n",
    "    [\n",
    "      1->4->5,\n",
    "      1->3->4,\n",
    "      2->6\n",
    "    ]\n",
    "    输出: 1->1->2->3->4->4->5->6"
   ]
  },
  {
   "cell_type": "markdown",
   "metadata": {},
   "source": [
    "## 归并合并"
   ]
  },
  {
   "cell_type": "code",
   "execution_count": null,
   "metadata": {},
   "outputs": [],
   "source": [
    "public ListNode mergeTwoLists(ListNode l1, ListNode l2) {\n",
    "    ListNode i=l1;\n",
    "    ListNode j = l2;\n",
    "    ListNode s0=new ListNode(-1);\n",
    "    ListNode s=s0;\n",
    "    while(i!=null && j!=null){\n",
    "        if(i.val<j.val){\n",
    "            s.next=i;\n",
    "            i=i.next;\n",
    "            s=s.next;\n",
    "        }else{\n",
    "            s.next=j;\n",
    "            j=j.next;\n",
    "            s=s.next;\n",
    "        }\n",
    "    }\n",
    "    s.next = i == null ? j : i;\n",
    "    return s0.next;\n",
    "}\n",
    "public ListNode mergeKLists(ListNode[] lists) {\n",
    "    if (lists.length==0) return null;\n",
    "    int st =0;\n",
    "    int end = lists.length-1;\n",
    "    while (end != 0){\n",
    "        while (st < end) {\n",
    "            ListNode l1 = lists[st];\n",
    "            ListNode l2 = lists[end];\n",
    "            lists[st] = mergeTwoLists(l1, l2);\n",
    "            st++;\n",
    "            end--;\n",
    "        }\n",
    "        st = 0;\n",
    "    }\n",
    "    return lists[0];\n",
    "}"
   ]
  }
 ],
 "metadata": {
  "kernelspec": {
   "display_name": "Java",
   "language": "java",
   "name": "java"
  },
  "language_info": {
   "codemirror_mode": "java",
   "file_extension": ".java",
   "mimetype": "text/x-java-source",
   "name": "Java",
   "pygments_lexer": "java",
   "version": "11.0.1+13-LTS"
  },
  "toc": {
   "base_numbering": 1,
   "nav_menu": {},
   "number_sections": true,
   "sideBar": true,
   "skip_h1_title": false,
   "title_cell": "Table of Contents",
   "title_sidebar": "Contents",
   "toc_cell": false,
   "toc_position": {},
   "toc_section_display": true,
   "toc_window_display": false
  }
 },
 "nbformat": 4,
 "nbformat_minor": 2
}
