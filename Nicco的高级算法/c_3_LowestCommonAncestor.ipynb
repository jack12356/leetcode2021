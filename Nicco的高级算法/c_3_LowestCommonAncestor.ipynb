{
 "cells": [
  {
   "cell_type": "markdown",
   "metadata": {},
   "source": [
    "#   二叉树的最近公共祖先\n",
    "给定一个二叉树, 找到该树中两个指定节点的最近公共祖先。\n",
    "\n",
    "百度百科中最近公共祖先的定义为：“对于有根树 T 的两个结点 p、q，最近公共祖先表示为一个结点 x，满足 x 是 p、q 的祖先且 x 的深度尽可能大（一个节点也可以是它自己的祖先）。”\n",
    "\n",
    "例如，给定如下二叉树:  root = [3,5,1,6,2,0,8,null,null,7,4]\n",
    "\n",
    "\n",
    "\n",
    " \n",
    "\n",
    "示例 1:\n",
    "\n",
    "    输入: root = [3,5,1,6,2,0,8,null,null,7,4], p = 5, q = 1\n",
    "    输出: 3\n",
    "解释: 节点 5 和节点 1 的最近公共祖先是节点 3。\n",
    "示例 2:\n",
    "\n",
    "    输入: root = [3,5,1,6,2,0,8,null,null,7,4], p = 5, q = 4\n",
    "    输出: 5\n",
    "解释: 节点 5 和节点 4 的最近公共祖先是节点 5。因为根据定义最近公共祖先节点可以为节点本身。\n",
    " \n",
    "\n",
    "说明:\n",
    "\n",
    "所有节点的值都是唯一的。\n",
    "p、q 为不同节点且均存在于给定的二叉树中。"
   ]
  },
  {
   "cell_type": "markdown",
   "metadata": {},
   "source": [
    "## 思路\n",
    "二叉树后序遍历，判断是否左右找到解；"
   ]
  },
  {
   "cell_type": "code",
   "execution_count": null,
   "metadata": {},
   "outputs": [],
   "source": [
    "public class LowestCommonAncestor {\n",
    "    TreeNode p,q;\n",
    "    public TreeNode lowestCommonAncestor(TreeNode root, TreeNode p, TreeNode q) {\n",
    "        this.p = p;\n",
    "        this.q= q;\n",
    "        return dfs(root);\n",
    "    }\n",
    "    public TreeNode dfs(TreeNode root){\n",
    "        if(root==null) return null;\n",
    "        TreeNode left_res = dfs(root.left);\n",
    "        TreeNode right_res = dfs(root.right);\n",
    "        //左右有解或者根节点为解\n",
    "        if ((root.val==p.val||root.val==q.val)||(left_res!=null&&right_res!=null)) return root;\n",
    "        //左边有解\n",
    "        if (left_res != null) return left_res;\n",
    "        //右边有解\n",
    "        if (right_res != null) return right_res;\n",
    "        //无解\n",
    "        return null;\n",
    "    }\n",
    "}"
   ]
  }
 ],
 "metadata": {
  "kernelspec": {
   "display_name": "Java",
   "language": "java",
   "name": "java"
  },
  "language_info": {
   "codemirror_mode": "java",
   "file_extension": ".java",
   "mimetype": "text/x-java-source",
   "name": "Java",
   "pygments_lexer": "java",
   "version": "11.0.1+13-LTS"
  },
  "toc": {
   "base_numbering": 1,
   "nav_menu": {},
   "number_sections": true,
   "sideBar": true,
   "skip_h1_title": false,
   "title_cell": "Table of Contents",
   "title_sidebar": "Contents",
   "toc_cell": false,
   "toc_position": {},
   "toc_section_display": true,
   "toc_window_display": false
  }
 },
 "nbformat": 4,
 "nbformat_minor": 2
}
