{
 "cells": [
  {
   "cell_type": "markdown",
   "metadata": {},
   "source": [
    "# 第一个缺失的正数\n",
    "给定一个未排序的整数数组，找出其中没有出现的最小的正整数。\n",
    "\n",
    "示例 1:\n",
    "\n",
    "    输入: [1,2,0]\n",
    "    输出: 3\n",
    "示例 2:\n",
    "\n",
    "    输入: [3,4,-1,1]\n",
    "    输出: 2\n",
    "示例 3:\n",
    "\n",
    "    输入: [7,8,9,11,12]\n",
    "    输出: 1\n",
    "说明:\n",
    "\n",
    "你的算法的时间复杂度应为O(n)，并且只能使用常数级别的空间。"
   ]
  },
  {
   "cell_type": "markdown",
   "metadata": {},
   "source": [
    "## 思路\n",
    "1. 如果使用新的数组存储每个位置的数是否出现，可以做到O(n)，但是空间复杂度也是O(n)；\n",
    "2. 可以直接在原数组上更改，原地算法；如果某个数出现在1~len范围内，直接赋值到那个索引，注意覆盖问题即可；最后找出索引和数不和的值；"
   ]
  },
  {
   "cell_type": "code",
   "execution_count": null,
   "metadata": {},
   "outputs": [],
   "source": [
    "public int firstMissingPositive(int[] nums) {\n",
    "    if (nums.length==0) return 1;\n",
    "    for (int num : nums) {\n",
    "        if (num > 0 && num <= nums.length) {\n",
    "            replace_ele(nums, num, num - 1);\n",
    "        }\n",
    "    }\n",
    "    for (int i = 0; i < nums.length; i++) {\n",
    "        if (nums[i]!=i+1) return i+1;\n",
    "    }\n",
    "    return nums.length+1;\n",
    "}\n",
    "\n",
    "private void replace_ele(int[] nums, int n, int index) {\n",
    "    int t = nums[index];\n",
    "    nums[index] = n;\n",
    "    if (t>0 && t<=nums.length) replace_ele(nums,t,t-1);\n",
    "}"
   ]
  }
 ],
 "metadata": {
  "kernelspec": {
   "display_name": "Java",
   "language": "java",
   "name": "java"
  },
  "language_info": {
   "codemirror_mode": "java",
   "file_extension": ".java",
   "mimetype": "text/x-java-source",
   "name": "Java",
   "pygments_lexer": "java",
   "version": "11.0.1+13-LTS"
  },
  "toc": {
   "base_numbering": 1,
   "nav_menu": {},
   "number_sections": true,
   "sideBar": true,
   "skip_h1_title": false,
   "title_cell": "Table of Contents",
   "title_sidebar": "Contents",
   "toc_cell": false,
   "toc_position": {},
   "toc_section_display": true,
   "toc_window_display": false
  }
 },
 "nbformat": 4,
 "nbformat_minor": 2
}
