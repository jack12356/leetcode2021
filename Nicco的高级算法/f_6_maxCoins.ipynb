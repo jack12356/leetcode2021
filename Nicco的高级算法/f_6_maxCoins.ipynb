{
 "cells": [
  {
   "cell_type": "markdown",
   "metadata": {},
   "source": [
    "# 戳气球\n",
    "有 n 个气球，编号为0 到 n-1，每个气球上都标有一个数字，这些数字存在数组 nums 中。\n",
    "\n",
    "现在要求你戳破所有的气球。每当你戳破一个气球 i 时，你可以获得 nums[left] * nums[i] * nums[right] 个硬币。 这里的 left 和 right 代表和 i 相邻的两个气球的序号。注意当你戳破了气球 i 后，气球 left 和气球 right 就变成了相邻的气球。\n",
    "\n",
    "求所能获得硬币的最大数量。\n",
    "\n",
    "说明:\n",
    "\n",
    "你可以假设 nums[-1] = nums[n] = 1，但注意它们不是真实存在的所以并不能被戳破。\n",
    "0 ≤ n ≤ 500, 0 ≤ nums[i] ≤ 100\n",
    "示例:\n",
    "\n",
    "    输入: [3,1,5,8]\n",
    "    输出: 167 \n",
    "    \n",
    "    解释: nums = [3,1,5,8] --> [3,5,8] -->   [3,8]   -->  [8]  --> []\n",
    "         coins =  3*1*5      +  3*5*8    +  1*3*8      + 1*8*1   = 167# "
   ]
  },
  {
   "cell_type": "markdown",
   "metadata": {},
   "source": [
    "## 别人的思路\n",
    "分析\n",
    "一开始思路不对，没有从整体看，而是钻到了细节，结果越是细节就越蒙。。。\n",
    "\n",
    "之后把这道题放了好久，刚刚看的时候突然想到，这种动态规划的题，重点不就是 状态转移方程么！！？于是果断思考中途戳某个气球 i 的情况：\n",
    "\n",
    "设 动态规划数组 dp[m][n]：nums[m…n]区间内 能戳破气球获得的最大值\n",
    "\n",
    "取 m < k < n，假设nums[k] 是最后一个戳破的气球，则dp[m][n] = Math.max(dp[m][k]+dp[k][n]+nums[m]*nums[k]*nums[n])；\n",
    "\n",
    "所以三层循环嵌套\n",
    "\n",
    "1. 外层循环区间间隔，也即每组气球的个数，2~nums.length；\n",
    "2. 中层获取每组气球的起始下标\n",
    "3. 内层获取戳破的气球\n"
   ]
  },
  {
   "cell_type": "code",
   "execution_count": null,
   "metadata": {},
   "outputs": [],
   "source": [
    "public int maxCoins(int[] nums) {\n",
    "    int[] coins = new int[nums.length+2];\n",
    "    int dp[][] = new int[coins.length][coins.length];\n",
    "    coins[0] = 1;\n",
    "    coins[coins.length-1]=1;\n",
    "\n",
    "    for(int i=0;i<nums.length;i++){\n",
    "        coins[i+1] = nums[i];\n",
    "    }\n",
    "\n",
    "    for(int i=2;i<coins.length;i++){\n",
    "        for(int j=0;j+i<coins.length;j++){\n",
    "            for(int k=j+1;k<j+i;k++){\n",
    "                dp[j][j+i] = Math.max(dp[j][j+i],dp[j][k]+dp[k][j+i]+coins[j]*coins[k]*coins[j+i]);\n",
    "            }\n",
    "        }\n",
    "    }\n",
    "    return dp[0][coins.length-1];\n",
    "}"
   ]
  }
 ],
 "metadata": {
  "kernelspec": {
   "display_name": "Java",
   "language": "java",
   "name": "java"
  },
  "language_info": {
   "codemirror_mode": "java",
   "file_extension": ".java",
   "mimetype": "text/x-java-source",
   "name": "Java",
   "pygments_lexer": "java",
   "version": "11.0.1+13-LTS"
  },
  "toc": {
   "base_numbering": 1,
   "nav_menu": {},
   "number_sections": true,
   "sideBar": true,
   "skip_h1_title": false,
   "title_cell": "Table of Contents",
   "title_sidebar": "Contents",
   "toc_cell": false,
   "toc_position": {},
   "toc_section_display": true,
   "toc_window_display": false
  }
 },
 "nbformat": 4,
 "nbformat_minor": 2
}
