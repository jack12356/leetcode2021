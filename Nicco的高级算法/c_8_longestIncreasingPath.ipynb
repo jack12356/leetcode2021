{
 "cells": [
  {
   "cell_type": "markdown",
   "metadata": {},
   "source": [
    "# 矩阵中的最长递增路径\n",
    "给定一个整数矩阵，找出最长递增路径的长度。\n",
    "\n",
    "对于每个单元格，你可以往上，下，左，右四个方向移动。 你不能在对角线方向上移动或移动到边界外（即不允许环绕）。\n",
    "\n",
    "示例 1:\n",
    "\n",
    "    输入: nums = \n",
    "    [\n",
    "      [9,9,4],\n",
    "      [6,6,8],\n",
    "      [2,1,1]\n",
    "    ] \n",
    "    输出: 4 \n",
    "解释: 最长递增路径为 [1, 2, 6, 9]。\n",
    "示例 2:\n",
    "\n",
    "    输入: nums = \n",
    "    [\n",
    "      [3,4,5],\n",
    "      [3,2,6],\n",
    "      [2,2,1]\n",
    "    ] \n",
    "输出: 4 \n",
    "解释: 最长递增路径是 [3, 4, 5, 6]。注意不允许在对角线方向上移动。"
   ]
  },
  {
   "cell_type": "markdown",
   "metadata": {},
   "source": [
    "## 思路\n",
    "动态规划+深度优先"
   ]
  },
  {
   "cell_type": "code",
   "execution_count": 1,
   "metadata": {
    "ExecuteTime": {
     "end_time": "2019-01-14T03:46+0000",
     "start_time": "2019-01-14T03:46:23.269Z"
    }
   },
   "outputs": [],
   "source": [
    "public int longestIncreasingPath(int[][] matrix) {\n",
    "    if(matrix.length==0||matrix[0].length==0) return 0;\n",
    "    int[][] visited = new int[matrix.length][matrix[0].length];\n",
    "    int longest = 0;\n",
    "    for (int i = 0; i <matrix.length; i++) {\n",
    "        for (int j = 0; j < matrix[0].length; j++) {\n",
    "            int cur_len = longPath(matrix,i,j,visited,Integer.MIN_VALUE);\n",
    "            if (cur_len>longest) longest = cur_len;\n",
    "        }\n",
    "    }\n",
    "    return longest;\n",
    "}\n",
    "\n",
    "public int longPath(int[][]matrix,int i,int j,int[][]visited,int oldVal){\n",
    "    if (i < 0 || i >= matrix.length || j < 0 || j >= matrix[0].length || matrix[i][j] <= oldVal) return 0;\n",
    "    if (visited[i][j] != 0) return visited[i][j];\n",
    "    int cur_num = matrix[i][j];\n",
    "    int upLen = longPath(matrix, i - 1, j, visited,cur_num); //上面\n",
    "    int dnLen = longPath(matrix, i + 1, j, visited,cur_num); //下面\n",
    "    int lfLen = longPath(matrix, i, j - 1, visited,cur_num); //左面\n",
    "    int rtLen = longPath(matrix, i, j + 1, visited,cur_num); //右面\n",
    "    upLen = Math.max(upLen,dnLen);\n",
    "    rtLen = Math.max(lfLen,rtLen);\n",
    "    visited[i][j] = Math.max(upLen,rtLen) + 1;\n",
    "    return visited[i][j];\n",
    "}"
   ]
  }
 ],
 "metadata": {
  "kernelspec": {
   "display_name": "Java",
   "language": "java",
   "name": "java"
  },
  "language_info": {
   "codemirror_mode": "java",
   "file_extension": ".java",
   "mimetype": "text/x-java-source",
   "name": "Java",
   "pygments_lexer": "java",
   "version": "11.0.1+13-LTS"
  },
  "toc": {
   "base_numbering": 1,
   "nav_menu": {},
   "number_sections": true,
   "sideBar": true,
   "skip_h1_title": false,
   "title_cell": "Table of Contents",
   "title_sidebar": "Contents",
   "toc_cell": false,
   "toc_position": {},
   "toc_section_display": true,
   "toc_window_display": false
  }
 },
 "nbformat": 4,
 "nbformat_minor": 2
}
