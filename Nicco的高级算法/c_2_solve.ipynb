{
 "cells": [
  {
   "cell_type": "markdown",
   "metadata": {},
   "source": [
    "# 130. 被围绕的区域\n",
    "\n",
    "给定一个二维的矩阵，包含 'X' 和 'O'（字母 O）。\n",
    "\n",
    "找到所有被 'X' 围绕的区域，并将这些区域里所有的 'O' 用 'X' 填充。\n",
    "\n",
    "示例:\n",
    "\n",
    "    X X X X\n",
    "    X O O X\n",
    "    X X O X\n",
    "    X O X X\n",
    "运行你的函数后，矩阵变为：\n",
    "\n",
    "    X X X X\n",
    "    X X X X\n",
    "    X X X X\n",
    "    X O X X\n",
    "解释:\n",
    "\n",
    "被围绕的区间不会存在于边界上，换句话说，任何边界上的 'O' 都不会被填充为 'X'。 任何不在边界上，或不与边界上的 'O' 相连的 'O' 最终都会被填充为 'X'。如果两个元素在水平或垂直方向相邻，则称它们是“相连”的。"
   ]
  },
  {
   "cell_type": "code",
   "execution_count": null,
   "outputs": [],
   "source": [],
   "metadata": {
    "collapsed": false,
    "pycharm": {
     "name": "#%%\n"
    }
   }
  },
  {
   "cell_type": "markdown",
   "metadata": {},
   "source": [
    "## 思路\n",
    "从**外面往里面DFS遍历**；\n",
    "为什么不从里面往外面，因为从外面往里面，一定找到的都是邻接边界O的；\n",
    "从里面往外面遍历，遍历的时候不知道是否为邻接，只有遍历到边界值的时候才会知道。"
   ]
  },
  {
   "cell_type": "code",
   "execution_count": null,
   "metadata": {
    "code_folding": [
     13
    ]
   },
   "outputs": [],
   "source": [
    "private int m, n;\n",
    "public void solve(char[][] board) {\n",
    "    if (board == null || board.length == 0) {\n",
    "        return;\n",
    "    }\n",
    "\n",
    "    m = board.length;\n",
    "    n = board[0].length;\n",
    "\n",
    "    for (int i = 0; i < m; i++) {\n",
    "        dfs(board, i, 0);\n",
    "        dfs(board, i, n - 1);\n",
    "    }\n",
    "    for (int i = 0; i < n; i++) {\n",
    "        dfs(board, 0, i);\n",
    "        dfs(board, m - 1, i);\n",
    "    }\n",
    "\n",
    "    for (int i = 0; i < m; i++) {\n",
    "        for (int j = 0; j < n; j++) {\n",
    "            if (board[i][j] == 'T') {\n",
    "                board[i][j] = 'O';\n",
    "            } else if (board[i][j] == 'O') {\n",
    "                board[i][j] = 'X';\n",
    "            }\n",
    "        }\n",
    "    }\n",
    "}\n",
    "\n",
    "private void dfs(char[][] board, int r, int c) {\n",
    "    if (r < 0 || r >= m || c < 0 || c >= n || board[r][c] != 'O') {\n",
    "        return;\n",
    "    }\n",
    "    board[r][c] = 'T';\n",
    "    dfs(board,r-1,c);\n",
    "    dfs(board,r+1,c);\n",
    "    dfs(board,r,c-1);\n",
    "    dfs(board,r,c+1);\n",
    "}"
   ]
  }
 ],
 "metadata": {
  "kernelspec": {
   "display_name": "Java",
   "language": "java",
   "name": "java"
  },
  "language_info": {
   "codemirror_mode": "java",
   "file_extension": ".java",
   "mimetype": "text/x-java-source",
   "name": "Java",
   "pygments_lexer": "java",
   "version": "11.0.1+13-LTS"
  },
  "toc": {
   "base_numbering": 1,
   "nav_menu": {},
   "number_sections": true,
   "sideBar": true,
   "skip_h1_title": false,
   "title_cell": "Table of Contents",
   "title_sidebar": "Contents",
   "toc_cell": false,
   "toc_position": {},
   "toc_section_display": true,
   "toc_window_display": false
  }
 },
 "nbformat": 4,
 "nbformat_minor": 2
}