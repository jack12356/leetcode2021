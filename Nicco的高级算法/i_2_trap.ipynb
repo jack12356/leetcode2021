{
 "cells": [
  {
   "cell_type": "markdown",
   "metadata": {},
   "source": [
    "# 接雨水\n",
    "给定 n 个非负整数表示每个宽度为 1 的柱子的高度图，计算按此排列的柱子，下雨之后能接多少雨水。\n",
    "\n",
    "\n",
    "\n",
    "上面是由数组 [0,1,0,2,1,0,1,3,2,1,2,1] 表示的高度图，在这种情况下，可以接 6 个单位的雨水（蓝色部分表示雨水）。 感谢 Marcos 贡献此图。\n",
    "\n",
    "![示意图](https://assets.leetcode-cn.com/aliyun-lc-upload/uploads/2018/10/22/rainwatertrap.png )\n",
    "\n",
    "示例:\n",
    "\n",
    "    输入: [0,1,0,2,1,0,1,3,2,1,2,1]\n",
    "    输出: 6"
   ]
  },
  {
   "cell_type": "markdown",
   "metadata": {},
   "source": [
    "## 思路一\n",
    "每次统计为零的数目，一层一层计数；\n",
    "\n",
    "时间太长；"
   ]
  },
  {
   "cell_type": "code",
   "execution_count": 1,
   "metadata": {
    "ExecuteTime": {
     "end_time": "2019-01-22T09:47+0000",
     "start_time": "2019-01-22T09:47:09.669Z"
    }
   },
   "outputs": [],
   "source": [
    "public int trap(int[] height) {\n",
    "    return trap_index(height,0,height.length-1);\n",
    "}\n",
    "public int trap_index(int[] height,int l,int r) {\n",
    "    int left = l, right = r;\n",
    "    while (left <= r && height[left] == 0) left++;\n",
    "    while (right >= l && height[right] == 0) right--;\n",
    "    if (left>=right) return 0;\n",
    "    int area=0,pl=left;\n",
    "    while (pl <= right) {\n",
    "        if (height[pl]>0) height[pl]--;\n",
    "        else area++;\n",
    "        pl++;\n",
    "    }\n",
    "    area += trap_index(height,left,right);\n",
    "    return area;\n",
    "}"
   ]
  },
  {
   "cell_type": "markdown",
   "metadata": {},
   "source": [
    "## 思路二\n",
    "\n",
    "从左往右遍历找比当前大的值，计算之间的容量，再从右往左遍历一次；"
   ]
  },
  {
   "cell_type": "code",
   "execution_count": null,
   "metadata": {},
   "outputs": [],
   "source": [
    "public int trap(int[] height) {\n",
    "        int left = 0, right = height.length-1;\n",
    "        while (left <= height.length-1 && height[left] == 0) left++;\n",
    "        while (right >= 0 && height[right] == 0) right--;\n",
    "        int res = 0;\n",
    "        int cur = left + 1;\n",
    "        //从左往右\n",
    "        while (cur<=right){\n",
    "            if (height[cur]<height[left]) cur++;\n",
    "            else {\n",
    "                for (int k = left+1; k < cur; k++) {\n",
    "                    res += height[left] -  height[k];\n",
    "                }\n",
    "                left = cur;\n",
    "                cur = left + 1;\n",
    "            }\n",
    "        }\n",
    "        //从右往左\n",
    "        if (left<right){\n",
    "            cur = right-1;\n",
    "            while (cur>=left){\n",
    "                if (height[cur]<height[right]) cur--;\n",
    "                else {\n",
    "                    for (int k = cur+1; k < right; k++) {\n",
    "                        res += height[right] -  height[k];\n",
    "                    }\n",
    "                    right = cur;\n",
    "                    cur = right - 1;\n",
    "                }\n",
    "            }\n",
    "        }\n",
    "        return res;\n",
    "    }"
   ]
  }
 ],
 "metadata": {
  "kernelspec": {
   "display_name": "Java",
   "language": "java",
   "name": "java"
  },
  "language_info": {
   "codemirror_mode": "java",
   "file_extension": ".java",
   "mimetype": "text/x-java-source",
   "name": "Java",
   "pygments_lexer": "java",
   "version": "11.0.1+13-LTS"
  },
  "toc": {
   "base_numbering": 1,
   "nav_menu": {},
   "number_sections": true,
   "sideBar": true,
   "skip_h1_title": false,
   "title_cell": "Table of Contents",
   "title_sidebar": "Contents",
   "toc_cell": false,
   "toc_position": {},
   "toc_section_display": true,
   "toc_window_display": false
  }
 },
 "nbformat": 4,
 "nbformat_minor": 2
}
