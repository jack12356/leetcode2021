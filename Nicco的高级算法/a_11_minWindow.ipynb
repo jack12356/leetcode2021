{
 "cells": [
  {
   "cell_type": "markdown",
   "metadata": {},
   "source": [
    "# 最小窗口子字符串\n",
    "给定一个字符串 S 和一个字符串 T，请在 S 中找出包含 T 所有字母的最小子串。\n",
    "\n",
    "示例：\n",
    "\n",
    "    输入: S = \"ADOBECODEBANC\", T = \"ABC\"\n",
    "    输出: \"BANC\"\n",
    "说明：\n",
    "\n",
    "如果 S 中不存这样的子串，则返回空字符串 \"\"。\n",
    "如果 S 中存在这样的子串，我们保证它是唯一的答案。"
   ]
  },
  {
   "cell_type": "code",
   "execution_count": null,
   "metadata": {},
   "outputs": [],
   "source": [
    "public String minWindow(String s, String t) {\n",
    "    int[] nums = new int[128];\n",
    "    int count = 0;\n",
    "    int end = 0;\n",
    "    int st = 0;\n",
    "    int min = Integer.MAX_VALUE;\n",
    "    String res = \"\";\n",
    "    for (char c :t.toCharArray()) nums[c]++;\n",
    "    //  尾指针一直跑\n",
    "    while (end<s.length()){\n",
    "        char c_end = s.charAt(end);\n",
    "        //尾指针条件\n",
    "        if (nums[c_end] > 0) count++;\n",
    "        nums[c_end]--;\n",
    "        //当满足某个答案时候，处理头指针（收缩左边）\n",
    "        while (count == t.length()) {\n",
    "            if (end - st + 1 < min) {\n",
    "                min = end - st + 1;\n",
    "                res = s.substring(st, end + 1);\n",
    "            }\n",
    "            char c_st = s.charAt(st);\n",
    "            nums[c_st]++;\n",
    "            if (nums[c_st] > 0) count--;\n",
    "            st++;\n",
    "        }\n",
    "        //增加尾指针\n",
    "        end++;\n",
    "    }\n",
    "    return res;\n",
    "}"
   ]
  }
 ],
 "metadata": {
  "kernelspec": {
   "display_name": "Java",
   "language": "java",
   "name": "java"
  },
  "language_info": {
   "codemirror_mode": "java",
   "file_extension": ".java",
   "mimetype": "text/x-java-source",
   "name": "Java",
   "pygments_lexer": "java",
   "version": "11.0.1+13-LTS"
  },
  "toc": {
   "base_numbering": 1,
   "nav_menu": {},
   "number_sections": true,
   "sideBar": true,
   "skip_h1_title": false,
   "title_cell": "Table of Contents",
   "title_sidebar": "Contents",
   "toc_cell": false,
   "toc_position": {},
   "toc_section_display": true,
   "toc_window_display": false
  }
 },
 "nbformat": 4,
 "nbformat_minor": 2
}
