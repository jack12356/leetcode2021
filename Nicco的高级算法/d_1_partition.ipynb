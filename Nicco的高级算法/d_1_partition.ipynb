{
 "cells": [
  {
   "cell_type": "markdown",
   "metadata": {},
   "source": [
    "# 分割回文串\n",
    "给定一个字符串 s，将 s 分割成一些子串，使每个子串都是回文串。\n",
    "\n",
    "返回 s 所有可能的分割方案。\n",
    "\n",
    "示例:\n",
    "\n",
    "    输入: \"aab\"\n",
    "    输出:\n",
    "    [\n",
    "      [\"aa\",\"b\"],\n",
    "      [\"a\",\"a\",\"b\"]\n",
    "    ]"
   ]
  },
  {
   "cell_type": "code",
   "execution_count": 3,
   "metadata": {
    "ExecuteTime": {
     "end_time": "2019-01-14T12:15+0000",
     "start_time": "2019-01-14T12:15:44.887Z"
    }
   },
   "outputs": [],
   "source": [
    "public List<List<String>> partition(String s) {\n",
    "    List<List<String>> res= new ArrayList<>();\n",
    "    if (s.length()==0) return res;\n",
    "    List<String> allPalindrome =  findAllFirstPalindrome(s);  //找到所有开头的回文串\n",
    "    for (String palindrome:allPalindrome) {\n",
    "        List<List<String>> nextLists;\n",
    "        if (s.length()>palindrome.length()) {\n",
    "            nextLists = partition(s.substring(palindrome.length()));   //后面的所有回文串组合\n",
    "            for (List<String> list : nextLists){\n",
    "                list.add(0, palindrome);\n",
    "            }\n",
    "            res.addAll(nextLists);\n",
    "        }else res.add(new ArrayList<String>(Collections.singletonList(palindrome)));\n",
    "    }\n",
    "    return res;\n",
    "}\n",
    "\n",
    "private List<String> findAllFirstPalindrome(String s) {\n",
    "    List<String> allPalindrome = new ArrayList<>();\n",
    "    char c = s.charAt(0);\n",
    "    for (int i = 0; i < s.length(); i++) {\n",
    "        if (s.charAt(i)==c){\n",
    "            int st = 0;\n",
    "            int end = i;\n",
    "            while (st<end){\n",
    "                if (s.charAt(end) == s.charAt(st)) {\n",
    "                    end--;\n",
    "                    st++;\n",
    "                }else break;\n",
    "            }\n",
    "            if(st>=end) allPalindrome.add(s.substring(0, i + 1));\n",
    "        }\n",
    "    }\n",
    "    return allPalindrome;\n",
    "}"
   ]
  }
 ],
 "metadata": {
  "kernelspec": {
   "display_name": "Java",
   "language": "java",
   "name": "java"
  },
  "language_info": {
   "codemirror_mode": "java",
   "file_extension": ".java",
   "mimetype": "text/x-java-source",
   "name": "Java",
   "pygments_lexer": "java",
   "version": "11.0.1+13-LTS"
  },
  "toc": {
   "base_numbering": 1,
   "nav_menu": {},
   "number_sections": true,
   "sideBar": true,
   "skip_h1_title": false,
   "title_cell": "Table of Contents",
   "title_sidebar": "Contents",
   "toc_cell": false,
   "toc_position": {},
   "toc_section_display": true,
   "toc_window_display": false
  }
 },
 "nbformat": 4,
 "nbformat_minor": 2
}
