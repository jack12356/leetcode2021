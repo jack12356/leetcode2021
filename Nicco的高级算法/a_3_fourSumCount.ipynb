{
 "cells": [
  {
   "cell_type": "markdown",
   "metadata": {},
   "source": [
    "# 四数相加 II\n",
    "给定四个包含整数的数组列表 A , B , C , D ,计算有多少个元组 (i, j, k, l) ，使得 A[i] + B[j] + C[k] + D[l] = 0。\n",
    "\n",
    "为了使问题简单化，所有的 A, B, C, D 具有相同的长度 N，且 0 ≤ N ≤ 500 。所有整数的范围在 -228 到 228 - 1 之间，最终结果不会超过 231 - 1 。\n",
    "\n",
    "例如:\n",
    "\n",
    "    输入:\n",
    "    A = [ 1, 2]\n",
    "    B = [-2,-1]\n",
    "    C = [-1, 2]\n",
    "    D = [ 0, 2]\n",
    "\n",
    "    输出:\n",
    "    2\n",
    "\n",
    "解释:\n",
    "两个元组如下:\n",
    "1. (0, 0, 0, 1) -> A[0] + B[0] + C[0] + D[1] = 1 + (-2) + (-1) + 2 = 0\n",
    "2. (1, 1, 0, 0) -> A[1] + B[1] + C[0] + D[0] = 2 + (-1) + (-1) + 0 = 0"
   ]
  },
  {
   "cell_type": "markdown",
   "metadata": {},
   "source": [
    "## 方法一\n",
    "时间复杂度，遍历A,B,CD排序后查找答案，时间复杂度O(n^3)"
   ]
  },
  {
   "cell_type": "code",
   "execution_count": null,
   "metadata": {},
   "outputs": [],
   "source": [
    "public int fourSumCount(int[] A, int[] B, int[] C, int[] D){\n",
    "    int res = 0;\n",
    "    Arrays.sort(C);\n",
    "    Arrays.sort(D);\n",
    "    for (int a :A) {\n",
    "        for (int b :B) {\n",
    "            int left=0,rt=A.length-1;\n",
    "            int aim_sum = -a-b;\n",
    "            while (left < A.length && rt >= 0) {\n",
    "                int cur_sum = C[left] + D[rt];\n",
    "                if (cur_sum == aim_sum) {\n",
    "                    int lcount = 1, rcount = 1;\n",
    "                    while (left < A.length - 1 && C[left + 1] == C[left]) {\n",
    "                        left++;\n",
    "                        lcount++;\n",
    "                    }\n",
    "                    while (rt >0 && D[rt - 1] == D[rt]) {\n",
    "                        rt--;\n",
    "                        rcount++;\n",
    "                    }\n",
    "                    left++;\n",
    "                    rt--;\n",
    "                    res += lcount * rcount;\n",
    "                } else if (cur_sum > aim_sum) rt--;\n",
    "                else left++;\n",
    "            }\n",
    "        }\n",
    "    }\n",
    "    return res;\n",
    "}"
   ]
  },
  {
   "cell_type": "markdown",
   "metadata": {},
   "source": [
    "## 方法二\n",
    "使用字典，只寻找次数"
   ]
  },
  {
   "cell_type": "code",
   "execution_count": null,
   "metadata": {},
   "outputs": [],
   "source": [
    "public int fourSumCount(int[] A, int[] B, int[] C, int[] D) {\n",
    "    HashMap<Integer,Integer> map = new HashMap<>();\n",
    "\n",
    "    int count = 0;\n",
    "    for(int i=0;i<A.length;i++){\n",
    "        for(int j=0;j<B.length;j++){\n",
    "            map.put(A[i]+B[j],map.getOrDefault(A[i]+B[j],0)+1);\n",
    "        }\n",
    "    }\n",
    "\n",
    "    for(int i=0;i<C.length;i++){\n",
    "        for(int j=0;j<D.length;j++){\n",
    "            count+= map.getOrDefault(-C[i]-D[j],0);\n",
    "        }\n",
    "    }\n",
    "    return count;\n",
    "}\n"
   ]
  }
 ],
 "metadata": {
  "kernelspec": {
   "display_name": "Java",
   "language": "java",
   "name": "java"
  },
  "language_info": {
   "codemirror_mode": "java",
   "file_extension": ".java",
   "mimetype": "text/x-java-source",
   "name": "Java",
   "pygments_lexer": "java",
   "version": "11.0.1+13-LTS"
  },
  "toc": {
   "base_numbering": 1,
   "nav_menu": {},
   "number_sections": true,
   "sideBar": true,
   "skip_h1_title": false,
   "title_cell": "Table of Contents",
   "title_sidebar": "Contents",
   "toc_cell": false,
   "toc_position": {},
   "toc_section_display": true,
   "toc_window_display": false
  }
 },
 "nbformat": 4,
 "nbformat_minor": 2
}
