{
 "cells": [
  {
   "cell_type": "markdown",
   "metadata": {},
   "source": [
    "# Sliding Window Maximum\n",
    "给定一个数组 nums，有一个大小为 k 的滑动窗口从数组的最左侧移动到数组的最右侧。你只可以看到在滑动窗口 k 内的数字。滑动窗口每次只向右移动一位。\n",
    "\n",
    "返回滑动窗口最大值。\n",
    "\n",
    "示例:\n",
    "\n",
    "    输入: nums = [1,3,-1,-3,5,3,6,7], 和 k = 3\n",
    "    输出: [3,3,5,5,6,7] \n",
    "    解释: \n",
    "\n",
    "      滑动窗口的位置                最大值\n",
    "    ---------------               -----\n",
    "    [1  3  -1] -3  5  3  6  7       3\n",
    "     1 [3  -1  -3] 5  3  6  7       3\n",
    "     1  3 [-1  -3  5] 3  6  7       5\n",
    "     1  3  -1 [-3  5  3] 6  7       5\n",
    "     1  3  -1  -3 [5  3  6] 7       6\n",
    "     1  3  -1  -3  5 [3  6  7]      7\n",
    "注意：\n",
    "\n",
    "你可以假设 k 总是有效的，1 ≤ k ≤ 输入数组的大小，且输入数组不为空。\n",
    "\n",
    "进阶：\n",
    "\n",
    "你能在线性时间复杂度内解决此题吗？"
   ]
  },
  {
   "cell_type": "code",
   "execution_count": null,
   "metadata": {},
   "outputs": [],
   "source": [
    "class Solution {\n",
    "    public int[] maxSlidingWindow(int[] nums, int k) {\n",
    "        if(nums == null || nums.length == 0) return new int[0];\n",
    "        LinkedList<Integer> deque = new LinkedList<Integer>();\n",
    "        int[] res = new int[nums.length + 1 - k];\n",
    "        for(int i = 0; i < nums.length; i++){\n",
    "            // 每当新数进来时，如果发现队列头部的数的下标，是窗口最左边数的下标，则扔掉\n",
    "            if(!deque.isEmpty() && deque.peekFirst() == i - k) deque.poll();\n",
    "            // 把队列尾部所有比新数小的都扔掉，保证队列是降序的\n",
    "            while(!deque.isEmpty() && nums[deque.peekLast()] < nums[i]) deque.removeLast();\n",
    "            // 加入新数\n",
    "            deque.offerLast(i);\n",
    "            // 队列头部就是该窗口内第一大的\n",
    "            if((i + 1) >= k) res[i + 1 - k] = nums[deque.peek()];\n",
    "        }\n",
    "        return res;\n",
    "    }\n",
    "    \n",
    "}"
   ]
  }
 ],
 "metadata": {
  "kernelspec": {
   "display_name": "Java",
   "language": "java",
   "name": "java"
  },
  "language_info": {
   "codemirror_mode": "java",
   "file_extension": ".java",
   "mimetype": "text/x-java-source",
   "name": "Java",
   "pygments_lexer": "java",
   "version": "11.0.1+13-LTS"
  },
  "toc": {
   "base_numbering": 1,
   "nav_menu": {},
   "number_sections": true,
   "sideBar": true,
   "skip_h1_title": false,
   "title_cell": "Table of Contents",
   "title_sidebar": "Contents",
   "toc_cell": false,
   "toc_position": {},
   "toc_section_display": true,
   "toc_window_display": false
  }
 },
 "nbformat": 4,
 "nbformat_minor": 2
}
