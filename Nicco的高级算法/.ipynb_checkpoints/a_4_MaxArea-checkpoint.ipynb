{
 "cells": [
  {
   "cell_type": "markdown",
   "metadata": {},
   "source": [
    "# 盛最多水的容器\n",
    "给定 n 个非负整数 a1，a2，...，an，每个数代表坐标中的一个点 (i, ai) 。在坐标内画 n 条垂直线，垂直线 i 的两个端点分别为 (i, ai) 和 (i, 0)。找出其中的两条线，使得它们与 x 轴共同构成的容器可以容纳最多的水。\n",
    "\n",
    "说明：你不能倾斜容器，且 n 的值至少为 2。\n",
    "\n",
    "\n",
    "![](https://aliyun-lc-upload.oss-cn-hangzhou.aliyuncs.com/aliyun-lc-upload/uploads/2018/07/25/question_11.jpg)\n",
    "\n",
    "图中垂直线代表输入数组 [1,8,6,2,5,4,8,3,7]。在此情况下，容器能够容纳水（表示为蓝色部分）的最大值为 49。\n",
    "\n",
    "示例:\n",
    "\n",
    "输入: [1,8,6,2,5,4,8,3,7]\n",
    "输出: 49"
   ]
  },
  {
   "cell_type": "code",
   "execution_count": null,
   "metadata": {},
   "outputs": [],
   "source": [
    "public int maxArea(int[] height) {\n",
    "    int left = 0, rt = height.length - 1;\n",
    "    int lf_max = height[0];\n",
    "    int rt_max = height[height.length - 1];\n",
    "    int res = Math.min(rt_max,lf_max)*(height.length-1);\n",
    "    while (left<rt){\n",
    "        while (lf_max >= rt_max && left < rt) {\n",
    "            rt--;\n",
    "            if (height[rt] > rt_max) {\n",
    "                rt_max = height[rt];\n",
    "                res = Math.max((rt - left) * Math.min(rt_max, lf_max), res);\n",
    "            }\n",
    "        }\n",
    "        while (lf_max < rt_max && left < rt) {\n",
    "            left++;\n",
    "            if (height[left]>lf_max){\n",
    "                lf_max = height[left];\n",
    "                res = Math.max((rt - left) * Math.min(rt_max, lf_max), res);\n",
    "            }\n",
    "        }\n",
    "    }\n",
    "    return res;\n",
    "}"
   ]
  }
 ],
 "metadata": {
  "kernelspec": {
   "display_name": "Java",
   "language": "java",
   "name": "java"
  },
  "language_info": {
   "codemirror_mode": "java",
   "file_extension": ".java",
   "mimetype": "text/x-java-source",
   "name": "Java",
   "pygments_lexer": "java",
   "version": "11.0.1+13-LTS"
  },
  "toc": {
   "base_numbering": 1,
   "nav_menu": {},
   "number_sections": true,
   "sideBar": true,
   "skip_h1_title": false,
   "title_cell": "Table of Contents",
   "title_sidebar": "Contents",
   "toc_cell": false,
   "toc_position": {},
   "toc_section_display": true,
   "toc_window_display": false
  }
 },
 "nbformat": 4,
 "nbformat_minor": 2
}
