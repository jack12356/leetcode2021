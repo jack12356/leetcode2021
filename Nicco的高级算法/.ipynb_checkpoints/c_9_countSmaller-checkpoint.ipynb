{
 "cells": [
  {
   "cell_type": "markdown",
   "metadata": {},
   "source": [
    "#  计算右侧小于当前元素的个数\n",
    "给定一个整数数组 nums，按要求返回一个新数组 counts。数组 counts 有该性质： counts[i] 的值是  nums[i] 右侧小于 nums[i] 的元素的数量。\n",
    "\n",
    "示例:\n",
    "\n",
    "    输入: [5,2,6,1]\n",
    "    输出: [2,1,1,0] \n",
    "解释:\n",
    "5 的右侧有 2 个更小的元素 (2 和 1).\n",
    "2 的右侧仅有 1 个更小的元素 (1).\n",
    "6 的右侧有 1 个更小的元素 (1).\n",
    "1 的右侧有 0 个更小的元素."
   ]
  },
  {
   "cell_type": "code",
   "execution_count": null,
   "metadata": {},
   "outputs": [],
   "source": [
    "public List<Integer> countSmaller(int[] nums) {\n",
    "    //排序数组\n",
    "    //List<Integer> temp = new ArrayList<>();\n",
    "    int []temp = new int[nums.length];\n",
    "    //结果数组\n",
    "    Integer[] res = new Integer[nums.length];\n",
    "    int size = 0;\n",
    "    //原数组从后向前遍历，根据二分法升序插入到新数组\n",
    "    for(int i=nums.length-1;i>=0;i--){\n",
    "        int insert_num = nums[i];\n",
    "        int index = size-1;\n",
    "        for (; index >=0 ; index--) {\n",
    "            if (insert_num<=temp[index]) temp[index+1] = temp[index];\n",
    "            else break;\n",
    "        }\n",
    "        temp[index+1] = insert_num;\n",
    "        size++;\n",
    "        //新数组对应位置的下标即为原数组右侧小于该数的个数\n",
    "        res[i] = index + 1;\n",
    "    }\n",
    "    return Arrays.asList(res);\n",
    "}"
   ]
  }
 ],
 "metadata": {
  "kernelspec": {
   "display_name": "Java",
   "language": "java",
   "name": "java"
  },
  "language_info": {
   "codemirror_mode": "java",
   "file_extension": ".java",
   "mimetype": "text/x-java-source",
   "name": "Java",
   "pygments_lexer": "java",
   "version": "11.0.1+13-LTS"
  },
  "toc": {
   "base_numbering": 1,
   "nav_menu": {},
   "number_sections": true,
   "sideBar": true,
   "skip_h1_title": false,
   "title_cell": "Table of Contents",
   "title_sidebar": "Contents",
   "toc_cell": false,
   "toc_position": {},
   "toc_section_display": true,
   "toc_window_display": false
  }
 },
 "nbformat": 4,
 "nbformat_minor": 2
}
