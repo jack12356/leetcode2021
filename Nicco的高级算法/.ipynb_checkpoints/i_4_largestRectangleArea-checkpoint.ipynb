{
 "cells": [
  {
   "cell_type": "markdown",
   "metadata": {},
   "source": [
    "# 柱状图中最大的矩形\n",
    "给定 n 个非负整数，用来表示柱状图中各个柱子的高度。每个柱子彼此相邻，且宽度为 1 。\n",
    "\n",
    "求在该柱状图中，能够勾勒出来的矩形的最大面积。\n",
    "\n",
    "![](https://assets.leetcode-cn.com/aliyun-lc-upload/uploads/2018/10/12/histogram.png)\n",
    "\n",
    "\n",
    "\n",
    "以上是柱状图的示例，其中每个柱子的宽度为 1，给定的高度为 [2,1,5,6,2,3]。\n",
    "\n",
    " \n",
    "![](https://assets.leetcode-cn.com/aliyun-lc-upload/uploads/2018/10/12/histogram_area.png)\n",
    "\n",
    "\n",
    "图中阴影部分为所能勾勒出的最大矩形面积，其面积为 10 个单位。\n",
    "\n",
    " \n",
    "\n",
    "示例:\n",
    "\n",
    "输入: [2,1,5,6,2,3]\n",
    "输出: 10"
   ]
  },
  {
   "cell_type": "markdown",
   "metadata": {},
   "source": [
    "## 思路\n",
    " \n",
    " **主要是使用一个栈来保存数组元素的下标，注意是保存‘下标’。**\n",
    " \n",
    "入栈和出栈的规则如下:\n",
    "1. 当栈为空，或者以栈顶元素tp为下标查到的heights[tp] <= heights[i]时(i为当前遍历的索引)，入栈\n",
    "2. 当栈顶元素tp对应的heights[tp] > heights[i]时，出栈，同时计算以heights[tp]为高，能得到的最大矩形面积\n",
    "3. 当遍历完整个heights数组后，若栈不为空，则依次弹栈，同时以栈顶元素tp对应的heights[tp]为高，计算能得到的最大矩形面积\n"
   ]
  },
  {
   "cell_type": "code",
   "execution_count": null,
   "metadata": {},
   "outputs": [],
   "source": [
    "class Solution {\n",
    "    public int largestRectangleArea(int[] heights) {\n",
    "        if (heights.length == 0) return 0;\n",
    "        Stack<Integer> stack = new Stack<>();\n",
    "\n",
    "        int max = 0;\n",
    "        for (int i = 0; i < heights.length; i++) {\n",
    "            while (!stack.isEmpty() && heights[stack.peek()] >= heights[i]) {\n",
    "                int tmp = stack.pop();\n",
    "                // 把当前的tmp木板作为最短木板，看能组成的最大面积是多少\n",
    "                max = Math.max(max, heights[tmp] * (stack.empty() ? i : i - stack.peek() - 1));\n",
    "            }\n",
    "            stack.push(i);\n",
    "        }\n",
    "\n",
    "        int tmp = 0;\n",
    "        int len = heights.length;\n",
    "        while (!stack.isEmpty()) {\n",
    "            tmp = stack.pop();\n",
    "            max = Math.max(max, heights[tmp] * (stack.empty() ? len : len - stack.peek() - 1));\n",
    "        }\n",
    "\n",
    "        return max;\n",
    "    }\n",
    "}"
   ]
  },
  {
   "cell_type": "code",
   "execution_count": null,
   "metadata": {},
   "outputs": [],
   "source": [
    "class Solution {\n",
    "    public int largestRectangleArea(int[] heights) {\n",
    "        int res = 0;\n",
    "        int last_i=0;\n",
    "        for(int i = 0; i < heights.length; i++){\n",
    "            if(i + 1 < heights.length && heights[i] <= heights[i + 1]) {\n",
    "                continue;\n",
    "            }\n",
    "            int minH = heights[i];\n",
    "            for(int j = i; j >= last_i; j--){\n",
    "                minH = Math.min(minH,heights[j]);\n",
    "                int s = minH * (i - j + 1);\n",
    "                res = Math.max(res, s);\n",
    "            }\n",
    "            last_i=i;\n",
    "        }\n",
    "        return res;\n",
    "    }\n",
    "}"
   ]
  }
 ],
 "metadata": {
  "kernelspec": {
   "display_name": "Java",
   "language": "java",
   "name": "java"
  },
  "language_info": {
   "codemirror_mode": "java",
   "file_extension": ".java",
   "mimetype": "text/x-java-source",
   "name": "Java",
   "pygments_lexer": "java",
   "version": "11.0.1+13-LTS"
  },
  "toc": {
   "base_numbering": 1,
   "nav_menu": {},
   "number_sections": true,
   "sideBar": true,
   "skip_h1_title": false,
   "title_cell": "Table of Contents",
   "title_sidebar": "Contents",
   "toc_cell": false,
   "toc_position": {},
   "toc_section_display": true,
   "toc_window_display": false
  }
 },
 "nbformat": 4,
 "nbformat_minor": 2
}
