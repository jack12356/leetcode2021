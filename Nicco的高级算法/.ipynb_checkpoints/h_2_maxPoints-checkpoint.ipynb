{
 "cells": [
  {
   "cell_type": "markdown",
   "metadata": {},
   "source": [
    "# 直线上最多的点数\n",
    "给定一个二维平面，平面上有 n 个点，求最多有多少个点在同一条直线上。\n",
    "\n",
    "示例 1:\n",
    "\n",
    "    输入: [[1,1],[2,2],[3,3]]\n",
    "    输出: 3\n",
    "解释:\n",
    "    ^\n",
    "    |\n",
    "    |        o\n",
    "    |     o\n",
    "    |  o  \n",
    "    +------------->\n",
    "    0  1  2  3  4\n",
    "示例 2:\n",
    "\n",
    "    输入: [[1,1],[3,2],[5,3],[4,1],[2,3],[1,4]]\n",
    "    输出: 4\n",
    "解释:\n",
    "    ^\n",
    "    |\n",
    "    |  o\n",
    "    |     o        o\n",
    "    |        o\n",
    "    |  o        o\n",
    "    +------------------->\n",
    "    0  1  2  3  4  5  6"
   ]
  },
  {
   "cell_type": "markdown",
   "metadata": {},
   "source": [
    "## 思路一\n",
    "每两个点确定直线，然后遍历第三个点在不在直线上；\n",
    "时间复杂度$O(n^3)$"
   ]
  },
  {
   "cell_type": "markdown",
   "metadata": {},
   "source": [
    "## 思路二\n",
    "\n",
    "直接用Hashmap存储斜率，计数;\n",
    "\n",
    "时间复杂度$O(n^2)$"
   ]
  },
  {
   "cell_type": "markdown",
   "metadata": {},
   "source": [
    "## 问题\n",
    "**如何存储斜率？\n",
    "**\n",
    "1. 使用浮点数或者double存储，会出现精度不够的情况，两个不同点最后结果一样；\n",
    "2. 自定义map，需要重写hashcode与equals方法，我没写出来；\n",
    "3. 使用二重map，第一重key为x，第二重为y；\n",
    "4. 直接取出map.keys遍历，找到相等的那个；"
   ]
  },
  {
   "cell_type": "code",
   "execution_count": null,
   "metadata": {},
   "outputs": [],
   "source": [
    "public int maxPoints(Point[] points) {\n",
    "    if (points==null) return 0;\n",
    "    if (points.length<=2) return points.length;\n",
    "\n",
    "    Map<Integer, Map<Integer,Integer>> map = new HashMap<Integer,Map<Integer,Integer>>();\n",
    "    int result=0;\n",
    "    for (int i=0;i<points.length;i++){\n",
    "        map.clear();\n",
    "        int overlap=0,max=0;\n",
    "        for (int j=i+1;j<points.length;j++){\n",
    "            int x=points[j].x-points[i].x;\n",
    "            int y=points[j].y-points[i].y;\n",
    "            if (x==0&&y==0){\n",
    "                overlap++;\n",
    "                continue;\n",
    "            }\n",
    "            int gcd= gcd(x,y);\n",
    "            if (gcd!=0){\n",
    "                x/=gcd;\n",
    "                y/=gcd;\n",
    "            }\n",
    "\n",
    "            if (map.containsKey(x)){\n",
    "                if (map.get(x).containsKey(y)){\n",
    "                    map.get(x).put(y, map.get(x).get(y)+1);\n",
    "                }else{\n",
    "                    map.get(x).put(y, 1);\n",
    "                }\n",
    "            }else{\n",
    "                Map<Integer,Integer> m = new HashMap<>();\n",
    "                m.put(y, 1);\n",
    "                map.put(x, m);\n",
    "            }\n",
    "            max=Math.max(max, map.get(x).get(y));\n",
    "        }\n",
    "        result=Math.max(result, max+overlap+1);\n",
    "    }\n",
    "    return result;\n",
    "\n",
    "\n",
    "}\n",
    "private int gcd(int a, int b){\n",
    "\n",
    "    if (b==0) return a;\n",
    "    return gcd(b,a%b);\n",
    "\n",
    "}"
   ]
  }
 ],
 "metadata": {
  "kernelspec": {
   "display_name": "Java",
   "language": "java",
   "name": "java"
  },
  "language_info": {
   "codemirror_mode": "java",
   "file_extension": ".java",
   "mimetype": "text/x-java-source",
   "name": "Java",
   "pygments_lexer": "java",
   "version": "11.0.1+13-LTS"
  },
  "toc": {
   "base_numbering": 1,
   "nav_menu": {},
   "number_sections": true,
   "sideBar": true,
   "skip_h1_title": false,
   "title_cell": "Table of Contents",
   "title_sidebar": "Contents",
   "toc_cell": false,
   "toc_position": {},
   "toc_section_display": true,
   "toc_window_display": false
  }
 },
 "nbformat": 4,
 "nbformat_minor": 2
}
