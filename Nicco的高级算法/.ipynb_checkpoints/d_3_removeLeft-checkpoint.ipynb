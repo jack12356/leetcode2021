{
 "cells": [
  {
   "cell_type": "markdown",
   "metadata": {},
   "source": [
    "#  删除无效的括号\n",
    "删除最小数量的无效括号，使得输入的字符串有效，返回所有可能的结果。\n",
    "\n",
    "说明: 输入可能包含了除 ( 和 ) 以外的字符。\n",
    "\n",
    "示例 1:\n",
    "\n",
    "    输入: \"()())()\"\n",
    "    输出: [\"()()()\", \"(())()\"]\n",
    "示例 2:\n",
    "\n",
    "    输入: \"(a)())()\"\n",
    "    输出: [\"(a)()()\", \"(a())()\"]\n",
    "示例 3:\n",
    "\n",
    "    输入: \")(\"\n",
    "    输出: [\"\"]"
   ]
  },
  {
   "cell_type": "markdown",
   "metadata": {},
   "source": [
    "## 左右都合法验证一次"
   ]
  },
  {
   "cell_type": "code",
   "execution_count": null,
   "metadata": {},
   "outputs": [],
   "source": [
    "class Solution {\n",
    "    \n",
    "    private Set<String> visit = new HashSet<>();\n",
    "    private List<String> results = new ArrayList<>();\n",
    "\n",
    "    private void removeLeft(String s) {\n",
    "        int match = 0;\n",
    "        for (int i = s.length() - 1; i >= 0; i--) {\n",
    "            if (s.charAt(i) == ')') match++;\n",
    "            else if (s.charAt(i) == '(') match--;\n",
    "            if (match < 0) {\n",
    "                for (int j = s.length() - 1; j >= i; j--) {\n",
    "                    if (s.charAt(j) != '(') continue;\n",
    "                    String r = s.substring(0, j) + s.substring(j + 1);\n",
    "                    if (visit.contains(r)) continue;\n",
    "                    visit.add(r);\n",
    "                    removeLeft(r);\n",
    "                }\n",
    "                return;\n",
    "            }\n",
    "        }\n",
    "        results.add(s);\n",
    "    }\n",
    "\n",
    "    private void removeRight(String s) {\n",
    "        int match = 0;\n",
    "        for (int i = 0; i < s.length(); i++) {\n",
    "            if (s.charAt(i) == '(') match++;\n",
    "            else if (s.charAt(i) == ')') match--;\n",
    "            if (match < 0) {\n",
    "                for (int j = 0; j <= i; j++) {\n",
    "                    if (s.charAt(j) != ')') continue;\n",
    "                    String r = s.substring(0, j) + s.substring(j + 1);\n",
    "                    if (visit.contains(r)) continue;\n",
    "                    visit.add(r);\n",
    "                    removeRight(r);\n",
    "                }\n",
    "                return;\n",
    "            }\n",
    "        }\n",
    "        if (match == 0) {\n",
    "            results.add(s);\n",
    "            return;\n",
    "        }\n",
    "        removeLeft(s);\n",
    "    }\n",
    "\n",
    "    public List<String> removeInvalidParentheses(String s) {\n",
    "        removeRight(s);\n",
    "        return results;\n",
    "    }\n",
    "\n",
    "}"
   ]
  }
 ],
 "metadata": {
  "kernelspec": {
   "display_name": "Java",
   "language": "java",
   "name": "java"
  },
  "language_info": {
   "codemirror_mode": "java",
   "file_extension": ".java",
   "mimetype": "text/x-java-source",
   "name": "Java",
   "pygments_lexer": "java",
   "version": "11.0.1+13-LTS"
  },
  "toc": {
   "base_numbering": 1,
   "nav_menu": {},
   "number_sections": true,
   "sideBar": true,
   "skip_h1_title": false,
   "title_cell": "Table of Contents",
   "title_sidebar": "Contents",
   "toc_cell": false,
   "toc_position": {},
   "toc_section_display": true,
   "toc_window_display": false
  }
 },
 "nbformat": 4,
 "nbformat_minor": 2
}
