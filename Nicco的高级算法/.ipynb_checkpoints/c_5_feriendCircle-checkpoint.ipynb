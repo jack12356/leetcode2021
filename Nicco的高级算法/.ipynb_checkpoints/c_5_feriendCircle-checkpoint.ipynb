{
 "cells": [
  {
   "cell_type": "markdown",
   "metadata": {},
   "source": [
    "# Friend Circles\n",
    "班上有 N 名学生。其中有些人是朋友，有些则不是。他们的友谊具有是传递性。如果已知 A 是 B 的朋友，B 是 C 的朋友，那么我们可以认为 A 也是 C 的朋友。所谓的朋友圈，是指所有朋友的集合。\n",
    "\n",
    "给定一个 N * N 的矩阵 M，表示班级中学生之间的朋友关系。如果M[i][j] = 1，表示已知第 i 个和 j 个学生互为朋友关系，否则为不知道。你必须输出所有学生中的已知的朋友圈总数。\n",
    "\n",
    "示例 1:\n",
    "\n",
    "    输入: \n",
    "    [[1,1,0],\n",
    "     [1,1,0],\n",
    "     [0,0,1]]\n",
    "    输出: 2 \n",
    "说明：已知学生0和学生1互为朋友，他们在一个朋友圈。\n",
    "第2个学生自己在一个朋友圈。所以返回2。\n",
    "示例 2:\n",
    "\n",
    "    输入: \n",
    "    [[1,1,0],\n",
    "     [1,1,1],\n",
    "     [0,1,1]]\n",
    "    输出: 1\n",
    "说明：已知学生0和学生1互为朋友，学生1和学生2互为朋友，所以学生0和学生2也是朋友，所以他们三个在一个朋友圈，返回1。\n",
    "注意：\n",
    "\n",
    "N 在[1,200]的范围内。\n",
    "对于所有学生，有M[i][i] = 1。\n",
    "如果有M[i][j] = 1，则有M[j][i] = 1。"
   ]
  },
  {
   "cell_type": "code",
   "execution_count": null,
   "metadata": {},
   "outputs": [],
   "source": [
    "public int findCircleNum(int[][] M) {\n",
    "    int count = 0;\n",
    "    boolean []visited = new boolean[M.length];\n",
    "    for (int i = 0; i < M.length; i++) {\n",
    "        if (!visited[i]) count++;\n",
    "        dfs(M,visited,i);\n",
    "    }\n",
    "    return count;\n",
    "}\n",
    "\n",
    "private void dfs(int[][] M, boolean[] visited, int i) {\n",
    "    if(visited[i]) return;\n",
    "    visited[i] = true;\n",
    "    for (int j = 0; j < M[0].length; j++) {\n",
    "        if (M[i][j]==1) {\n",
    "            dfs(M,visited,j);\n",
    "        }\n",
    "    }\n",
    "}"
   ]
  }
 ],
 "metadata": {
  "kernelspec": {
   "display_name": "Java",
   "language": "java",
   "name": "java"
  },
  "language_info": {
   "codemirror_mode": "java",
   "file_extension": ".java",
   "mimetype": "text/x-java-source",
   "name": "Java",
   "pygments_lexer": "java",
   "version": "11.0.1+13-LTS"
  },
  "toc": {
   "base_numbering": 1,
   "nav_menu": {},
   "number_sections": true,
   "sideBar": true,
   "skip_h1_title": false,
   "title_cell": "Table of Contents",
   "title_sidebar": "Contents",
   "toc_cell": false,
   "toc_position": {},
   "toc_section_display": true,
   "toc_window_display": false
  }
 },
 "nbformat": 4,
 "nbformat_minor": 2
}
