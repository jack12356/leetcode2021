{
 "cells": [
  {
   "cell_type": "markdown",
   "metadata": {},
   "source": [
    "# Queue Reconstruction by Height\n",
    "假设有打乱顺序的一群人站成一个队列。 每个人由一个整数对(h, k)表示，其中h是这个人的身高，k是排在这个人前面且身高大于或等于h的人数。 编写一个算法来重建这个队列。\n",
    "\n",
    "注意：\n",
    "总人数少于1100人。\n",
    "\n",
    "示例\n",
    "\n",
    "    输入:\n",
    "    [[7,0], [4,4], [7,1], [5,0], [6,1], [5,2]]\n",
    "\n",
    "    输出:\n",
    "    [[5,0], [7,0], [5,2], [6,1], [4,4], [7,1]]"
   ]
  },
  {
   "cell_type": "markdown",
   "metadata": {},
   "source": [
    "## 思路\n",
    "先对高度做排序，然后根据第二个值（前面大于等于自己的数目），从小到大遍历，挨个插入；\n",
    "1. 排序（高度从大到小，第二个值从小到大）；\n",
    "2. 遍历；\n",
    "3. 插入排序；\n",
    "    1. 已有队列为Q，新遍历的pair为（height,num）,从左往右遍历队列，找到大于等于height的数目等于num的位置，插入；\n",
    "    2. 可以用while循环；"
   ]
  },
  {
   "cell_type": "code",
   "execution_count": null,
   "metadata": {},
   "outputs": [],
   "source": [
    "public class ReconstructQueue {\n",
    "    public int[][] reconstructQueue(int[][] people) {\n",
    "        Comparator<int[]> comparator = new Comparator<int[]>() {\n",
    "            @Override\n",
    "            public int compare(int[] p1, int[] p2) {\n",
    "                if (p1[0] == p2[0]) return p1[1] - p2[1];\n",
    "                return p2[0] - p1[0];\n",
    "            }\n",
    "        };\n",
    "        Arrays.sort(people, comparator);\n",
    "        LinkedList<int[]> list = new LinkedList<>();\n",
    "        for (int[] person : people) list.add(person[1],person);\n",
    "        return list.toArray(new int[people.length][]);\n",
    "    }\n",
    "}"
   ]
  }
 ],
 "metadata": {
  "kernelspec": {
   "display_name": "Java",
   "language": "java",
   "name": "java"
  },
  "language_info": {
   "codemirror_mode": "java",
   "file_extension": ".java",
   "mimetype": "text/x-java-source",
   "name": "Java",
   "pygments_lexer": "java",
   "version": "11.0.1+13-LTS"
  },
  "toc": {
   "base_numbering": 1,
   "nav_menu": {},
   "number_sections": true,
   "sideBar": true,
   "skip_h1_title": false,
   "title_cell": "Table of Contents",
   "title_sidebar": "Contents",
   "toc_cell": false,
   "toc_position": {},
   "toc_section_display": true,
   "toc_window_display": false
  }
 },
 "nbformat": 4,
 "nbformat_minor": 2
}
