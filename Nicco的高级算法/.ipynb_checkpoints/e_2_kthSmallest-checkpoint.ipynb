{
 "cells": [
  {
   "cell_type": "markdown",
   "metadata": {},
   "source": [
    "# Kth Smallest Element in a Sorted Matrix\n",
    "给定一个 n x n 矩阵，其中每行和每列元素均按升序排序，找到矩阵中第k小的元素。\n",
    "请注意，它是排序后的第k小元素，而不是第k个元素。\n",
    "\n",
    "示例:\n",
    "\n",
    "    matrix = [\n",
    "       [ 1,  5,  9],\n",
    "       [10, 11, 13],\n",
    "       [12, 13, 15]\n",
    "    ],\n",
    "    k = 8,\n",
    "\n",
    "返回 13。\n",
    "说明: \n",
    "你可以假设 k 的值永远是有效的, 1 ≤ k ≤ n2 。"
   ]
  },
  {
   "cell_type": "code",
   "execution_count": null,
   "metadata": {},
   "outputs": [],
   "source": [
    "class Solution {\n",
    "    public int kthSmallest(int[][] matrix, int k) {\n",
    "        Deque<int[]> queue = new LinkedList<>();\n",
    "        Collections.addAll(queue, matrix);\n",
    "        while (queue.size()!=1){\n",
    "            int[] nums1 = queue.poll();\n",
    "            int[] nums2 = queue.poll();\n",
    "            queue.add(merge(nums1, nums2));\n",
    "        }\n",
    "        return queue.poll()[k-1];\n",
    "    }\n",
    "    public int[] merge(int[]nums1,int[]nums2){\n",
    "        int[]res = new int[nums1.length+nums2.length];\n",
    "        int st1=0,st2=0,i=0;\n",
    "        while(st1<nums1.length&&st2<nums2.length){\n",
    "            if(nums1[st1]>nums2[st2]) res[i++] = nums2[st2++];\n",
    "            else res[i++] = nums1[st1++];\n",
    "        }\n",
    "        if(st1==nums1.length) for (int j = st2; j < nums2.length; j++) res[i++] = nums2[j];\n",
    "        else for (int j = st1; j < nums1.length; j++) res[i++] = nums1[j];\n",
    "        return res;\n",
    "    }\n",
    "}"
   ]
  }
 ],
 "metadata": {
  "kernelspec": {
   "display_name": "Java",
   "language": "java",
   "name": "java"
  },
  "language_info": {
   "codemirror_mode": "java",
   "file_extension": ".java",
   "mimetype": "text/x-java-source",
   "name": "Java",
   "pygments_lexer": "java",
   "version": "11.0.1+13-LTS"
  },
  "toc": {
   "base_numbering": 1,
   "nav_menu": {},
   "number_sections": true,
   "sideBar": true,
   "skip_h1_title": false,
   "title_cell": "Table of Contents",
   "title_sidebar": "Contents",
   "toc_cell": false,
   "toc_position": {},
   "toc_section_display": true,
   "toc_window_display": false
  }
 },
 "nbformat": 4,
 "nbformat_minor": 2
}
