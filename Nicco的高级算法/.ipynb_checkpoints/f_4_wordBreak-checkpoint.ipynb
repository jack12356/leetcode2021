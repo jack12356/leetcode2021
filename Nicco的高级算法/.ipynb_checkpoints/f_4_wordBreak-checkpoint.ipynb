{
 "cells": [
  {
   "cell_type": "markdown",
   "metadata": {},
   "source": [
    "# 单词拆分\n",
    "给定一个非空字符串 s 和一个包含非空单词列表的字典 wordDict，判定 s 是否可以被空格拆分为一个或多个在字典中出现的单词。\n",
    "\n",
    "说明：\n",
    "\n",
    "拆分时可以重复使用字典中的单词。\n",
    "你可以假设字典中没有重复的单词。\n",
    "示例 1：\n",
    "\n",
    "    输入: s = \"leetcode\", wordDict = [\"leet\", \"code\"]\n",
    "    输出: true\n",
    "解释: 返回 true 因为 \"leetcode\" 可以被拆分成 \"leet code\"。\n",
    "示例 2：\n",
    "\n",
    "    输入: s = \"applepenapple\", wordDict = [\"apple\", \"pen\"]\n",
    "    输出: true\n",
    "解释: 返回 true 因为 \"applepenapple\" 可以被拆分成 \"apple pen apple\"。\n",
    "     注意你可以重复使用字典中的单词。\n",
    "示例 3：\n",
    "\n",
    "    输入: s = \"catsandog\", wordDict = [\"cats\", \"dog\", \"sand\", \"and\", \"cat\"]\n",
    "    输出: false"
   ]
  },
  {
   "cell_type": "markdown",
   "metadata": {},
   "source": [
    "## 递归，超时"
   ]
  },
  {
   "cell_type": "code",
   "execution_count": null,
   "metadata": {},
   "outputs": [],
   "source": [
    "public boolean wordBreak_digui(String s, List<String> wordDict) {\n",
    "    if (s.length()==0) return false;\n",
    "    for (String word : wordDict){\n",
    "        if (s.startsWith(word)&&(s.length()==word.length()||wordBreak(s.substring(word.length()),wordDict))) return true;\n",
    "    }\n",
    "    return false;\n",
    "}"
   ]
  },
  {
   "cell_type": "markdown",
   "metadata": {},
   "source": [
    "## 动态规划，不超时"
   ]
  },
  {
   "cell_type": "code",
   "execution_count": null,
   "metadata": {},
   "outputs": [],
   "source": [
    "public boolean wordBreak(String s, List<String> wordDict) {\n",
    "    if (s.length()==0||wordDict.isEmpty()) return false;\n",
    "    boolean []dp = new boolean[s.length()];\n",
    "    for (int i = 0; i < dp.length; i++) {\n",
    "        String curStr = s.substring(0,i+1);\n",
    "        for (String word : wordDict){\n",
    "            if (curStr.endsWith(word) && (curStr.length() == word.length() || dp[i - word.length()])) {\n",
    "                dp[i] = true;\n",
    "                break;\n",
    "            }\n",
    "        }\n",
    "    }\n",
    "    return dp[s.length()-1];\n",
    "}"
   ]
  }
 ],
 "metadata": {
  "kernelspec": {
   "display_name": "Java",
   "language": "java",
   "name": "java"
  },
  "language_info": {
   "codemirror_mode": "java",
   "file_extension": ".java",
   "mimetype": "text/x-java-source",
   "name": "Java",
   "pygments_lexer": "java",
   "version": "11.0.1+13-LTS"
  },
  "toc": {
   "base_numbering": 1,
   "nav_menu": {},
   "number_sections": true,
   "sideBar": true,
   "skip_h1_title": false,
   "title_cell": "Table of Contents",
   "title_sidebar": "Contents",
   "toc_cell": false,
   "toc_position": {},
   "toc_section_display": true,
   "toc_window_display": false
  }
 },
 "nbformat": 4,
 "nbformat_minor": 2
}
