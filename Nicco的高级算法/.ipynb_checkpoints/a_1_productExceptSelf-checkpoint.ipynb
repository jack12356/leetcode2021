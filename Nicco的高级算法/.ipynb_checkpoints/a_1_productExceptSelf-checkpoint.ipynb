{
 "cells": [
  {
   "cell_type": "markdown",
   "metadata": {},
   "source": [
    "# Product of Array Except Self\n",
    "给定长度为 n 的整数数组 nums，其中 n > 1，返回输出数组 output ，其中 output[i] 等于 nums 中除 nums[i] 之外其余各元素的乘积。\n",
    "\n",
    "示例:\n",
    "\n",
    "    输入: [1,2,3,4]\n",
    "    输出: [24,12,8,6]\n",
    "说明: 请不要使用除法，且在 O(n) 时间复杂度内完成此题。\n",
    "\n",
    "进阶：\n",
    "你可以在常数空间复杂度内完成这个题目吗？（ 出于对空间复杂度分析的目的，输出数组不被视为额外空间。）"
   ]
  },
  {
   "cell_type": "markdown",
   "metadata": {},
   "source": [
    "## 思路一\n",
    "使用两个数组存储左右结果，相乘；多使用空间；"
   ]
  },
  {
   "cell_type": "code",
   "execution_count": null,
   "metadata": {},
   "outputs": [],
   "source": [
    "public int[] productExceptSelf(int[] nums) {\n",
    "    int []lfPdt = new int[nums.length];\n",
    "    int []rtPdt = new int[nums.length];\n",
    "    int[] output = new int[nums.length];\n",
    "    lfPdt[0] = 1;\n",
    "    rtPdt[nums.length - 1] = 1;\n",
    "    for (int i = 1; i < nums.length; i++) lfPdt[i] = lfPdt[i-1]*nums[i-1];\n",
    "    for (int j = nums.length-2; j >= 0; j--) rtPdt[j] = rtPdt[j+1]*nums[j+1];\n",
    "    for (int i = 0; i < nums.length; i++) output[i] = lfPdt[i] * rtPdt[i];\n",
    "    return output;\n",
    "}"
   ]
  },
  {
   "cell_type": "markdown",
   "metadata": {},
   "source": [
    "## 思路二\n",
    "直接在output里面相乘，从左往右再从右往乘回去；"
   ]
  },
  {
   "cell_type": "code",
   "execution_count": null,
   "metadata": {},
   "outputs": [],
   "source": [
    "public int[] productExceptSelf(int[] nums) {\n",
    "    int n = nums.length;\n",
    "    int[] res = new int[n];\n",
    "    int[] fwd = new int[n], bwd = new int[n];\n",
    "    fwd[0] = 1; bwd[n - 1] = 1;\n",
    "    for (int i = 1; i < n; ++i) {\n",
    "        fwd[i] = fwd[i - 1] * nums[i - 1];\n",
    "    }\n",
    "    for (int i = n - 2; i >= 0; --i) {\n",
    "        bwd[i] = bwd[i + 1] * nums[i + 1];\n",
    "    }\n",
    "    for (int i = 0; i < n; ++i) {\n",
    "        res[i] = fwd[i] * bwd[i];\n",
    "    }\n",
    "    return res;\n",
    "}"
   ]
  }
 ],
 "metadata": {
  "kernelspec": {
   "display_name": "Java",
   "language": "java",
   "name": "java"
  },
  "language_info": {
   "codemirror_mode": "java",
   "file_extension": ".java",
   "mimetype": "text/x-java-source",
   "name": "Java",
   "pygments_lexer": "java",
   "version": "11.0.1+13-LTS"
  },
  "toc": {
   "base_numbering": 1,
   "nav_menu": {},
   "number_sections": true,
   "sideBar": true,
   "skip_h1_title": false,
   "title_cell": "Table of Contents",
   "title_sidebar": "Contents",
   "toc_cell": false,
   "toc_position": {},
   "toc_section_display": true,
   "toc_window_display": false
  }
 },
 "nbformat": 4,
 "nbformat_minor": 2
}
