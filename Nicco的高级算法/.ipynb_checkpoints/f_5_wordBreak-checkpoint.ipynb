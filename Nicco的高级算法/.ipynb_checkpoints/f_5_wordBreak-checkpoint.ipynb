{
 "cells": [
  {
   "cell_type": "markdown",
   "metadata": {},
   "source": [
    "# 单词拆分 II\n",
    "给定一个非空字符串 s 和一个包含非空单词列表的字典 wordDict，在字符串中增加空格来构建一个句子，使得句子中所有的单词都在词典中。返回所有这些可能的句子。\n",
    "\n",
    "说明：\n",
    "\n",
    "分隔时可以重复使用字典中的单词。\n",
    "你可以假设字典中没有重复的单词。\n",
    "示例 1：\n",
    "\n",
    "    输入:\n",
    "        s = \"catsanddog\"\n",
    "        wordDict = [\"cat\", \"cats\", \"and\", \"sand\", \"dog\"]\n",
    "    输出:\n",
    "    [\n",
    "      \"cats and dog\",\n",
    "      \"cat sand dog\"\n",
    "    ]\n",
    "示例 2：\n",
    "\n",
    "    输入:\n",
    "        s = \"pineapplepenapple\"\n",
    "        wordDict = [\"apple\", \"pen\", \"applepen\", \"pine\", \"pineapple\"]\n",
    "    输出:\n",
    "    [\n",
    "      \"pine apple pen apple\",\n",
    "      \"pineapple pen apple\",\n",
    "      \"pine applepen apple\"\n",
    "    ]\n",
    "解释: 注意你可以重复使用字典中的单词。\n",
    "\n",
    "示例 3：\n",
    "\n",
    "    输入:\n",
    "        s = \"catsandog\"\n",
    "    wordDict = [\"cats\", \"dog\", \"sand\", \"and\", \"cat\"]\n",
    "    输出:\n",
    "    []"
   ]
  },
  {
   "cell_type": "markdown",
   "metadata": {},
   "source": [
    "## 思路\n",
    "依然是动态规划，但是要先判断是否能否拆分；然后再拆分；"
   ]
  },
  {
   "cell_type": "code",
   "execution_count": null,
   "metadata": {},
   "outputs": [],
   "source": [
    "public boolean canwordBreak(String s, List<String> wordDict) {\n",
    "    if (s.length()==0||wordDict.isEmpty()) return false;\n",
    "    boolean []dp = new boolean[s.length()];\n",
    "    for (int i = 0; i < dp.length; i++) {\n",
    "        String curStr = s.substring(0,i+1);\n",
    "        for (String word : wordDict){\n",
    "            if (curStr.endsWith(word) && (curStr.length() == word.length() || dp[i - word.length()])) {\n",
    "                dp[i] = true;\n",
    "                break;\n",
    "            }\n",
    "        }\n",
    "    }\n",
    "    return dp[s.length()-1];\n",
    "}\n",
    "public List<String> wordBreak(String s, List<String> wordDict) {\n",
    "    if (!canwordBreak(s,wordDict)) return new ArrayList<>();\n",
    "    List<String>[] dp = new List[s.length()];\n",
    "    for (int i = 0; i < dp.length; i++) {\n",
    "        String curStr = s.substring(0,i+1);\n",
    "        dp[i] = new ArrayList<>();\n",
    "        for (String word : wordDict){\n",
    "            if (curStr.endsWith(word)) {\n",
    "                if (curStr.length()==word.length()) dp[i].add(word);                //如果长度相等\n",
    "                else for (String str:dp[i-word.length()]) dp[i].add(str + \" \" + word);  //如果前面的不为空，就挨个添加结果\n",
    "            }\n",
    "        }\n",
    "    }\n",
    "    return dp[s.length()-1];\n",
    "}"
   ]
  }
 ],
 "metadata": {
  "kernelspec": {
   "display_name": "Java",
   "language": "java",
   "name": "java"
  },
  "language_info": {
   "codemirror_mode": "java",
   "file_extension": ".java",
   "mimetype": "text/x-java-source",
   "name": "Java",
   "pygments_lexer": "java",
   "version": "11.0.1+13-LTS"
  },
  "toc": {
   "base_numbering": 1,
   "nav_menu": {},
   "number_sections": true,
   "sideBar": true,
   "skip_h1_title": false,
   "title_cell": "Table of Contents",
   "title_sidebar": "Contents",
   "toc_cell": false,
   "toc_position": {},
   "toc_section_display": true,
   "toc_window_display": false
  }
 },
 "nbformat": 4,
 "nbformat_minor": 2
}
