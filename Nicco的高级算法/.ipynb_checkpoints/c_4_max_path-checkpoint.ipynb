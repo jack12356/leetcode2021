{
 "cells": [
  {
   "cell_type": "markdown",
   "metadata": {},
   "source": [
    "# 二叉树中的最大路径和\n",
    "给定一个非空二叉树，返回其最大路径和。\n",
    "\n",
    "本题中，路径被定义为一条从树中任意节点出发，达到任意节点的序列。该路径至少包含一个节点，且不一定经过根节点。\n",
    "\n",
    "示例 1:\n",
    "\n",
    "输入: [1,2,3]\n",
    "\n",
    "           1\n",
    "          / \\\n",
    "         2   3\n",
    "\n",
    "输出: 6\n",
    "示例 2:\n",
    "\n",
    "输入: [-10,9,20,null,null,15,7]\n",
    "\n",
    "       -10\n",
    "       / \\\n",
    "      9  20\n",
    "        /  \\\n",
    "   15   7\n",
    "\n",
    "输出: 42"
   ]
  },
  {
   "cell_type": "markdown",
   "metadata": {},
   "source": [
    "## 方法\n",
    "这个题找不到起点终点，但是每条路都有一个节点当作中间节点，所以使用dfs遍历；"
   ]
  },
  {
   "cell_type": "code",
   "execution_count": 1,
   "metadata": {
    "ExecuteTime": {
     "end_time": "2019-01-13T07:19+0000",
     "start_time": "2019-01-13T07:19:30.224Z"
    }
   },
   "outputs": [],
   "source": [
    "public class TreeNode {\n",
    "    int val;\n",
    "    TreeNode left;\n",
    "    TreeNode right;\n",
    "    TreeNode(int x) { val = x; }\n",
    "}\n",
    "class Solution {\n",
    "    public int maxPathSum(TreeNode root) {\n",
    "        if (root==null) return Integer.MIN_VALUE;\n",
    "        int leftLength = len(root.left);\n",
    "        int rightLength = len(root.right);\n",
    "\n",
    "        int root_len = leftLength+rightLength+root.val;\n",
    "        int left_len = maxPathSum(root.left);\n",
    "        int right_len = maxPathSum(root.right);\n",
    "\n",
    "        return Math.max(Math.max(root_len, left_len), right_len);\n",
    "    }\n",
    "\n",
    "    private int len(TreeNode root) {\n",
    "        if (root==null) return 0;\n",
    "        int rootLen = Math.max(len(root.left), len(root.right)) + root.val;\n",
    "        return rootLen < 0 ? 0 : rootLen;\n",
    "    }\n",
    "}"
   ]
  }
 ],
 "metadata": {
  "kernelspec": {
   "display_name": "Java",
   "language": "java",
   "name": "java"
  },
  "language_info": {
   "codemirror_mode": "java",
   "file_extension": ".java",
   "mimetype": "text/x-java-source",
   "name": "Java",
   "pygments_lexer": "java",
   "version": "11.0.1+13-LTS"
  },
  "toc": {
   "base_numbering": 1,
   "nav_menu": {},
   "number_sections": true,
   "sideBar": true,
   "skip_h1_title": false,
   "title_cell": "Table of Contents",
   "title_sidebar": "Contents",
   "toc_cell": false,
   "toc_position": {},
   "toc_section_display": true,
   "toc_window_display": false
  }
 },
 "nbformat": 4,
 "nbformat_minor": 2
}
