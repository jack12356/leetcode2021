{
 "cells": [
  {
   "cell_type": "markdown",
   "metadata": {},
   "source": [
    "#  Best Time to Buy and Sell Stock with Cooldown\n",
    "给定一个整数数组，其中第 i 个元素代表了第 i 天的股票价格 。​\n",
    "\n",
    "设计一个算法计算出最大利润。在满足以下约束条件下，你可以尽可能地完成更多的交易（多次买卖一支股票）:\n",
    "\n",
    "你不能同时参与多笔交易（你必须在再次购买前出售掉之前的股票）。\n",
    "卖出股票后，你无法在第二天买入股票 (即冷冻期为 1 天)。\n",
    "示例:\n",
    "\n",
    "    输入: [1,2,3,0,2]\n",
    "    输出: 3 \n",
    "解释: 对应的交易状态为: [买入, 卖出, 冷冻期, 买入, 卖出]"
   ]
  },
  {
   "cell_type": "markdown",
   "metadata": {},
   "source": [
    "## 思路\n",
    "此题可通过DP来解决，但状态转移方程的构想不是那么明显，首先可以通过两个数组来表示买与卖的信息：\n",
    "\n",
    "buy[i]:表示第i天为止，最近一次股票购入后所持有的利润\n",
    "sell[i]:表示第i天为止，最近一次股票抛售后所持有的利润\n",
    "其中：最近一次表示在第i天或者之前所做的股票交易。\n",
    "\n",
    "2.状态转移方程\n",
    "\n",
    "buy方程\n",
    "\n",
    "```buy[i] = max(buy[i-1],sell[i-2]-prices[i]);     //越大，说明现有的利润越大，购入所付出的少```\n",
    "\n",
    "`buy[i-1]`：表示第i天之前最近一次股票购入后所持有的利润\n",
    "\n",
    "`sell[i-2]-prices[i]`：考虑是否可以用更便宜的购入替换之前的购入，由于有cooldown的限定，所以要以之前两天抛售点为基础进行购入\n",
    "sell方程\n",
    "\n",
    "```sell[i] = max(sell[i-1],buy[i-1]+prices[i]);    //越大，说明抛售后的利润越大```\n",
    "\n",
    "`sell[i-1]`:表示第i天之前最近一次股票抛售后所持有的利润\n",
    "\n",
    "`buy[i-1]+prices[i]`:考虑是否可以用更大的利润抛售股票\n",
    "\n",
    "3.实现\n",
    "由于在状态转移方程中所使用的buy，sell数组元素有限，所以可以同变量的形式替换，以达到o(1)的空间复杂度，o(n)的时间复杂度\n"
   ]
  },
  {
   "cell_type": "code",
   "execution_count": null,
   "metadata": {},
   "outputs": [],
   "source": [
    "class Solution {\n",
    "    public int maxProfit(int[] prices) {\n",
    "         if (prices.length<2) return 0;        //一次交易都无法进行\n",
    "         int b,b1=Integer.MIN_VALUE;\n",
    "         int s=0,s1=0,s2=0;                   \n",
    "         for (int i=0;i<prices.length;i++)    //通过状态转移方程计算\n",
    "         {\n",
    "             b = Math.max(b1,s2-prices[i]);\n",
    "             s = Math.max(s1,b1+prices[i]);\n",
    "             b1=b;\n",
    "             s2=s1;\n",
    "             s1=s;\n",
    "         }\n",
    "         return s;                           //返回最终一次股票抛售后所持\n",
    "    }\n",
    "}"
   ]
  }
 ],
 "metadata": {
  "kernelspec": {
   "display_name": "Java",
   "language": "java",
   "name": "java"
  },
  "language_info": {
   "codemirror_mode": "java",
   "file_extension": ".java",
   "mimetype": "text/x-java-source",
   "name": "Java",
   "pygments_lexer": "java",
   "version": "11.0.1+13-LTS"
  },
  "toc": {
   "base_numbering": 1,
   "nav_menu": {},
   "number_sections": true,
   "sideBar": true,
   "skip_h1_title": false,
   "title_cell": "Table of Contents",
   "title_sidebar": "Contents",
   "toc_cell": false,
   "toc_position": {},
   "toc_section_display": true,
   "toc_window_display": false
  }
 },
 "nbformat": 4,
 "nbformat_minor": 2
}
