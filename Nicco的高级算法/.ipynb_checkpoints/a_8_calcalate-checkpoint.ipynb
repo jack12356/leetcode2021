{
 "cells": [
  {
   "cell_type": "markdown",
   "metadata": {},
   "source": [
    "# 基本计算器 II\n",
    "实现一个基本的计算器来计算一个简单的字符串表达式的值。\n",
    "\n",
    "字符串表达式仅包含非负整数，+， - ，*，/ 四种运算符和空格  。 整数除法仅保留整数部分。\n",
    "\n",
    "示例 1:\n",
    "\n",
    "    输入: \"3+2*2\"\n",
    "    输出: 7\n",
    "示例 2:\n",
    "\n",
    "    输入: \" 3/2 \"\n",
    "    输出: 1\n",
    "示例 3:\n",
    "\n",
    "    输入: \" 3+5 / 2 \"\n",
    "    输出: 5\n",
    "说明：\n",
    "\n",
    "你可以假设所给定的表达式都是有效的。\n",
    "请不要使用内置的库函数 eval。\n"
   ]
  },
  {
   "cell_type": "markdown",
   "metadata": {},
   "source": [
    "## 自己的方法\n",
    "按顺序先算符号再算数，很复杂很慢"
   ]
  },
  {
   "cell_type": "code",
   "execution_count": 12,
   "metadata": {
    "ExecuteTime": {
     "end_time": "2019-01-09T08:07+0000",
     "start_time": "2019-01-09T08:07:26.225Z"
    }
   },
   "outputs": [],
   "source": [
    "public  int calculate(String s) {\n",
    "    Stack<Integer> nums = new Stack<>();\n",
    "    char[] chars = s.replace(\" \", \"\").toCharArray();\n",
    "    int sign = 1;\n",
    "    for (int i =0;i<chars.length;i++) {\n",
    "        char c = chars[i];\n",
    "        if (c == '/' || c == '*') {\n",
    "            int a = nums.pop();\n",
    "            int []r  = getnum(chars,i+1);\n",
    "            int b = r[0];\n",
    "            i = r[1];\n",
    "            if (c =='/') nums.add(sign * a / b);\n",
    "            if (c =='*') nums.add(sign * a * b);\n",
    "        }else if(c<='9'&&c>='0') {\n",
    "            int []r2 = getnum(chars, i);\n",
    "            int t = r2[0];\n",
    "            i = r2[1];\n",
    "            nums.add(sign * t);\n",
    "        }\n",
    "        sign = c == '-' ? -1 : 1;\n",
    "    }\n",
    "    int res = 0;\n",
    "    while (!nums.isEmpty()){\n",
    "        res += nums.pop();\n",
    "    }\n",
    "    return res;\n",
    "}\n",
    "\n",
    "private  int[] getnum(char[] chars, int i) {\n",
    "    int t = 0;\n",
    "    while (i < chars.length && chars[i] >= '0' && chars[i] <= '9') {\n",
    "        t = t*10 + chars[i] - '0';\n",
    "        i++;\n",
    "    }\n",
    "    return new int[]{t,i-1};\n",
    "}"
   ]
  },
  {
   "cell_type": "markdown",
   "metadata": {},
   "source": [
    "## 方法二\n",
    "先算数，符号位先存储下来，挺快，简单。"
   ]
  },
  {
   "cell_type": "code",
   "execution_count": null,
   "metadata": {},
   "outputs": [],
   "source": [
    "int calculate(string s) {\n",
    "int res = 0, num = 0, n = s.size();\n",
    "char op = '+';\n",
    "stack<int> st;\n",
    "for (int i = 0; i < n; ++i) {\n",
    "    if (s[i] >= '0') {\n",
    "        num = num * 10 + s[i] - '0';\n",
    "    }\n",
    "    if ((s[i] < '0' && s[i] != ' ') || i == n - 1) {\n",
    "        if (op == '+') st.push(num);\n",
    "        if (op == '-') st.push(-num);\n",
    "        if (op == '*' || op == '/') {\n",
    "            int tmp = (op == '*') ? st.top() * num : st.top() / num;\n",
    "            st.pop();\n",
    "            st.push(tmp);\n",
    "        }\n",
    "        op = s[i];\n",
    "        num = 0;\n",
    "    } \n",
    "}\n",
    "while (!st.empty()) {\n",
    "    res += st.top();\n",
    "    st.pop();\n",
    "}\n",
    "return res;"
   ]
  }
 ],
 "metadata": {
  "kernelspec": {
   "display_name": "Java",
   "language": "java",
   "name": "java"
  },
  "language_info": {
   "codemirror_mode": "java",
   "file_extension": ".java",
   "mimetype": "text/x-java-source",
   "name": "Java",
   "pygments_lexer": "java",
   "version": "11.0.1+13-LTS"
  },
  "toc": {
   "base_numbering": 1,
   "nav_menu": {},
   "number_sections": true,
   "sideBar": true,
   "skip_h1_title": false,
   "title_cell": "Table of Contents",
   "title_sidebar": "Contents",
   "toc_cell": false,
   "toc_position": {},
   "toc_section_display": true,
   "toc_window_display": false
  }
 },
 "nbformat": 4,
 "nbformat_minor": 2
}
