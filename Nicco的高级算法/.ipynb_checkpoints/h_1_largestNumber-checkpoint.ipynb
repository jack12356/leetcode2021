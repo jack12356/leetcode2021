{
 "cells": [
  {
   "cell_type": "markdown",
   "metadata": {},
   "source": [
    "# 最大数\n",
    "给定一组非负整数，重新排列它们的顺序使之组成一个最大的整数。\n",
    "\n",
    "示例 1:\n",
    "\n",
    "    输入: [10,2]\n",
    "    输出: 210\n",
    "示例 2:\n",
    "\n",
    "    输入: [3,30,34,5,9]\n",
    "    输出: 9534330\n",
    "说明: 输出结果可能非常大，所以你需要返回一个字符串而不是整数。"
   ]
  },
  {
   "cell_type": "markdown",
   "metadata": {},
   "source": [
    "## 思路一\n",
    "转换为字符串，重写大小比较"
   ]
  },
  {
   "cell_type": "code",
   "execution_count": 4,
   "metadata": {
    "ExecuteTime": {
     "end_time": "2019-01-21T10:36+0000",
     "start_time": "2019-01-21T10:36:05.142Z"
    }
   },
   "outputs": [],
   "source": [
    "class Solution {\n",
    "    public Comparator comparater =  new Comparator<String>() {\n",
    "        @Override\n",
    "        public int compare(String s1, String s2) {\n",
    "            if (s1.length()==0) return s2.length();\n",
    "            if (s2.length()==0) return s1.length();\n",
    "            int i=0,j=0;\n",
    "            while (i<s1.length()&&j<s2.length()&&s1.charAt(i)==s2.charAt(j)){\n",
    "                i++;\n",
    "                j++;\n",
    "            }\n",
    "            if (i==s1.length()&&j==s2.length()) return 0;\n",
    "            if (i==s1.length()||j==s2.length()){\n",
    "                String n_str1 = s1.concat(s2);\n",
    "                String n_str2 = s2.concat(s1);\n",
    "                return compare(n_str1, n_str2);\n",
    "            }\n",
    "            return s1.charAt(i)-s2.charAt(j);\n",
    "        }\n",
    "    };\n",
    "\n",
    "    public String largestNumber(int[] nums) {\n",
    "        String[] strs = new String[nums.length];\n",
    "        for (int i = 0; i < nums.length; i++) strs[i] = String.valueOf(nums[i]);\n",
    "        Arrays.sort(strs,comparater);\n",
    "        if (strs[strs.length - 1].equals(\"0\")) return \"0\";\n",
    "        StringBuilder res = new StringBuilder();\n",
    "        for (int i = strs.length - 1; i >= 0; i--) res.append(strs[i]);\n",
    "        return res.toString();\n",
    "    }\n",
    "}"
   ]
  },
  {
   "cell_type": "markdown",
   "metadata": {},
   "source": [
    "## 可以简化比较那里的代码，直接拼接比较"
   ]
  },
  {
   "cell_type": "code",
   "execution_count": null,
   "metadata": {},
   "outputs": [],
   "source": [
    "public Comparator comparater =  new Comparator<String>() {\n",
    "        @Override\n",
    "        public int compare(String s1, String s2) {\n",
    "                String s1 = o1 + o2;\n",
    "                String s2 = o2 + o1;\n",
    "                return s1.compareTo(s2);\n",
    "        }\n",
    "    };"
   ]
  }
 ],
 "metadata": {
  "kernelspec": {
   "display_name": "Java",
   "language": "java",
   "name": "java"
  },
  "language_info": {
   "codemirror_mode": "java",
   "file_extension": ".java",
   "mimetype": "text/x-java-source",
   "name": "Java",
   "pygments_lexer": "java",
   "version": "11.0.1+13-LTS"
  },
  "toc": {
   "base_numbering": 1,
   "nav_menu": {},
   "number_sections": true,
   "sideBar": true,
   "skip_h1_title": false,
   "title_cell": "Table of Contents",
   "title_sidebar": "Contents",
   "toc_cell": false,
   "toc_position": {},
   "toc_section_display": true,
   "toc_window_display": false
  }
 },
 "nbformat": 4,
 "nbformat_minor": 2
}
