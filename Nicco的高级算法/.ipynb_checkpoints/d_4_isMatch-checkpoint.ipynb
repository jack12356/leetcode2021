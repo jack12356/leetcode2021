{
 "cells": [
  {
   "cell_type": "markdown",
   "metadata": {},
   "source": [
    "# 通配符匹配\n",
    "给定一个字符串 (s) 和一个字符模式 (p) ，实现一个支持 '?' 和 '*' 的通配符匹配。\n",
    "\n",
    "'?' 可以匹配任何单个字符。\n",
    "'*' 可以匹配任意字符串（包括空字符串）。\n",
    "两个字符串完全匹配才算匹配成功。\n",
    "\n",
    "说明:\n",
    "\n",
    "s 可能为空，且只包含从 a-z 的小写字母。\n",
    "p 可能为空，且只包含从 a-z 的小写字母，以及字符 ? 和 *。\n",
    "示例 1:\n",
    "\n",
    "    输入:\n",
    "    s = \"aa\"\n",
    "    p = \"a\"\n",
    "    输出: false\n",
    "解释: \"a\" 无法匹配 \"aa\" 整个字符串。\n",
    "示例 2:\n",
    "\n",
    "    输入:\n",
    "    s = \"aa\"\n",
    "    p = \"*\"\n",
    "    输出: true\n",
    "解释: '*' 可以匹配任意字符串。\n",
    "示例 3:\n",
    "\n",
    "    输入:\n",
    "    s = \"cb\"\n",
    "    p = \"?a\"\n",
    "    输出: false\n",
    "解释: '?' 可以匹配 'c', 但第二个 'a' 无法匹配 'b'。\n",
    "示例 4:\n",
    "\n",
    "    输入:\n",
    "    s = \"adceb\"\n",
    "    p = \"*a*b\"\n",
    "    输出: true\n",
    "解释: 第一个 '*' 可以匹配空字符串, 第二个 '*' 可以匹配字符串 \"dce\".\n",
    "示例 5:\n",
    "\n",
    "    输入:\n",
    "    s = \"acdcb\"\n",
    "    p = \"a*c?b\"\n",
    "    输入: false"
   ]
  },
  {
   "cell_type": "markdown",
   "metadata": {},
   "source": [
    "## 贪心算法"
   ]
  },
  {
   "cell_type": "code",
   "execution_count": null,
   "metadata": {
    "collapsed": true
   },
   "outputs": [],
   "source": [
    "public boolean isMatch(String str, String pattern) {\n",
    "    int s = 0;\n",
    "    int p = 0;\n",
    "    int starInx = -1;\n",
    "    int match = 0;\n",
    "    int sl = str.length(), pl = pattern.length();\n",
    "    while (s < sl) {\n",
    "        //4 case\n",
    "        if (p < pl && (str.charAt(s) == pattern.charAt(p) || pattern.charAt(p) == '?')) {\n",
    "            p++;\n",
    "            s++;\n",
    "        } else if (p < pl && pattern.charAt(p) == '*') {\n",
    "            starInx = p;\n",
    "            p++;\n",
    "            match = s;\n",
    "        } else if (starInx != -1) {\n",
    "            match++;\n",
    "            s = match;\n",
    "            p = starInx + 1;\n",
    "        } else {\n",
    "            return false;\n",
    "        }\n",
    "    }\n",
    "    while (p < pl && pattern.charAt(p) == '*') p++;\n",
    "    return p == pl;\n",
    "}"
   ]
  },
  {
   "cell_type": "markdown",
   "metadata": {},
   "source": [
    "## 动态规划"
   ]
  },
  {
   "cell_type": "code",
   "execution_count": null,
   "metadata": {
    "collapsed": true
   },
   "outputs": [],
   "source": [
    "public boolean isMatch(String str, String pattern) {\n",
    "    int s = 0;\n",
    "    int p = 0;\n",
    "    int starInx = -1;\n",
    "    int match = 0;\n",
    "    int sl = str.length(), pl = pattern.length();\n",
    "    while (s < sl) {\n",
    "        //4 case\n",
    "        if (p < pl && (str.charAt(s) == pattern.charAt(p) || pattern.charAt(p) == '?')) {\n",
    "            p++;\n",
    "            s++;\n",
    "        } else if (p < pl && pattern.charAt(p) == '*') {\n",
    "            starInx = p;\n",
    "            p++;\n",
    "            match = s;\n",
    "        } else if (starInx != -1) {\n",
    "            match++;\n",
    "            s = match;\n",
    "            p = starInx + 1;\n",
    "        } else {\n",
    "            return false;\n",
    "        }\n",
    "    }\n",
    "    while (p < pl && pattern.charAt(p) == '*') p++;\n",
    "    return p == pl;\n",
    "}"
   ]
  }
 ],
 "metadata": {
  "hide_input": false,
  "kernelspec": {
   "display_name": "Java",
   "language": "java",
   "name": "java"
  },
  "language_info": {
   "codemirror_mode": "java",
   "file_extension": ".java",
   "mimetype": "text/x-java-source",
   "name": "Java",
   "pygments_lexer": "java",
   "version": "11.0.1+13-LTS"
  },
  "toc": {
   "base_numbering": 1,
   "nav_menu": {},
   "number_sections": true,
   "sideBar": true,
   "skip_h1_title": false,
   "title_cell": "Table of Contents",
   "title_sidebar": "Contents",
   "toc_cell": false,
   "toc_position": {},
   "toc_section_display": true,
   "toc_window_display": false
  },
  "varInspector": {
   "cols": {
    "lenName": 16,
    "lenType": 16,
    "lenVar": 40
   },
   "kernels_config": {
    "python": {
     "delete_cmd_postfix": "",
     "delete_cmd_prefix": "del ",
     "library": "var_list.py",
     "varRefreshCmd": "print(var_dic_list())"
    },
    "r": {
     "delete_cmd_postfix": ") ",
     "delete_cmd_prefix": "rm(",
     "library": "var_list.r",
     "varRefreshCmd": "cat(var_dic_list()) "
    }
   },
   "types_to_exclude": [
    "module",
    "function",
    "builtin_function_or_method",
    "instance",
    "_Feature"
   ],
   "window_display": false
  }
 },
 "nbformat": 4,
 "nbformat_minor": 2
}
