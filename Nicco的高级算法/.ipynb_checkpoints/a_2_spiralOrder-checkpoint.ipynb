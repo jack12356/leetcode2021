{
 "cells": [
  {
   "cell_type": "markdown",
   "metadata": {
    "ExecuteTime": {
     "end_time": "2019-01-07T09:34+0000",
     "start_time": "2019-01-07T09:34:49.832Z"
    }
   },
   "source": [
    "# 螺旋矩阵\n",
    "给定一个包含 m x n 个元素的矩阵（m 行, n 列），请按照顺时针螺旋顺序，返回矩阵中的所有元素。\n",
    "\n",
    "示例 1:\n",
    "\n",
    "    输入:\n",
    "    [\n",
    "     [ 1, 2, 3 ],\n",
    "     [ 4, 5, 6 ],\n",
    "     [ 7, 8, 9 ]\n",
    "    ]\n",
    "    输出: [1,2,3,6,9,8,7,4,5]\n",
    "示例 2:\n",
    "\n",
    "    输入:\n",
    "    [\n",
    "      [1, 2, 3, 4],\n",
    "      [5, 6, 7, 8],\n",
    "      [9,10,11,12]\n",
    "    ]\n",
    "    输出: [1,2,3,4,8,12,11,10,9,5,6,7]"
   ]
  },
  {
   "cell_type": "code",
   "execution_count": 6,
   "metadata": {
    "ExecuteTime": {
     "end_time": "2019-01-07T09:35+0000",
     "start_time": "2019-01-07T09:35:06.736Z"
    }
   },
   "outputs": [
    {
     "data": {
      "text/plain": [
       "[]"
      ]
     },
     "execution_count": 6,
     "metadata": {},
     "output_type": "execute_result"
    }
   ],
   "source": [
    "public List<Integer> spiralOrder(int[][] matrix) {\n",
    "    List<Integer>res = new ArrayList<>();\n",
    "    addElements(matrix, res);\n",
    "    return res;\n",
    "}\n",
    "\n",
    "private void addElements(int[][] matrix, List<Integer> res) {\n",
    "    if(matrix.length==0) return;\n",
    "    for (int i :matrix[0]) res.add(i);\n",
    "    int [][]re_matrix = new int[matrix[0].length][matrix.length-1];\n",
    "    for (int i = 0; i < re_matrix.length; i++) {\n",
    "        for (int j = 0; j < re_matrix[0].length; j++) {\n",
    "            re_matrix[i][j] = matrix[j+1][matrix[0].length-i-1];\n",
    "        }\n",
    "    }\n",
    "    addElements(re_matrix,res);\n",
    "}"
   ]
  }
 ],
 "metadata": {
  "kernelspec": {
   "display_name": "Java",
   "language": "java",
   "name": "java"
  },
  "language_info": {
   "codemirror_mode": "java",
   "file_extension": ".java",
   "mimetype": "text/x-java-source",
   "name": "Java",
   "pygments_lexer": "java",
   "version": "11.0.1+13-LTS"
  },
  "toc": {
   "base_numbering": 1,
   "nav_menu": {},
   "number_sections": true,
   "sideBar": true,
   "skip_h1_title": false,
   "title_cell": "Table of Contents",
   "title_sidebar": "Contents",
   "toc_cell": false,
   "toc_position": {},
   "toc_section_display": true,
   "toc_window_display": false
  }
 },
 "nbformat": 4,
 "nbformat_minor": 2
}
