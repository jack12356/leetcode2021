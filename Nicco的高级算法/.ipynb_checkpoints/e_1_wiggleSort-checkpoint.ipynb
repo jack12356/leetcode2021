{
 "cells": [
  {
   "cell_type": "markdown",
   "metadata": {},
   "source": [
    "#  摆动排序 II\n",
    "给定一个无序的数组 nums，将它重新排列成 nums[0] < nums[1] > nums[2] < nums[3]... 的顺序。\n",
    "\n",
    "示例 1:\n",
    "\n",
    "    输入: nums = [1, 5, 1, 1, 6, 4]\n",
    "    输出: 一个可能的答案是 [1, 4, 1, 5, 1, 6]\n",
    "示例 2:\n",
    "\n",
    "    输入: nums = [1, 3, 2, 2, 3, 1]\n",
    "    输出: 一个可能的答案是 [2, 3, 1, 3, 1, 2]\n",
    "说明:\n",
    "你可以假设所有输入都会得到有效的结果。\n",
    "\n",
    "进阶:\n",
    "你能用 O(n) 时间复杂度和 / 或原地 O(1) 额外空间来实现吗？"
   ]
  },
  {
   "cell_type": "markdown",
   "metadata": {},
   "source": [
    "## 思路一\n",
    "先排序后奇偶插入，时间复杂度$O(nlogn)$，空间复杂度$O(n)$"
   ]
  },
  {
   "cell_type": "code",
   "execution_count": null,
   "metadata": {},
   "outputs": [],
   "source": [
    "public void wiggleSort(int[] nums) {\n",
    "    Arrays.sort(nums);\n",
    "    int[]copy = new int[nums.length];\n",
    "    for(int i = 0;i<nums.length;i++) copy[i] = nums[i];\n",
    "    int end=nums.length-1;\n",
    "    int mid=end/2;\n",
    "    int index=0;\n",
    "    while(mid>=0){\n",
    "        nums[index++] = copy[mid--];\n",
    "        if(index==nums.length) return;\n",
    "        nums[index++] = copy[end--];\n",
    "    }\n",
    "}"
   ]
  },
  {
   "cell_type": "markdown",
   "metadata": {},
   "source": [
    "## 思路二\n",
    "1. 找到中位数，使用第K大的数得出；\n",
    "2. 重设index，用1,3,5,0,2,4遍历插入数；\n",
    "3. 大于mid，放奇数位置，小于mid放偶数位置；"
   ]
  },
  {
   "cell_type": "markdown",
   "metadata": {},
   "source": [
    "显然上面的方法并符合要求, 但却是理解这题的一个先导. 接下来就可以对其进行优化. \n",
    "\n",
    "之前我们是独立的插入大于或者小于中位数的数, 现在我们可以同时做, 也就是, 遍历数组的时候如果当前的数大于中位数就将其从左往右放奇数位置, 如果小于中位数就将其从右往左放在偶数位置. 这样还需要解决的一个问题是如何可以互不干扰的放到正确位置. 举个栗子: 1, 1, 2, 2, 2, 3这六个数:\n",
    "\n",
    "我们可以按照这样一个顺序将数组索引拉开成这样: 1, 3, 5, 0, 2, 4, 也就是我们可以按照这样一个顺序来遍历数组, 同时维护一个低位指针用来代表奇数位置已经放到哪里, 和一个高位指针来表示偶数位置已经放到哪里, 这样在我们遍历数组的每一个元素的时候就可以按照这样的方式将元素分别放高位还是低位. 而要将数组按照这样索引的方式遍历我们只需要一个映射即可, 即(2*i+1)%(len|1).\n",
    "\n",
    "**对于每个数来说，只关心其插入的位置，不关心它插入位置原本的数是怎样的，因为原来位置的数移动到后面，总会在处理得。**"
   ]
  },
  {
   "cell_type": "code",
   "execution_count": null,
   "metadata": {},
   "outputs": [],
   "source": [
    "class Solution {\n",
    "public:\n",
    "    void wiggleSort(vector<int>& nums) {\n",
    "        nth_element(nums.begin(), nums.begin()+nums.size()/2, nums.end());\n",
    "        int len=nums.size(), low=0, high=len-1, mid =nums[len/2], i=0;\n",
    "        auto index = [=](int pos){ return (1+pos*2)%(len|1); };\n",
    "        while(i <= high)\n",
    "        {\n",
    "            if(nums[index(i)] > mid) swap(nums[index(i++)], nums[index(low++)]);\n",
    "            else if(nums[index(i)]<mid) swap(nums[index(i)],nums[index(high--)]);\n",
    "            else i++;\n",
    "        }\n",
    "    }"
   ]
  }
 ],
 "metadata": {
  "kernelspec": {
   "display_name": "Java",
   "language": "java",
   "name": "java"
  },
  "language_info": {
   "codemirror_mode": "java",
   "file_extension": ".java",
   "mimetype": "text/x-java-source",
   "name": "Java",
   "pygments_lexer": "java",
   "version": "11.0.1+13-LTS"
  },
  "toc": {
   "base_numbering": 1,
   "nav_menu": {},
   "number_sections": true,
   "sideBar": true,
   "skip_h1_title": false,
   "title_cell": "Table of Contents",
   "title_sidebar": "Contents",
   "toc_cell": false,
   "toc_position": {},
   "toc_section_display": true,
   "toc_window_display": false
  }
 },
 "nbformat": 4,
 "nbformat_minor": 2
}
