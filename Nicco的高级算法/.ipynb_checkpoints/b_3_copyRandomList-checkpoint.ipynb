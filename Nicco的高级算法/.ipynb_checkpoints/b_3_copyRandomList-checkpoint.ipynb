{
 "cells": [
  {
   "cell_type": "markdown",
   "metadata": {},
   "source": [
    "# 复制带随机指针的链表\n",
    "\n",
    "提交记录\n",
    "给定一个链表，每个节点包含一个额外增加的随机指针，该指针可以指向链表中的任何节点或空节点。\n",
    "\n",
    "要求返回这个链表的深度拷贝。 "
   ]
  },
  {
   "cell_type": "markdown",
   "metadata": {},
   "source": [
    "## 思路一\n",
    "暴力拷贝，先通过next拷贝，然后遍历遇到random就从头开始寻找random的位置；\n",
    "\n",
    "时间复杂度O(n^2)"
   ]
  },
  {
   "cell_type": "code",
   "execution_count": null,
   "metadata": {},
   "outputs": [],
   "source": [
    "public RandomListNode copyRandomList(RandomListNode head) {\n",
    "    RandomListNode st = new RandomListNode(-1);\n",
    "    RandomListNode rln = st;\n",
    "    RandomListNode end = head;\n",
    "    while (end != null) {\n",
    "        rln.next = new RandomListNode(end.label);\n",
    "        rln = rln.next;\n",
    "        end = end.next;\n",
    "    }\n",
    "    end = head;\n",
    "    rln = st.next;\n",
    "    while (end != null) {\n",
    "        //如果其random不等于空，说明指向前面或者后面某个节点\n",
    "        if (end.random != null) {\n",
    "            RandomListNode findrand = end.random;\n",
    "            RandomListNode fast = st.next;\n",
    "            RandomListNode slow = st.next;\n",
    "            while (findrand!=null&&findrand!=end){\n",
    "                findrand = findrand.next;\n",
    "                fast = fast.next;\n",
    "            }\n",
    "            if(findrand==end) findrand = rln;\n",
    "            while (fast != findrand) {\n",
    "                slow = slow.next;\n",
    "                fast = fast.next;\n",
    "            }\n",
    "            //此时slow就是之前的random指向的节点\n",
    "            rln.random = slow;\n",
    "        }\n",
    "        end = end.next;\n",
    "        rln = rln.next;\n",
    "    }\n",
    "    return st.next;\n",
    "}"
   ]
  },
  {
   "cell_type": "markdown",
   "metadata": {},
   "source": [
    "## 思路二\n",
    "使用影子节点复制对称\n",
    "\n",
    "\n",
    "时间复杂度O(n)\n",
    "\n",
    "\n",
    "![](https://img-blog.csdn.net/20180531140347920?watermark/2/text/aHR0cHM6Ly9ibG9nLmNzZG4ubmV0L3doZEFsaXZl/font/5a6L5L2T/fontsize/400/fill/I0JBQkFCMA==/dissolve/70)\n",
    "![](https://img-blog.csdn.net/20180531140357201?watermark/2/text/aHR0cHM6Ly9ibG9nLmNzZG4ubmV0L3doZEFsaXZl/font/5a6L5L2T/fontsize/400/fill/I0JBQkFCMA==/dissolve/70)\n",
    "![](https://img-blog.csdn.net/20180531140412939?watermark/2/text/aHR0cHM6Ly9ibG9nLmNzZG4ubmV0L3doZEFsaXZl/font/5a6L5L2T/fontsize/400/fill/I0JBQkFCMA==/dissolve/70)"
   ]
  },
  {
   "cell_type": "code",
   "execution_count": null,
   "metadata": {},
   "outputs": [],
   "source": [
    "/**\n",
    " * Definition for singly-linked list with a random pointer.\n",
    " * class RandomListNode {\n",
    " *     int label;\n",
    " *     RandomListNode next, random;\n",
    " *     RandomListNode(int x) { this.label = x; }\n",
    " * };\n",
    " */\n",
    "public class Solution {\n",
    "    public RandomListNode copyRandomList(RandomListNode head) {\n",
    "        if(head ==null){\n",
    "            return null;\n",
    "        }\n",
    "        RandomListNode p = head;\n",
    "\n",
    "        //1.新节点接到原对应节点的后面。\n",
    "        while(p != null){\n",
    "            RandomListNode clone = new RandomListNode(p.label);\n",
    "            clone.next = p.next;\n",
    "            //clone.random = null;\n",
    "\n",
    "            p.next = clone;\n",
    "            p = clone.next;\n",
    "        }\n",
    "\n",
    "        //2.参照原节点的random，改变新节点的rondom\n",
    "        p = head;\n",
    "        while(p!=null){\n",
    "            p.next.random = p.random==null?null:p.random.next;\n",
    "            p=p.next.next;\n",
    "        }\n",
    "\n",
    "        //3.将两部分分离\n",
    "        p = head;\n",
    "        RandomListNode cloneHead = head.next;\n",
    "        RandomListNode cloneNode = cloneHead;\n",
    "        while(p!=null){\n",
    "            p.next = cloneNode.next;\n",
    "            if(cloneNode.next!=null){\n",
    "                cloneNode.next = cloneNode.next.next;\n",
    "            }            \n",
    "            p = p.next;\n",
    "            cloneNode = cloneNode.next;\n",
    "        }\n",
    "\n",
    "        return cloneHead;\n",
    "    }\n",
    "}"
   ]
  },
  {
   "cell_type": "code",
   "execution_count": null,
   "metadata": {},
   "outputs": [],
   "source": []
  }
 ],
 "metadata": {
  "kernelspec": {
   "display_name": "Java",
   "language": "java",
   "name": "java"
  },
  "language_info": {
   "codemirror_mode": "java",
   "file_extension": ".java",
   "mimetype": "text/x-java-source",
   "name": "Java",
   "pygments_lexer": "java",
   "version": "11.0.1+13-LTS"
  },
  "toc": {
   "base_numbering": 1,
   "nav_menu": {},
   "number_sections": true,
   "sideBar": true,
   "skip_h1_title": false,
   "title_cell": "Table of Contents",
   "title_sidebar": "Contents",
   "toc_cell": false,
   "toc_position": {},
   "toc_section_display": true,
   "toc_window_display": false
  }
 },
 "nbformat": 4,
 "nbformat_minor": 2
}
