{
 "cells": [
  {
   "cell_type": "markdown",
   "metadata": {},
   "source": [
    "#  最长连续序列\n",
    "给定一个未排序的整数数组，找出最长连续序列的长度。\n",
    "\n",
    "要求算法的时间复杂度为 O(n)。\n",
    "\n",
    "示例:\n",
    "\n",
    "    输入: [100, 4, 200, 1, 3, 2]\n",
    "    输出: 4\n",
    "解释: 最长连续序列是 [1, 2, 3, 4]。它的长度为 4。"
   ]
  },
  {
   "cell_type": "markdown",
   "metadata": {},
   "source": [
    "## 思路\n",
    "使用字典存储每个数所在的序列长度，其实只需要考虑在序列两端存储长度，因为新的数字只可能在序列两端更新序列；"
   ]
  },
  {
   "cell_type": "code",
   "execution_count": null,
   "metadata": {},
   "outputs": [],
   "source": [
    "public int longestConsecutive(int[] nums) {\n",
    "    HashMap<Integer,Integer> map = new HashMap();\n",
    "    int max = 0;\n",
    "    for (int n:nums) {\n",
    "        if (map.containsKey(n)) continue;\n",
    "        int left = map.getOrDefault(n-1,0);\n",
    "        int right = map.getOrDefault(n+1,0);\n",
    "        map.put(n,left+right+1);\n",
    "        map.put(n-left,left+right+1);\n",
    "        map.put(n+right,left+right+1);\n",
    "        max = Math.max(left+1+right,max);\n",
    "    }\n",
    "    return max;\n",
    "}"
   ]
  }
 ],
 "metadata": {
  "kernelspec": {
   "display_name": "Java",
   "language": "java",
   "name": "java"
  },
  "language_info": {
   "codemirror_mode": "java",
   "file_extension": ".java",
   "mimetype": "text/x-java-source",
   "name": "Java",
   "pygments_lexer": "java",
   "version": "11.0.1+13-LTS"
  },
  "toc": {
   "base_numbering": 1,
   "nav_menu": {},
   "number_sections": true,
   "sideBar": true,
   "skip_h1_title": false,
   "title_cell": "Table of Contents",
   "title_sidebar": "Contents",
   "toc_cell": false,
   "toc_position": {},
   "toc_section_display": true,
   "toc_window_display": false
  }
 },
 "nbformat": 4,
 "nbformat_minor": 2
}
