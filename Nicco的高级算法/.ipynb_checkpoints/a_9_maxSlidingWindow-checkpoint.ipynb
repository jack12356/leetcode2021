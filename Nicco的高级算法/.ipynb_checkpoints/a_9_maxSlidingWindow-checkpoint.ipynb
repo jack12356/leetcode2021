{
 "cells": [
  {
   "cell_type": "markdown",
   "metadata": {},
   "source": [
    "# Sliding Window Maximum\n",
    "给定一个数组 nums，有一个大小为 k 的滑动窗口从数组的最左侧移动到数组的最右侧。你只可以看到在滑动窗口 k 内的数字。滑动窗口每次只向右移动一位。\n",
    "\n",
    "返回滑动窗口最大值。\n",
    "\n",
    "示例:\n",
    "\n",
    "    输入: nums = [1,3,-1,-3,5,3,6,7], 和 k = 3\n",
    "    输出: [3,3,5,5,6,7] \n",
    "解释: \n",
    "\n",
    "      滑动窗口的位置                最大值\n",
    "    ---------------               -----\n",
    "    [1  3  -1] -3  5  3  6  7       3\n",
    "     1 [3  -1  -3] 5  3  6  7       3\n",
    "     1  3 [-1  -3  5] 3  6  7       5\n",
    "     1  3  -1 [-3  5  3] 6  7       5\n",
    "     1  3  -1  -3 [5  3  6] 7       6\n",
    "     1  3  -1  -3  5 [3  6  7]      7\n",
    "注意：\n",
    "\n",
    "你可以假设 k 总是有效的，1 ≤ k ≤ 输入数组的大小，且输入数组不为空。\n",
    "\n",
    "进阶：\n",
    "\n",
    "你能在线性时间复杂度内解决此题吗？"
   ]
  },
  {
   "cell_type": "markdown",
   "metadata": {},
   "source": [
    "## 思路\n",
    "我们用双向队列可以在O(N)时间内解决这题。当我们遇到新的数时，将新的数和双向队列的末尾比较，如果末尾比新数小，则把末尾扔掉，直到该队列的末尾比新数大或者队列为空的时候才住手。这样，我们可以保证队列里的元素是从头到尾降序的，由于队列里只有窗口内的数，所以他们其实就是窗口内第一大，第二大，第三大...的数。\n",
    "保持队列里只有窗口内数的方法和上个解法一样，也是每来一个新的把窗口最左边的扔掉，然后把新的加进去。然而由于我们在加新数的时候，已经把很多没用的数给扔了，这样队列头部的数并不一定是窗口最左边的数。这里的技巧是，我们队列中存的是那个数在原数组中的下标，这样我们既可以直到这个数的值，也可以知道该数是不是窗口最左边的数。这里为什么时间复杂度是O(N)呢？因为每个数只可能被操作最多两次，一次是加入队列的时候，一次是因为有别的更大数在后面，所以被扔掉，或者因为出了窗口而被扔掉。"
   ]
  },
  {
   "cell_type": "code",
   "execution_count": 1,
   "metadata": {
    "ExecuteTime": {
     "end_time": "2019-01-09T09:56+0000",
     "start_time": "2019-01-09T09:56:27.937Z"
    }
   },
   "outputs": [],
   "source": [
    "public int[] maxSlidingWindow(int[] nums, int k) {\n",
    "    if(nums == null || nums.length == 0) return new int[0];\n",
    "    LinkedList<Integer> deque = new LinkedList<Integer>();\n",
    "    int[] res = new int[nums.length + 1 - k];\n",
    "    for(int i = 0; i < nums.length; i++){\n",
    "        // 每当新数进来时，如果发现队列头部的数的下标，是窗口最左边数的下标，则扔掉\n",
    "        if(!deque.isEmpty() && deque.peekFirst() == i - k) deque.poll();\n",
    "        // 把队列尾部所有比新数小的都扔掉，保证队列是降序的\n",
    "        while(!deque.isEmpty() && nums[deque.peekLast()] < nums[i]) deque.removeLast();\n",
    "        // 加入新数\n",
    "        deque.offerLast(i);\n",
    "        // 队列头部就是该窗口内第一大的\n",
    "        if((i + 1) >= k) res[i + 1 - k] = nums[deque.peek()];\n",
    "    }\n",
    "    return res;\n",
    "}"
   ]
  }
 ],
 "metadata": {
  "kernelspec": {
   "display_name": "Java",
   "language": "java",
   "name": "java"
  },
  "language_info": {
   "codemirror_mode": "java",
   "file_extension": ".java",
   "mimetype": "text/x-java-source",
   "name": "Java",
   "pygments_lexer": "java",
   "version": "11.0.1+13-LTS"
  },
  "toc": {
   "base_numbering": 1,
   "nav_menu": {},
   "number_sections": true,
   "sideBar": true,
   "skip_h1_title": false,
   "title_cell": "Table of Contents",
   "title_sidebar": "Contents",
   "toc_cell": false,
   "toc_position": {},
   "toc_section_display": true,
   "toc_window_display": false
  }
 },
 "nbformat": 4,
 "nbformat_minor": 2
}
